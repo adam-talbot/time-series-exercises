{
 "cells": [
  {
   "cell_type": "markdown",
   "id": "905e840b-b789-498a-9ff1-03f1d05abdb4",
   "metadata": {},
   "source": [
    "# Time Series Data Exercises"
   ]
  },
  {
   "cell_type": "code",
   "execution_count": 1,
   "id": "c57a007e-33ad-4962-afe8-165c9b0cd431",
   "metadata": {},
   "outputs": [],
   "source": [
    "import matplotlib.pyplot as plt\n",
    "import numpy as np\n",
    "import pandas as pd\n",
    "from vega_datasets import data"
   ]
  },
  {
   "cell_type": "markdown",
   "id": "dd5b903e-1f23-4dee-b758-5a82bc443a88",
   "metadata": {},
   "source": [
    "## `sf_temps()`"
   ]
  },
  {
   "cell_type": "code",
   "execution_count": 2,
   "id": "41fbbc5d-ddf6-448d-9368-1f30a4abd35a",
   "metadata": {},
   "outputs": [],
   "source": [
    "# get data\n",
    "df = data.sf_temps()"
   ]
  },
  {
   "cell_type": "code",
   "execution_count": 3,
   "id": "adc682af-e1aa-40f6-8e2c-88375f5bbaa4",
   "metadata": {},
   "outputs": [
    {
     "data": {
      "text/html": [
       "<div>\n",
       "<style scoped>\n",
       "    .dataframe tbody tr th:only-of-type {\n",
       "        vertical-align: middle;\n",
       "    }\n",
       "\n",
       "    .dataframe tbody tr th {\n",
       "        vertical-align: top;\n",
       "    }\n",
       "\n",
       "    .dataframe thead th {\n",
       "        text-align: right;\n",
       "    }\n",
       "</style>\n",
       "<table border=\"1\" class=\"dataframe\">\n",
       "  <thead>\n",
       "    <tr style=\"text-align: right;\">\n",
       "      <th></th>\n",
       "      <th>temp</th>\n",
       "      <th>date</th>\n",
       "    </tr>\n",
       "  </thead>\n",
       "  <tbody>\n",
       "    <tr>\n",
       "      <th>0</th>\n",
       "      <td>47.8</td>\n",
       "      <td>2010-01-01 00:00:00</td>\n",
       "    </tr>\n",
       "    <tr>\n",
       "      <th>1</th>\n",
       "      <td>47.4</td>\n",
       "      <td>2010-01-01 01:00:00</td>\n",
       "    </tr>\n",
       "    <tr>\n",
       "      <th>2</th>\n",
       "      <td>46.9</td>\n",
       "      <td>2010-01-01 02:00:00</td>\n",
       "    </tr>\n",
       "    <tr>\n",
       "      <th>3</th>\n",
       "      <td>46.5</td>\n",
       "      <td>2010-01-01 03:00:00</td>\n",
       "    </tr>\n",
       "    <tr>\n",
       "      <th>4</th>\n",
       "      <td>46.0</td>\n",
       "      <td>2010-01-01 04:00:00</td>\n",
       "    </tr>\n",
       "  </tbody>\n",
       "</table>\n",
       "</div>"
      ],
      "text/plain": [
       "   temp                date\n",
       "0  47.8 2010-01-01 00:00:00\n",
       "1  47.4 2010-01-01 01:00:00\n",
       "2  46.9 2010-01-01 02:00:00\n",
       "3  46.5 2010-01-01 03:00:00\n",
       "4  46.0 2010-01-01 04:00:00"
      ]
     },
     "execution_count": 3,
     "metadata": {},
     "output_type": "execute_result"
    }
   ],
   "source": [
    "# take a look\n",
    "df.head()"
   ]
  },
  {
   "cell_type": "code",
   "execution_count": 4,
   "id": "15b0626e-d60d-463c-a309-afb288f185af",
   "metadata": {},
   "outputs": [
    {
     "data": {
      "text/plain": [
       "(8759, 2)"
      ]
     },
     "execution_count": 4,
     "metadata": {},
     "output_type": "execute_result"
    }
   ],
   "source": [
    "df.shape"
   ]
  },
  {
   "cell_type": "code",
   "execution_count": 5,
   "id": "987b4ab5-ecbb-4057-93be-58baced94957",
   "metadata": {},
   "outputs": [
    {
     "name": "stdout",
     "output_type": "stream",
     "text": [
      "<class 'pandas.core.frame.DataFrame'>\n",
      "RangeIndex: 8759 entries, 0 to 8758\n",
      "Data columns (total 2 columns):\n",
      " #   Column  Non-Null Count  Dtype         \n",
      "---  ------  --------------  -----         \n",
      " 0   temp    8759 non-null   float64       \n",
      " 1   date    8759 non-null   datetime64[ns]\n",
      "dtypes: datetime64[ns](1), float64(1)\n",
      "memory usage: 137.0 KB\n"
     ]
    }
   ],
   "source": [
    "df.info()"
   ]
  },
  {
   "cell_type": "code",
   "execution_count": 6,
   "id": "b2689f98-4a42-4faf-954f-17cad1de746a",
   "metadata": {},
   "outputs": [
    {
     "data": {
      "text/html": [
       "<div>\n",
       "<style scoped>\n",
       "    .dataframe tbody tr th:only-of-type {\n",
       "        vertical-align: middle;\n",
       "    }\n",
       "\n",
       "    .dataframe tbody tr th {\n",
       "        vertical-align: top;\n",
       "    }\n",
       "\n",
       "    .dataframe thead th {\n",
       "        text-align: right;\n",
       "    }\n",
       "</style>\n",
       "<table border=\"1\" class=\"dataframe\">\n",
       "  <thead>\n",
       "    <tr style=\"text-align: right;\">\n",
       "      <th></th>\n",
       "      <th>temp</th>\n",
       "    </tr>\n",
       "    <tr>\n",
       "      <th>date</th>\n",
       "      <th></th>\n",
       "    </tr>\n",
       "  </thead>\n",
       "  <tbody>\n",
       "    <tr>\n",
       "      <th>2010-01-01 00:00:00</th>\n",
       "      <td>47.8</td>\n",
       "    </tr>\n",
       "    <tr>\n",
       "      <th>2010-01-01 01:00:00</th>\n",
       "      <td>47.4</td>\n",
       "    </tr>\n",
       "    <tr>\n",
       "      <th>2010-01-01 02:00:00</th>\n",
       "      <td>46.9</td>\n",
       "    </tr>\n",
       "    <tr>\n",
       "      <th>2010-01-01 03:00:00</th>\n",
       "      <td>46.5</td>\n",
       "    </tr>\n",
       "    <tr>\n",
       "      <th>2010-01-01 04:00:00</th>\n",
       "      <td>46.0</td>\n",
       "    </tr>\n",
       "  </tbody>\n",
       "</table>\n",
       "</div>"
      ],
      "text/plain": [
       "                     temp\n",
       "date                     \n",
       "2010-01-01 00:00:00  47.8\n",
       "2010-01-01 01:00:00  47.4\n",
       "2010-01-01 02:00:00  46.9\n",
       "2010-01-01 03:00:00  46.5\n",
       "2010-01-01 04:00:00  46.0"
      ]
     },
     "execution_count": 6,
     "metadata": {},
     "output_type": "execute_result"
    }
   ],
   "source": [
    "# make time data into index\n",
    "df = df.set_index('date')\n",
    "df.head()"
   ]
  },
  {
   "cell_type": "code",
   "execution_count": 7,
   "id": "1ce5dcd1-2f40-4c4a-bb96-ca72d0136486",
   "metadata": {},
   "outputs": [
    {
     "data": {
      "image/png": "[encoded data removed]",
      "text/plain": [
       "<Figure size 432x288 with 1 Axes>"
      ]
     },
     "metadata": {
      "needs_background": "light"
     },
     "output_type": "display_data"
    }
   ],
   "source": [
    "df.plot();"
   ]
  },
  {
   "cell_type": "markdown",
   "id": "3765970b-e25f-4697-9a59-be27e071b1ed",
   "metadata": {},
   "source": [
    "### 1."
   ]
  },
  {
   "cell_type": "markdown",
   "id": "e8a0e2cf-cfd5-4203-9499-69373660c659",
   "metadata": {},
   "source": [
    "Resample by the day and take the average temperature. Visualize the average temperature over time."
   ]
  },
  {
   "cell_type": "code",
   "execution_count": 8,
   "id": "24af8ca1-3042-47c5-bb98-30e4979081a7",
   "metadata": {},
   "outputs": [
    {
     "data": {
      "image/png": "[encoded data removed]",
      "text/plain": [
       "<Figure size 432x288 with 1 Axes>"
      ]
     },
     "metadata": {
      "needs_background": "light"
     },
     "output_type": "display_data"
    }
   ],
   "source": [
    "df.resample('D').mean().plot();"
   ]
  },
  {
   "cell_type": "markdown",
   "id": "d5d1e864-417d-4e27-8ea4-3de71646792a",
   "metadata": {},
   "source": [
    "### 2."
   ]
  },
  {
   "cell_type": "markdown",
   "id": "6f08d5de-de6d-4068-b622-78840d5ffcd7",
   "metadata": {},
   "source": [
    "Write the code necessary to visualize the minimum temperature over time."
   ]
  },
  {
   "cell_type": "code",
   "execution_count": 9,
   "id": "10336a2e-d3d3-4203-9c3e-e8e3a53bfed5",
   "metadata": {},
   "outputs": [
    {
     "data": {
      "image/png": "[encoded data removed]",
      "text/plain": [
       "<Figure size 432x288 with 1 Axes>"
      ]
     },
     "metadata": {
      "needs_background": "light"
     },
     "output_type": "display_data"
    }
   ],
   "source": [
    "df.resample('D').min().plot();"
   ]
  },
  {
   "cell_type": "markdown",
   "id": "5c82889f-b7a9-4278-8824-a9beb7c96ba7",
   "metadata": {},
   "source": [
    "### 3."
   ]
  },
  {
   "cell_type": "markdown",
   "id": "9ff61c7c-e30e-4af5-9eec-d193689c8a2a",
   "metadata": {},
   "source": [
    "Write the code necessary to visualize the maximum temperature over time."
   ]
  },
  {
   "cell_type": "code",
   "execution_count": 15,
   "id": "edaeb64d-070c-4740-a73a-2d956863e91e",
   "metadata": {},
   "outputs": [
    {
     "data": {
      "image/png": "[encoded data removed]",
      "text/plain": [
       "<Figure size 432x288 with 1 Axes>"
      ]
     },
     "metadata": {
      "needs_background": "light"
     },
     "output_type": "display_data"
    }
   ],
   "source": [
    "df.resample('D').max().plot();"
   ]
  },
  {
   "cell_type": "markdown",
   "id": "ee03e514-6441-4ac8-a5b8-1f2e5cbeb9ed",
   "metadata": {},
   "source": [
    "### 4."
   ]
  },
  {
   "cell_type": "markdown",
   "id": "c28304ce-6560-48ab-a313-92188baccd3c",
   "metadata": {},
   "source": [
    "Which month is the coldest, on average?"
   ]
  },
  {
   "cell_type": "code",
   "execution_count": 25,
   "id": "0c2d96c1-15d9-4768-9558-ee600cf12e55",
   "metadata": {},
   "outputs": [
    {
     "data": {
      "image/png": "[encoded data removed]",
      "text/plain": [
       "<Figure size 432x288 with 1 Axes>"
      ]
     },
     "metadata": {
      "needs_background": "light"
     },
     "output_type": "display_data"
    }
   ],
   "source": [
    "df.resample('M').min().plot(marker='o', color = 'black')\n",
    "plt.axhline(df.resample('M').min().min()[0], ls='--', color = 'blue');"
   ]
  },
  {
   "cell_type": "code",
   "execution_count": 26,
   "id": "c79445ea-d308-49c6-b24f-f0b3a11db151",
   "metadata": {},
   "outputs": [
    {
     "data": {
      "text/html": [
       "<style  type=\"text/css\" >\n",
       "#T_2623d_row11_col0{\n",
       "            background-color:  blue;\n",
       "        }</style><table id=\"T_2623d_\" ><thead>    <tr>        <th class=\"blank level0\" ></th>        <th class=\"col_heading level0 col0\" >temp</th>    </tr>    <tr>        <th class=\"index_name level0\" >date</th>        <th class=\"blank\" ></th>    </tr></thead><tbody>\n",
       "                <tr>\n",
       "                        <th id=\"T_2623d_level0_row0\" class=\"row_heading level0 row0\" >2010-01-31 00:00:00</th>\n",
       "                        <td id=\"T_2623d_row0_col0\" class=\"data row0 col0\" >45.800000</td>\n",
       "            </tr>\n",
       "            <tr>\n",
       "                        <th id=\"T_2623d_level0_row1\" class=\"row_heading level0 row1\" >2010-02-28 00:00:00</th>\n",
       "                        <td id=\"T_2623d_row1_col0\" class=\"data row1 col0\" >46.900000</td>\n",
       "            </tr>\n",
       "            <tr>\n",
       "                        <th id=\"T_2623d_level0_row2\" class=\"row_heading level0 row2\" >2010-03-31 00:00:00</th>\n",
       "                        <td id=\"T_2623d_row2_col0\" class=\"data row2 col0\" >48.700000</td>\n",
       "            </tr>\n",
       "            <tr>\n",
       "                        <th id=\"T_2623d_level0_row3\" class=\"row_heading level0 row3\" >2010-04-30 00:00:00</th>\n",
       "                        <td id=\"T_2623d_row3_col0\" class=\"data row3 col0\" >49.300000</td>\n",
       "            </tr>\n",
       "            <tr>\n",
       "                        <th id=\"T_2623d_level0_row4\" class=\"row_heading level0 row4\" >2010-05-31 00:00:00</th>\n",
       "                        <td id=\"T_2623d_row4_col0\" class=\"data row4 col0\" >51.400000</td>\n",
       "            </tr>\n",
       "            <tr>\n",
       "                        <th id=\"T_2623d_level0_row5\" class=\"row_heading level0 row5\" >2010-06-30 00:00:00</th>\n",
       "                        <td id=\"T_2623d_row5_col0\" class=\"data row5 col0\" >53.700000</td>\n",
       "            </tr>\n",
       "            <tr>\n",
       "                        <th id=\"T_2623d_level0_row6\" class=\"row_heading level0 row6\" >2010-07-31 00:00:00</th>\n",
       "                        <td id=\"T_2623d_row6_col0\" class=\"data row6 col0\" >55.400000</td>\n",
       "            </tr>\n",
       "            <tr>\n",
       "                        <th id=\"T_2623d_level0_row7\" class=\"row_heading level0 row7\" >2010-08-31 00:00:00</th>\n",
       "                        <td id=\"T_2623d_row7_col0\" class=\"data row7 col0\" >56.600000</td>\n",
       "            </tr>\n",
       "            <tr>\n",
       "                        <th id=\"T_2623d_level0_row8\" class=\"row_heading level0 row8\" >2010-09-30 00:00:00</th>\n",
       "                        <td id=\"T_2623d_row8_col0\" class=\"data row8 col0\" >56.400000</td>\n",
       "            </tr>\n",
       "            <tr>\n",
       "                        <th id=\"T_2623d_level0_row9\" class=\"row_heading level0 row9\" >2010-10-31 00:00:00</th>\n",
       "                        <td id=\"T_2623d_row9_col0\" class=\"data row9 col0\" >53.400000</td>\n",
       "            </tr>\n",
       "            <tr>\n",
       "                        <th id=\"T_2623d_level0_row10\" class=\"row_heading level0 row10\" >2010-11-30 00:00:00</th>\n",
       "                        <td id=\"T_2623d_row10_col0\" class=\"data row10 col0\" >48.600000</td>\n",
       "            </tr>\n",
       "            <tr>\n",
       "                        <th id=\"T_2623d_level0_row11\" class=\"row_heading level0 row11\" >2010-12-31 00:00:00</th>\n",
       "                        <td id=\"T_2623d_row11_col0\" class=\"data row11 col0\" >45.600000</td>\n",
       "            </tr>\n",
       "    </tbody></table>"
      ],
      "text/plain": [
       "<pandas.io.formats.style.Styler at 0x7f8bc0cf4a90>"
      ]
     },
     "execution_count": 26,
     "metadata": {},
     "output_type": "execute_result"
    }
   ],
   "source": [
    "df.resample('M').min().style.highlight_min(color='blue')"
   ]
  },
  {
   "cell_type": "markdown",
   "id": "6ace2ddb-c259-41d2-8937-6ac4f28ef7f4",
   "metadata": {},
   "source": [
    "**December**"
   ]
  },
  {
   "cell_type": "markdown",
   "id": "8794a333-9069-4118-9ab5-10ef1ca17c02",
   "metadata": {},
   "source": [
    "### 5."
   ]
  },
  {
   "cell_type": "markdown",
   "id": "73620d7d-5421-404b-85b7-055e067900cf",
   "metadata": {},
   "source": [
    "Which month has the highest average temperature?"
   ]
  },
  {
   "cell_type": "code",
   "execution_count": 23,
   "id": "cbafd2d9-6c90-413e-85a6-5ce890883c91",
   "metadata": {},
   "outputs": [
    {
     "data": {
      "image/png": "[encoded data removed]",
      "text/plain": [
       "<Figure size 432x288 with 1 Axes>"
      ]
     },
     "metadata": {
      "needs_background": "light"
     },
     "output_type": "display_data"
    }
   ],
   "source": [
    "df.resample('M').max().plot(marker='o', color = 'black')\n",
    "plt.axhline(df.resample('M').max().max()[0], ls='--', color = 'red')\n",
    "plt.legend();"
   ]
  },
  {
   "cell_type": "code",
   "execution_count": 14,
   "id": "ec2ce893-d36f-421e-aff3-03e328513c97",
   "metadata": {},
   "outputs": [
    {
     "data": {
      "text/html": [
       "<style  type=\"text/css\" >\n",
       "#T_042d7_row7_col0,#T_042d7_row8_col0{\n",
       "            background-color:  red;\n",
       "        }</style><table id=\"T_042d7_\" ><thead>    <tr>        <th class=\"blank level0\" ></th>        <th class=\"col_heading level0 col0\" >temp</th>    </tr>    <tr>        <th class=\"index_name level0\" >date</th>        <th class=\"blank\" ></th>    </tr></thead><tbody>\n",
       "                <tr>\n",
       "                        <th id=\"T_042d7_level0_row0\" class=\"row_heading level0 row0\" >2010-01-31 00:00:00</th>\n",
       "                        <td id=\"T_042d7_row0_col0\" class=\"data row0 col0\" >56.200000</td>\n",
       "            </tr>\n",
       "            <tr>\n",
       "                        <th id=\"T_042d7_level0_row1\" class=\"row_heading level0 row1\" >2010-02-28 00:00:00</th>\n",
       "                        <td id=\"T_042d7_row1_col0\" class=\"data row1 col0\" >58.600000</td>\n",
       "            </tr>\n",
       "            <tr>\n",
       "                        <th id=\"T_042d7_level0_row2\" class=\"row_heading level0 row2\" >2010-03-31 00:00:00</th>\n",
       "                        <td id=\"T_042d7_row2_col0\" class=\"data row2 col0\" >61.300000</td>\n",
       "            </tr>\n",
       "            <tr>\n",
       "                        <th id=\"T_042d7_level0_row3\" class=\"row_heading level0 row3\" >2010-04-30 00:00:00</th>\n",
       "                        <td id=\"T_042d7_row3_col0\" class=\"data row3 col0\" >64.300000</td>\n",
       "            </tr>\n",
       "            <tr>\n",
       "                        <th id=\"T_042d7_level0_row4\" class=\"row_heading level0 row4\" >2010-05-31 00:00:00</th>\n",
       "                        <td id=\"T_042d7_row4_col0\" class=\"data row4 col0\" >66.400000</td>\n",
       "            </tr>\n",
       "            <tr>\n",
       "                        <th id=\"T_042d7_level0_row5\" class=\"row_heading level0 row5\" >2010-06-30 00:00:00</th>\n",
       "                        <td id=\"T_042d7_row5_col0\" class=\"data row5 col0\" >69.700000</td>\n",
       "            </tr>\n",
       "            <tr>\n",
       "                        <th id=\"T_042d7_level0_row6\" class=\"row_heading level0 row6\" >2010-07-31 00:00:00</th>\n",
       "                        <td id=\"T_042d7_row6_col0\" class=\"data row6 col0\" >70.400000</td>\n",
       "            </tr>\n",
       "            <tr>\n",
       "                        <th id=\"T_042d7_level0_row7\" class=\"row_heading level0 row7\" >2010-08-31 00:00:00</th>\n",
       "                        <td id=\"T_042d7_row7_col0\" class=\"data row7 col0\" >72.200000</td>\n",
       "            </tr>\n",
       "            <tr>\n",
       "                        <th id=\"T_042d7_level0_row8\" class=\"row_heading level0 row8\" >2010-09-30 00:00:00</th>\n",
       "                        <td id=\"T_042d7_row8_col0\" class=\"data row8 col0\" >72.200000</td>\n",
       "            </tr>\n",
       "            <tr>\n",
       "                        <th id=\"T_042d7_level0_row9\" class=\"row_heading level0 row9\" >2010-10-31 00:00:00</th>\n",
       "                        <td id=\"T_042d7_row9_col0\" class=\"data row9 col0\" >70.600000</td>\n",
       "            </tr>\n",
       "            <tr>\n",
       "                        <th id=\"T_042d7_level0_row10\" class=\"row_heading level0 row10\" >2010-11-30 00:00:00</th>\n",
       "                        <td id=\"T_042d7_row10_col0\" class=\"data row10 col0\" >65.000000</td>\n",
       "            </tr>\n",
       "            <tr>\n",
       "                        <th id=\"T_042d7_level0_row11\" class=\"row_heading level0 row11\" >2010-12-31 00:00:00</th>\n",
       "                        <td id=\"T_042d7_row11_col0\" class=\"data row11 col0\" >57.500000</td>\n",
       "            </tr>\n",
       "    </tbody></table>"
      ],
      "text/plain": [
       "<pandas.io.formats.style.Styler at 0x7f8bc0b00df0>"
      ]
     },
     "execution_count": 14,
     "metadata": {},
     "output_type": "execute_result"
    }
   ],
   "source": [
    "df.resample('M').max().style.highlight_max(color='red')"
   ]
  },
  {
   "cell_type": "markdown",
   "id": "6295d5b8-64a7-49ba-b9bf-717fcb3ead5a",
   "metadata": {},
   "source": [
    "**August and September**"
   ]
  },
  {
   "cell_type": "markdown",
   "id": "79becb45-324d-42fe-8d70-1ed4899e28b5",
   "metadata": {},
   "source": [
    "### 6."
   ]
  },
  {
   "cell_type": "markdown",
   "id": "de829b36-4dae-4dc7-9cc7-808fd00b90ed",
   "metadata": {},
   "source": [
    "Resample by the day and calculate the min and max temp for the day (Hint: .agg(['min', 'max'])). Use this resampled dataframe to calculate the change in temperature for the day. Which month has the highest daily temperature variability?"
   ]
  },
  {
   "cell_type": "code",
   "execution_count": 35,
   "id": "854fb71c-63e9-48ed-b641-18fb186c66b4",
   "metadata": {},
   "outputs": [
    {
     "data": {
      "text/html": [
       "<div>\n",
       "<style scoped>\n",
       "    .dataframe tbody tr th:only-of-type {\n",
       "        vertical-align: middle;\n",
       "    }\n",
       "\n",
       "    .dataframe tbody tr th {\n",
       "        vertical-align: top;\n",
       "    }\n",
       "\n",
       "    .dataframe thead tr th {\n",
       "        text-align: left;\n",
       "    }\n",
       "\n",
       "    .dataframe thead tr:last-of-type th {\n",
       "        text-align: right;\n",
       "    }\n",
       "</style>\n",
       "<table border=\"1\" class=\"dataframe\">\n",
       "  <thead>\n",
       "    <tr>\n",
       "      <th></th>\n",
       "      <th colspan=\"2\" halign=\"left\">temp</th>\n",
       "    </tr>\n",
       "    <tr>\n",
       "      <th></th>\n",
       "      <th>min</th>\n",
       "      <th>max</th>\n",
       "    </tr>\n",
       "    <tr>\n",
       "      <th>date</th>\n",
       "      <th></th>\n",
       "      <th></th>\n",
       "    </tr>\n",
       "  </thead>\n",
       "  <tbody>\n",
       "    <tr>\n",
       "      <th>2010-01-01</th>\n",
       "      <td>45.8</td>\n",
       "      <td>53.3</td>\n",
       "    </tr>\n",
       "    <tr>\n",
       "      <th>2010-01-02</th>\n",
       "      <td>46.0</td>\n",
       "      <td>53.4</td>\n",
       "    </tr>\n",
       "    <tr>\n",
       "      <th>2010-01-03</th>\n",
       "      <td>46.1</td>\n",
       "      <td>53.5</td>\n",
       "    </tr>\n",
       "    <tr>\n",
       "      <th>2010-01-04</th>\n",
       "      <td>46.1</td>\n",
       "      <td>53.6</td>\n",
       "    </tr>\n",
       "    <tr>\n",
       "      <th>2010-01-05</th>\n",
       "      <td>46.1</td>\n",
       "      <td>53.8</td>\n",
       "    </tr>\n",
       "  </tbody>\n",
       "</table>\n",
       "</div>"
      ],
      "text/plain": [
       "            temp      \n",
       "             min   max\n",
       "date                  \n",
       "2010-01-01  45.8  53.3\n",
       "2010-01-02  46.0  53.4\n",
       "2010-01-03  46.1  53.5\n",
       "2010-01-04  46.1  53.6\n",
       "2010-01-05  46.1  53.8"
      ]
     },
     "execution_count": 35,
     "metadata": {},
     "output_type": "execute_result"
    }
   ],
   "source": [
    "min_max = df.resample('D').agg(['min', 'max'])\n",
    "min_max.head()"
   ]
  },
  {
   "cell_type": "code",
   "execution_count": 37,
   "id": "f4f4deb7-328f-4f86-a8c5-0a33f0197514",
   "metadata": {},
   "outputs": [
    {
     "data": {
      "text/plain": [
       "MultiIndex([('temp', 'min'),\n",
       "            ('temp', 'max')],\n",
       "           )"
      ]
     },
     "execution_count": 37,
     "metadata": {},
     "output_type": "execute_result"
    }
   ],
   "source": [
    "min_max.columns"
   ]
  },
  {
   "cell_type": "code",
   "execution_count": 38,
   "id": "14eab79c-dda2-4d8a-a346-a26d003737c4",
   "metadata": {},
   "outputs": [],
   "source": [
    "min_max['daily_temp_delta'] = min_max[('temp', 'max')] - min_max[('temp', 'min')]"
   ]
  },
  {
   "cell_type": "code",
   "execution_count": 39,
   "id": "d4f4ae79-e7c1-4284-8dd1-9ab1f4da6113",
   "metadata": {},
   "outputs": [
    {
     "data": {
      "text/html": [
       "<div>\n",
       "<style scoped>\n",
       "    .dataframe tbody tr th:only-of-type {\n",
       "        vertical-align: middle;\n",
       "    }\n",
       "\n",
       "    .dataframe tbody tr th {\n",
       "        vertical-align: top;\n",
       "    }\n",
       "\n",
       "    .dataframe thead tr th {\n",
       "        text-align: left;\n",
       "    }\n",
       "\n",
       "    .dataframe thead tr:last-of-type th {\n",
       "        text-align: right;\n",
       "    }\n",
       "</style>\n",
       "<table border=\"1\" class=\"dataframe\">\n",
       "  <thead>\n",
       "    <tr>\n",
       "      <th></th>\n",
       "      <th colspan=\"2\" halign=\"left\">temp</th>\n",
       "      <th>daily_temp_delta</th>\n",
       "    </tr>\n",
       "    <tr>\n",
       "      <th></th>\n",
       "      <th>min</th>\n",
       "      <th>max</th>\n",
       "      <th></th>\n",
       "    </tr>\n",
       "    <tr>\n",
       "      <th>date</th>\n",
       "      <th></th>\n",
       "      <th></th>\n",
       "      <th></th>\n",
       "    </tr>\n",
       "  </thead>\n",
       "  <tbody>\n",
       "    <tr>\n",
       "      <th>2010-01-01</th>\n",
       "      <td>45.8</td>\n",
       "      <td>53.3</td>\n",
       "      <td>7.5</td>\n",
       "    </tr>\n",
       "    <tr>\n",
       "      <th>2010-01-02</th>\n",
       "      <td>46.0</td>\n",
       "      <td>53.4</td>\n",
       "      <td>7.4</td>\n",
       "    </tr>\n",
       "    <tr>\n",
       "      <th>2010-01-03</th>\n",
       "      <td>46.1</td>\n",
       "      <td>53.5</td>\n",
       "      <td>7.4</td>\n",
       "    </tr>\n",
       "    <tr>\n",
       "      <th>2010-01-04</th>\n",
       "      <td>46.1</td>\n",
       "      <td>53.6</td>\n",
       "      <td>7.5</td>\n",
       "    </tr>\n",
       "    <tr>\n",
       "      <th>2010-01-05</th>\n",
       "      <td>46.1</td>\n",
       "      <td>53.8</td>\n",
       "      <td>7.7</td>\n",
       "    </tr>\n",
       "  </tbody>\n",
       "</table>\n",
       "</div>"
      ],
      "text/plain": [
       "            temp       daily_temp_delta\n",
       "             min   max                 \n",
       "date                                   \n",
       "2010-01-01  45.8  53.3              7.5\n",
       "2010-01-02  46.0  53.4              7.4\n",
       "2010-01-03  46.1  53.5              7.4\n",
       "2010-01-04  46.1  53.6              7.5\n",
       "2010-01-05  46.1  53.8              7.7"
      ]
     },
     "execution_count": 39,
     "metadata": {},
     "output_type": "execute_result"
    }
   ],
   "source": [
    "min_max.head()"
   ]
  },
  {
   "cell_type": "code",
   "execution_count": 42,
   "id": "9d34c5cb-5183-4a20-a45a-1c54a2c63213",
   "metadata": {},
   "outputs": [
    {
     "data": {
      "image/png": "[encoded data removed]",
      "text/plain": [
       "<Figure size 432x288 with 1 Axes>"
      ]
     },
     "metadata": {
      "needs_background": "light"
     },
     "output_type": "display_data"
    }
   ],
   "source": [
    "min_max.daily_temp_delta.plot();"
   ]
  },
  {
   "cell_type": "code",
   "execution_count": 50,
   "id": "9f344d7d-848e-4e06-bee9-1f8d6b47254d",
   "metadata": {},
   "outputs": [
    {
     "data": {
      "text/html": [
       "<style  type=\"text/css\" >\n",
       "#T_ff099_row8_col0{\n",
       "            background-color:  green;\n",
       "        }</style><table id=\"T_ff099_\" ><thead>    <tr>        <th class=\"blank level0\" ></th>        <th class=\"col_heading level0 col0\" >daily_temp_delta</th>    </tr>    <tr>        <th class=\"index_name level0\" >date</th>        <th class=\"blank\" ></th>    </tr></thead><tbody>\n",
       "                <tr>\n",
       "                        <th id=\"T_ff099_level0_row0\" class=\"row_heading level0 row0\" >2010-01-31 00:00:00</th>\n",
       "                        <td id=\"T_ff099_row0_col0\" class=\"data row0 col0\" >8.341935</td>\n",
       "            </tr>\n",
       "            <tr>\n",
       "                        <th id=\"T_ff099_level0_row1\" class=\"row_heading level0 row1\" >2010-02-28 00:00:00</th>\n",
       "                        <td id=\"T_ff099_row1_col0\" class=\"data row1 col0\" >9.485714</td>\n",
       "            </tr>\n",
       "            <tr>\n",
       "                        <th id=\"T_ff099_level0_row2\" class=\"row_heading level0 row2\" >2010-03-31 00:00:00</th>\n",
       "                        <td id=\"T_ff099_row2_col0\" class=\"data row2 col0\" >10.854839</td>\n",
       "            </tr>\n",
       "            <tr>\n",
       "                        <th id=\"T_ff099_level0_row3\" class=\"row_heading level0 row3\" >2010-04-30 00:00:00</th>\n",
       "                        <td id=\"T_ff099_row3_col0\" class=\"data row3 col0\" >12.320000</td>\n",
       "            </tr>\n",
       "            <tr>\n",
       "                        <th id=\"T_ff099_level0_row4\" class=\"row_heading level0 row4\" >2010-05-31 00:00:00</th>\n",
       "                        <td id=\"T_ff099_row4_col0\" class=\"data row4 col0\" >12.909677</td>\n",
       "            </tr>\n",
       "            <tr>\n",
       "                        <th id=\"T_ff099_level0_row5\" class=\"row_heading level0 row5\" >2010-06-30 00:00:00</th>\n",
       "                        <td id=\"T_ff099_row5_col0\" class=\"data row5 col0\" >13.950000</td>\n",
       "            </tr>\n",
       "            <tr>\n",
       "                        <th id=\"T_ff099_level0_row6\" class=\"row_heading level0 row6\" >2010-07-31 00:00:00</th>\n",
       "                        <td id=\"T_ff099_row6_col0\" class=\"data row6 col0\" >13.977419</td>\n",
       "            </tr>\n",
       "            <tr>\n",
       "                        <th id=\"T_ff099_level0_row7\" class=\"row_heading level0 row7\" >2010-08-31 00:00:00</th>\n",
       "                        <td id=\"T_ff099_row7_col0\" class=\"data row7 col0\" >13.870968</td>\n",
       "            </tr>\n",
       "            <tr>\n",
       "                        <th id=\"T_ff099_level0_row8\" class=\"row_heading level0 row8\" >2010-09-30 00:00:00</th>\n",
       "                        <td id=\"T_ff099_row8_col0\" class=\"data row8 col0\" >14.403333</td>\n",
       "            </tr>\n",
       "            <tr>\n",
       "                        <th id=\"T_ff099_level0_row9\" class=\"row_heading level0 row9\" >2010-10-31 00:00:00</th>\n",
       "                        <td id=\"T_ff099_row9_col0\" class=\"data row9 col0\" >13.432258</td>\n",
       "            </tr>\n",
       "            <tr>\n",
       "                        <th id=\"T_ff099_level0_row10\" class=\"row_heading level0 row10\" >2010-11-30 00:00:00</th>\n",
       "                        <td id=\"T_ff099_row10_col0\" class=\"data row10 col0\" >10.236667</td>\n",
       "            </tr>\n",
       "            <tr>\n",
       "                        <th id=\"T_ff099_level0_row11\" class=\"row_heading level0 row11\" >2010-12-31 00:00:00</th>\n",
       "                        <td id=\"T_ff099_row11_col0\" class=\"data row11 col0\" >7.925806</td>\n",
       "            </tr>\n",
       "    </tbody></table>"
      ],
      "text/plain": [
       "<pandas.io.formats.style.Styler at 0x7f8bc4f18760>"
      ]
     },
     "execution_count": 50,
     "metadata": {},
     "output_type": "execute_result"
    }
   ],
   "source": [
    "pd.DataFrame(min_max.daily_temp_delta.resample('M').mean()).style.highlight_max(color='green')"
   ]
  },
  {
   "cell_type": "markdown",
   "id": "c575f7f3-6f2b-4036-8256-77ba076d6ded",
   "metadata": {},
   "source": [
    "### 7. (Bonus)"
   ]
  },
  {
   "cell_type": "markdown",
   "id": "4cc8182f-aece-4e4e-91a9-bfb1eebd6805",
   "metadata": {},
   "source": [
    "Bonus: Visualize the daily min, average, and max temperature over time on a single line plot, i.e. the min, average, and maximum temperature should be 3 seperate lines."
   ]
  },
  {
   "cell_type": "markdown",
   "id": "9a38a559-77b4-4202-af2e-f1eef7228623",
   "metadata": {},
   "source": [
    "## `seattle_weather()`"
   ]
  },
  {
   "cell_type": "markdown",
   "id": "eb8bb0b6-be62-4ce2-b028-8d02ce64b144",
   "metadata": {},
   "source": [
    "### 1."
   ]
  },
  {
   "cell_type": "markdown",
   "id": "0f60dd82-f413-4902-8ecd-a29eb7835ea9",
   "metadata": {},
   "source": [
    "Which year and month combination has the highest amount of precipitation?"
   ]
  },
  {
   "cell_type": "markdown",
   "id": "102ec340-1654-4b0e-a0d6-a119f85ba8d6",
   "metadata": {},
   "source": [
    "### 2."
   ]
  },
  {
   "cell_type": "markdown",
   "id": "57c6994c-22e7-42d2-baff-109d91448c6c",
   "metadata": {},
   "source": [
    "Visualize the amount of monthly precipitation over time."
   ]
  },
  {
   "cell_type": "markdown",
   "id": "d98217ea-58ec-4d84-be0b-b775e4855d1b",
   "metadata": {},
   "source": [
    "### 3."
   ]
  },
  {
   "cell_type": "markdown",
   "id": "58ca0d57-4435-436a-a178-a4de19eef882",
   "metadata": {},
   "source": [
    "Visualize the amount of wind over time. Choose a time interval you think is appropriate."
   ]
  },
  {
   "cell_type": "markdown",
   "id": "5d502e17-1c59-44b6-8a1e-079503bac27f",
   "metadata": {},
   "source": [
    "### 4."
   ]
  },
  {
   "cell_type": "markdown",
   "id": "b9cce435-8e30-4ce4-80a7-bfd416b1778a",
   "metadata": {},
   "source": [
    "Which year-month combination is the windiest?"
   ]
  },
  {
   "cell_type": "markdown",
   "id": "70888dfb-c76a-44e4-9cc6-73750126fda5",
   "metadata": {},
   "source": [
    "### 5."
   ]
  },
  {
   "cell_type": "markdown",
   "id": "2a260077-767c-48df-8946-d9607b964628",
   "metadata": {},
   "source": [
    "What's the sunniest year? (Hint: which day has the highest number of days where weather == sun?)"
   ]
  },
  {
   "cell_type": "markdown",
   "id": "cbb299ff-bd2d-4f44-8ec6-a433dc5402ba",
   "metadata": {},
   "source": [
    "### 6."
   ]
  },
  {
   "cell_type": "markdown",
   "id": "b654149d-1ecd-48c1-bd72-5caecd9fcd8f",
   "metadata": {},
   "source": [
    "In which month does it rain the most?"
   ]
  },
  {
   "cell_type": "markdown",
   "id": "a836596f-3ac1-4141-bf58-f24c66821566",
   "metadata": {},
   "source": [
    "### 7."
   ]
  },
  {
   "cell_type": "markdown",
   "id": "8d8a1273-0b1d-4abf-add8-00de9663b00b",
   "metadata": {},
   "source": [
    "Which month has the most number of days with a non-zero amount of precipitation?"
   ]
  },
  {
   "cell_type": "markdown",
   "id": "56719bf2-d8db-42d7-9443-1c3050968426",
   "metadata": {},
   "source": [
    "## `flights_20k()`"
   ]
  },
  {
   "cell_type": "markdown",
   "id": "19aca544-c580-4e16-b9e3-2f459cfb64c1",
   "metadata": {},
   "source": [
    "### 1."
   ]
  },
  {
   "cell_type": "markdown",
   "id": "0e112d23-ef29-47fc-98f4-601d44ce952f",
   "metadata": {},
   "source": [
    "Convert any negative delays to 0."
   ]
  },
  {
   "cell_type": "markdown",
   "id": "758be359-a234-4bc9-bb7b-6c9f948fa84b",
   "metadata": {},
   "source": [
    "### 2."
   ]
  },
  {
   "cell_type": "markdown",
   "id": "488cc9a7-c407-4e16-b7b9-7aee329c6f8c",
   "metadata": {},
   "source": [
    "Which hour of the day has the highest average delay?"
   ]
  },
  {
   "cell_type": "markdown",
   "id": "a35be39b-c0cb-41c8-895e-92e9668d9d86",
   "metadata": {},
   "source": [
    "### 3."
   ]
  },
  {
   "cell_type": "markdown",
   "id": "1bfda466-1824-42c7-b99c-2264bcf7d83b",
   "metadata": {},
   "source": [
    "Does the day of the week make a difference in the delay amount?"
   ]
  },
  {
   "cell_type": "markdown",
   "id": "96a67e97-1738-4f2b-85f1-ac62efeeedf6",
   "metadata": {},
   "source": [
    "### 4."
   ]
  },
  {
   "cell_type": "markdown",
   "id": "86ddc8e1-67f0-4ccd-bffb-3dd631c8d1de",
   "metadata": {},
   "source": [
    "Does the month make a difference in the delay amount?"
   ]
  }
 ],
 "metadata": {
  "kernelspec": {
   "display_name": "Python 3",
   "language": "python",
   "name": "python3"
  },
  "language_info": {
   "codemirror_mode": {
    "name": "ipython",
    "version": 3
   },
   "file_extension": ".py",
   "mimetype": "text/x-python",
   "name": "python",
   "nbconvert_exporter": "python",
   "pygments_lexer": "ipython3",
   "version": "3.8.8"
  }
 },
 "nbformat": 4,
 "nbformat_minor": 5
}
