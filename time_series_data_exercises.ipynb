{
 "cells": [
  {
   "cell_type": "markdown",
   "id": "905e840b-b789-498a-9ff1-03f1d05abdb4",
   "metadata": {},
   "source": [
    "# Time Series Data Exercises"
   ]
  },
  {
   "cell_type": "code",
   "execution_count": 1,
   "id": "c57a007e-33ad-4962-afe8-165c9b0cd431",
   "metadata": {},
   "outputs": [],
   "source": [
    "import matplotlib.pyplot as plt\n",
    "import numpy as np\n",
    "import pandas as pd\n",
    "from vega_datasets import data"
   ]
  },
  {
   "cell_type": "markdown",
   "id": "dd5b903e-1f23-4dee-b758-5a82bc443a88",
   "metadata": {},
   "source": [
    "## `sf_temps()`"
   ]
  },
  {
   "cell_type": "code",
   "execution_count": 2,
   "id": "41fbbc5d-ddf6-448d-9368-1f30a4abd35a",
   "metadata": {},
   "outputs": [],
   "source": [
    "# get data\n",
    "df = data.sf_temps()"
   ]
  },
  {
   "cell_type": "code",
   "execution_count": 3,
   "id": "adc682af-e1aa-40f6-8e2c-88375f5bbaa4",
   "metadata": {},
   "outputs": [
    {
     "data": {
      "text/html": [
       "<div>\n",
       "<style scoped>\n",
       "    .dataframe tbody tr th:only-of-type {\n",
       "        vertical-align: middle;\n",
       "    }\n",
       "\n",
       "    .dataframe tbody tr th {\n",
       "        vertical-align: top;\n",
       "    }\n",
       "\n",
       "    .dataframe thead th {\n",
       "        text-align: right;\n",
       "    }\n",
       "</style>\n",
       "<table border=\"1\" class=\"dataframe\">\n",
       "  <thead>\n",
       "    <tr style=\"text-align: right;\">\n",
       "      <th></th>\n",
       "      <th>temp</th>\n",
       "      <th>date</th>\n",
       "    </tr>\n",
       "  </thead>\n",
       "  <tbody>\n",
       "    <tr>\n",
       "      <th>0</th>\n",
       "      <td>47.8</td>\n",
       "      <td>2010-01-01 00:00:00</td>\n",
       "    </tr>\n",
       "    <tr>\n",
       "      <th>1</th>\n",
       "      <td>47.4</td>\n",
       "      <td>2010-01-01 01:00:00</td>\n",
       "    </tr>\n",
       "    <tr>\n",
       "      <th>2</th>\n",
       "      <td>46.9</td>\n",
       "      <td>2010-01-01 02:00:00</td>\n",
       "    </tr>\n",
       "    <tr>\n",
       "      <th>3</th>\n",
       "      <td>46.5</td>\n",
       "      <td>2010-01-01 03:00:00</td>\n",
       "    </tr>\n",
       "    <tr>\n",
       "      <th>4</th>\n",
       "      <td>46.0</td>\n",
       "      <td>2010-01-01 04:00:00</td>\n",
       "    </tr>\n",
       "  </tbody>\n",
       "</table>\n",
       "</div>"
      ],
      "text/plain": [
       "   temp                date\n",
       "0  47.8 2010-01-01 00:00:00\n",
       "1  47.4 2010-01-01 01:00:00\n",
       "2  46.9 2010-01-01 02:00:00\n",
       "3  46.5 2010-01-01 03:00:00\n",
       "4  46.0 2010-01-01 04:00:00"
      ]
     },
     "execution_count": 3,
     "metadata": {},
     "output_type": "execute_result"
    }
   ],
   "source": [
    "# take a look\n",
    "df.head()"
   ]
  },
  {
   "cell_type": "code",
   "execution_count": 4,
   "id": "15b0626e-d60d-463c-a309-afb288f185af",
   "metadata": {},
   "outputs": [
    {
     "data": {
      "text/plain": [
       "(8759, 2)"
      ]
     },
     "execution_count": 4,
     "metadata": {},
     "output_type": "execute_result"
    }
   ],
   "source": [
    "df.shape"
   ]
  },
  {
   "cell_type": "code",
   "execution_count": 5,
   "id": "987b4ab5-ecbb-4057-93be-58baced94957",
   "metadata": {},
   "outputs": [
    {
     "name": "stdout",
     "output_type": "stream",
     "text": [
      "<class 'pandas.core.frame.DataFrame'>\n",
      "RangeIndex: 8759 entries, 0 to 8758\n",
      "Data columns (total 2 columns):\n",
      " #   Column  Non-Null Count  Dtype         \n",
      "---  ------  --------------  -----         \n",
      " 0   temp    8759 non-null   float64       \n",
      " 1   date    8759 non-null   datetime64[ns]\n",
      "dtypes: datetime64[ns](1), float64(1)\n",
      "memory usage: 137.0 KB\n"
     ]
    }
   ],
   "source": [
    "df.info()"
   ]
  },
  {
   "cell_type": "code",
   "execution_count": 6,
   "id": "b2689f98-4a42-4faf-954f-17cad1de746a",
   "metadata": {},
   "outputs": [
    {
     "data": {
      "text/html": [
       "<div>\n",
       "<style scoped>\n",
       "    .dataframe tbody tr th:only-of-type {\n",
       "        vertical-align: middle;\n",
       "    }\n",
       "\n",
       "    .dataframe tbody tr th {\n",
       "        vertical-align: top;\n",
       "    }\n",
       "\n",
       "    .dataframe thead th {\n",
       "        text-align: right;\n",
       "    }\n",
       "</style>\n",
       "<table border=\"1\" class=\"dataframe\">\n",
       "  <thead>\n",
       "    <tr style=\"text-align: right;\">\n",
       "      <th></th>\n",
       "      <th>temp</th>\n",
       "    </tr>\n",
       "    <tr>\n",
       "      <th>date</th>\n",
       "      <th></th>\n",
       "    </tr>\n",
       "  </thead>\n",
       "  <tbody>\n",
       "    <tr>\n",
       "      <th>2010-01-01 00:00:00</th>\n",
       "      <td>47.8</td>\n",
       "    </tr>\n",
       "    <tr>\n",
       "      <th>2010-01-01 01:00:00</th>\n",
       "      <td>47.4</td>\n",
       "    </tr>\n",
       "    <tr>\n",
       "      <th>2010-01-01 02:00:00</th>\n",
       "      <td>46.9</td>\n",
       "    </tr>\n",
       "    <tr>\n",
       "      <th>2010-01-01 03:00:00</th>\n",
       "      <td>46.5</td>\n",
       "    </tr>\n",
       "    <tr>\n",
       "      <th>2010-01-01 04:00:00</th>\n",
       "      <td>46.0</td>\n",
       "    </tr>\n",
       "  </tbody>\n",
       "</table>\n",
       "</div>"
      ],
      "text/plain": [
       "                     temp\n",
       "date                     \n",
       "2010-01-01 00:00:00  47.8\n",
       "2010-01-01 01:00:00  47.4\n",
       "2010-01-01 02:00:00  46.9\n",
       "2010-01-01 03:00:00  46.5\n",
       "2010-01-01 04:00:00  46.0"
      ]
     },
     "execution_count": 6,
     "metadata": {},
     "output_type": "execute_result"
    }
   ],
   "source": [
    "# make time data into index\n",
    "df = df.set_index('date')\n",
    "df.head()"
   ]
  },
  {
   "cell_type": "code",
   "execution_count": 7,
   "id": "1ce5dcd1-2f40-4c4a-bb96-ca72d0136486",
   "metadata": {},
   "outputs": [
    {
     "data": {
      "image/png": "[encoded data removed]",
      "text/plain": [
       "<Figure size 432x288 with 1 Axes>"
      ]
     },
     "metadata": {
      "needs_background": "light"
     },
     "output_type": "display_data"
    }
   ],
   "source": [
    "df.plot();"
   ]
  },
  {
   "cell_type": "markdown",
   "id": "3765970b-e25f-4697-9a59-be27e071b1ed",
   "metadata": {},
   "source": [
    "### 1."
   ]
  },
  {
   "cell_type": "markdown",
   "id": "e8a0e2cf-cfd5-4203-9499-69373660c659",
   "metadata": {},
   "source": [
    "Resample by the day and take the average temperature. Visualize the average temperature over time."
   ]
  },
  {
   "cell_type": "code",
   "execution_count": 8,
   "id": "24af8ca1-3042-47c5-bb98-30e4979081a7",
   "metadata": {},
   "outputs": [
    {
     "data": {
      "image/png": "[encoded data removed]",
      "text/plain": [
       "<Figure size 432x288 with 1 Axes>"
      ]
     },
     "metadata": {
      "needs_background": "light"
     },
     "output_type": "display_data"
    }
   ],
   "source": [
    "df.resample('D').mean().plot();"
   ]
  },
  {
   "cell_type": "markdown",
   "id": "d5d1e864-417d-4e27-8ea4-3de71646792a",
   "metadata": {},
   "source": [
    "### 2."
   ]
  },
  {
   "cell_type": "markdown",
   "id": "6f08d5de-de6d-4068-b622-78840d5ffcd7",
   "metadata": {},
   "source": [
    "Write the code necessary to visualize the minimum temperature over time."
   ]
  },
  {
   "cell_type": "code",
   "execution_count": 9,
   "id": "10336a2e-d3d3-4203-9c3e-e8e3a53bfed5",
   "metadata": {},
   "outputs": [
    {
     "data": {
      "image/png": "[encoded data removed]",
      "text/plain": [
       "<Figure size 432x288 with 1 Axes>"
      ]
     },
     "metadata": {
      "needs_background": "light"
     },
     "output_type": "display_data"
    }
   ],
   "source": [
    "df.resample('D').min().plot();"
   ]
  },
  {
   "cell_type": "markdown",
   "id": "5c82889f-b7a9-4278-8824-a9beb7c96ba7",
   "metadata": {},
   "source": [
    "### 3."
   ]
  },
  {
   "cell_type": "markdown",
   "id": "9ff61c7c-e30e-4af5-9eec-d193689c8a2a",
   "metadata": {},
   "source": [
    "Write the code necessary to visualize the maximum temperature over time."
   ]
  },
  {
   "cell_type": "code",
   "execution_count": 10,
   "id": "edaeb64d-070c-4740-a73a-2d956863e91e",
   "metadata": {},
   "outputs": [
    {
     "data": {
      "image/png": "[encoded data removed]",
      "text/plain": [
       "<Figure size 432x288 with 1 Axes>"
      ]
     },
     "metadata": {
      "needs_background": "light"
     },
     "output_type": "display_data"
    }
   ],
   "source": [
    "df.resample('D').max().plot();"
   ]
  },
  {
   "cell_type": "markdown",
   "id": "ee03e514-6441-4ac8-a5b8-1f2e5cbeb9ed",
   "metadata": {},
   "source": [
    "### 4."
   ]
  },
  {
   "cell_type": "markdown",
   "id": "c28304ce-6560-48ab-a313-92188baccd3c",
   "metadata": {},
   "source": [
    "Which month is the coldest, on average?"
   ]
  },
  {
   "cell_type": "code",
   "execution_count": 11,
   "id": "0c2d96c1-15d9-4768-9558-ee600cf12e55",
   "metadata": {},
   "outputs": [
    {
     "data": {
      "image/png": "[encoded data removed]",
      "text/plain": [
       "<Figure size 432x288 with 1 Axes>"
      ]
     },
     "metadata": {
      "needs_background": "light"
     },
     "output_type": "display_data"
    }
   ],
   "source": [
    "df.resample('M').min().plot(marker='o', color = 'black')\n",
    "plt.axhline(df.resample('M').min().min()[0], ls='--', color = 'blue');"
   ]
  },
  {
   "cell_type": "code",
   "execution_count": 12,
   "id": "c79445ea-d308-49c6-b24f-f0b3a11db151",
   "metadata": {},
   "outputs": [
    {
     "data": {
      "text/html": [
       "<style  type=\"text/css\" >\n",
       "#T_c7462_row11_col0{\n",
       "            background-color:  blue;\n",
       "        }</style><table id=\"T_c7462_\" ><thead>    <tr>        <th class=\"blank level0\" ></th>        <th class=\"col_heading level0 col0\" >temp</th>    </tr>    <tr>        <th class=\"index_name level0\" >date</th>        <th class=\"blank\" ></th>    </tr></thead><tbody>\n",
       "                <tr>\n",
       "                        <th id=\"T_c7462_level0_row0\" class=\"row_heading level0 row0\" >2010-01-31 00:00:00</th>\n",
       "                        <td id=\"T_c7462_row0_col0\" class=\"data row0 col0\" >45.800000</td>\n",
       "            </tr>\n",
       "            <tr>\n",
       "                        <th id=\"T_c7462_level0_row1\" class=\"row_heading level0 row1\" >2010-02-28 00:00:00</th>\n",
       "                        <td id=\"T_c7462_row1_col0\" class=\"data row1 col0\" >46.900000</td>\n",
       "            </tr>\n",
       "            <tr>\n",
       "                        <th id=\"T_c7462_level0_row2\" class=\"row_heading level0 row2\" >2010-03-31 00:00:00</th>\n",
       "                        <td id=\"T_c7462_row2_col0\" class=\"data row2 col0\" >48.700000</td>\n",
       "            </tr>\n",
       "            <tr>\n",
       "                        <th id=\"T_c7462_level0_row3\" class=\"row_heading level0 row3\" >2010-04-30 00:00:00</th>\n",
       "                        <td id=\"T_c7462_row3_col0\" class=\"data row3 col0\" >49.300000</td>\n",
       "            </tr>\n",
       "            <tr>\n",
       "                        <th id=\"T_c7462_level0_row4\" class=\"row_heading level0 row4\" >2010-05-31 00:00:00</th>\n",
       "                        <td id=\"T_c7462_row4_col0\" class=\"data row4 col0\" >51.400000</td>\n",
       "            </tr>\n",
       "            <tr>\n",
       "                        <th id=\"T_c7462_level0_row5\" class=\"row_heading level0 row5\" >2010-06-30 00:00:00</th>\n",
       "                        <td id=\"T_c7462_row5_col0\" class=\"data row5 col0\" >53.700000</td>\n",
       "            </tr>\n",
       "            <tr>\n",
       "                        <th id=\"T_c7462_level0_row6\" class=\"row_heading level0 row6\" >2010-07-31 00:00:00</th>\n",
       "                        <td id=\"T_c7462_row6_col0\" class=\"data row6 col0\" >55.400000</td>\n",
       "            </tr>\n",
       "            <tr>\n",
       "                        <th id=\"T_c7462_level0_row7\" class=\"row_heading level0 row7\" >2010-08-31 00:00:00</th>\n",
       "                        <td id=\"T_c7462_row7_col0\" class=\"data row7 col0\" >56.600000</td>\n",
       "            </tr>\n",
       "            <tr>\n",
       "                        <th id=\"T_c7462_level0_row8\" class=\"row_heading level0 row8\" >2010-09-30 00:00:00</th>\n",
       "                        <td id=\"T_c7462_row8_col0\" class=\"data row8 col0\" >56.400000</td>\n",
       "            </tr>\n",
       "            <tr>\n",
       "                        <th id=\"T_c7462_level0_row9\" class=\"row_heading level0 row9\" >2010-10-31 00:00:00</th>\n",
       "                        <td id=\"T_c7462_row9_col0\" class=\"data row9 col0\" >53.400000</td>\n",
       "            </tr>\n",
       "            <tr>\n",
       "                        <th id=\"T_c7462_level0_row10\" class=\"row_heading level0 row10\" >2010-11-30 00:00:00</th>\n",
       "                        <td id=\"T_c7462_row10_col0\" class=\"data row10 col0\" >48.600000</td>\n",
       "            </tr>\n",
       "            <tr>\n",
       "                        <th id=\"T_c7462_level0_row11\" class=\"row_heading level0 row11\" >2010-12-31 00:00:00</th>\n",
       "                        <td id=\"T_c7462_row11_col0\" class=\"data row11 col0\" >45.600000</td>\n",
       "            </tr>\n",
       "    </tbody></table>"
      ],
      "text/plain": [
       "<pandas.io.formats.style.Styler at 0x7ff2f8232880>"
      ]
     },
     "execution_count": 12,
     "metadata": {},
     "output_type": "execute_result"
    }
   ],
   "source": [
    "df.resample('M').min().style.highlight_min(color='blue')"
   ]
  },
  {
   "cell_type": "markdown",
   "id": "6ace2ddb-c259-41d2-8937-6ac4f28ef7f4",
   "metadata": {},
   "source": [
    "**December**"
   ]
  },
  {
   "cell_type": "markdown",
   "id": "8794a333-9069-4118-9ab5-10ef1ca17c02",
   "metadata": {},
   "source": [
    "### 5."
   ]
  },
  {
   "cell_type": "markdown",
   "id": "73620d7d-5421-404b-85b7-055e067900cf",
   "metadata": {},
   "source": [
    "Which month has the highest average temperature?"
   ]
  },
  {
   "cell_type": "code",
   "execution_count": 13,
   "id": "cbafd2d9-6c90-413e-85a6-5ce890883c91",
   "metadata": {},
   "outputs": [
    {
     "data": {
      "image/png": "[encoded data removed]",
      "text/plain": [
       "<Figure size 432x288 with 1 Axes>"
      ]
     },
     "metadata": {
      "needs_background": "light"
     },
     "output_type": "display_data"
    }
   ],
   "source": [
    "df.resample('M').max().plot(marker='o', color = 'black')\n",
    "plt.axhline(df.resample('M').max().max()[0], ls='--', color = 'red')\n",
    "plt.legend();"
   ]
  },
  {
   "cell_type": "code",
   "execution_count": 14,
   "id": "ec2ce893-d36f-421e-aff3-03e328513c97",
   "metadata": {},
   "outputs": [
    {
     "data": {
      "text/html": [
       "<style  type=\"text/css\" >\n",
       "#T_0e055_row7_col0,#T_0e055_row8_col0{\n",
       "            background-color:  red;\n",
       "        }</style><table id=\"T_0e055_\" ><thead>    <tr>        <th class=\"blank level0\" ></th>        <th class=\"col_heading level0 col0\" >temp</th>    </tr>    <tr>        <th class=\"index_name level0\" >date</th>        <th class=\"blank\" ></th>    </tr></thead><tbody>\n",
       "                <tr>\n",
       "                        <th id=\"T_0e055_level0_row0\" class=\"row_heading level0 row0\" >2010-01-31 00:00:00</th>\n",
       "                        <td id=\"T_0e055_row0_col0\" class=\"data row0 col0\" >56.200000</td>\n",
       "            </tr>\n",
       "            <tr>\n",
       "                        <th id=\"T_0e055_level0_row1\" class=\"row_heading level0 row1\" >2010-02-28 00:00:00</th>\n",
       "                        <td id=\"T_0e055_row1_col0\" class=\"data row1 col0\" >58.600000</td>\n",
       "            </tr>\n",
       "            <tr>\n",
       "                        <th id=\"T_0e055_level0_row2\" class=\"row_heading level0 row2\" >2010-03-31 00:00:00</th>\n",
       "                        <td id=\"T_0e055_row2_col0\" class=\"data row2 col0\" >61.300000</td>\n",
       "            </tr>\n",
       "            <tr>\n",
       "                        <th id=\"T_0e055_level0_row3\" class=\"row_heading level0 row3\" >2010-04-30 00:00:00</th>\n",
       "                        <td id=\"T_0e055_row3_col0\" class=\"data row3 col0\" >64.300000</td>\n",
       "            </tr>\n",
       "            <tr>\n",
       "                        <th id=\"T_0e055_level0_row4\" class=\"row_heading level0 row4\" >2010-05-31 00:00:00</th>\n",
       "                        <td id=\"T_0e055_row4_col0\" class=\"data row4 col0\" >66.400000</td>\n",
       "            </tr>\n",
       "            <tr>\n",
       "                        <th id=\"T_0e055_level0_row5\" class=\"row_heading level0 row5\" >2010-06-30 00:00:00</th>\n",
       "                        <td id=\"T_0e055_row5_col0\" class=\"data row5 col0\" >69.700000</td>\n",
       "            </tr>\n",
       "            <tr>\n",
       "                        <th id=\"T_0e055_level0_row6\" class=\"row_heading level0 row6\" >2010-07-31 00:00:00</th>\n",
       "                        <td id=\"T_0e055_row6_col0\" class=\"data row6 col0\" >70.400000</td>\n",
       "            </tr>\n",
       "            <tr>\n",
       "                        <th id=\"T_0e055_level0_row7\" class=\"row_heading level0 row7\" >2010-08-31 00:00:00</th>\n",
       "                        <td id=\"T_0e055_row7_col0\" class=\"data row7 col0\" >72.200000</td>\n",
       "            </tr>\n",
       "            <tr>\n",
       "                        <th id=\"T_0e055_level0_row8\" class=\"row_heading level0 row8\" >2010-09-30 00:00:00</th>\n",
       "                        <td id=\"T_0e055_row8_col0\" class=\"data row8 col0\" >72.200000</td>\n",
       "            </tr>\n",
       "            <tr>\n",
       "                        <th id=\"T_0e055_level0_row9\" class=\"row_heading level0 row9\" >2010-10-31 00:00:00</th>\n",
       "                        <td id=\"T_0e055_row9_col0\" class=\"data row9 col0\" >70.600000</td>\n",
       "            </tr>\n",
       "            <tr>\n",
       "                        <th id=\"T_0e055_level0_row10\" class=\"row_heading level0 row10\" >2010-11-30 00:00:00</th>\n",
       "                        <td id=\"T_0e055_row10_col0\" class=\"data row10 col0\" >65.000000</td>\n",
       "            </tr>\n",
       "            <tr>\n",
       "                        <th id=\"T_0e055_level0_row11\" class=\"row_heading level0 row11\" >2010-12-31 00:00:00</th>\n",
       "                        <td id=\"T_0e055_row11_col0\" class=\"data row11 col0\" >57.500000</td>\n",
       "            </tr>\n",
       "    </tbody></table>"
      ],
      "text/plain": [
       "<pandas.io.formats.style.Styler at 0x7ff2f73f2ac0>"
      ]
     },
     "execution_count": 14,
     "metadata": {},
     "output_type": "execute_result"
    }
   ],
   "source": [
    "df.resample('M').max().style.highlight_max(color='red')"
   ]
  },
  {
   "cell_type": "markdown",
   "id": "6295d5b8-64a7-49ba-b9bf-717fcb3ead5a",
   "metadata": {},
   "source": [
    "**August and September**"
   ]
  },
  {
   "cell_type": "markdown",
   "id": "79becb45-324d-42fe-8d70-1ed4899e28b5",
   "metadata": {},
   "source": [
    "### 6."
   ]
  },
  {
   "cell_type": "markdown",
   "id": "de829b36-4dae-4dc7-9cc7-808fd00b90ed",
   "metadata": {},
   "source": [
    "Resample by the day and calculate the min and max temp for the day (Hint: .agg(['min', 'max'])). Use this resampled dataframe to calculate the change in temperature for the day. Which month has the highest daily temperature variability?"
   ]
  },
  {
   "cell_type": "code",
   "execution_count": 15,
   "id": "854fb71c-63e9-48ed-b641-18fb186c66b4",
   "metadata": {},
   "outputs": [
    {
     "data": {
      "text/html": [
       "<div>\n",
       "<style scoped>\n",
       "    .dataframe tbody tr th:only-of-type {\n",
       "        vertical-align: middle;\n",
       "    }\n",
       "\n",
       "    .dataframe tbody tr th {\n",
       "        vertical-align: top;\n",
       "    }\n",
       "\n",
       "    .dataframe thead tr th {\n",
       "        text-align: left;\n",
       "    }\n",
       "\n",
       "    .dataframe thead tr:last-of-type th {\n",
       "        text-align: right;\n",
       "    }\n",
       "</style>\n",
       "<table border=\"1\" class=\"dataframe\">\n",
       "  <thead>\n",
       "    <tr>\n",
       "      <th></th>\n",
       "      <th colspan=\"2\" halign=\"left\">temp</th>\n",
       "    </tr>\n",
       "    <tr>\n",
       "      <th></th>\n",
       "      <th>min</th>\n",
       "      <th>max</th>\n",
       "    </tr>\n",
       "    <tr>\n",
       "      <th>date</th>\n",
       "      <th></th>\n",
       "      <th></th>\n",
       "    </tr>\n",
       "  </thead>\n",
       "  <tbody>\n",
       "    <tr>\n",
       "      <th>2010-01-01</th>\n",
       "      <td>45.8</td>\n",
       "      <td>53.3</td>\n",
       "    </tr>\n",
       "    <tr>\n",
       "      <th>2010-01-02</th>\n",
       "      <td>46.0</td>\n",
       "      <td>53.4</td>\n",
       "    </tr>\n",
       "    <tr>\n",
       "      <th>2010-01-03</th>\n",
       "      <td>46.1</td>\n",
       "      <td>53.5</td>\n",
       "    </tr>\n",
       "    <tr>\n",
       "      <th>2010-01-04</th>\n",
       "      <td>46.1</td>\n",
       "      <td>53.6</td>\n",
       "    </tr>\n",
       "    <tr>\n",
       "      <th>2010-01-05</th>\n",
       "      <td>46.1</td>\n",
       "      <td>53.8</td>\n",
       "    </tr>\n",
       "  </tbody>\n",
       "</table>\n",
       "</div>"
      ],
      "text/plain": [
       "            temp      \n",
       "             min   max\n",
       "date                  \n",
       "2010-01-01  45.8  53.3\n",
       "2010-01-02  46.0  53.4\n",
       "2010-01-03  46.1  53.5\n",
       "2010-01-04  46.1  53.6\n",
       "2010-01-05  46.1  53.8"
      ]
     },
     "execution_count": 15,
     "metadata": {},
     "output_type": "execute_result"
    }
   ],
   "source": [
    "min_max = df.resample('D').agg(['min', 'max'])\n",
    "min_max.head()"
   ]
  },
  {
   "cell_type": "code",
   "execution_count": 16,
   "id": "f4f4deb7-328f-4f86-a8c5-0a33f0197514",
   "metadata": {},
   "outputs": [
    {
     "data": {
      "text/plain": [
       "MultiIndex([('temp', 'min'),\n",
       "            ('temp', 'max')],\n",
       "           )"
      ]
     },
     "execution_count": 16,
     "metadata": {},
     "output_type": "execute_result"
    }
   ],
   "source": [
    "min_max.columns"
   ]
  },
  {
   "cell_type": "code",
   "execution_count": 17,
   "id": "14eab79c-dda2-4d8a-a346-a26d003737c4",
   "metadata": {},
   "outputs": [],
   "source": [
    "min_max['daily_temp_delta'] = min_max[('temp', 'max')] - min_max[('temp', 'min')]"
   ]
  },
  {
   "cell_type": "code",
   "execution_count": 18,
   "id": "d4f4ae79-e7c1-4284-8dd1-9ab1f4da6113",
   "metadata": {},
   "outputs": [
    {
     "data": {
      "text/html": [
       "<div>\n",
       "<style scoped>\n",
       "    .dataframe tbody tr th:only-of-type {\n",
       "        vertical-align: middle;\n",
       "    }\n",
       "\n",
       "    .dataframe tbody tr th {\n",
       "        vertical-align: top;\n",
       "    }\n",
       "\n",
       "    .dataframe thead tr th {\n",
       "        text-align: left;\n",
       "    }\n",
       "\n",
       "    .dataframe thead tr:last-of-type th {\n",
       "        text-align: right;\n",
       "    }\n",
       "</style>\n",
       "<table border=\"1\" class=\"dataframe\">\n",
       "  <thead>\n",
       "    <tr>\n",
       "      <th></th>\n",
       "      <th colspan=\"2\" halign=\"left\">temp</th>\n",
       "      <th>daily_temp_delta</th>\n",
       "    </tr>\n",
       "    <tr>\n",
       "      <th></th>\n",
       "      <th>min</th>\n",
       "      <th>max</th>\n",
       "      <th></th>\n",
       "    </tr>\n",
       "    <tr>\n",
       "      <th>date</th>\n",
       "      <th></th>\n",
       "      <th></th>\n",
       "      <th></th>\n",
       "    </tr>\n",
       "  </thead>\n",
       "  <tbody>\n",
       "    <tr>\n",
       "      <th>2010-01-01</th>\n",
       "      <td>45.8</td>\n",
       "      <td>53.3</td>\n",
       "      <td>7.5</td>\n",
       "    </tr>\n",
       "    <tr>\n",
       "      <th>2010-01-02</th>\n",
       "      <td>46.0</td>\n",
       "      <td>53.4</td>\n",
       "      <td>7.4</td>\n",
       "    </tr>\n",
       "    <tr>\n",
       "      <th>2010-01-03</th>\n",
       "      <td>46.1</td>\n",
       "      <td>53.5</td>\n",
       "      <td>7.4</td>\n",
       "    </tr>\n",
       "    <tr>\n",
       "      <th>2010-01-04</th>\n",
       "      <td>46.1</td>\n",
       "      <td>53.6</td>\n",
       "      <td>7.5</td>\n",
       "    </tr>\n",
       "    <tr>\n",
       "      <th>2010-01-05</th>\n",
       "      <td>46.1</td>\n",
       "      <td>53.8</td>\n",
       "      <td>7.7</td>\n",
       "    </tr>\n",
       "  </tbody>\n",
       "</table>\n",
       "</div>"
      ],
      "text/plain": [
       "            temp       daily_temp_delta\n",
       "             min   max                 \n",
       "date                                   \n",
       "2010-01-01  45.8  53.3              7.5\n",
       "2010-01-02  46.0  53.4              7.4\n",
       "2010-01-03  46.1  53.5              7.4\n",
       "2010-01-04  46.1  53.6              7.5\n",
       "2010-01-05  46.1  53.8              7.7"
      ]
     },
     "execution_count": 18,
     "metadata": {},
     "output_type": "execute_result"
    }
   ],
   "source": [
    "min_max.head()"
   ]
  },
  {
   "cell_type": "code",
   "execution_count": 19,
   "id": "9d34c5cb-5183-4a20-a45a-1c54a2c63213",
   "metadata": {},
   "outputs": [
    {
     "data": {
      "image/png": "[encoded data removed]",
      "text/plain": [
       "<Figure size 432x288 with 1 Axes>"
      ]
     },
     "metadata": {
      "needs_background": "light"
     },
     "output_type": "display_data"
    }
   ],
   "source": [
    "min_max.daily_temp_delta.plot();"
   ]
  },
  {
   "cell_type": "code",
   "execution_count": 20,
   "id": "9f344d7d-848e-4e06-bee9-1f8d6b47254d",
   "metadata": {},
   "outputs": [
    {
     "data": {
      "text/html": [
       "<style  type=\"text/css\" >\n",
       "#T_81ba9_row8_col0{\n",
       "            background-color:  green;\n",
       "        }</style><table id=\"T_81ba9_\" ><thead>    <tr>        <th class=\"blank level0\" ></th>        <th class=\"col_heading level0 col0\" >daily_temp_delta</th>    </tr>    <tr>        <th class=\"index_name level0\" >date</th>        <th class=\"blank\" ></th>    </tr></thead><tbody>\n",
       "                <tr>\n",
       "                        <th id=\"T_81ba9_level0_row0\" class=\"row_heading level0 row0\" >2010-01-31 00:00:00</th>\n",
       "                        <td id=\"T_81ba9_row0_col0\" class=\"data row0 col0\" >8.341935</td>\n",
       "            </tr>\n",
       "            <tr>\n",
       "                        <th id=\"T_81ba9_level0_row1\" class=\"row_heading level0 row1\" >2010-02-28 00:00:00</th>\n",
       "                        <td id=\"T_81ba9_row1_col0\" class=\"data row1 col0\" >9.485714</td>\n",
       "            </tr>\n",
       "            <tr>\n",
       "                        <th id=\"T_81ba9_level0_row2\" class=\"row_heading level0 row2\" >2010-03-31 00:00:00</th>\n",
       "                        <td id=\"T_81ba9_row2_col0\" class=\"data row2 col0\" >10.854839</td>\n",
       "            </tr>\n",
       "            <tr>\n",
       "                        <th id=\"T_81ba9_level0_row3\" class=\"row_heading level0 row3\" >2010-04-30 00:00:00</th>\n",
       "                        <td id=\"T_81ba9_row3_col0\" class=\"data row3 col0\" >12.320000</td>\n",
       "            </tr>\n",
       "            <tr>\n",
       "                        <th id=\"T_81ba9_level0_row4\" class=\"row_heading level0 row4\" >2010-05-31 00:00:00</th>\n",
       "                        <td id=\"T_81ba9_row4_col0\" class=\"data row4 col0\" >12.909677</td>\n",
       "            </tr>\n",
       "            <tr>\n",
       "                        <th id=\"T_81ba9_level0_row5\" class=\"row_heading level0 row5\" >2010-06-30 00:00:00</th>\n",
       "                        <td id=\"T_81ba9_row5_col0\" class=\"data row5 col0\" >13.950000</td>\n",
       "            </tr>\n",
       "            <tr>\n",
       "                        <th id=\"T_81ba9_level0_row6\" class=\"row_heading level0 row6\" >2010-07-31 00:00:00</th>\n",
       "                        <td id=\"T_81ba9_row6_col0\" class=\"data row6 col0\" >13.977419</td>\n",
       "            </tr>\n",
       "            <tr>\n",
       "                        <th id=\"T_81ba9_level0_row7\" class=\"row_heading level0 row7\" >2010-08-31 00:00:00</th>\n",
       "                        <td id=\"T_81ba9_row7_col0\" class=\"data row7 col0\" >13.870968</td>\n",
       "            </tr>\n",
       "            <tr>\n",
       "                        <th id=\"T_81ba9_level0_row8\" class=\"row_heading level0 row8\" >2010-09-30 00:00:00</th>\n",
       "                        <td id=\"T_81ba9_row8_col0\" class=\"data row8 col0\" >14.403333</td>\n",
       "            </tr>\n",
       "            <tr>\n",
       "                        <th id=\"T_81ba9_level0_row9\" class=\"row_heading level0 row9\" >2010-10-31 00:00:00</th>\n",
       "                        <td id=\"T_81ba9_row9_col0\" class=\"data row9 col0\" >13.432258</td>\n",
       "            </tr>\n",
       "            <tr>\n",
       "                        <th id=\"T_81ba9_level0_row10\" class=\"row_heading level0 row10\" >2010-11-30 00:00:00</th>\n",
       "                        <td id=\"T_81ba9_row10_col0\" class=\"data row10 col0\" >10.236667</td>\n",
       "            </tr>\n",
       "            <tr>\n",
       "                        <th id=\"T_81ba9_level0_row11\" class=\"row_heading level0 row11\" >2010-12-31 00:00:00</th>\n",
       "                        <td id=\"T_81ba9_row11_col0\" class=\"data row11 col0\" >7.925806</td>\n",
       "            </tr>\n",
       "    </tbody></table>"
      ],
      "text/plain": [
       "<pandas.io.formats.style.Styler at 0x7ff2f7407dc0>"
      ]
     },
     "execution_count": 20,
     "metadata": {},
     "output_type": "execute_result"
    }
   ],
   "source": [
    "# this shows the month with the highest average temperature delta\n",
    "pd.DataFrame(min_max.daily_temp_delta.resample('M').mean()).style.highlight_max(color='green')"
   ]
  },
  {
   "cell_type": "code",
   "execution_count": 21,
   "id": "00922f6a-d74d-4c26-b37b-7141370b5cc8",
   "metadata": {},
   "outputs": [
    {
     "data": {
      "text/html": [
       "<div>\n",
       "<style scoped>\n",
       "    .dataframe tbody tr th:only-of-type {\n",
       "        vertical-align: middle;\n",
       "    }\n",
       "\n",
       "    .dataframe tbody tr th {\n",
       "        vertical-align: top;\n",
       "    }\n",
       "\n",
       "    .dataframe thead tr th {\n",
       "        text-align: left;\n",
       "    }\n",
       "\n",
       "    .dataframe thead tr:last-of-type th {\n",
       "        text-align: right;\n",
       "    }\n",
       "</style>\n",
       "<table border=\"1\" class=\"dataframe\">\n",
       "  <thead>\n",
       "    <tr>\n",
       "      <th></th>\n",
       "      <th colspan=\"2\" halign=\"left\">temp</th>\n",
       "      <th>daily_temp_delta</th>\n",
       "    </tr>\n",
       "    <tr>\n",
       "      <th></th>\n",
       "      <th>min</th>\n",
       "      <th>max</th>\n",
       "      <th></th>\n",
       "    </tr>\n",
       "    <tr>\n",
       "      <th>date</th>\n",
       "      <th></th>\n",
       "      <th></th>\n",
       "      <th></th>\n",
       "    </tr>\n",
       "  </thead>\n",
       "  <tbody>\n",
       "    <tr>\n",
       "      <th>2010-08-31</th>\n",
       "      <td>57.2</td>\n",
       "      <td>72.2</td>\n",
       "      <td>15.0</td>\n",
       "    </tr>\n",
       "  </tbody>\n",
       "</table>\n",
       "</div>"
      ],
      "text/plain": [
       "            temp       daily_temp_delta\n",
       "             min   max                 \n",
       "date                                   \n",
       "2010-08-31  57.2  72.2             15.0"
      ]
     },
     "execution_count": 21,
     "metadata": {},
     "output_type": "execute_result"
    }
   ],
   "source": [
    "# this finds the single data with the highest temp delta\n",
    "min_max[min_max.daily_temp_delta == min_max.daily_temp_delta.max()]"
   ]
  },
  {
   "cell_type": "markdown",
   "id": "c575f7f3-6f2b-4036-8256-77ba076d6ded",
   "metadata": {},
   "source": [
    "### 7. (Bonus)"
   ]
  },
  {
   "cell_type": "markdown",
   "id": "4cc8182f-aece-4e4e-91a9-bfb1eebd6805",
   "metadata": {},
   "source": [
    "Bonus: Visualize the daily min, average, and max temperature over time on a single line plot, i.e. the min, average, and maximum temperature should be 3 seperate lines."
   ]
  },
  {
   "cell_type": "code",
   "execution_count": 22,
   "id": "81ca7edc-95b8-48c1-bc2b-49a24a6ae40c",
   "metadata": {},
   "outputs": [],
   "source": [
    "daily_average = df.resample('D').mean()\n",
    "daily_max = df.resample('D').max()\n",
    "daily_min = df.resample('D').min()"
   ]
  },
  {
   "cell_type": "code",
   "execution_count": 23,
   "id": "d82c6f57-2a80-4688-8308-3455f1a0eb98",
   "metadata": {},
   "outputs": [],
   "source": [
    "dailies = df.resample('D').mean()"
   ]
  },
  {
   "cell_type": "code",
   "execution_count": 24,
   "id": "23b5a3f0-723a-47aa-b38f-23517c4a5fae",
   "metadata": {},
   "outputs": [],
   "source": [
    "dailies['max'] = daily_max"
   ]
  },
  {
   "cell_type": "code",
   "execution_count": 25,
   "id": "39ffad1a-d356-4a19-857b-ac4e24bfb56a",
   "metadata": {},
   "outputs": [],
   "source": [
    "dailies['min'] = daily_min"
   ]
  },
  {
   "cell_type": "code",
   "execution_count": 26,
   "id": "b56a68e2-6957-4f5c-8923-7df88dbb9b17",
   "metadata": {},
   "outputs": [],
   "source": [
    "dailies = dailies.rename(columns={'temp' : 'avg'})"
   ]
  },
  {
   "cell_type": "code",
   "execution_count": 27,
   "id": "960885cc-4f4c-4924-857c-0a31f3c25fda",
   "metadata": {},
   "outputs": [
    {
     "data": {
      "image/png": "[encoded data removed]",
      "text/plain": [
       "<Figure size 432x288 with 1 Axes>"
      ]
     },
     "metadata": {
      "needs_background": "light"
     },
     "output_type": "display_data"
    }
   ],
   "source": [
    "dailies.plot();"
   ]
  },
  {
   "cell_type": "markdown",
   "id": "9a38a559-77b4-4202-af2e-f1eef7228623",
   "metadata": {},
   "source": [
    "## `seattle_weather()`"
   ]
  },
  {
   "cell_type": "code",
   "execution_count": 28,
   "id": "949dce97-76fa-420c-a35d-1625bd6af3c2",
   "metadata": {},
   "outputs": [],
   "source": [
    "df = data.seattle_weather()"
   ]
  },
  {
   "cell_type": "code",
   "execution_count": 29,
   "id": "cfeebc1a-1fd7-4eb4-81b9-947ae0e15558",
   "metadata": {},
   "outputs": [
    {
     "data": {
      "text/html": [
       "<div>\n",
       "<style scoped>\n",
       "    .dataframe tbody tr th:only-of-type {\n",
       "        vertical-align: middle;\n",
       "    }\n",
       "\n",
       "    .dataframe tbody tr th {\n",
       "        vertical-align: top;\n",
       "    }\n",
       "\n",
       "    .dataframe thead th {\n",
       "        text-align: right;\n",
       "    }\n",
       "</style>\n",
       "<table border=\"1\" class=\"dataframe\">\n",
       "  <thead>\n",
       "    <tr style=\"text-align: right;\">\n",
       "      <th></th>\n",
       "      <th>date</th>\n",
       "      <th>precipitation</th>\n",
       "      <th>temp_max</th>\n",
       "      <th>temp_min</th>\n",
       "      <th>wind</th>\n",
       "      <th>weather</th>\n",
       "    </tr>\n",
       "  </thead>\n",
       "  <tbody>\n",
       "    <tr>\n",
       "      <th>0</th>\n",
       "      <td>2012-01-01</td>\n",
       "      <td>0.0</td>\n",
       "      <td>12.8</td>\n",
       "      <td>5.0</td>\n",
       "      <td>4.7</td>\n",
       "      <td>drizzle</td>\n",
       "    </tr>\n",
       "    <tr>\n",
       "      <th>1</th>\n",
       "      <td>2012-01-02</td>\n",
       "      <td>10.9</td>\n",
       "      <td>10.6</td>\n",
       "      <td>2.8</td>\n",
       "      <td>4.5</td>\n",
       "      <td>rain</td>\n",
       "    </tr>\n",
       "    <tr>\n",
       "      <th>2</th>\n",
       "      <td>2012-01-03</td>\n",
       "      <td>0.8</td>\n",
       "      <td>11.7</td>\n",
       "      <td>7.2</td>\n",
       "      <td>2.3</td>\n",
       "      <td>rain</td>\n",
       "    </tr>\n",
       "    <tr>\n",
       "      <th>3</th>\n",
       "      <td>2012-01-04</td>\n",
       "      <td>20.3</td>\n",
       "      <td>12.2</td>\n",
       "      <td>5.6</td>\n",
       "      <td>4.7</td>\n",
       "      <td>rain</td>\n",
       "    </tr>\n",
       "    <tr>\n",
       "      <th>4</th>\n",
       "      <td>2012-01-05</td>\n",
       "      <td>1.3</td>\n",
       "      <td>8.9</td>\n",
       "      <td>2.8</td>\n",
       "      <td>6.1</td>\n",
       "      <td>rain</td>\n",
       "    </tr>\n",
       "  </tbody>\n",
       "</table>\n",
       "</div>"
      ],
      "text/plain": [
       "        date  precipitation  temp_max  temp_min  wind  weather\n",
       "0 2012-01-01            0.0      12.8       5.0   4.7  drizzle\n",
       "1 2012-01-02           10.9      10.6       2.8   4.5     rain\n",
       "2 2012-01-03            0.8      11.7       7.2   2.3     rain\n",
       "3 2012-01-04           20.3      12.2       5.6   4.7     rain\n",
       "4 2012-01-05            1.3       8.9       2.8   6.1     rain"
      ]
     },
     "execution_count": 29,
     "metadata": {},
     "output_type": "execute_result"
    }
   ],
   "source": [
    "df.head()"
   ]
  },
  {
   "cell_type": "code",
   "execution_count": 30,
   "id": "4d199d78-1fac-4da0-a7b2-1aa45be80827",
   "metadata": {},
   "outputs": [
    {
     "data": {
      "text/plain": [
       "(1461, 6)"
      ]
     },
     "execution_count": 30,
     "metadata": {},
     "output_type": "execute_result"
    }
   ],
   "source": [
    "df.shape"
   ]
  },
  {
   "cell_type": "code",
   "execution_count": 31,
   "id": "6f5a11f0-1b81-4444-b763-88912992cb9a",
   "metadata": {},
   "outputs": [
    {
     "name": "stdout",
     "output_type": "stream",
     "text": [
      "<class 'pandas.core.frame.DataFrame'>\n",
      "RangeIndex: 1461 entries, 0 to 1460\n",
      "Data columns (total 6 columns):\n",
      " #   Column         Non-Null Count  Dtype         \n",
      "---  ------         --------------  -----         \n",
      " 0   date           1461 non-null   datetime64[ns]\n",
      " 1   precipitation  1461 non-null   float64       \n",
      " 2   temp_max       1461 non-null   float64       \n",
      " 3   temp_min       1461 non-null   float64       \n",
      " 4   wind           1461 non-null   float64       \n",
      " 5   weather        1461 non-null   object        \n",
      "dtypes: datetime64[ns](1), float64(4), object(1)\n",
      "memory usage: 68.6+ KB\n"
     ]
    }
   ],
   "source": [
    "df.info()"
   ]
  },
  {
   "cell_type": "code",
   "execution_count": 32,
   "id": "975c3c79-74d0-4668-b407-37fefd17db5e",
   "metadata": {},
   "outputs": [],
   "source": [
    "df = df.set_index('date')"
   ]
  },
  {
   "cell_type": "code",
   "execution_count": 33,
   "id": "21fde265-629d-47c2-8c55-c7e3f2c4811e",
   "metadata": {},
   "outputs": [
    {
     "data": {
      "text/html": [
       "<div>\n",
       "<style scoped>\n",
       "    .dataframe tbody tr th:only-of-type {\n",
       "        vertical-align: middle;\n",
       "    }\n",
       "\n",
       "    .dataframe tbody tr th {\n",
       "        vertical-align: top;\n",
       "    }\n",
       "\n",
       "    .dataframe thead th {\n",
       "        text-align: right;\n",
       "    }\n",
       "</style>\n",
       "<table border=\"1\" class=\"dataframe\">\n",
       "  <thead>\n",
       "    <tr style=\"text-align: right;\">\n",
       "      <th></th>\n",
       "      <th>precipitation</th>\n",
       "      <th>temp_max</th>\n",
       "      <th>temp_min</th>\n",
       "      <th>wind</th>\n",
       "      <th>weather</th>\n",
       "    </tr>\n",
       "    <tr>\n",
       "      <th>date</th>\n",
       "      <th></th>\n",
       "      <th></th>\n",
       "      <th></th>\n",
       "      <th></th>\n",
       "      <th></th>\n",
       "    </tr>\n",
       "  </thead>\n",
       "  <tbody>\n",
       "    <tr>\n",
       "      <th>2012-01-01</th>\n",
       "      <td>0.0</td>\n",
       "      <td>12.8</td>\n",
       "      <td>5.0</td>\n",
       "      <td>4.7</td>\n",
       "      <td>drizzle</td>\n",
       "    </tr>\n",
       "    <tr>\n",
       "      <th>2012-01-02</th>\n",
       "      <td>10.9</td>\n",
       "      <td>10.6</td>\n",
       "      <td>2.8</td>\n",
       "      <td>4.5</td>\n",
       "      <td>rain</td>\n",
       "    </tr>\n",
       "    <tr>\n",
       "      <th>2012-01-03</th>\n",
       "      <td>0.8</td>\n",
       "      <td>11.7</td>\n",
       "      <td>7.2</td>\n",
       "      <td>2.3</td>\n",
       "      <td>rain</td>\n",
       "    </tr>\n",
       "    <tr>\n",
       "      <th>2012-01-04</th>\n",
       "      <td>20.3</td>\n",
       "      <td>12.2</td>\n",
       "      <td>5.6</td>\n",
       "      <td>4.7</td>\n",
       "      <td>rain</td>\n",
       "    </tr>\n",
       "    <tr>\n",
       "      <th>2012-01-05</th>\n",
       "      <td>1.3</td>\n",
       "      <td>8.9</td>\n",
       "      <td>2.8</td>\n",
       "      <td>6.1</td>\n",
       "      <td>rain</td>\n",
       "    </tr>\n",
       "  </tbody>\n",
       "</table>\n",
       "</div>"
      ],
      "text/plain": [
       "            precipitation  temp_max  temp_min  wind  weather\n",
       "date                                                        \n",
       "2012-01-01            0.0      12.8       5.0   4.7  drizzle\n",
       "2012-01-02           10.9      10.6       2.8   4.5     rain\n",
       "2012-01-03            0.8      11.7       7.2   2.3     rain\n",
       "2012-01-04           20.3      12.2       5.6   4.7     rain\n",
       "2012-01-05            1.3       8.9       2.8   6.1     rain"
      ]
     },
     "execution_count": 33,
     "metadata": {},
     "output_type": "execute_result"
    }
   ],
   "source": [
    "df.head()"
   ]
  },
  {
   "cell_type": "markdown",
   "id": "eb8bb0b6-be62-4ce2-b028-8d02ce64b144",
   "metadata": {},
   "source": [
    "### 1."
   ]
  },
  {
   "cell_type": "markdown",
   "id": "0f60dd82-f413-4902-8ecd-a29eb7835ea9",
   "metadata": {},
   "source": [
    "Which year and month combination has the highest amount of precipitation?"
   ]
  },
  {
   "cell_type": "code",
   "execution_count": 34,
   "id": "bcf3b28a-1e19-4c16-a39f-e73e4c3362ee",
   "metadata": {},
   "outputs": [
    {
     "data": {
      "text/html": [
       "<style  type=\"text/css\" >\n",
       "#T_91ad3_row0_col0{\n",
       "            background-color:  blue;\n",
       "        }</style><table id=\"T_91ad3_\" ><thead>    <tr>        <th class=\"blank level0\" ></th>        <th class=\"col_heading level0 col0\" >precipitation</th>    </tr>    <tr>        <th class=\"index_name level0\" >date</th>        <th class=\"blank\" ></th>    </tr></thead><tbody>\n",
       "                <tr>\n",
       "                        <th id=\"T_91ad3_level0_row0\" class=\"row_heading level0 row0\" >2015-12-31 00:00:00</th>\n",
       "                        <td id=\"T_91ad3_row0_col0\" class=\"data row0 col0\" >284.500000</td>\n",
       "            </tr>\n",
       "            <tr>\n",
       "                        <th id=\"T_91ad3_level0_row1\" class=\"row_heading level0 row1\" >2014-03-31 00:00:00</th>\n",
       "                        <td id=\"T_91ad3_row1_col0\" class=\"data row1 col0\" >240.000000</td>\n",
       "            </tr>\n",
       "            <tr>\n",
       "                        <th id=\"T_91ad3_level0_row2\" class=\"row_heading level0 row2\" >2015-11-30 00:00:00</th>\n",
       "                        <td id=\"T_91ad3_row2_col0\" class=\"data row2 col0\" >212.600000</td>\n",
       "            </tr>\n",
       "            <tr>\n",
       "                        <th id=\"T_91ad3_level0_row3\" class=\"row_heading level0 row3\" >2012-11-30 00:00:00</th>\n",
       "                        <td id=\"T_91ad3_row3_col0\" class=\"data row3 col0\" >210.500000</td>\n",
       "            </tr>\n",
       "            <tr>\n",
       "                        <th id=\"T_91ad3_level0_row4\" class=\"row_heading level0 row4\" >2012-03-31 00:00:00</th>\n",
       "                        <td id=\"T_91ad3_row4_col0\" class=\"data row4 col0\" >183.000000</td>\n",
       "            </tr>\n",
       "    </tbody></table>"
      ],
      "text/plain": [
       "<pandas.io.formats.style.Styler at 0x7ff2f760e2e0>"
      ]
     },
     "execution_count": 34,
     "metadata": {},
     "output_type": "execute_result"
    }
   ],
   "source": [
    "df[['precipitation']].resample('M').sum().sort_values(by='precipitation', ascending=False).head().style.highlight_max(color='blue')"
   ]
  },
  {
   "cell_type": "markdown",
   "id": "cfd046aa-ae21-4371-8686-d6ef2d810c56",
   "metadata": {},
   "source": [
    "**December 2015 had the most total precipitation**"
   ]
  },
  {
   "cell_type": "markdown",
   "id": "102ec340-1654-4b0e-a0d6-a119f85ba8d6",
   "metadata": {},
   "source": [
    "### 2."
   ]
  },
  {
   "cell_type": "markdown",
   "id": "57c6994c-22e7-42d2-baff-109d91448c6c",
   "metadata": {},
   "source": [
    "Visualize the amount of monthly precipitation over time."
   ]
  },
  {
   "cell_type": "code",
   "execution_count": 35,
   "id": "e38eacaf-74ee-4a30-a4ba-bba8c5a7a53e",
   "metadata": {},
   "outputs": [
    {
     "data": {
      "image/png": "[encoded data removed]",
      "text/plain": [
       "<Figure size 432x288 with 1 Axes>"
      ]
     },
     "metadata": {
      "needs_background": "light"
     },
     "output_type": "display_data"
    }
   ],
   "source": [
    "df[['precipitation']].resample('M').sum().plot();"
   ]
  },
  {
   "cell_type": "markdown",
   "id": "d98217ea-58ec-4d84-be0b-b775e4855d1b",
   "metadata": {},
   "source": [
    "### 3."
   ]
  },
  {
   "cell_type": "markdown",
   "id": "58ca0d57-4435-436a-a178-a4de19eef882",
   "metadata": {},
   "source": [
    "Visualize the amount of wind over time. Choose a time interval you think is appropriate."
   ]
  },
  {
   "cell_type": "code",
   "execution_count": 36,
   "id": "b442258e-47f1-489b-8121-01c0f37d294c",
   "metadata": {},
   "outputs": [
    {
     "data": {
      "image/png": "[encoded data removed]",
      "text/plain": [
       "<Figure size 432x288 with 1 Axes>"
      ]
     },
     "metadata": {
      "needs_background": "light"
     },
     "output_type": "display_data"
    }
   ],
   "source": [
    "df[['wind']].resample('M').sum().plot();"
   ]
  },
  {
   "cell_type": "markdown",
   "id": "5d502e17-1c59-44b6-8a1e-079503bac27f",
   "metadata": {},
   "source": [
    "### 4."
   ]
  },
  {
   "cell_type": "markdown",
   "id": "b9cce435-8e30-4ce4-80a7-bfd416b1778a",
   "metadata": {},
   "source": [
    "Which year-month combination is the windiest?"
   ]
  },
  {
   "cell_type": "code",
   "execution_count": 37,
   "id": "aa170d74-efb9-456a-a8f9-135279ed2bc9",
   "metadata": {},
   "outputs": [
    {
     "data": {
      "text/html": [
       "<style  type=\"text/css\" >\n",
       "#T_65ab8_row0_col0{\n",
       "            background-color:  blue;\n",
       "        }</style><table id=\"T_65ab8_\" ><thead>    <tr>        <th class=\"blank level0\" ></th>        <th class=\"col_heading level0 col0\" >wind</th>    </tr>    <tr>        <th class=\"index_name level0\" >date</th>        <th class=\"blank\" ></th>    </tr></thead><tbody>\n",
       "                <tr>\n",
       "                        <th id=\"T_65ab8_level0_row0\" class=\"row_heading level0 row0\" >2014-02-28 00:00:00</th>\n",
       "                        <td id=\"T_65ab8_row0_col0\" class=\"data row0 col0\" >4.528571</td>\n",
       "            </tr>\n",
       "            <tr>\n",
       "                        <th id=\"T_65ab8_level0_row1\" class=\"row_heading level0 row1\" >2015-12-31 00:00:00</th>\n",
       "                        <td id=\"T_65ab8_row1_col0\" class=\"data row1 col0\" >4.341935</td>\n",
       "            </tr>\n",
       "            <tr>\n",
       "                        <th id=\"T_65ab8_level0_row2\" class=\"row_heading level0 row2\" >2012-03-31 00:00:00</th>\n",
       "                        <td id=\"T_65ab8_row2_col0\" class=\"data row2 col0\" >4.248387</td>\n",
       "            </tr>\n",
       "            <tr>\n",
       "                        <th id=\"T_65ab8_level0_row3\" class=\"row_heading level0 row3\" >2014-11-30 00:00:00</th>\n",
       "                        <td id=\"T_65ab8_row3_col0\" class=\"data row3 col0\" >3.983333</td>\n",
       "            </tr>\n",
       "            <tr>\n",
       "                        <th id=\"T_65ab8_level0_row4\" class=\"row_heading level0 row4\" >2012-02-29 00:00:00</th>\n",
       "                        <td id=\"T_65ab8_row4_col0\" class=\"data row4 col0\" >3.903448</td>\n",
       "            </tr>\n",
       "    </tbody></table>"
      ],
      "text/plain": [
       "<pandas.io.formats.style.Styler at 0x7ff2f74972b0>"
      ]
     },
     "execution_count": 37,
     "metadata": {},
     "output_type": "execute_result"
    }
   ],
   "source": [
    "df[['wind']].resample('M').mean().sort_values(by='wind', ascending=False).head().style.highlight_max(color='blue')"
   ]
  },
  {
   "cell_type": "markdown",
   "id": "9e818e78-c905-463b-a017-4ce70797d3f2",
   "metadata": {},
   "source": [
    "***February 2014 has the highest average wind speed***"
   ]
  },
  {
   "cell_type": "markdown",
   "id": "70888dfb-c76a-44e4-9cc6-73750126fda5",
   "metadata": {},
   "source": [
    "### 5."
   ]
  },
  {
   "cell_type": "markdown",
   "id": "2a260077-767c-48df-8946-d9607b964628",
   "metadata": {},
   "source": [
    "What's the sunniest year? (Hint: which year has the highest number of days where weather == sun?)"
   ]
  },
  {
   "cell_type": "code",
   "execution_count": 38,
   "id": "f82311fd-0abb-4315-9bb7-303654fdb3ce",
   "metadata": {},
   "outputs": [
    {
     "data": {
      "text/html": [
       "<div>\n",
       "<style scoped>\n",
       "    .dataframe tbody tr th:only-of-type {\n",
       "        vertical-align: middle;\n",
       "    }\n",
       "\n",
       "    .dataframe tbody tr th {\n",
       "        vertical-align: top;\n",
       "    }\n",
       "\n",
       "    .dataframe thead th {\n",
       "        text-align: right;\n",
       "    }\n",
       "</style>\n",
       "<table border=\"1\" class=\"dataframe\">\n",
       "  <thead>\n",
       "    <tr style=\"text-align: right;\">\n",
       "      <th></th>\n",
       "      <th>precipitation</th>\n",
       "      <th>temp_max</th>\n",
       "      <th>temp_min</th>\n",
       "      <th>wind</th>\n",
       "      <th>weather</th>\n",
       "      <th>year</th>\n",
       "    </tr>\n",
       "    <tr>\n",
       "      <th>date</th>\n",
       "      <th></th>\n",
       "      <th></th>\n",
       "      <th></th>\n",
       "      <th></th>\n",
       "      <th></th>\n",
       "      <th></th>\n",
       "    </tr>\n",
       "  </thead>\n",
       "  <tbody>\n",
       "    <tr>\n",
       "      <th>2012-01-01</th>\n",
       "      <td>0.0</td>\n",
       "      <td>12.8</td>\n",
       "      <td>5.0</td>\n",
       "      <td>4.7</td>\n",
       "      <td>drizzle</td>\n",
       "      <td>2012</td>\n",
       "    </tr>\n",
       "    <tr>\n",
       "      <th>2012-01-02</th>\n",
       "      <td>10.9</td>\n",
       "      <td>10.6</td>\n",
       "      <td>2.8</td>\n",
       "      <td>4.5</td>\n",
       "      <td>rain</td>\n",
       "      <td>2012</td>\n",
       "    </tr>\n",
       "    <tr>\n",
       "      <th>2012-01-03</th>\n",
       "      <td>0.8</td>\n",
       "      <td>11.7</td>\n",
       "      <td>7.2</td>\n",
       "      <td>2.3</td>\n",
       "      <td>rain</td>\n",
       "      <td>2012</td>\n",
       "    </tr>\n",
       "    <tr>\n",
       "      <th>2012-01-04</th>\n",
       "      <td>20.3</td>\n",
       "      <td>12.2</td>\n",
       "      <td>5.6</td>\n",
       "      <td>4.7</td>\n",
       "      <td>rain</td>\n",
       "      <td>2012</td>\n",
       "    </tr>\n",
       "    <tr>\n",
       "      <th>2012-01-05</th>\n",
       "      <td>1.3</td>\n",
       "      <td>8.9</td>\n",
       "      <td>2.8</td>\n",
       "      <td>6.1</td>\n",
       "      <td>rain</td>\n",
       "      <td>2012</td>\n",
       "    </tr>\n",
       "  </tbody>\n",
       "</table>\n",
       "</div>"
      ],
      "text/plain": [
       "            precipitation  temp_max  temp_min  wind  weather  year\n",
       "date                                                              \n",
       "2012-01-01            0.0      12.8       5.0   4.7  drizzle  2012\n",
       "2012-01-02           10.9      10.6       2.8   4.5     rain  2012\n",
       "2012-01-03            0.8      11.7       7.2   2.3     rain  2012\n",
       "2012-01-04           20.3      12.2       5.6   4.7     rain  2012\n",
       "2012-01-05            1.3       8.9       2.8   6.1     rain  2012"
      ]
     },
     "execution_count": 38,
     "metadata": {},
     "output_type": "execute_result"
    }
   ],
   "source": [
    "df['year'] = df.index.year\n",
    "df.head()"
   ]
  },
  {
   "cell_type": "code",
   "execution_count": 39,
   "id": "4e534493-d138-4ba3-a3ff-37d1d1050de3",
   "metadata": {},
   "outputs": [],
   "source": [
    "sunny = df[['weather', 'year']]"
   ]
  },
  {
   "cell_type": "code",
   "execution_count": 40,
   "id": "0c71d2c1-9242-4a54-bc0f-c9ca1c344ed7",
   "metadata": {},
   "outputs": [
    {
     "data": {
      "text/plain": [
       "weather  year\n",
       "sun      2014    211\n",
       "         2013    205\n",
       "         2015    180\n",
       "         2012    118\n",
       "dtype: int64"
      ]
     },
     "execution_count": 40,
     "metadata": {},
     "output_type": "execute_result"
    }
   ],
   "source": [
    "sunny[sunny.weather == 'sun'].value_counts()"
   ]
  },
  {
   "cell_type": "markdown",
   "id": "aba0f4f1-efbf-4506-b50a-05cad96b037d",
   "metadata": {},
   "source": [
    "***2014 has the most sunny days***"
   ]
  },
  {
   "cell_type": "code",
   "execution_count": 41,
   "id": "bc7de8a1-9eed-4e16-8dae-661e97baba7b",
   "metadata": {},
   "outputs": [
    {
     "data": {
      "text/html": [
       "<style  type=\"text/css\" >\n",
       "#T_1f004_row0_col0,#T_1f004_row0_col2,#T_1f004_row0_col3,#T_1f004_row2_col4,#T_1f004_row3_col1{\n",
       "            background-color:  red;\n",
       "        }</style><table id=\"T_1f004_\" ><thead>    <tr>        <th class=\"index_name level0\" >weather</th>        <th class=\"col_heading level0 col0\" >drizzle</th>        <th class=\"col_heading level0 col1\" >fog</th>        <th class=\"col_heading level0 col2\" >rain</th>        <th class=\"col_heading level0 col3\" >snow</th>        <th class=\"col_heading level0 col4\" >sun</th>    </tr>    <tr>        <th class=\"index_name level0\" >year</th>        <th class=\"blank\" ></th>        <th class=\"blank\" ></th>        <th class=\"blank\" ></th>        <th class=\"blank\" ></th>        <th class=\"blank\" ></th>    </tr></thead><tbody>\n",
       "                <tr>\n",
       "                        <th id=\"T_1f004_level0_row0\" class=\"row_heading level0 row0\" >2012</th>\n",
       "                        <td id=\"T_1f004_row0_col0\" class=\"data row0 col0\" >31</td>\n",
       "                        <td id=\"T_1f004_row0_col1\" class=\"data row0 col1\" >5</td>\n",
       "                        <td id=\"T_1f004_row0_col2\" class=\"data row0 col2\" >191</td>\n",
       "                        <td id=\"T_1f004_row0_col3\" class=\"data row0 col3\" >21</td>\n",
       "                        <td id=\"T_1f004_row0_col4\" class=\"data row0 col4\" >118</td>\n",
       "            </tr>\n",
       "            <tr>\n",
       "                        <th id=\"T_1f004_level0_row1\" class=\"row_heading level0 row1\" >2013</th>\n",
       "                        <td id=\"T_1f004_row1_col0\" class=\"data row1 col0\" >16</td>\n",
       "                        <td id=\"T_1f004_row1_col1\" class=\"data row1 col1\" >82</td>\n",
       "                        <td id=\"T_1f004_row1_col2\" class=\"data row1 col2\" >60</td>\n",
       "                        <td id=\"T_1f004_row1_col3\" class=\"data row1 col3\" >2</td>\n",
       "                        <td id=\"T_1f004_row1_col4\" class=\"data row1 col4\" >205</td>\n",
       "            </tr>\n",
       "            <tr>\n",
       "                        <th id=\"T_1f004_level0_row2\" class=\"row_heading level0 row2\" >2014</th>\n",
       "                        <td id=\"T_1f004_row2_col0\" class=\"data row2 col0\" >0</td>\n",
       "                        <td id=\"T_1f004_row2_col1\" class=\"data row2 col1\" >151</td>\n",
       "                        <td id=\"T_1f004_row2_col2\" class=\"data row2 col2\" >3</td>\n",
       "                        <td id=\"T_1f004_row2_col3\" class=\"data row2 col3\" >0</td>\n",
       "                        <td id=\"T_1f004_row2_col4\" class=\"data row2 col4\" >211</td>\n",
       "            </tr>\n",
       "            <tr>\n",
       "                        <th id=\"T_1f004_level0_row3\" class=\"row_heading level0 row3\" >2015</th>\n",
       "                        <td id=\"T_1f004_row3_col0\" class=\"data row3 col0\" >7</td>\n",
       "                        <td id=\"T_1f004_row3_col1\" class=\"data row3 col1\" >173</td>\n",
       "                        <td id=\"T_1f004_row3_col2\" class=\"data row3 col2\" >5</td>\n",
       "                        <td id=\"T_1f004_row3_col3\" class=\"data row3 col3\" >0</td>\n",
       "                        <td id=\"T_1f004_row3_col4\" class=\"data row3 col4\" >180</td>\n",
       "            </tr>\n",
       "    </tbody></table>"
      ],
      "text/plain": [
       "<pandas.io.formats.style.Styler at 0x7ff2f7f32220>"
      ]
     },
     "execution_count": 41,
     "metadata": {},
     "output_type": "execute_result"
    }
   ],
   "source": [
    "pd.crosstab(df.year, df.weather).style.highlight_max(color='red')"
   ]
  },
  {
   "cell_type": "markdown",
   "id": "cbb299ff-bd2d-4f44-8ec6-a433dc5402ba",
   "metadata": {},
   "source": [
    "### 6."
   ]
  },
  {
   "cell_type": "markdown",
   "id": "b654149d-1ecd-48c1-bd72-5caecd9fcd8f",
   "metadata": {},
   "source": [
    "In which month does it rain the most?"
   ]
  },
  {
   "cell_type": "code",
   "execution_count": 42,
   "id": "73939b86-1559-44b9-9558-6a7e4ed91bfb",
   "metadata": {},
   "outputs": [
    {
     "data": {
      "text/html": [
       "<div>\n",
       "<style scoped>\n",
       "    .dataframe tbody tr th:only-of-type {\n",
       "        vertical-align: middle;\n",
       "    }\n",
       "\n",
       "    .dataframe tbody tr th {\n",
       "        vertical-align: top;\n",
       "    }\n",
       "\n",
       "    .dataframe thead th {\n",
       "        text-align: right;\n",
       "    }\n",
       "</style>\n",
       "<table border=\"1\" class=\"dataframe\">\n",
       "  <thead>\n",
       "    <tr style=\"text-align: right;\">\n",
       "      <th></th>\n",
       "      <th>precipitation</th>\n",
       "      <th>temp_max</th>\n",
       "      <th>temp_min</th>\n",
       "      <th>wind</th>\n",
       "      <th>weather</th>\n",
       "      <th>year</th>\n",
       "      <th>month</th>\n",
       "    </tr>\n",
       "    <tr>\n",
       "      <th>date</th>\n",
       "      <th></th>\n",
       "      <th></th>\n",
       "      <th></th>\n",
       "      <th></th>\n",
       "      <th></th>\n",
       "      <th></th>\n",
       "      <th></th>\n",
       "    </tr>\n",
       "  </thead>\n",
       "  <tbody>\n",
       "    <tr>\n",
       "      <th>2012-01-01</th>\n",
       "      <td>0.0</td>\n",
       "      <td>12.8</td>\n",
       "      <td>5.0</td>\n",
       "      <td>4.7</td>\n",
       "      <td>drizzle</td>\n",
       "      <td>2012</td>\n",
       "      <td>1</td>\n",
       "    </tr>\n",
       "    <tr>\n",
       "      <th>2012-01-02</th>\n",
       "      <td>10.9</td>\n",
       "      <td>10.6</td>\n",
       "      <td>2.8</td>\n",
       "      <td>4.5</td>\n",
       "      <td>rain</td>\n",
       "      <td>2012</td>\n",
       "      <td>1</td>\n",
       "    </tr>\n",
       "    <tr>\n",
       "      <th>2012-01-03</th>\n",
       "      <td>0.8</td>\n",
       "      <td>11.7</td>\n",
       "      <td>7.2</td>\n",
       "      <td>2.3</td>\n",
       "      <td>rain</td>\n",
       "      <td>2012</td>\n",
       "      <td>1</td>\n",
       "    </tr>\n",
       "    <tr>\n",
       "      <th>2012-01-04</th>\n",
       "      <td>20.3</td>\n",
       "      <td>12.2</td>\n",
       "      <td>5.6</td>\n",
       "      <td>4.7</td>\n",
       "      <td>rain</td>\n",
       "      <td>2012</td>\n",
       "      <td>1</td>\n",
       "    </tr>\n",
       "    <tr>\n",
       "      <th>2012-01-05</th>\n",
       "      <td>1.3</td>\n",
       "      <td>8.9</td>\n",
       "      <td>2.8</td>\n",
       "      <td>6.1</td>\n",
       "      <td>rain</td>\n",
       "      <td>2012</td>\n",
       "      <td>1</td>\n",
       "    </tr>\n",
       "  </tbody>\n",
       "</table>\n",
       "</div>"
      ],
      "text/plain": [
       "            precipitation  temp_max  temp_min  wind  weather  year  month\n",
       "date                                                                     \n",
       "2012-01-01            0.0      12.8       5.0   4.7  drizzle  2012      1\n",
       "2012-01-02           10.9      10.6       2.8   4.5     rain  2012      1\n",
       "2012-01-03            0.8      11.7       7.2   2.3     rain  2012      1\n",
       "2012-01-04           20.3      12.2       5.6   4.7     rain  2012      1\n",
       "2012-01-05            1.3       8.9       2.8   6.1     rain  2012      1"
      ]
     },
     "execution_count": 42,
     "metadata": {},
     "output_type": "execute_result"
    }
   ],
   "source": [
    "df['month'] = df.index.month\n",
    "df.head()"
   ]
  },
  {
   "cell_type": "code",
   "execution_count": 44,
   "id": "fa8dd526-4ee8-46ef-8990-c0f69b946e13",
   "metadata": {},
   "outputs": [
    {
     "data": {
      "text/html": [
       "<style  type=\"text/css\" >\n",
       "#T_7f70f_row0_col0,#T_7f70f_row0_col3,#T_7f70f_row1_col2,#T_7f70f_row7_col4,#T_7f70f_row9_col1{\n",
       "            background-color:  red;\n",
       "        }</style><table id=\"T_7f70f_\" ><thead>    <tr>        <th class=\"index_name level0\" >weather</th>        <th class=\"col_heading level0 col0\" >drizzle</th>        <th class=\"col_heading level0 col1\" >fog</th>        <th class=\"col_heading level0 col2\" >rain</th>        <th class=\"col_heading level0 col3\" >snow</th>        <th class=\"col_heading level0 col4\" >sun</th>    </tr>    <tr>        <th class=\"index_name level0\" >month</th>        <th class=\"blank\" ></th>        <th class=\"blank\" ></th>        <th class=\"blank\" ></th>        <th class=\"blank\" ></th>        <th class=\"blank\" ></th>    </tr></thead><tbody>\n",
       "                <tr>\n",
       "                        <th id=\"T_7f70f_level0_row0\" class=\"row_heading level0 row0\" >1</th>\n",
       "                        <td id=\"T_7f70f_row0_col0\" class=\"data row0 col0\" >10</td>\n",
       "                        <td id=\"T_7f70f_row0_col1\" class=\"data row0 col1\" >38</td>\n",
       "                        <td id=\"T_7f70f_row0_col2\" class=\"data row0 col2\" >35</td>\n",
       "                        <td id=\"T_7f70f_row0_col3\" class=\"data row0 col3\" >8</td>\n",
       "                        <td id=\"T_7f70f_row0_col4\" class=\"data row0 col4\" >33</td>\n",
       "            </tr>\n",
       "            <tr>\n",
       "                        <th id=\"T_7f70f_level0_row1\" class=\"row_heading level0 row1\" >2</th>\n",
       "                        <td id=\"T_7f70f_row1_col0\" class=\"data row1 col0\" >4</td>\n",
       "                        <td id=\"T_7f70f_row1_col1\" class=\"data row1 col1\" >36</td>\n",
       "                        <td id=\"T_7f70f_row1_col2\" class=\"data row1 col2\" >40</td>\n",
       "                        <td id=\"T_7f70f_row1_col3\" class=\"data row1 col3\" >3</td>\n",
       "                        <td id=\"T_7f70f_row1_col4\" class=\"data row1 col4\" >30</td>\n",
       "            </tr>\n",
       "            <tr>\n",
       "                        <th id=\"T_7f70f_level0_row2\" class=\"row_heading level0 row2\" >3</th>\n",
       "                        <td id=\"T_7f70f_row2_col0\" class=\"data row2 col0\" >3</td>\n",
       "                        <td id=\"T_7f70f_row2_col1\" class=\"data row2 col1\" >36</td>\n",
       "                        <td id=\"T_7f70f_row2_col2\" class=\"data row2 col2\" >37</td>\n",
       "                        <td id=\"T_7f70f_row2_col3\" class=\"data row2 col3\" >6</td>\n",
       "                        <td id=\"T_7f70f_row2_col4\" class=\"data row2 col4\" >42</td>\n",
       "            </tr>\n",
       "            <tr>\n",
       "                        <th id=\"T_7f70f_level0_row3\" class=\"row_heading level0 row3\" >4</th>\n",
       "                        <td id=\"T_7f70f_row3_col0\" class=\"data row3 col0\" >4</td>\n",
       "                        <td id=\"T_7f70f_row3_col1\" class=\"data row3 col1\" >34</td>\n",
       "                        <td id=\"T_7f70f_row3_col2\" class=\"data row3 col2\" >20</td>\n",
       "                        <td id=\"T_7f70f_row3_col3\" class=\"data row3 col3\" >1</td>\n",
       "                        <td id=\"T_7f70f_row3_col4\" class=\"data row3 col4\" >61</td>\n",
       "            </tr>\n",
       "            <tr>\n",
       "                        <th id=\"T_7f70f_level0_row4\" class=\"row_heading level0 row4\" >5</th>\n",
       "                        <td id=\"T_7f70f_row4_col0\" class=\"data row4 col0\" >1</td>\n",
       "                        <td id=\"T_7f70f_row4_col1\" class=\"data row4 col1\" >25</td>\n",
       "                        <td id=\"T_7f70f_row4_col2\" class=\"data row4 col2\" >16</td>\n",
       "                        <td id=\"T_7f70f_row4_col3\" class=\"data row4 col3\" >0</td>\n",
       "                        <td id=\"T_7f70f_row4_col4\" class=\"data row4 col4\" >82</td>\n",
       "            </tr>\n",
       "            <tr>\n",
       "                        <th id=\"T_7f70f_level0_row5\" class=\"row_heading level0 row5\" >6</th>\n",
       "                        <td id=\"T_7f70f_row5_col0\" class=\"data row5 col0\" >2</td>\n",
       "                        <td id=\"T_7f70f_row5_col1\" class=\"data row5 col1\" >14</td>\n",
       "                        <td id=\"T_7f70f_row5_col2\" class=\"data row5 col2\" >19</td>\n",
       "                        <td id=\"T_7f70f_row5_col3\" class=\"data row5 col3\" >0</td>\n",
       "                        <td id=\"T_7f70f_row5_col4\" class=\"data row5 col4\" >85</td>\n",
       "            </tr>\n",
       "            <tr>\n",
       "                        <th id=\"T_7f70f_level0_row6\" class=\"row_heading level0 row6\" >7</th>\n",
       "                        <td id=\"T_7f70f_row6_col0\" class=\"data row6 col0\" >8</td>\n",
       "                        <td id=\"T_7f70f_row6_col1\" class=\"data row6 col1\" >13</td>\n",
       "                        <td id=\"T_7f70f_row6_col2\" class=\"data row6 col2\" >14</td>\n",
       "                        <td id=\"T_7f70f_row6_col3\" class=\"data row6 col3\" >0</td>\n",
       "                        <td id=\"T_7f70f_row6_col4\" class=\"data row6 col4\" >89</td>\n",
       "            </tr>\n",
       "            <tr>\n",
       "                        <th id=\"T_7f70f_level0_row7\" class=\"row_heading level0 row7\" >8</th>\n",
       "                        <td id=\"T_7f70f_row7_col0\" class=\"data row7 col0\" >8</td>\n",
       "                        <td id=\"T_7f70f_row7_col1\" class=\"data row7 col1\" >16</td>\n",
       "                        <td id=\"T_7f70f_row7_col2\" class=\"data row7 col2\" >6</td>\n",
       "                        <td id=\"T_7f70f_row7_col3\" class=\"data row7 col3\" >0</td>\n",
       "                        <td id=\"T_7f70f_row7_col4\" class=\"data row7 col4\" >94</td>\n",
       "            </tr>\n",
       "            <tr>\n",
       "                        <th id=\"T_7f70f_level0_row8\" class=\"row_heading level0 row8\" >9</th>\n",
       "                        <td id=\"T_7f70f_row8_col0\" class=\"data row8 col0\" >5</td>\n",
       "                        <td id=\"T_7f70f_row8_col1\" class=\"data row8 col1\" >40</td>\n",
       "                        <td id=\"T_7f70f_row8_col2\" class=\"data row8 col2\" >4</td>\n",
       "                        <td id=\"T_7f70f_row8_col3\" class=\"data row8 col3\" >0</td>\n",
       "                        <td id=\"T_7f70f_row8_col4\" class=\"data row8 col4\" >71</td>\n",
       "            </tr>\n",
       "            <tr>\n",
       "                        <th id=\"T_7f70f_level0_row9\" class=\"row_heading level0 row9\" >10</th>\n",
       "                        <td id=\"T_7f70f_row9_col0\" class=\"data row9 col0\" >4</td>\n",
       "                        <td id=\"T_7f70f_row9_col1\" class=\"data row9 col1\" >55</td>\n",
       "                        <td id=\"T_7f70f_row9_col2\" class=\"data row9 col2\" >20</td>\n",
       "                        <td id=\"T_7f70f_row9_col3\" class=\"data row9 col3\" >0</td>\n",
       "                        <td id=\"T_7f70f_row9_col4\" class=\"data row9 col4\" >45</td>\n",
       "            </tr>\n",
       "            <tr>\n",
       "                        <th id=\"T_7f70f_level0_row10\" class=\"row_heading level0 row10\" >11</th>\n",
       "                        <td id=\"T_7f70f_row10_col0\" class=\"data row10 col0\" >3</td>\n",
       "                        <td id=\"T_7f70f_row10_col1\" class=\"data row10 col1\" >50</td>\n",
       "                        <td id=\"T_7f70f_row10_col2\" class=\"data row10 col2\" >25</td>\n",
       "                        <td id=\"T_7f70f_row10_col3\" class=\"data row10 col3\" >0</td>\n",
       "                        <td id=\"T_7f70f_row10_col4\" class=\"data row10 col4\" >42</td>\n",
       "            </tr>\n",
       "            <tr>\n",
       "                        <th id=\"T_7f70f_level0_row11\" class=\"row_heading level0 row11\" >12</th>\n",
       "                        <td id=\"T_7f70f_row11_col0\" class=\"data row11 col0\" >2</td>\n",
       "                        <td id=\"T_7f70f_row11_col1\" class=\"data row11 col1\" >54</td>\n",
       "                        <td id=\"T_7f70f_row11_col2\" class=\"data row11 col2\" >23</td>\n",
       "                        <td id=\"T_7f70f_row11_col3\" class=\"data row11 col3\" >5</td>\n",
       "                        <td id=\"T_7f70f_row11_col4\" class=\"data row11 col4\" >40</td>\n",
       "            </tr>\n",
       "    </tbody></table>"
      ],
      "text/plain": [
       "<pandas.io.formats.style.Styler at 0x7ff2f7282a90>"
      ]
     },
     "execution_count": 44,
     "metadata": {},
     "output_type": "execute_result"
    }
   ],
   "source": [
    "pd.crosstab(df.month, df.weather).style.highlight_max(color='red')"
   ]
  },
  {
   "cell_type": "markdown",
   "id": "a836596f-3ac1-4141-bf58-f24c66821566",
   "metadata": {},
   "source": [
    "### 7."
   ]
  },
  {
   "cell_type": "markdown",
   "id": "8d8a1273-0b1d-4abf-add8-00de9663b00b",
   "metadata": {},
   "source": [
    "Which month has the most number of days with a non-zero amount of precipitation?"
   ]
  },
  {
   "cell_type": "code",
   "execution_count": 47,
   "id": "0f0938de-47c0-420d-8c60-79b9d651071b",
   "metadata": {},
   "outputs": [
    {
     "data": {
      "text/plain": [
       "date\n",
       "2012-01-01    False\n",
       "2012-01-02     True\n",
       "2012-01-03     True\n",
       "2012-01-04     True\n",
       "2012-01-05     True\n",
       "              ...  \n",
       "2015-12-27     True\n",
       "2015-12-28     True\n",
       "2015-12-29    False\n",
       "2015-12-30    False\n",
       "2015-12-31    False\n",
       "Name: precipitation, Length: 1461, dtype: bool"
      ]
     },
     "execution_count": 47,
     "metadata": {},
     "output_type": "execute_result"
    }
   ],
   "source": [
    "df.precipitation != 0"
   ]
  },
  {
   "cell_type": "code",
   "execution_count": 48,
   "id": "b3d40f5b-c426-4c19-8ca8-595c311745ce",
   "metadata": {},
   "outputs": [],
   "source": [
    "df['had_precip'] = np.where(df.precipitation != 0, 'Yes', 'No')"
   ]
  },
  {
   "cell_type": "code",
   "execution_count": 51,
   "id": "9b351515-0938-47cd-a14d-cfcc3c63f477",
   "metadata": {},
   "outputs": [
    {
     "data": {
      "text/html": [
       "<style  type=\"text/css\" >\n",
       "#T_6cb39_row6_col0,#T_6cb39_row11_col1{\n",
       "            background-color:  red;\n",
       "        }</style><table id=\"T_6cb39_\" ><thead>    <tr>        <th class=\"index_name level0\" >had_precip</th>        <th class=\"col_heading level0 col0\" >No</th>        <th class=\"col_heading level0 col1\" >Yes</th>    </tr>    <tr>        <th class=\"index_name level0\" >month</th>        <th class=\"blank\" ></th>        <th class=\"blank\" ></th>    </tr></thead><tbody>\n",
       "                <tr>\n",
       "                        <th id=\"T_6cb39_level0_row0\" class=\"row_heading level0 row0\" >1</th>\n",
       "                        <td id=\"T_6cb39_row0_col0\" class=\"data row0 col0\" >58</td>\n",
       "                        <td id=\"T_6cb39_row0_col1\" class=\"data row0 col1\" >66</td>\n",
       "            </tr>\n",
       "            <tr>\n",
       "                        <th id=\"T_6cb39_level0_row1\" class=\"row_heading level0 row1\" >2</th>\n",
       "                        <td id=\"T_6cb39_row1_col0\" class=\"data row1 col0\" >40</td>\n",
       "                        <td id=\"T_6cb39_row1_col1\" class=\"data row1 col1\" >73</td>\n",
       "            </tr>\n",
       "            <tr>\n",
       "                        <th id=\"T_6cb39_level0_row2\" class=\"row_heading level0 row2\" >3</th>\n",
       "                        <td id=\"T_6cb39_row2_col0\" class=\"data row2 col0\" >51</td>\n",
       "                        <td id=\"T_6cb39_row2_col1\" class=\"data row2 col1\" >73</td>\n",
       "            </tr>\n",
       "            <tr>\n",
       "                        <th id=\"T_6cb39_level0_row3\" class=\"row_heading level0 row3\" >4</th>\n",
       "                        <td id=\"T_6cb39_row3_col0\" class=\"data row3 col0\" >61</td>\n",
       "                        <td id=\"T_6cb39_row3_col1\" class=\"data row3 col1\" >59</td>\n",
       "            </tr>\n",
       "            <tr>\n",
       "                        <th id=\"T_6cb39_level0_row4\" class=\"row_heading level0 row4\" >5</th>\n",
       "                        <td id=\"T_6cb39_row4_col0\" class=\"data row4 col0\" >90</td>\n",
       "                        <td id=\"T_6cb39_row4_col1\" class=\"data row4 col1\" >34</td>\n",
       "            </tr>\n",
       "            <tr>\n",
       "                        <th id=\"T_6cb39_level0_row5\" class=\"row_heading level0 row5\" >6</th>\n",
       "                        <td id=\"T_6cb39_row5_col0\" class=\"data row5 col0\" >83</td>\n",
       "                        <td id=\"T_6cb39_row5_col1\" class=\"data row5 col1\" >37</td>\n",
       "            </tr>\n",
       "            <tr>\n",
       "                        <th id=\"T_6cb39_level0_row6\" class=\"row_heading level0 row6\" >7</th>\n",
       "                        <td id=\"T_6cb39_row6_col0\" class=\"data row6 col0\" >113</td>\n",
       "                        <td id=\"T_6cb39_row6_col1\" class=\"data row6 col1\" >11</td>\n",
       "            </tr>\n",
       "            <tr>\n",
       "                        <th id=\"T_6cb39_level0_row7\" class=\"row_heading level0 row7\" >8</th>\n",
       "                        <td id=\"T_6cb39_row7_col0\" class=\"data row7 col0\" >102</td>\n",
       "                        <td id=\"T_6cb39_row7_col1\" class=\"data row7 col1\" >22</td>\n",
       "            </tr>\n",
       "            <tr>\n",
       "                        <th id=\"T_6cb39_level0_row8\" class=\"row_heading level0 row8\" >9</th>\n",
       "                        <td id=\"T_6cb39_row8_col0\" class=\"data row8 col0\" >85</td>\n",
       "                        <td id=\"T_6cb39_row8_col1\" class=\"data row8 col1\" >35</td>\n",
       "            </tr>\n",
       "            <tr>\n",
       "                        <th id=\"T_6cb39_level0_row9\" class=\"row_heading level0 row9\" >10</th>\n",
       "                        <td id=\"T_6cb39_row9_col0\" class=\"data row9 col0\" >63</td>\n",
       "                        <td id=\"T_6cb39_row9_col1\" class=\"data row9 col1\" >61</td>\n",
       "            </tr>\n",
       "            <tr>\n",
       "                        <th id=\"T_6cb39_level0_row10\" class=\"row_heading level0 row10\" >11</th>\n",
       "                        <td id=\"T_6cb39_row10_col0\" class=\"data row10 col0\" >49</td>\n",
       "                        <td id=\"T_6cb39_row10_col1\" class=\"data row10 col1\" >71</td>\n",
       "            </tr>\n",
       "            <tr>\n",
       "                        <th id=\"T_6cb39_level0_row11\" class=\"row_heading level0 row11\" >12</th>\n",
       "                        <td id=\"T_6cb39_row11_col0\" class=\"data row11 col0\" >43</td>\n",
       "                        <td id=\"T_6cb39_row11_col1\" class=\"data row11 col1\" >81</td>\n",
       "            </tr>\n",
       "    </tbody></table>"
      ],
      "text/plain": [
       "<pandas.io.formats.style.Styler at 0x7ff2f9006ac0>"
      ]
     },
     "execution_count": 51,
     "metadata": {},
     "output_type": "execute_result"
    }
   ],
   "source": [
    "pd.crosstab(df.month, df.had_precip).style.highlight_max(color='red')"
   ]
  },
  {
   "cell_type": "markdown",
   "id": "56719bf2-d8db-42d7-9443-1c3050968426",
   "metadata": {},
   "source": [
    "## `flights_20k()`"
   ]
  },
  {
   "cell_type": "code",
   "execution_count": 64,
   "id": "1c56489b-0522-401e-8a85-6b9e1d6e963f",
   "metadata": {},
   "outputs": [],
   "source": [
    "df = data.flights_20k()"
   ]
  },
  {
   "cell_type": "code",
   "execution_count": 65,
   "id": "e4723679-06c2-443b-96d2-0e3d8d29866c",
   "metadata": {},
   "outputs": [
    {
     "data": {
      "text/html": [
       "<div>\n",
       "<style scoped>\n",
       "    .dataframe tbody tr th:only-of-type {\n",
       "        vertical-align: middle;\n",
       "    }\n",
       "\n",
       "    .dataframe tbody tr th {\n",
       "        vertical-align: top;\n",
       "    }\n",
       "\n",
       "    .dataframe thead th {\n",
       "        text-align: right;\n",
       "    }\n",
       "</style>\n",
       "<table border=\"1\" class=\"dataframe\">\n",
       "  <thead>\n",
       "    <tr style=\"text-align: right;\">\n",
       "      <th></th>\n",
       "      <th>date</th>\n",
       "      <th>delay</th>\n",
       "      <th>distance</th>\n",
       "      <th>origin</th>\n",
       "      <th>destination</th>\n",
       "    </tr>\n",
       "  </thead>\n",
       "  <tbody>\n",
       "    <tr>\n",
       "      <th>0</th>\n",
       "      <td>2001-01-13 14:56:00</td>\n",
       "      <td>32</td>\n",
       "      <td>417</td>\n",
       "      <td>SAN</td>\n",
       "      <td>SJC</td>\n",
       "    </tr>\n",
       "    <tr>\n",
       "      <th>1</th>\n",
       "      <td>2001-01-31 16:40:00</td>\n",
       "      <td>-5</td>\n",
       "      <td>1093</td>\n",
       "      <td>FLL</td>\n",
       "      <td>ISP</td>\n",
       "    </tr>\n",
       "    <tr>\n",
       "      <th>2</th>\n",
       "      <td>2001-02-11 18:39:00</td>\n",
       "      <td>3</td>\n",
       "      <td>293</td>\n",
       "      <td>LBB</td>\n",
       "      <td>DAL</td>\n",
       "    </tr>\n",
       "    <tr>\n",
       "      <th>3</th>\n",
       "      <td>2001-01-10 21:00:00</td>\n",
       "      <td>-15</td>\n",
       "      <td>550</td>\n",
       "      <td>MSY</td>\n",
       "      <td>MCO</td>\n",
       "    </tr>\n",
       "    <tr>\n",
       "      <th>4</th>\n",
       "      <td>2001-03-30 21:45:00</td>\n",
       "      <td>-2</td>\n",
       "      <td>229</td>\n",
       "      <td>STL</td>\n",
       "      <td>IND</td>\n",
       "    </tr>\n",
       "  </tbody>\n",
       "</table>\n",
       "</div>"
      ],
      "text/plain": [
       "                 date  delay  distance origin destination\n",
       "0 2001-01-13 14:56:00     32       417    SAN         SJC\n",
       "1 2001-01-31 16:40:00     -5      1093    FLL         ISP\n",
       "2 2001-02-11 18:39:00      3       293    LBB         DAL\n",
       "3 2001-01-10 21:00:00    -15       550    MSY         MCO\n",
       "4 2001-03-30 21:45:00     -2       229    STL         IND"
      ]
     },
     "execution_count": 65,
     "metadata": {},
     "output_type": "execute_result"
    }
   ],
   "source": [
    "df.head()"
   ]
  },
  {
   "cell_type": "code",
   "execution_count": 66,
   "id": "6757d716-f7d2-4e5a-bfa9-40acec7c5c0d",
   "metadata": {},
   "outputs": [
    {
     "data": {
      "text/plain": [
       "(20000, 5)"
      ]
     },
     "execution_count": 66,
     "metadata": {},
     "output_type": "execute_result"
    }
   ],
   "source": [
    "df.shape"
   ]
  },
  {
   "cell_type": "code",
   "execution_count": 67,
   "id": "dc6934e8-7808-443d-9d3b-0a0dfe90b3a5",
   "metadata": {},
   "outputs": [
    {
     "name": "stdout",
     "output_type": "stream",
     "text": [
      "<class 'pandas.core.frame.DataFrame'>\n",
      "RangeIndex: 20000 entries, 0 to 19999\n",
      "Data columns (total 5 columns):\n",
      " #   Column       Non-Null Count  Dtype         \n",
      "---  ------       --------------  -----         \n",
      " 0   date         20000 non-null  datetime64[ns]\n",
      " 1   delay        20000 non-null  int64         \n",
      " 2   distance     20000 non-null  int64         \n",
      " 3   origin       20000 non-null  object        \n",
      " 4   destination  20000 non-null  object        \n",
      "dtypes: datetime64[ns](1), int64(2), object(2)\n",
      "memory usage: 781.4+ KB\n"
     ]
    }
   ],
   "source": [
    "df.info()"
   ]
  },
  {
   "cell_type": "code",
   "execution_count": 68,
   "id": "290a126e-9e0f-4531-9d42-bb5aba450f75",
   "metadata": {},
   "outputs": [],
   "source": [
    "df = df.set_index('date')"
   ]
  },
  {
   "cell_type": "code",
   "execution_count": 69,
   "id": "cad368da-ea8b-42db-bda2-a1a9fcebc8db",
   "metadata": {},
   "outputs": [
    {
     "data": {
      "text/html": [
       "<div>\n",
       "<style scoped>\n",
       "    .dataframe tbody tr th:only-of-type {\n",
       "        vertical-align: middle;\n",
       "    }\n",
       "\n",
       "    .dataframe tbody tr th {\n",
       "        vertical-align: top;\n",
       "    }\n",
       "\n",
       "    .dataframe thead th {\n",
       "        text-align: right;\n",
       "    }\n",
       "</style>\n",
       "<table border=\"1\" class=\"dataframe\">\n",
       "  <thead>\n",
       "    <tr style=\"text-align: right;\">\n",
       "      <th></th>\n",
       "      <th>delay</th>\n",
       "      <th>distance</th>\n",
       "      <th>origin</th>\n",
       "      <th>destination</th>\n",
       "    </tr>\n",
       "    <tr>\n",
       "      <th>date</th>\n",
       "      <th></th>\n",
       "      <th></th>\n",
       "      <th></th>\n",
       "      <th></th>\n",
       "    </tr>\n",
       "  </thead>\n",
       "  <tbody>\n",
       "    <tr>\n",
       "      <th>2001-01-13 14:56:00</th>\n",
       "      <td>32</td>\n",
       "      <td>417</td>\n",
       "      <td>SAN</td>\n",
       "      <td>SJC</td>\n",
       "    </tr>\n",
       "    <tr>\n",
       "      <th>2001-01-31 16:40:00</th>\n",
       "      <td>-5</td>\n",
       "      <td>1093</td>\n",
       "      <td>FLL</td>\n",
       "      <td>ISP</td>\n",
       "    </tr>\n",
       "    <tr>\n",
       "      <th>2001-02-11 18:39:00</th>\n",
       "      <td>3</td>\n",
       "      <td>293</td>\n",
       "      <td>LBB</td>\n",
       "      <td>DAL</td>\n",
       "    </tr>\n",
       "    <tr>\n",
       "      <th>2001-01-10 21:00:00</th>\n",
       "      <td>-15</td>\n",
       "      <td>550</td>\n",
       "      <td>MSY</td>\n",
       "      <td>MCO</td>\n",
       "    </tr>\n",
       "    <tr>\n",
       "      <th>2001-03-30 21:45:00</th>\n",
       "      <td>-2</td>\n",
       "      <td>229</td>\n",
       "      <td>STL</td>\n",
       "      <td>IND</td>\n",
       "    </tr>\n",
       "  </tbody>\n",
       "</table>\n",
       "</div>"
      ],
      "text/plain": [
       "                     delay  distance origin destination\n",
       "date                                                   \n",
       "2001-01-13 14:56:00     32       417    SAN         SJC\n",
       "2001-01-31 16:40:00     -5      1093    FLL         ISP\n",
       "2001-02-11 18:39:00      3       293    LBB         DAL\n",
       "2001-01-10 21:00:00    -15       550    MSY         MCO\n",
       "2001-03-30 21:45:00     -2       229    STL         IND"
      ]
     },
     "execution_count": 69,
     "metadata": {},
     "output_type": "execute_result"
    }
   ],
   "source": [
    "df.head()"
   ]
  },
  {
   "cell_type": "code",
   "execution_count": 72,
   "id": "6f769df3-5f02-418e-b124-1c065fee1e8d",
   "metadata": {},
   "outputs": [
    {
     "data": {
      "text/plain": [
       "8482"
      ]
     },
     "execution_count": 72,
     "metadata": {},
     "output_type": "execute_result"
    }
   ],
   "source": [
    "(df.delay < 0).sum()"
   ]
  },
  {
   "cell_type": "markdown",
   "id": "19aca544-c580-4e16-b9e3-2f459cfb64c1",
   "metadata": {},
   "source": [
    "### 1."
   ]
  },
  {
   "cell_type": "markdown",
   "id": "0e112d23-ef29-47fc-98f4-601d44ce952f",
   "metadata": {},
   "source": [
    "Convert any negative delays to 0."
   ]
  },
  {
   "cell_type": "code",
   "execution_count": 73,
   "id": "2260b672-b8fd-4641-a393-9d10e7ec72c4",
   "metadata": {},
   "outputs": [
    {
     "data": {
      "text/html": [
       "<div>\n",
       "<style scoped>\n",
       "    .dataframe tbody tr th:only-of-type {\n",
       "        vertical-align: middle;\n",
       "    }\n",
       "\n",
       "    .dataframe tbody tr th {\n",
       "        vertical-align: top;\n",
       "    }\n",
       "\n",
       "    .dataframe thead th {\n",
       "        text-align: right;\n",
       "    }\n",
       "</style>\n",
       "<table border=\"1\" class=\"dataframe\">\n",
       "  <thead>\n",
       "    <tr style=\"text-align: right;\">\n",
       "      <th></th>\n",
       "      <th>delay</th>\n",
       "      <th>distance</th>\n",
       "      <th>origin</th>\n",
       "      <th>destination</th>\n",
       "    </tr>\n",
       "    <tr>\n",
       "      <th>date</th>\n",
       "      <th></th>\n",
       "      <th></th>\n",
       "      <th></th>\n",
       "      <th></th>\n",
       "    </tr>\n",
       "  </thead>\n",
       "  <tbody>\n",
       "    <tr>\n",
       "      <th>2001-01-13 14:56:00</th>\n",
       "      <td>32</td>\n",
       "      <td>417</td>\n",
       "      <td>SAN</td>\n",
       "      <td>SJC</td>\n",
       "    </tr>\n",
       "    <tr>\n",
       "      <th>2001-01-31 16:40:00</th>\n",
       "      <td>0</td>\n",
       "      <td>1093</td>\n",
       "      <td>FLL</td>\n",
       "      <td>ISP</td>\n",
       "    </tr>\n",
       "    <tr>\n",
       "      <th>2001-02-11 18:39:00</th>\n",
       "      <td>3</td>\n",
       "      <td>293</td>\n",
       "      <td>LBB</td>\n",
       "      <td>DAL</td>\n",
       "    </tr>\n",
       "    <tr>\n",
       "      <th>2001-01-10 21:00:00</th>\n",
       "      <td>0</td>\n",
       "      <td>550</td>\n",
       "      <td>MSY</td>\n",
       "      <td>MCO</td>\n",
       "    </tr>\n",
       "    <tr>\n",
       "      <th>2001-03-30 21:45:00</th>\n",
       "      <td>0</td>\n",
       "      <td>229</td>\n",
       "      <td>STL</td>\n",
       "      <td>IND</td>\n",
       "    </tr>\n",
       "  </tbody>\n",
       "</table>\n",
       "</div>"
      ],
      "text/plain": [
       "                     delay  distance origin destination\n",
       "date                                                   \n",
       "2001-01-13 14:56:00     32       417    SAN         SJC\n",
       "2001-01-31 16:40:00      0      1093    FLL         ISP\n",
       "2001-02-11 18:39:00      3       293    LBB         DAL\n",
       "2001-01-10 21:00:00      0       550    MSY         MCO\n",
       "2001-03-30 21:45:00      0       229    STL         IND"
      ]
     },
     "execution_count": 73,
     "metadata": {},
     "output_type": "execute_result"
    }
   ],
   "source": [
    "df['delay'] = df.delay.apply(lambda x: 0 if x < 0 else x)\n",
    "df.head()"
   ]
  },
  {
   "cell_type": "code",
   "execution_count": 74,
   "id": "da96b8fd-bf2e-4ea5-bb5d-516e0659e80c",
   "metadata": {},
   "outputs": [
    {
     "data": {
      "text/plain": [
       "0"
      ]
     },
     "execution_count": 74,
     "metadata": {},
     "output_type": "execute_result"
    }
   ],
   "source": [
    "(df.delay < 0).sum()"
   ]
  },
  {
   "cell_type": "markdown",
   "id": "758be359-a234-4bc9-bb7b-6c9f948fa84b",
   "metadata": {},
   "source": [
    "### 2."
   ]
  },
  {
   "cell_type": "markdown",
   "id": "488cc9a7-c407-4e16-b7b9-7aee329c6f8c",
   "metadata": {},
   "source": [
    "Which hour of the day has the highest average delay?"
   ]
  },
  {
   "cell_type": "code",
   "execution_count": 81,
   "id": "7c7ef389-420e-49f8-973f-a7ca4d35e38f",
   "metadata": {},
   "outputs": [
    {
     "data": {
      "text/html": [
       "<style  type=\"text/css\" >\n",
       "#T_af00a_row0_col0{\n",
       "            background-color:  red;\n",
       "        }</style><table id=\"T_af00a_\" ><thead>    <tr>        <th class=\"blank level0\" ></th>        <th class=\"col_heading level0 col0\" >delay</th>    </tr>    <tr>        <th class=\"index_name level0\" >date</th>        <th class=\"blank\" ></th>    </tr></thead><tbody>\n",
       "                <tr>\n",
       "                        <th id=\"T_af00a_level0_row0\" class=\"row_heading level0 row0\" >2001-02-23 03:00:00</th>\n",
       "                        <td id=\"T_af00a_row0_col0\" class=\"data row0 col0\" >360.000000</td>\n",
       "            </tr>\n",
       "            <tr>\n",
       "                        <th id=\"T_af00a_level0_row1\" class=\"row_heading level0 row1\" >2001-02-25 00:00:00</th>\n",
       "                        <td id=\"T_af00a_row1_col0\" class=\"data row1 col0\" >260.000000</td>\n",
       "            </tr>\n",
       "            <tr>\n",
       "                        <th id=\"T_af00a_level0_row2\" class=\"row_heading level0 row2\" >2001-01-02 03:00:00</th>\n",
       "                        <td id=\"T_af00a_row2_col0\" class=\"data row2 col0\" >245.000000</td>\n",
       "            </tr>\n",
       "            <tr>\n",
       "                        <th id=\"T_af00a_level0_row3\" class=\"row_heading level0 row3\" >2001-02-24 22:00:00</th>\n",
       "                        <td id=\"T_af00a_row3_col0\" class=\"data row3 col0\" >210.000000</td>\n",
       "            </tr>\n",
       "            <tr>\n",
       "                        <th id=\"T_af00a_level0_row4\" class=\"row_heading level0 row4\" >2001-02-22 00:00:00</th>\n",
       "                        <td id=\"T_af00a_row4_col0\" class=\"data row4 col0\" >195.000000</td>\n",
       "            </tr>\n",
       "    </tbody></table>"
      ],
      "text/plain": [
       "<pandas.io.formats.style.Styler at 0x7ff2f7312490>"
      ]
     },
     "execution_count": 81,
     "metadata": {},
     "output_type": "execute_result"
    }
   ],
   "source": [
    "# this gives us year, month, day, hour combination with highest average delay\n",
    "df[['delay']].resample('H').mean().sort_values(by='delay', ascending=False).head().style.highlight_max(color='red')"
   ]
  },
  {
   "cell_type": "code",
   "execution_count": 103,
   "id": "abd568ab-1c04-40e4-b510-b2f31d76514e",
   "metadata": {},
   "outputs": [
    {
     "data": {
      "text/html": [
       "<div>\n",
       "<style scoped>\n",
       "    .dataframe tbody tr th:only-of-type {\n",
       "        vertical-align: middle;\n",
       "    }\n",
       "\n",
       "    .dataframe tbody tr th {\n",
       "        vertical-align: top;\n",
       "    }\n",
       "\n",
       "    .dataframe thead th {\n",
       "        text-align: right;\n",
       "    }\n",
       "</style>\n",
       "<table border=\"1\" class=\"dataframe\">\n",
       "  <thead>\n",
       "    <tr style=\"text-align: right;\">\n",
       "      <th></th>\n",
       "      <th>delay</th>\n",
       "      <th>distance</th>\n",
       "      <th>origin</th>\n",
       "      <th>destination</th>\n",
       "      <th>hour</th>\n",
       "    </tr>\n",
       "    <tr>\n",
       "      <th>date</th>\n",
       "      <th></th>\n",
       "      <th></th>\n",
       "      <th></th>\n",
       "      <th></th>\n",
       "      <th></th>\n",
       "    </tr>\n",
       "  </thead>\n",
       "  <tbody>\n",
       "    <tr>\n",
       "      <th>2001-01-13 14:56:00</th>\n",
       "      <td>32</td>\n",
       "      <td>417</td>\n",
       "      <td>SAN</td>\n",
       "      <td>SJC</td>\n",
       "      <td>14</td>\n",
       "    </tr>\n",
       "    <tr>\n",
       "      <th>2001-01-31 16:40:00</th>\n",
       "      <td>0</td>\n",
       "      <td>1093</td>\n",
       "      <td>FLL</td>\n",
       "      <td>ISP</td>\n",
       "      <td>16</td>\n",
       "    </tr>\n",
       "    <tr>\n",
       "      <th>2001-02-11 18:39:00</th>\n",
       "      <td>3</td>\n",
       "      <td>293</td>\n",
       "      <td>LBB</td>\n",
       "      <td>DAL</td>\n",
       "      <td>18</td>\n",
       "    </tr>\n",
       "    <tr>\n",
       "      <th>2001-01-10 21:00:00</th>\n",
       "      <td>0</td>\n",
       "      <td>550</td>\n",
       "      <td>MSY</td>\n",
       "      <td>MCO</td>\n",
       "      <td>21</td>\n",
       "    </tr>\n",
       "    <tr>\n",
       "      <th>2001-03-30 21:45:00</th>\n",
       "      <td>0</td>\n",
       "      <td>229</td>\n",
       "      <td>STL</td>\n",
       "      <td>IND</td>\n",
       "      <td>21</td>\n",
       "    </tr>\n",
       "  </tbody>\n",
       "</table>\n",
       "</div>"
      ],
      "text/plain": [
       "                     delay  distance origin destination  hour\n",
       "date                                                         \n",
       "2001-01-13 14:56:00     32       417    SAN         SJC    14\n",
       "2001-01-31 16:40:00      0      1093    FLL         ISP    16\n",
       "2001-02-11 18:39:00      3       293    LBB         DAL    18\n",
       "2001-01-10 21:00:00      0       550    MSY         MCO    21\n",
       "2001-03-30 21:45:00      0       229    STL         IND    21"
      ]
     },
     "execution_count": 103,
     "metadata": {},
     "output_type": "execute_result"
    }
   ],
   "source": [
    "df['hour'] = df.index.hour\n",
    "df.head()"
   ]
  },
  {
   "cell_type": "code",
   "execution_count": 95,
   "id": "84400618-e599-478a-9be9-dd58d4e8b3db",
   "metadata": {},
   "outputs": [
    {
     "data": {
      "text/html": [
       "<style  type=\"text/css\" >\n",
       "#T_3b1ee_row0_col0{\n",
       "            background-color:  red;\n",
       "        }</style><table id=\"T_3b1ee_\" ><thead>    <tr>        <th class=\"blank level0\" ></th>        <th class=\"col_heading level0 col0\" >mean</th>    </tr>    <tr>        <th class=\"index_name level0\" >hour</th>        <th class=\"blank\" ></th>    </tr></thead><tbody>\n",
       "                <tr>\n",
       "                        <th id=\"T_3b1ee_level0_row0\" class=\"row_heading level0 row0\" >3</th>\n",
       "                        <td id=\"T_3b1ee_row0_col0\" class=\"data row0 col0\" >302.500000</td>\n",
       "            </tr>\n",
       "            <tr>\n",
       "                        <th id=\"T_3b1ee_level0_row1\" class=\"row_heading level0 row1\" >1</th>\n",
       "                        <td id=\"T_3b1ee_row1_col0\" class=\"data row1 col0\" >170.000000</td>\n",
       "            </tr>\n",
       "            <tr>\n",
       "                        <th id=\"T_3b1ee_level0_row2\" class=\"row_heading level0 row2\" >0</th>\n",
       "                        <td id=\"T_3b1ee_row2_col0\" class=\"data row2 col0\" >127.916667</td>\n",
       "            </tr>\n",
       "            <tr>\n",
       "                        <th id=\"T_3b1ee_level0_row3\" class=\"row_heading level0 row3\" >23</th>\n",
       "                        <td id=\"T_3b1ee_row3_col0\" class=\"data row3 col0\" >65.353846</td>\n",
       "            </tr>\n",
       "            <tr>\n",
       "                        <th id=\"T_3b1ee_level0_row4\" class=\"row_heading level0 row4\" >22</th>\n",
       "                        <td id=\"T_3b1ee_row4_col0\" class=\"data row4 col0\" >32.704607</td>\n",
       "            </tr>\n",
       "    </tbody></table>"
      ],
      "text/plain": [
       "<pandas.io.formats.style.Styler at 0x7ff2fb986a90>"
      ]
     },
     "execution_count": 95,
     "metadata": {},
     "output_type": "execute_result"
    }
   ],
   "source": [
    "df.groupby('hour').delay.agg(['mean']).sort_values(by='mean', ascending=False).head().style.highlight_max(color='red')"
   ]
  },
  {
   "cell_type": "code",
   "execution_count": 101,
   "id": "223e94bc-b37d-4eeb-9139-5d0c2a9c8dd5",
   "metadata": {},
   "outputs": [
    {
     "data": {
      "text/plain": [
       "hour\n",
       "3     302.500000\n",
       "1     170.000000\n",
       "0     127.916667\n",
       "23     65.353846\n",
       "22     32.704607\n",
       "Name: delay, dtype: float64"
      ]
     },
     "execution_count": 101,
     "metadata": {},
     "output_type": "execute_result"
    }
   ],
   "source": [
    "df.groupby('hour').delay.mean().sort_values(ascending=False).head()"
   ]
  },
  {
   "cell_type": "markdown",
   "id": "a35be39b-c0cb-41c8-895e-92e9668d9d86",
   "metadata": {},
   "source": [
    "### 3."
   ]
  },
  {
   "cell_type": "markdown",
   "id": "1bfda466-1824-42c7-b99c-2264bcf7d83b",
   "metadata": {},
   "source": [
    "Does the day of the week make a difference in the delay amount?"
   ]
  },
  {
   "cell_type": "code",
   "execution_count": 110,
   "id": "a5ea6b91-4eaa-4914-806e-e8187cf48283",
   "metadata": {},
   "outputs": [
    {
     "data": {
      "text/html": [
       "<div>\n",
       "<style scoped>\n",
       "    .dataframe tbody tr th:only-of-type {\n",
       "        vertical-align: middle;\n",
       "    }\n",
       "\n",
       "    .dataframe tbody tr th {\n",
       "        vertical-align: top;\n",
       "    }\n",
       "\n",
       "    .dataframe thead th {\n",
       "        text-align: right;\n",
       "    }\n",
       "</style>\n",
       "<table border=\"1\" class=\"dataframe\">\n",
       "  <thead>\n",
       "    <tr style=\"text-align: right;\">\n",
       "      <th></th>\n",
       "      <th>delay</th>\n",
       "      <th>distance</th>\n",
       "      <th>origin</th>\n",
       "      <th>destination</th>\n",
       "      <th>hour</th>\n",
       "      <th>week_day</th>\n",
       "    </tr>\n",
       "    <tr>\n",
       "      <th>date</th>\n",
       "      <th></th>\n",
       "      <th></th>\n",
       "      <th></th>\n",
       "      <th></th>\n",
       "      <th></th>\n",
       "      <th></th>\n",
       "    </tr>\n",
       "  </thead>\n",
       "  <tbody>\n",
       "    <tr>\n",
       "      <th>2001-01-13 14:56:00</th>\n",
       "      <td>32</td>\n",
       "      <td>417</td>\n",
       "      <td>SAN</td>\n",
       "      <td>SJC</td>\n",
       "      <td>14</td>\n",
       "      <td>Saturday</td>\n",
       "    </tr>\n",
       "    <tr>\n",
       "      <th>2001-01-31 16:40:00</th>\n",
       "      <td>0</td>\n",
       "      <td>1093</td>\n",
       "      <td>FLL</td>\n",
       "      <td>ISP</td>\n",
       "      <td>16</td>\n",
       "      <td>Wednesday</td>\n",
       "    </tr>\n",
       "    <tr>\n",
       "      <th>2001-02-11 18:39:00</th>\n",
       "      <td>3</td>\n",
       "      <td>293</td>\n",
       "      <td>LBB</td>\n",
       "      <td>DAL</td>\n",
       "      <td>18</td>\n",
       "      <td>Sunday</td>\n",
       "    </tr>\n",
       "    <tr>\n",
       "      <th>2001-01-10 21:00:00</th>\n",
       "      <td>0</td>\n",
       "      <td>550</td>\n",
       "      <td>MSY</td>\n",
       "      <td>MCO</td>\n",
       "      <td>21</td>\n",
       "      <td>Wednesday</td>\n",
       "    </tr>\n",
       "    <tr>\n",
       "      <th>2001-03-30 21:45:00</th>\n",
       "      <td>0</td>\n",
       "      <td>229</td>\n",
       "      <td>STL</td>\n",
       "      <td>IND</td>\n",
       "      <td>21</td>\n",
       "      <td>Friday</td>\n",
       "    </tr>\n",
       "  </tbody>\n",
       "</table>\n",
       "</div>"
      ],
      "text/plain": [
       "                     delay  distance origin destination  hour   week_day\n",
       "date                                                                    \n",
       "2001-01-13 14:56:00     32       417    SAN         SJC    14   Saturday\n",
       "2001-01-31 16:40:00      0      1093    FLL         ISP    16  Wednesday\n",
       "2001-02-11 18:39:00      3       293    LBB         DAL    18     Sunday\n",
       "2001-01-10 21:00:00      0       550    MSY         MCO    21  Wednesday\n",
       "2001-03-30 21:45:00      0       229    STL         IND    21     Friday"
      ]
     },
     "execution_count": 110,
     "metadata": {},
     "output_type": "execute_result"
    }
   ],
   "source": [
    "df['week_day'] = df.index.day_name()\n",
    "df.head()"
   ]
  },
  {
   "cell_type": "code",
   "execution_count": 114,
   "id": "ef803c30-e11e-4b52-a7f6-1b84719e2bf2",
   "metadata": {},
   "outputs": [
    {
     "data": {
      "text/html": [
       "<style  type=\"text/css\" >\n",
       "#T_38ae9_row0_col0{\n",
       "            background-color:  red;\n",
       "        }</style><table id=\"T_38ae9_\" ><thead>    <tr>        <th class=\"blank level0\" ></th>        <th class=\"col_heading level0 col0\" >mean</th>    </tr>    <tr>        <th class=\"index_name level0\" >week_day</th>        <th class=\"blank\" ></th>    </tr></thead><tbody>\n",
       "                <tr>\n",
       "                        <th id=\"T_38ae9_level0_row0\" class=\"row_heading level0 row0\" >Friday</th>\n",
       "                        <td id=\"T_38ae9_row0_col0\" class=\"data row0 col0\" >17.757596</td>\n",
       "            </tr>\n",
       "            <tr>\n",
       "                        <th id=\"T_38ae9_level0_row1\" class=\"row_heading level0 row1\" >Thursday</th>\n",
       "                        <td id=\"T_38ae9_row1_col0\" class=\"data row1 col0\" >12.821322</td>\n",
       "            </tr>\n",
       "            <tr>\n",
       "                        <th id=\"T_38ae9_level0_row2\" class=\"row_heading level0 row2\" >Wednesday</th>\n",
       "                        <td id=\"T_38ae9_row2_col0\" class=\"data row2 col0\" >11.032478</td>\n",
       "            </tr>\n",
       "            <tr>\n",
       "                        <th id=\"T_38ae9_level0_row3\" class=\"row_heading level0 row3\" >Sunday</th>\n",
       "                        <td id=\"T_38ae9_row3_col0\" class=\"data row3 col0\" >10.413542</td>\n",
       "            </tr>\n",
       "            <tr>\n",
       "                        <th id=\"T_38ae9_level0_row4\" class=\"row_heading level0 row4\" >Tuesday</th>\n",
       "                        <td id=\"T_38ae9_row4_col0\" class=\"data row4 col0\" >9.410866</td>\n",
       "            </tr>\n",
       "    </tbody></table>"
      ],
      "text/plain": [
       "<pandas.io.formats.style.Styler at 0x7ff2f8217d00>"
      ]
     },
     "execution_count": 114,
     "metadata": {},
     "output_type": "execute_result"
    }
   ],
   "source": [
    "df.groupby('week_day').delay.agg(['mean']).sort_values(by='mean', ascending=False).head().style.highlight_max(color='red')"
   ]
  },
  {
   "cell_type": "markdown",
   "id": "96a67e97-1738-4f2b-85f1-ac62efeeedf6",
   "metadata": {},
   "source": [
    "### 4."
   ]
  },
  {
   "cell_type": "markdown",
   "id": "86ddc8e1-67f0-4ccd-bffb-3dd631c8d1de",
   "metadata": {},
   "source": [
    "Does the month make a difference in the delay amount?"
   ]
  },
  {
   "cell_type": "code",
   "execution_count": 118,
   "id": "ae6bd950-58c7-4418-950d-66e836d158b4",
   "metadata": {},
   "outputs": [
    {
     "data": {
      "text/html": [
       "<div>\n",
       "<style scoped>\n",
       "    .dataframe tbody tr th:only-of-type {\n",
       "        vertical-align: middle;\n",
       "    }\n",
       "\n",
       "    .dataframe tbody tr th {\n",
       "        vertical-align: top;\n",
       "    }\n",
       "\n",
       "    .dataframe thead th {\n",
       "        text-align: right;\n",
       "    }\n",
       "</style>\n",
       "<table border=\"1\" class=\"dataframe\">\n",
       "  <thead>\n",
       "    <tr style=\"text-align: right;\">\n",
       "      <th></th>\n",
       "      <th>delay</th>\n",
       "      <th>distance</th>\n",
       "      <th>origin</th>\n",
       "      <th>destination</th>\n",
       "      <th>hour</th>\n",
       "      <th>week_day</th>\n",
       "      <th>month</th>\n",
       "    </tr>\n",
       "    <tr>\n",
       "      <th>date</th>\n",
       "      <th></th>\n",
       "      <th></th>\n",
       "      <th></th>\n",
       "      <th></th>\n",
       "      <th></th>\n",
       "      <th></th>\n",
       "      <th></th>\n",
       "    </tr>\n",
       "  </thead>\n",
       "  <tbody>\n",
       "    <tr>\n",
       "      <th>2001-01-13 14:56:00</th>\n",
       "      <td>32</td>\n",
       "      <td>417</td>\n",
       "      <td>SAN</td>\n",
       "      <td>SJC</td>\n",
       "      <td>14</td>\n",
       "      <td>Saturday</td>\n",
       "      <td>January</td>\n",
       "    </tr>\n",
       "    <tr>\n",
       "      <th>2001-01-31 16:40:00</th>\n",
       "      <td>0</td>\n",
       "      <td>1093</td>\n",
       "      <td>FLL</td>\n",
       "      <td>ISP</td>\n",
       "      <td>16</td>\n",
       "      <td>Wednesday</td>\n",
       "      <td>January</td>\n",
       "    </tr>\n",
       "    <tr>\n",
       "      <th>2001-02-11 18:39:00</th>\n",
       "      <td>3</td>\n",
       "      <td>293</td>\n",
       "      <td>LBB</td>\n",
       "      <td>DAL</td>\n",
       "      <td>18</td>\n",
       "      <td>Sunday</td>\n",
       "      <td>February</td>\n",
       "    </tr>\n",
       "    <tr>\n",
       "      <th>2001-01-10 21:00:00</th>\n",
       "      <td>0</td>\n",
       "      <td>550</td>\n",
       "      <td>MSY</td>\n",
       "      <td>MCO</td>\n",
       "      <td>21</td>\n",
       "      <td>Wednesday</td>\n",
       "      <td>January</td>\n",
       "    </tr>\n",
       "    <tr>\n",
       "      <th>2001-03-30 21:45:00</th>\n",
       "      <td>0</td>\n",
       "      <td>229</td>\n",
       "      <td>STL</td>\n",
       "      <td>IND</td>\n",
       "      <td>21</td>\n",
       "      <td>Friday</td>\n",
       "      <td>March</td>\n",
       "    </tr>\n",
       "  </tbody>\n",
       "</table>\n",
       "</div>"
      ],
      "text/plain": [
       "                     delay  distance origin destination  hour   week_day  \\\n",
       "date                                                                       \n",
       "2001-01-13 14:56:00     32       417    SAN         SJC    14   Saturday   \n",
       "2001-01-31 16:40:00      0      1093    FLL         ISP    16  Wednesday   \n",
       "2001-02-11 18:39:00      3       293    LBB         DAL    18     Sunday   \n",
       "2001-01-10 21:00:00      0       550    MSY         MCO    21  Wednesday   \n",
       "2001-03-30 21:45:00      0       229    STL         IND    21     Friday   \n",
       "\n",
       "                        month  \n",
       "date                           \n",
       "2001-01-13 14:56:00   January  \n",
       "2001-01-31 16:40:00   January  \n",
       "2001-02-11 18:39:00  February  \n",
       "2001-01-10 21:00:00   January  \n",
       "2001-03-30 21:45:00     March  "
      ]
     },
     "execution_count": 118,
     "metadata": {},
     "output_type": "execute_result"
    }
   ],
   "source": [
    "df['month'] = df.index.month_name()\n",
    "df.head()"
   ]
  },
  {
   "cell_type": "code",
   "execution_count": 119,
   "id": "883a2fe6-dd02-4167-8fbc-e748c663f924",
   "metadata": {},
   "outputs": [
    {
     "data": {
      "text/html": [
       "<style  type=\"text/css\" >\n",
       "#T_890d8_row0_col0{\n",
       "            background-color:  red;\n",
       "        }</style><table id=\"T_890d8_\" ><thead>    <tr>        <th class=\"blank level0\" ></th>        <th class=\"col_heading level0 col0\" >mean</th>    </tr>    <tr>        <th class=\"index_name level0\" >month</th>        <th class=\"blank\" ></th>    </tr></thead><tbody>\n",
       "                <tr>\n",
       "                        <th id=\"T_890d8_level0_row0\" class=\"row_heading level0 row0\" >February</th>\n",
       "                        <td id=\"T_890d8_row0_col0\" class=\"data row0 col0\" >12.306106</td>\n",
       "            </tr>\n",
       "            <tr>\n",
       "                        <th id=\"T_890d8_level0_row1\" class=\"row_heading level0 row1\" >January</th>\n",
       "                        <td id=\"T_890d8_row1_col0\" class=\"data row1 col0\" >11.301592</td>\n",
       "            </tr>\n",
       "            <tr>\n",
       "                        <th id=\"T_890d8_level0_row2\" class=\"row_heading level0 row2\" >March</th>\n",
       "                        <td id=\"T_890d8_row2_col0\" class=\"data row2 col0\" >9.875287</td>\n",
       "            </tr>\n",
       "    </tbody></table>"
      ],
      "text/plain": [
       "<pandas.io.formats.style.Styler at 0x7ff2fb5790d0>"
      ]
     },
     "execution_count": 119,
     "metadata": {},
     "output_type": "execute_result"
    }
   ],
   "source": [
    "df.groupby('month').delay.agg(['mean']).sort_values(by='mean', ascending=False).head().style.highlight_max(color='red')"
   ]
  }
 ],
 "metadata": {
  "kernelspec": {
   "display_name": "Python 3",
   "language": "python",
   "name": "python3"
  },
  "language_info": {
   "codemirror_mode": {
    "name": "ipython",
    "version": 3
   },
   "file_extension": ".py",
   "mimetype": "text/x-python",
   "name": "python",
   "nbconvert_exporter": "python",
   "pygments_lexer": "ipython3",
   "version": "3.8.8"
  }
 },
 "nbformat": 4,
 "nbformat_minor": 5
}
