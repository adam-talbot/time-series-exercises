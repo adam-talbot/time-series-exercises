{
 "cells": [
  {
   "cell_type": "markdown",
   "id": "905e840b-b789-498a-9ff1-03f1d05abdb4",
   "metadata": {},
   "source": [
    "# Time Series Data Exercises"
   ]
  },
  {
   "cell_type": "code",
   "execution_count": 2,
   "id": "c57a007e-33ad-4962-afe8-165c9b0cd431",
   "metadata": {},
   "outputs": [],
   "source": [
    "import matplotlib.pyplot as plt\n",
    "import numpy as np\n",
    "import pandas as pd\n",
    "from vega_datasets import data"
   ]
  },
  {
   "cell_type": "markdown",
   "id": "dd5b903e-1f23-4dee-b758-5a82bc443a88",
   "metadata": {},
   "source": [
    "## `sf_temps()`"
   ]
  },
  {
   "cell_type": "markdown",
   "id": "3765970b-e25f-4697-9a59-be27e071b1ed",
   "metadata": {},
   "source": [
    "### 1."
   ]
  },
  {
   "cell_type": "markdown",
   "id": "e8a0e2cf-cfd5-4203-9499-69373660c659",
   "metadata": {},
   "source": [
    "Resample by the day and take the average temperature. Visualize the average temperature over time."
   ]
  },
  {
   "cell_type": "markdown",
   "id": "d5d1e864-417d-4e27-8ea4-3de71646792a",
   "metadata": {},
   "source": [
    "### 2."
   ]
  },
  {
   "cell_type": "markdown",
   "id": "6f08d5de-de6d-4068-b622-78840d5ffcd7",
   "metadata": {},
   "source": [
    "Write the code necessary to visualize the minimum temperature over time."
   ]
  },
  {
   "cell_type": "markdown",
   "id": "5c82889f-b7a9-4278-8824-a9beb7c96ba7",
   "metadata": {},
   "source": [
    "### 3."
   ]
  },
  {
   "cell_type": "markdown",
   "id": "9ff61c7c-e30e-4af5-9eec-d193689c8a2a",
   "metadata": {},
   "source": [
    "Write the code necessary to visualize the maximum temperature over time."
   ]
  },
  {
   "cell_type": "markdown",
   "id": "ee03e514-6441-4ac8-a5b8-1f2e5cbeb9ed",
   "metadata": {},
   "source": [
    "### 4."
   ]
  },
  {
   "cell_type": "markdown",
   "id": "c28304ce-6560-48ab-a313-92188baccd3c",
   "metadata": {},
   "source": [
    "Which month is the coldest, on average?"
   ]
  },
  {
   "cell_type": "markdown",
   "id": "8794a333-9069-4118-9ab5-10ef1ca17c02",
   "metadata": {},
   "source": [
    "### 5."
   ]
  },
  {
   "cell_type": "markdown",
   "id": "73620d7d-5421-404b-85b7-055e067900cf",
   "metadata": {},
   "source": [
    "Which month has the highest average temperature?"
   ]
  },
  {
   "cell_type": "markdown",
   "id": "79becb45-324d-42fe-8d70-1ed4899e28b5",
   "metadata": {},
   "source": [
    "### 6."
   ]
  },
  {
   "cell_type": "markdown",
   "id": "de829b36-4dae-4dc7-9cc7-808fd00b90ed",
   "metadata": {},
   "source": [
    "Resample by the day and calculate the min and max temp for the day (Hint: .agg(['min', 'max'])). Use this resampled dataframe to calculate the change in temperature for the day. Which month has the highest daily temperature variability?"
   ]
  },
  {
   "cell_type": "markdown",
   "id": "c575f7f3-6f2b-4036-8256-77ba076d6ded",
   "metadata": {},
   "source": [
    "### 7. (Bonus)"
   ]
  },
  {
   "cell_type": "markdown",
   "id": "4cc8182f-aece-4e4e-91a9-bfb1eebd6805",
   "metadata": {},
   "source": [
    "Bonus: Visualize the daily min, average, and max temperature over time on a single line plot, i.e. the min, average, and maximum temperature should be 3 seperate lines."
   ]
  },
  {
   "cell_type": "markdown",
   "id": "9a38a559-77b4-4202-af2e-f1eef7228623",
   "metadata": {},
   "source": [
    "## `seattle_weather()`"
   ]
  },
  {
   "cell_type": "markdown",
   "id": "eb8bb0b6-be62-4ce2-b028-8d02ce64b144",
   "metadata": {},
   "source": [
    "### 1."
   ]
  },
  {
   "cell_type": "markdown",
   "id": "0f60dd82-f413-4902-8ecd-a29eb7835ea9",
   "metadata": {},
   "source": [
    "Which year and month combination has the highest amount of precipitation?"
   ]
  },
  {
   "cell_type": "markdown",
   "id": "102ec340-1654-4b0e-a0d6-a119f85ba8d6",
   "metadata": {},
   "source": [
    "### 2."
   ]
  },
  {
   "cell_type": "markdown",
   "id": "57c6994c-22e7-42d2-baff-109d91448c6c",
   "metadata": {},
   "source": [
    "Visualize the amount of monthly precipitation over time."
   ]
  },
  {
   "cell_type": "markdown",
   "id": "d98217ea-58ec-4d84-be0b-b775e4855d1b",
   "metadata": {},
   "source": [
    "### 3."
   ]
  },
  {
   "cell_type": "markdown",
   "id": "58ca0d57-4435-436a-a178-a4de19eef882",
   "metadata": {},
   "source": [
    "Visualize the amount of wind over time. Choose a time interval you think is appropriate."
   ]
  },
  {
   "cell_type": "markdown",
   "id": "5d502e17-1c59-44b6-8a1e-079503bac27f",
   "metadata": {},
   "source": [
    "### 4."
   ]
  },
  {
   "cell_type": "markdown",
   "id": "b9cce435-8e30-4ce4-80a7-bfd416b1778a",
   "metadata": {},
   "source": [
    "Which year-month combination is the windiest?"
   ]
  },
  {
   "cell_type": "markdown",
   "id": "70888dfb-c76a-44e4-9cc6-73750126fda5",
   "metadata": {},
   "source": [
    "### 5."
   ]
  },
  {
   "cell_type": "markdown",
   "id": "2a260077-767c-48df-8946-d9607b964628",
   "metadata": {},
   "source": [
    "What's the sunniest year? (Hint: which day has the highest number of days where weather == sun?)"
   ]
  },
  {
   "cell_type": "markdown",
   "id": "cbb299ff-bd2d-4f44-8ec6-a433dc5402ba",
   "metadata": {},
   "source": [
    "### 6."
   ]
  },
  {
   "cell_type": "markdown",
   "id": "b654149d-1ecd-48c1-bd72-5caecd9fcd8f",
   "metadata": {},
   "source": [
    "In which month does it rain the most?"
   ]
  },
  {
   "cell_type": "markdown",
   "id": "a836596f-3ac1-4141-bf58-f24c66821566",
   "metadata": {},
   "source": [
    "### 7."
   ]
  },
  {
   "cell_type": "markdown",
   "id": "8d8a1273-0b1d-4abf-add8-00de9663b00b",
   "metadata": {},
   "source": [
    "Which month has the most number of days with a non-zero amount of precipitation?"
   ]
  },
  {
   "cell_type": "markdown",
   "id": "56719bf2-d8db-42d7-9443-1c3050968426",
   "metadata": {},
   "source": [
    "## `flights_20k()`"
   ]
  },
  {
   "cell_type": "markdown",
   "id": "3acdc23a-731f-4683-a6f0-c1b5e4a33aee",
   "metadata": {},
   "source": [
    "Convert any negative delays to 0.\n",
    "Which hour of the day has the highest average delay?\n",
    "Does the day of the week make a difference in the delay amount?\n",
    "Does the month make a difference in the delay amount?"
   ]
  }
 ],
 "metadata": {
  "kernelspec": {
   "display_name": "Python 3",
   "language": "python",
   "name": "python3"
  },
  "language_info": {
   "codemirror_mode": {
    "name": "ipython",
    "version": 3
   },
   "file_extension": ".py",
   "mimetype": "text/x-python",
   "name": "python",
   "nbconvert_exporter": "python",
   "pygments_lexer": "ipython3",
   "version": "3.8.8"
  }
 },
 "nbformat": 4,
 "nbformat_minor": 5
}
