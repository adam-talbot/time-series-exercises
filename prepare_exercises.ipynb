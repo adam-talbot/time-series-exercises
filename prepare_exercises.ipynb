{
 "cells": [
  {
   "cell_type": "markdown",
   "id": "48f49d8f-3566-400b-b880-c5bec72220e3",
   "metadata": {},
   "source": [
    "# Time Series Prepare Exercises"
   ]
  },
  {
   "cell_type": "code",
   "execution_count": 1,
   "id": "1a912b45-9fe8-4551-bd11-86b0b1bcb994",
   "metadata": {},
   "outputs": [],
   "source": [
    "# tabular data manipulation\n",
    "import numpy as np\n",
    "import pandas as pd\n",
    "\n",
    "# datetime utilities\n",
    "####\n",
    "\n",
    "# visualization\n",
    "import matplotlib.pyplot as plt\n",
    "import seaborn as sns\n",
    "\n",
    "# no yelling in the library\n",
    "import warnings\n",
    "warnings.filterwarnings(\"ignore\")\n",
    "\n",
    "# our acquire script\n",
    "import acquire as a\n",
    "import prepare as p"
   ]
  },
  {
   "cell_type": "markdown",
   "id": "7e2c2d94-ac3e-486d-b10e-d2d21c464dec",
   "metadata": {},
   "source": [
    "The end result of this exercise should be a file named `prepare.py`"
   ]
  },
  {
   "cell_type": "markdown",
   "id": "e10233e4-6130-4066-8501-b36b982a3869",
   "metadata": {},
   "source": [
    "## Store Items Data"
   ]
  },
  {
   "cell_type": "markdown",
   "id": "9ee3c072-a017-47d0-ac5c-1d86a2793c02",
   "metadata": {},
   "source": [
    "Using your store items data:"
   ]
  },
  {
   "cell_type": "code",
   "execution_count": 2,
   "id": "12f9f9dc-943a-4ab8-8544-d03e476c8df6",
   "metadata": {},
   "outputs": [],
   "source": [
    "df = a.combined_df()"
   ]
  },
  {
   "cell_type": "code",
   "execution_count": 3,
   "id": "bdaf38b3-7723-4565-806c-34e5e2f4daa2",
   "metadata": {},
   "outputs": [],
   "source": [
    "df = df.drop(columns=['item', 'store'])"
   ]
  },
  {
   "cell_type": "code",
   "execution_count": 4,
   "id": "b65b6097-69e9-46c6-aa45-39e5a4d7cb8e",
   "metadata": {},
   "outputs": [
    {
     "data": {
      "text/html": [
       "<div>\n",
       "<style scoped>\n",
       "    .dataframe tbody tr th:only-of-type {\n",
       "        vertical-align: middle;\n",
       "    }\n",
       "\n",
       "    .dataframe tbody tr th {\n",
       "        vertical-align: top;\n",
       "    }\n",
       "\n",
       "    .dataframe thead th {\n",
       "        text-align: right;\n",
       "    }\n",
       "</style>\n",
       "<table border=\"1\" class=\"dataframe\">\n",
       "  <thead>\n",
       "    <tr style=\"text-align: right;\">\n",
       "      <th></th>\n",
       "      <th>sale_amount</th>\n",
       "      <th>sale_date</th>\n",
       "      <th>sale_id</th>\n",
       "      <th>item_brand</th>\n",
       "      <th>item_id</th>\n",
       "      <th>item_name</th>\n",
       "      <th>item_price</th>\n",
       "      <th>item_upc12</th>\n",
       "      <th>item_upc14</th>\n",
       "      <th>store_address</th>\n",
       "      <th>store_city</th>\n",
       "      <th>store_id</th>\n",
       "      <th>store_state</th>\n",
       "      <th>store_zipcode</th>\n",
       "    </tr>\n",
       "  </thead>\n",
       "  <tbody>\n",
       "    <tr>\n",
       "      <th>0</th>\n",
       "      <td>13.0</td>\n",
       "      <td>Tue, 01 Jan 2013 00:00:00 GMT</td>\n",
       "      <td>1</td>\n",
       "      <td>Riceland</td>\n",
       "      <td>1</td>\n",
       "      <td>Riceland American Jazmine Rice</td>\n",
       "      <td>0.84</td>\n",
       "      <td>35200264013</td>\n",
       "      <td>35200264013</td>\n",
       "      <td>12125 Alamo Ranch Pkwy</td>\n",
       "      <td>San Antonio</td>\n",
       "      <td>1</td>\n",
       "      <td>TX</td>\n",
       "      <td>78253</td>\n",
       "    </tr>\n",
       "  </tbody>\n",
       "</table>\n",
       "</div>"
      ],
      "text/plain": [
       "   sale_amount                      sale_date  sale_id item_brand  item_id  \\\n",
       "0         13.0  Tue, 01 Jan 2013 00:00:00 GMT        1   Riceland        1   \n",
       "\n",
       "                        item_name  item_price   item_upc12   item_upc14  \\\n",
       "0  Riceland American Jazmine Rice        0.84  35200264013  35200264013   \n",
       "\n",
       "            store_address   store_city  store_id store_state  store_zipcode  \n",
       "0  12125 Alamo Ranch Pkwy  San Antonio         1          TX          78253  "
      ]
     },
     "execution_count": 4,
     "metadata": {},
     "output_type": "execute_result"
    }
   ],
   "source": [
    "df.head(1)"
   ]
  },
  {
   "cell_type": "markdown",
   "id": "8bfccc96-5331-4d1a-bfad-af063f00287e",
   "metadata": {},
   "source": [
    "### 1."
   ]
  },
  {
   "cell_type": "markdown",
   "id": "2aee1f9b-7a93-426a-a060-73e48baf6dae",
   "metadata": {},
   "source": [
    "Convert date column to datetime format."
   ]
  },
  {
   "cell_type": "code",
   "execution_count": 5,
   "id": "251ef670-27b6-4e82-afe5-297a3f156bf9",
   "metadata": {},
   "outputs": [],
   "source": [
    "df.sale_date = pd.to_datetime(df.sale_date)"
   ]
  },
  {
   "cell_type": "code",
   "execution_count": 6,
   "id": "de8bdac6-7b55-4648-823e-33ed2a145cc4",
   "metadata": {},
   "outputs": [
    {
     "data": {
      "text/html": [
       "<div>\n",
       "<style scoped>\n",
       "    .dataframe tbody tr th:only-of-type {\n",
       "        vertical-align: middle;\n",
       "    }\n",
       "\n",
       "    .dataframe tbody tr th {\n",
       "        vertical-align: top;\n",
       "    }\n",
       "\n",
       "    .dataframe thead th {\n",
       "        text-align: right;\n",
       "    }\n",
       "</style>\n",
       "<table border=\"1\" class=\"dataframe\">\n",
       "  <thead>\n",
       "    <tr style=\"text-align: right;\">\n",
       "      <th></th>\n",
       "      <th>sale_amount</th>\n",
       "      <th>sale_date</th>\n",
       "      <th>sale_id</th>\n",
       "      <th>item_brand</th>\n",
       "      <th>item_id</th>\n",
       "      <th>item_name</th>\n",
       "      <th>item_price</th>\n",
       "      <th>item_upc12</th>\n",
       "      <th>item_upc14</th>\n",
       "      <th>store_address</th>\n",
       "      <th>store_city</th>\n",
       "      <th>store_id</th>\n",
       "      <th>store_state</th>\n",
       "      <th>store_zipcode</th>\n",
       "    </tr>\n",
       "  </thead>\n",
       "  <tbody>\n",
       "    <tr>\n",
       "      <th>0</th>\n",
       "      <td>13.0</td>\n",
       "      <td>2013-01-01 00:00:00+00:00</td>\n",
       "      <td>1</td>\n",
       "      <td>Riceland</td>\n",
       "      <td>1</td>\n",
       "      <td>Riceland American Jazmine Rice</td>\n",
       "      <td>0.84</td>\n",
       "      <td>35200264013</td>\n",
       "      <td>35200264013</td>\n",
       "      <td>12125 Alamo Ranch Pkwy</td>\n",
       "      <td>San Antonio</td>\n",
       "      <td>1</td>\n",
       "      <td>TX</td>\n",
       "      <td>78253</td>\n",
       "    </tr>\n",
       "  </tbody>\n",
       "</table>\n",
       "</div>"
      ],
      "text/plain": [
       "   sale_amount                 sale_date  sale_id item_brand  item_id  \\\n",
       "0         13.0 2013-01-01 00:00:00+00:00        1   Riceland        1   \n",
       "\n",
       "                        item_name  item_price   item_upc12   item_upc14  \\\n",
       "0  Riceland American Jazmine Rice        0.84  35200264013  35200264013   \n",
       "\n",
       "            store_address   store_city  store_id store_state  store_zipcode  \n",
       "0  12125 Alamo Ranch Pkwy  San Antonio         1          TX          78253  "
      ]
     },
     "execution_count": 6,
     "metadata": {},
     "output_type": "execute_result"
    }
   ],
   "source": [
    "df.head(1)"
   ]
  },
  {
   "cell_type": "markdown",
   "id": "693b6424-f9a9-4d90-a981-06a27afaca87",
   "metadata": {},
   "source": [
    "### 2."
   ]
  },
  {
   "cell_type": "markdown",
   "id": "f94c6a54-87d5-4d95-a438-a1eb4c0d8b34",
   "metadata": {},
   "source": [
    "Plot the distribution of sale_amount and item_price."
   ]
  },
  {
   "cell_type": "code",
   "execution_count": 7,
   "id": "e9daf952-144d-442f-a06d-7c7e889bc92b",
   "metadata": {},
   "outputs": [
    {
     "data": {
      "image/png": "[encoded data removed]",
      "text/plain": [
       "<Figure size 432x288 with 1 Axes>"
      ]
     },
     "metadata": {
      "needs_background": "light"
     },
     "output_type": "display_data"
    }
   ],
   "source": [
    "sns.distplot(df.sale_amount)\n",
    "plt.title('Distribution of Sale Amount')\n",
    "plt.xlabel('Sale Amount (Total Items)');"
   ]
  },
  {
   "cell_type": "code",
   "execution_count": 8,
   "id": "105cbc63-9208-476e-aa11-fb9f7b22772b",
   "metadata": {},
   "outputs": [
    {
     "data": {
      "image/png": "[encoded data removed]",
      "text/plain": [
       "<Figure size 432x288 with 1 Axes>"
      ]
     },
     "metadata": {
      "needs_background": "light"
     },
     "output_type": "display_data"
    }
   ],
   "source": [
    "sns.distplot(df.item_price)\n",
    "plt.title('Distribution of Item Price')\n",
    "plt.xlabel('Item Price ($)');"
   ]
  },
  {
   "cell_type": "markdown",
   "id": "ba27c2f3-590c-4850-9f8f-2ea00fba441d",
   "metadata": {},
   "source": [
    "### 3."
   ]
  },
  {
   "cell_type": "markdown",
   "id": "2c77a117-6f13-490f-bd3b-ac403f91a335",
   "metadata": {},
   "source": [
    "Set the index to be the datetime variable."
   ]
  },
  {
   "cell_type": "code",
   "execution_count": 9,
   "id": "cb8ed6b7-a633-403d-ae58-11637b118dae",
   "metadata": {},
   "outputs": [],
   "source": [
    "df = df.set_index('sale_date')"
   ]
  },
  {
   "cell_type": "code",
   "execution_count": 10,
   "id": "3e84900d-9bd1-4561-896c-4b520e75bdd8",
   "metadata": {},
   "outputs": [
    {
     "data": {
      "text/html": [
       "<div>\n",
       "<style scoped>\n",
       "    .dataframe tbody tr th:only-of-type {\n",
       "        vertical-align: middle;\n",
       "    }\n",
       "\n",
       "    .dataframe tbody tr th {\n",
       "        vertical-align: top;\n",
       "    }\n",
       "\n",
       "    .dataframe thead th {\n",
       "        text-align: right;\n",
       "    }\n",
       "</style>\n",
       "<table border=\"1\" class=\"dataframe\">\n",
       "  <thead>\n",
       "    <tr style=\"text-align: right;\">\n",
       "      <th></th>\n",
       "      <th>sale_amount</th>\n",
       "      <th>sale_id</th>\n",
       "      <th>item_brand</th>\n",
       "      <th>item_id</th>\n",
       "      <th>item_name</th>\n",
       "      <th>item_price</th>\n",
       "      <th>item_upc12</th>\n",
       "      <th>item_upc14</th>\n",
       "      <th>store_address</th>\n",
       "      <th>store_city</th>\n",
       "      <th>store_id</th>\n",
       "      <th>store_state</th>\n",
       "      <th>store_zipcode</th>\n",
       "    </tr>\n",
       "    <tr>\n",
       "      <th>sale_date</th>\n",
       "      <th></th>\n",
       "      <th></th>\n",
       "      <th></th>\n",
       "      <th></th>\n",
       "      <th></th>\n",
       "      <th></th>\n",
       "      <th></th>\n",
       "      <th></th>\n",
       "      <th></th>\n",
       "      <th></th>\n",
       "      <th></th>\n",
       "      <th></th>\n",
       "      <th></th>\n",
       "    </tr>\n",
       "  </thead>\n",
       "  <tbody>\n",
       "    <tr>\n",
       "      <th>2013-01-01 00:00:00+00:00</th>\n",
       "      <td>13.0</td>\n",
       "      <td>1</td>\n",
       "      <td>Riceland</td>\n",
       "      <td>1</td>\n",
       "      <td>Riceland American Jazmine Rice</td>\n",
       "      <td>0.84</td>\n",
       "      <td>35200264013</td>\n",
       "      <td>35200264013</td>\n",
       "      <td>12125 Alamo Ranch Pkwy</td>\n",
       "      <td>San Antonio</td>\n",
       "      <td>1</td>\n",
       "      <td>TX</td>\n",
       "      <td>78253</td>\n",
       "    </tr>\n",
       "  </tbody>\n",
       "</table>\n",
       "</div>"
      ],
      "text/plain": [
       "                           sale_amount  sale_id item_brand  item_id  \\\n",
       "sale_date                                                             \n",
       "2013-01-01 00:00:00+00:00         13.0        1   Riceland        1   \n",
       "\n",
       "                                                item_name  item_price  \\\n",
       "sale_date                                                               \n",
       "2013-01-01 00:00:00+00:00  Riceland American Jazmine Rice        0.84   \n",
       "\n",
       "                            item_upc12   item_upc14           store_address  \\\n",
       "sale_date                                                                     \n",
       "2013-01-01 00:00:00+00:00  35200264013  35200264013  12125 Alamo Ranch Pkwy   \n",
       "\n",
       "                            store_city  store_id store_state  store_zipcode  \n",
       "sale_date                                                                    \n",
       "2013-01-01 00:00:00+00:00  San Antonio         1          TX          78253  "
      ]
     },
     "execution_count": 10,
     "metadata": {},
     "output_type": "execute_result"
    }
   ],
   "source": [
    "df.head(1)"
   ]
  },
  {
   "cell_type": "markdown",
   "id": "4b11babb-94e1-447e-a97b-0cdca39af46f",
   "metadata": {},
   "source": [
    "### 4."
   ]
  },
  {
   "cell_type": "markdown",
   "id": "ac56a92e-db93-40e4-a8d6-0387e6c12079",
   "metadata": {
    "tags": []
   },
   "source": [
    "Add a 'month' and 'day of week' column to your dataframe."
   ]
  },
  {
   "cell_type": "code",
   "execution_count": 11,
   "id": "43ffb82e-d971-4f3c-b49c-788d6f51c59a",
   "metadata": {},
   "outputs": [],
   "source": [
    "df['month'] = df.index.month_name()\n",
    "df['day_of_week'] = df.index.day_name()"
   ]
  },
  {
   "cell_type": "code",
   "execution_count": 12,
   "id": "b7c44cd5-8b75-4b1f-ba81-ea299755553f",
   "metadata": {},
   "outputs": [
    {
     "data": {
      "text/html": [
       "<div>\n",
       "<style scoped>\n",
       "    .dataframe tbody tr th:only-of-type {\n",
       "        vertical-align: middle;\n",
       "    }\n",
       "\n",
       "    .dataframe tbody tr th {\n",
       "        vertical-align: top;\n",
       "    }\n",
       "\n",
       "    .dataframe thead th {\n",
       "        text-align: right;\n",
       "    }\n",
       "</style>\n",
       "<table border=\"1\" class=\"dataframe\">\n",
       "  <thead>\n",
       "    <tr style=\"text-align: right;\">\n",
       "      <th></th>\n",
       "      <th>sale_amount</th>\n",
       "      <th>sale_id</th>\n",
       "      <th>item_brand</th>\n",
       "      <th>item_id</th>\n",
       "      <th>item_name</th>\n",
       "      <th>item_price</th>\n",
       "      <th>item_upc12</th>\n",
       "      <th>item_upc14</th>\n",
       "      <th>store_address</th>\n",
       "      <th>store_city</th>\n",
       "      <th>store_id</th>\n",
       "      <th>store_state</th>\n",
       "      <th>store_zipcode</th>\n",
       "      <th>month</th>\n",
       "      <th>day_of_week</th>\n",
       "    </tr>\n",
       "    <tr>\n",
       "      <th>sale_date</th>\n",
       "      <th></th>\n",
       "      <th></th>\n",
       "      <th></th>\n",
       "      <th></th>\n",
       "      <th></th>\n",
       "      <th></th>\n",
       "      <th></th>\n",
       "      <th></th>\n",
       "      <th></th>\n",
       "      <th></th>\n",
       "      <th></th>\n",
       "      <th></th>\n",
       "      <th></th>\n",
       "      <th></th>\n",
       "      <th></th>\n",
       "    </tr>\n",
       "  </thead>\n",
       "  <tbody>\n",
       "    <tr>\n",
       "      <th>2013-01-01 00:00:00+00:00</th>\n",
       "      <td>13.0</td>\n",
       "      <td>1</td>\n",
       "      <td>Riceland</td>\n",
       "      <td>1</td>\n",
       "      <td>Riceland American Jazmine Rice</td>\n",
       "      <td>0.84</td>\n",
       "      <td>35200264013</td>\n",
       "      <td>35200264013</td>\n",
       "      <td>12125 Alamo Ranch Pkwy</td>\n",
       "      <td>San Antonio</td>\n",
       "      <td>1</td>\n",
       "      <td>TX</td>\n",
       "      <td>78253</td>\n",
       "      <td>January</td>\n",
       "      <td>Tuesday</td>\n",
       "    </tr>\n",
       "  </tbody>\n",
       "</table>\n",
       "</div>"
      ],
      "text/plain": [
       "                           sale_amount  sale_id item_brand  item_id  \\\n",
       "sale_date                                                             \n",
       "2013-01-01 00:00:00+00:00         13.0        1   Riceland        1   \n",
       "\n",
       "                                                item_name  item_price  \\\n",
       "sale_date                                                               \n",
       "2013-01-01 00:00:00+00:00  Riceland American Jazmine Rice        0.84   \n",
       "\n",
       "                            item_upc12   item_upc14           store_address  \\\n",
       "sale_date                                                                     \n",
       "2013-01-01 00:00:00+00:00  35200264013  35200264013  12125 Alamo Ranch Pkwy   \n",
       "\n",
       "                            store_city  store_id store_state  store_zipcode  \\\n",
       "sale_date                                                                     \n",
       "2013-01-01 00:00:00+00:00  San Antonio         1          TX          78253   \n",
       "\n",
       "                             month day_of_week  \n",
       "sale_date                                       \n",
       "2013-01-01 00:00:00+00:00  January     Tuesday  "
      ]
     },
     "execution_count": 12,
     "metadata": {},
     "output_type": "execute_result"
    }
   ],
   "source": [
    "df.head(1)"
   ]
  },
  {
   "cell_type": "markdown",
   "id": "a05b02c2-8a20-476f-818e-ae63f718a290",
   "metadata": {},
   "source": [
    "### 5."
   ]
  },
  {
   "cell_type": "markdown",
   "id": "04d693c4-c9e9-4a98-8ac8-26772bce2c4c",
   "metadata": {},
   "source": [
    "Add a column to your dataframe, sales_total, which is a derived from sale_amount (total items) and item_price."
   ]
  },
  {
   "cell_type": "code",
   "execution_count": 13,
   "id": "46a76df0-3060-424e-a287-2811442166e4",
   "metadata": {},
   "outputs": [],
   "source": [
    "df['sales_total'] = df.sale_amount * df.item_price"
   ]
  },
  {
   "cell_type": "code",
   "execution_count": 14,
   "id": "0f474ac0-b2e7-44d7-b223-862f487a8b6a",
   "metadata": {},
   "outputs": [
    {
     "data": {
      "text/html": [
       "<div>\n",
       "<style scoped>\n",
       "    .dataframe tbody tr th:only-of-type {\n",
       "        vertical-align: middle;\n",
       "    }\n",
       "\n",
       "    .dataframe tbody tr th {\n",
       "        vertical-align: top;\n",
       "    }\n",
       "\n",
       "    .dataframe thead th {\n",
       "        text-align: right;\n",
       "    }\n",
       "</style>\n",
       "<table border=\"1\" class=\"dataframe\">\n",
       "  <thead>\n",
       "    <tr style=\"text-align: right;\">\n",
       "      <th></th>\n",
       "      <th>sale_amount</th>\n",
       "      <th>sale_id</th>\n",
       "      <th>item_brand</th>\n",
       "      <th>item_id</th>\n",
       "      <th>item_name</th>\n",
       "      <th>item_price</th>\n",
       "      <th>item_upc12</th>\n",
       "      <th>item_upc14</th>\n",
       "      <th>store_address</th>\n",
       "      <th>store_city</th>\n",
       "      <th>store_id</th>\n",
       "      <th>store_state</th>\n",
       "      <th>store_zipcode</th>\n",
       "      <th>month</th>\n",
       "      <th>day_of_week</th>\n",
       "      <th>sales_total</th>\n",
       "    </tr>\n",
       "    <tr>\n",
       "      <th>sale_date</th>\n",
       "      <th></th>\n",
       "      <th></th>\n",
       "      <th></th>\n",
       "      <th></th>\n",
       "      <th></th>\n",
       "      <th></th>\n",
       "      <th></th>\n",
       "      <th></th>\n",
       "      <th></th>\n",
       "      <th></th>\n",
       "      <th></th>\n",
       "      <th></th>\n",
       "      <th></th>\n",
       "      <th></th>\n",
       "      <th></th>\n",
       "      <th></th>\n",
       "    </tr>\n",
       "  </thead>\n",
       "  <tbody>\n",
       "    <tr>\n",
       "      <th>2013-01-01 00:00:00+00:00</th>\n",
       "      <td>13.0</td>\n",
       "      <td>1</td>\n",
       "      <td>Riceland</td>\n",
       "      <td>1</td>\n",
       "      <td>Riceland American Jazmine Rice</td>\n",
       "      <td>0.84</td>\n",
       "      <td>35200264013</td>\n",
       "      <td>35200264013</td>\n",
       "      <td>12125 Alamo Ranch Pkwy</td>\n",
       "      <td>San Antonio</td>\n",
       "      <td>1</td>\n",
       "      <td>TX</td>\n",
       "      <td>78253</td>\n",
       "      <td>January</td>\n",
       "      <td>Tuesday</td>\n",
       "      <td>10.92</td>\n",
       "    </tr>\n",
       "  </tbody>\n",
       "</table>\n",
       "</div>"
      ],
      "text/plain": [
       "                           sale_amount  sale_id item_brand  item_id  \\\n",
       "sale_date                                                             \n",
       "2013-01-01 00:00:00+00:00         13.0        1   Riceland        1   \n",
       "\n",
       "                                                item_name  item_price  \\\n",
       "sale_date                                                               \n",
       "2013-01-01 00:00:00+00:00  Riceland American Jazmine Rice        0.84   \n",
       "\n",
       "                            item_upc12   item_upc14           store_address  \\\n",
       "sale_date                                                                     \n",
       "2013-01-01 00:00:00+00:00  35200264013  35200264013  12125 Alamo Ranch Pkwy   \n",
       "\n",
       "                            store_city  store_id store_state  store_zipcode  \\\n",
       "sale_date                                                                     \n",
       "2013-01-01 00:00:00+00:00  San Antonio         1          TX          78253   \n",
       "\n",
       "                             month day_of_week  sales_total  \n",
       "sale_date                                                    \n",
       "2013-01-01 00:00:00+00:00  January     Tuesday        10.92  "
      ]
     },
     "execution_count": 14,
     "metadata": {},
     "output_type": "execute_result"
    }
   ],
   "source": [
    "df.head(1)"
   ]
  },
  {
   "cell_type": "code",
   "execution_count": 15,
   "id": "5cc1b4e9-8bb5-4263-9573-9f9085dbf35d",
   "metadata": {},
   "outputs": [
    {
     "data": {
      "image/png": "[encoded data removed]",
      "text/plain": [
       "<Figure size 432x288 with 1 Axes>"
      ]
     },
     "metadata": {
      "needs_background": "light"
     },
     "output_type": "display_data"
    }
   ],
   "source": [
    "sns.distplot(df.sales_total)\n",
    "plt.title('Distribution of Sale Total')\n",
    "plt.xlabel('Sale Total ($)');"
   ]
  },
  {
   "cell_type": "markdown",
   "id": "310ac900-b0e7-4cb8-84bc-fd63329eea67",
   "metadata": {},
   "source": [
    "### 6."
   ]
  },
  {
   "cell_type": "markdown",
   "id": "ca61bf39-8aca-4f27-b3e9-c539073e9e43",
   "metadata": {},
   "source": [
    "Make sure all the work that you have done above is reproducible. That is, you should put the code above into separate functions and be able to re-run the functions and get the same results."
   ]
  },
  {
   "cell_type": "code",
   "execution_count": 16,
   "id": "fd857695-15eb-4272-bab8-0458eaa0e777",
   "metadata": {},
   "outputs": [],
   "source": [
    "def clean_sales_data():\n",
    "    '''\n",
    "    Requires no inputs and returns cleaned sales data df\n",
    "    '''\n",
    "    df = a.combined_df() # call acquire function to get all data from API\n",
    "    df = df.drop(columns=['item', 'store']) # drop redundant columns\n",
    "    df.sale_date = pd.to_datetime(df.sale_date) # convert data column into datetime dtype\n",
    "    df = df.set_index('sale_date') # set data column as index\n",
    "    df['month'] = df.index.month_name() # add month name column\n",
    "    df['day_of_week'] = df.index.day_name() # add day name column\n",
    "    df['sales_total'] = df.sale_amount * df.item_price # add total sale amount column\n",
    "    return df"
   ]
  },
  {
   "cell_type": "code",
   "execution_count": 17,
   "id": "bb998e1a-f6e2-4f24-8de3-3fb8d12d8f34",
   "metadata": {},
   "outputs": [],
   "source": [
    "# # run it calling function from notebook\n",
    "# df = clean_sales_data()\n",
    "# df.head(1)"
   ]
  },
  {
   "cell_type": "code",
   "execution_count": 18,
   "id": "52737fae-79f9-4687-bd84-63a474e88b32",
   "metadata": {},
   "outputs": [],
   "source": [
    "# # run it using imported module\n",
    "# df = p.clean_sales_data()\n",
    "# df.head()"
   ]
  },
  {
   "cell_type": "code",
   "execution_count": 19,
   "id": "e4b806c9-d541-41a7-a826-a58463a18f06",
   "metadata": {},
   "outputs": [
    {
     "data": {
      "text/html": [
       "<div>\n",
       "<style scoped>\n",
       "    .dataframe tbody tr th:only-of-type {\n",
       "        vertical-align: middle;\n",
       "    }\n",
       "\n",
       "    .dataframe tbody tr th {\n",
       "        vertical-align: top;\n",
       "    }\n",
       "\n",
       "    .dataframe thead th {\n",
       "        text-align: right;\n",
       "    }\n",
       "</style>\n",
       "<table border=\"1\" class=\"dataframe\">\n",
       "  <thead>\n",
       "    <tr style=\"text-align: right;\">\n",
       "      <th></th>\n",
       "      <th>sale_amount</th>\n",
       "      <th>sale_id</th>\n",
       "      <th>item_brand</th>\n",
       "      <th>item_id</th>\n",
       "      <th>item_name</th>\n",
       "      <th>item_price</th>\n",
       "      <th>item_upc12</th>\n",
       "      <th>item_upc14</th>\n",
       "      <th>store_address</th>\n",
       "      <th>store_city</th>\n",
       "      <th>store_id</th>\n",
       "      <th>store_state</th>\n",
       "      <th>store_zipcode</th>\n",
       "      <th>month</th>\n",
       "      <th>day_of_week</th>\n",
       "      <th>sales_total</th>\n",
       "    </tr>\n",
       "    <tr>\n",
       "      <th>sale_date</th>\n",
       "      <th></th>\n",
       "      <th></th>\n",
       "      <th></th>\n",
       "      <th></th>\n",
       "      <th></th>\n",
       "      <th></th>\n",
       "      <th></th>\n",
       "      <th></th>\n",
       "      <th></th>\n",
       "      <th></th>\n",
       "      <th></th>\n",
       "      <th></th>\n",
       "      <th></th>\n",
       "      <th></th>\n",
       "      <th></th>\n",
       "      <th></th>\n",
       "    </tr>\n",
       "  </thead>\n",
       "  <tbody>\n",
       "    <tr>\n",
       "      <th>2013-01-01 00:00:00+00:00</th>\n",
       "      <td>13.0</td>\n",
       "      <td>1</td>\n",
       "      <td>Riceland</td>\n",
       "      <td>1</td>\n",
       "      <td>Riceland American Jazmine Rice</td>\n",
       "      <td>0.84</td>\n",
       "      <td>35200264013</td>\n",
       "      <td>35200264013</td>\n",
       "      <td>12125 Alamo Ranch Pkwy</td>\n",
       "      <td>San Antonio</td>\n",
       "      <td>1</td>\n",
       "      <td>TX</td>\n",
       "      <td>78253</td>\n",
       "      <td>January</td>\n",
       "      <td>Tuesday</td>\n",
       "      <td>10.92</td>\n",
       "    </tr>\n",
       "  </tbody>\n",
       "</table>\n",
       "</div>"
      ],
      "text/plain": [
       "                           sale_amount  sale_id item_brand  item_id  \\\n",
       "sale_date                                                             \n",
       "2013-01-01 00:00:00+00:00         13.0        1   Riceland        1   \n",
       "\n",
       "                                                item_name  item_price  \\\n",
       "sale_date                                                               \n",
       "2013-01-01 00:00:00+00:00  Riceland American Jazmine Rice        0.84   \n",
       "\n",
       "                            item_upc12   item_upc14           store_address  \\\n",
       "sale_date                                                                     \n",
       "2013-01-01 00:00:00+00:00  35200264013  35200264013  12125 Alamo Ranch Pkwy   \n",
       "\n",
       "                            store_city  store_id store_state  store_zipcode  \\\n",
       "sale_date                                                                     \n",
       "2013-01-01 00:00:00+00:00  San Antonio         1          TX          78253   \n",
       "\n",
       "                             month day_of_week  sales_total  \n",
       "sale_date                                                    \n",
       "2013-01-01 00:00:00+00:00  January     Tuesday        10.92  "
      ]
     },
     "execution_count": 19,
     "metadata": {},
     "output_type": "execute_result"
    }
   ],
   "source": [
    "# write a function to cache it since it takes a minute to run\n",
    "df = p.get_clean_sales_data()\n",
    "df.head(1)"
   ]
  },
  {
   "cell_type": "markdown",
   "id": "bacd4a40-8216-4d1a-8915-a8e05e5bdf88",
   "metadata": {},
   "source": [
    "## OPS Data"
   ]
  },
  {
   "cell_type": "markdown",
   "id": "d9a2349f-3f81-4f0f-8f19-2e0f57de894e",
   "metadata": {},
   "source": [
    "Using the OPS data acquired in the Acquire exercises `opsd_germany_daily.csv`, complete the following:"
   ]
  },
  {
   "cell_type": "code",
   "execution_count": 20,
   "id": "f65ebcf7-c5a3-4690-8cfa-07d78584e66a",
   "metadata": {},
   "outputs": [],
   "source": [
    "df = a.get_power()"
   ]
  },
  {
   "cell_type": "code",
   "execution_count": 21,
   "id": "3aca633a-2dc7-486b-93af-46a35da0ea15",
   "metadata": {},
   "outputs": [
    {
     "data": {
      "text/html": [
       "<div>\n",
       "<style scoped>\n",
       "    .dataframe tbody tr th:only-of-type {\n",
       "        vertical-align: middle;\n",
       "    }\n",
       "\n",
       "    .dataframe tbody tr th {\n",
       "        vertical-align: top;\n",
       "    }\n",
       "\n",
       "    .dataframe thead th {\n",
       "        text-align: right;\n",
       "    }\n",
       "</style>\n",
       "<table border=\"1\" class=\"dataframe\">\n",
       "  <thead>\n",
       "    <tr style=\"text-align: right;\">\n",
       "      <th></th>\n",
       "      <th>Date</th>\n",
       "      <th>Consumption</th>\n",
       "      <th>Wind</th>\n",
       "      <th>Solar</th>\n",
       "      <th>Wind+Solar</th>\n",
       "    </tr>\n",
       "  </thead>\n",
       "  <tbody>\n",
       "    <tr>\n",
       "      <th>0</th>\n",
       "      <td>2006-01-01</td>\n",
       "      <td>1069.184</td>\n",
       "      <td>NaN</td>\n",
       "      <td>NaN</td>\n",
       "      <td>NaN</td>\n",
       "    </tr>\n",
       "    <tr>\n",
       "      <th>1</th>\n",
       "      <td>2006-01-02</td>\n",
       "      <td>1380.521</td>\n",
       "      <td>NaN</td>\n",
       "      <td>NaN</td>\n",
       "      <td>NaN</td>\n",
       "    </tr>\n",
       "    <tr>\n",
       "      <th>2</th>\n",
       "      <td>2006-01-03</td>\n",
       "      <td>1442.533</td>\n",
       "      <td>NaN</td>\n",
       "      <td>NaN</td>\n",
       "      <td>NaN</td>\n",
       "    </tr>\n",
       "    <tr>\n",
       "      <th>3</th>\n",
       "      <td>2006-01-04</td>\n",
       "      <td>1457.217</td>\n",
       "      <td>NaN</td>\n",
       "      <td>NaN</td>\n",
       "      <td>NaN</td>\n",
       "    </tr>\n",
       "    <tr>\n",
       "      <th>4</th>\n",
       "      <td>2006-01-05</td>\n",
       "      <td>1477.131</td>\n",
       "      <td>NaN</td>\n",
       "      <td>NaN</td>\n",
       "      <td>NaN</td>\n",
       "    </tr>\n",
       "  </tbody>\n",
       "</table>\n",
       "</div>"
      ],
      "text/plain": [
       "         Date  Consumption  Wind  Solar  Wind+Solar\n",
       "0  2006-01-01     1069.184   NaN    NaN         NaN\n",
       "1  2006-01-02     1380.521   NaN    NaN         NaN\n",
       "2  2006-01-03     1442.533   NaN    NaN         NaN\n",
       "3  2006-01-04     1457.217   NaN    NaN         NaN\n",
       "4  2006-01-05     1477.131   NaN    NaN         NaN"
      ]
     },
     "execution_count": 21,
     "metadata": {},
     "output_type": "execute_result"
    }
   ],
   "source": [
    "df.head()"
   ]
  },
  {
   "cell_type": "code",
   "execution_count": 22,
   "id": "11dde608-2d6f-413a-b578-56443e086099",
   "metadata": {},
   "outputs": [
    {
     "data": {
      "text/plain": [
       "str"
      ]
     },
     "execution_count": 22,
     "metadata": {},
     "output_type": "execute_result"
    }
   ],
   "source": [
    "type(df.Date[0])"
   ]
  },
  {
   "cell_type": "code",
   "execution_count": 23,
   "id": "3a0d4feb-4472-44d7-abd3-31c1138ec51a",
   "metadata": {},
   "outputs": [
    {
     "data": {
      "text/plain": [
       "(4383, 5)"
      ]
     },
     "execution_count": 23,
     "metadata": {},
     "output_type": "execute_result"
    }
   ],
   "source": [
    "df.shape"
   ]
  },
  {
   "cell_type": "markdown",
   "id": "4e6d1da1-f0eb-42b0-bf7c-3711ce09bfd7",
   "metadata": {},
   "source": [
    "### 1."
   ]
  },
  {
   "cell_type": "markdown",
   "id": "9291b12d-09d4-4ffb-8bae-3e19671a9b97",
   "metadata": {},
   "source": [
    "Convert date column to datetime format."
   ]
  },
  {
   "cell_type": "code",
   "execution_count": 24,
   "id": "e5d57fbc-665a-4c4c-ad4a-dd4811fe9d1e",
   "metadata": {},
   "outputs": [],
   "source": [
    "df.Date = pd.to_datetime(df.Date)"
   ]
  },
  {
   "cell_type": "markdown",
   "id": "fcc3ba23-79e1-4a7c-976e-665c2021eef6",
   "metadata": {},
   "source": [
    "### 2."
   ]
  },
  {
   "cell_type": "markdown",
   "id": "4061da02-2741-46c8-8f5d-d069eab52787",
   "metadata": {},
   "source": [
    "Plot the distribution of each of your variables."
   ]
  },
  {
   "cell_type": "code",
   "execution_count": 25,
   "id": "f7608cb8-ee5e-4b6d-b186-d50ea631b8a0",
   "metadata": {},
   "outputs": [
    {
     "data": {
      "image/png": "[encoded data removed]",
      "text/plain": [
       "<Figure size 432x288 with 1 Axes>"
      ]
     },
     "metadata": {
      "needs_background": "light"
     },
     "output_type": "display_data"
    },
    {
     "data": {
      "image/png": "[encoded data removed]",
      "text/plain": [
       "<Figure size 432x288 with 1 Axes>"
      ]
     },
     "metadata": {
      "needs_background": "light"
     },
     "output_type": "display_data"
    },
    {
     "data": {
      "image/png": "[encoded data removed]",
      "text/plain": [
       "<Figure size 432x288 with 1 Axes>"
      ]
     },
     "metadata": {
      "needs_background": "light"
     },
     "output_type": "display_data"
    },
    {
     "data": {
      "image/png": "[encoded data removed]",
      "text/plain": [
       "<Figure size 432x288 with 1 Axes>"
      ]
     },
     "metadata": {
      "needs_background": "light"
     },
     "output_type": "display_data"
    },
    {
     "data": {
      "image/png": "[encoded data removed]",
      "text/plain": [
       "<Figure size 432x288 with 1 Axes>"
      ]
     },
     "metadata": {
      "needs_background": "light"
     },
     "output_type": "display_data"
    }
   ],
   "source": [
    "for col in df.columns:\n",
    "    sns.distplot(df[col])\n",
    "    plt.show()"
   ]
  },
  {
   "cell_type": "markdown",
   "id": "fe055941-f956-4f7f-a5d5-f9b3f1326734",
   "metadata": {},
   "source": [
    "### 3."
   ]
  },
  {
   "cell_type": "markdown",
   "id": "4796083e-a154-4239-9d53-bc6a0b0046a9",
   "metadata": {},
   "source": [
    "Set the index to be the datetime variable."
   ]
  },
  {
   "cell_type": "code",
   "execution_count": 26,
   "id": "f2b0fa3f-b5d2-4068-a0e6-d0dd52cb4f4f",
   "metadata": {},
   "outputs": [],
   "source": [
    "df = df.set_index('Date')"
   ]
  },
  {
   "cell_type": "markdown",
   "id": "03eb835c-877e-4364-91ba-9dd3cfbeb0d1",
   "metadata": {},
   "source": [
    "### 4."
   ]
  },
  {
   "cell_type": "markdown",
   "id": "d925ac60-b364-4ed5-b176-501f243a4d20",
   "metadata": {},
   "source": [
    "Add a month and a year column to your dataframe."
   ]
  },
  {
   "cell_type": "code",
   "execution_count": 27,
   "id": "7b03d1ce-3b19-415f-8155-69fbce73a438",
   "metadata": {},
   "outputs": [
    {
     "data": {
      "text/html": [
       "<div>\n",
       "<style scoped>\n",
       "    .dataframe tbody tr th:only-of-type {\n",
       "        vertical-align: middle;\n",
       "    }\n",
       "\n",
       "    .dataframe tbody tr th {\n",
       "        vertical-align: top;\n",
       "    }\n",
       "\n",
       "    .dataframe thead th {\n",
       "        text-align: right;\n",
       "    }\n",
       "</style>\n",
       "<table border=\"1\" class=\"dataframe\">\n",
       "  <thead>\n",
       "    <tr style=\"text-align: right;\">\n",
       "      <th></th>\n",
       "      <th>Consumption</th>\n",
       "      <th>Wind</th>\n",
       "      <th>Solar</th>\n",
       "      <th>Wind+Solar</th>\n",
       "      <th>month</th>\n",
       "      <th>year</th>\n",
       "    </tr>\n",
       "    <tr>\n",
       "      <th>Date</th>\n",
       "      <th></th>\n",
       "      <th></th>\n",
       "      <th></th>\n",
       "      <th></th>\n",
       "      <th></th>\n",
       "      <th></th>\n",
       "    </tr>\n",
       "  </thead>\n",
       "  <tbody>\n",
       "    <tr>\n",
       "      <th>2006-01-01</th>\n",
       "      <td>1069.184</td>\n",
       "      <td>NaN</td>\n",
       "      <td>NaN</td>\n",
       "      <td>NaN</td>\n",
       "      <td>January</td>\n",
       "      <td>2006</td>\n",
       "    </tr>\n",
       "    <tr>\n",
       "      <th>2006-01-02</th>\n",
       "      <td>1380.521</td>\n",
       "      <td>NaN</td>\n",
       "      <td>NaN</td>\n",
       "      <td>NaN</td>\n",
       "      <td>January</td>\n",
       "      <td>2006</td>\n",
       "    </tr>\n",
       "    <tr>\n",
       "      <th>2006-01-03</th>\n",
       "      <td>1442.533</td>\n",
       "      <td>NaN</td>\n",
       "      <td>NaN</td>\n",
       "      <td>NaN</td>\n",
       "      <td>January</td>\n",
       "      <td>2006</td>\n",
       "    </tr>\n",
       "    <tr>\n",
       "      <th>2006-01-04</th>\n",
       "      <td>1457.217</td>\n",
       "      <td>NaN</td>\n",
       "      <td>NaN</td>\n",
       "      <td>NaN</td>\n",
       "      <td>January</td>\n",
       "      <td>2006</td>\n",
       "    </tr>\n",
       "    <tr>\n",
       "      <th>2006-01-05</th>\n",
       "      <td>1477.131</td>\n",
       "      <td>NaN</td>\n",
       "      <td>NaN</td>\n",
       "      <td>NaN</td>\n",
       "      <td>January</td>\n",
       "      <td>2006</td>\n",
       "    </tr>\n",
       "  </tbody>\n",
       "</table>\n",
       "</div>"
      ],
      "text/plain": [
       "            Consumption  Wind  Solar  Wind+Solar    month  year\n",
       "Date                                                           \n",
       "2006-01-01     1069.184   NaN    NaN         NaN  January  2006\n",
       "2006-01-02     1380.521   NaN    NaN         NaN  January  2006\n",
       "2006-01-03     1442.533   NaN    NaN         NaN  January  2006\n",
       "2006-01-04     1457.217   NaN    NaN         NaN  January  2006\n",
       "2006-01-05     1477.131   NaN    NaN         NaN  January  2006"
      ]
     },
     "execution_count": 27,
     "metadata": {},
     "output_type": "execute_result"
    }
   ],
   "source": [
    "df['month'] = df.index.month_name()\n",
    "df['year'] = df.index.year\n",
    "df.head()"
   ]
  },
  {
   "cell_type": "markdown",
   "id": "0c3c5cef-e872-4c9d-b560-56b58ab8be45",
   "metadata": {},
   "source": [
    "### 5."
   ]
  },
  {
   "cell_type": "markdown",
   "id": "b39afed0-67c7-430c-8519-fc7059fb9cd4",
   "metadata": {},
   "source": [
    "Fill any missing values.\n",
    "- Wind data didn't start being recorded until 2010\n",
    "- Solar data didn't start being recorded until 2012\n",
    "- All usage types are highly seasonal"
   ]
  },
  {
   "cell_type": "code",
   "execution_count": 28,
   "id": "d017e637-dccd-46ee-855d-4bdb6110201f",
   "metadata": {},
   "outputs": [
    {
     "data": {
      "image/png": "[encoded data removed]",
      "text/plain": [
       "<Figure size 432x288 with 1 Axes>"
      ]
     },
     "metadata": {
      "needs_background": "light"
     },
     "output_type": "display_data"
    }
   ],
   "source": [
    "df.plot()\n",
    "plt.tight_layout();"
   ]
  },
  {
   "cell_type": "markdown",
   "id": "a02c4e94-5915-497a-9032-f5ff7f230e08",
   "metadata": {},
   "source": [
    "#### Wind Imputation"
   ]
  },
  {
   "cell_type": "code",
   "execution_count": 29,
   "id": "a46ae6a8-dab9-4459-ab92-313f4cb9501d",
   "metadata": {},
   "outputs": [
    {
     "data": {
      "text/plain": [
       "0.0"
      ]
     },
     "execution_count": 29,
     "metadata": {},
     "output_type": "execute_result"
    }
   ],
   "source": [
    "# let's see if there are any values for wind before 2010\n",
    "df.Wind[df.year < 2010].sum()"
   ]
  },
  {
   "cell_type": "code",
   "execution_count": 30,
   "id": "bc77ff2e-1e71-4ef1-96fd-22dc0609246a",
   "metadata": {},
   "outputs": [],
   "source": [
    "# let's impute all those values as Os\n",
    "df.Wind = np.where(df.year < 2010, 0, df.Wind)\n",
    "# looks like we still have 2 left"
   ]
  },
  {
   "cell_type": "code",
   "execution_count": 31,
   "id": "0070dfac-e921-488e-a2c1-e8ca2b80b4f1",
   "metadata": {},
   "outputs": [
    {
     "data": {
      "text/html": [
       "<div>\n",
       "<style scoped>\n",
       "    .dataframe tbody tr th:only-of-type {\n",
       "        vertical-align: middle;\n",
       "    }\n",
       "\n",
       "    .dataframe tbody tr th {\n",
       "        vertical-align: top;\n",
       "    }\n",
       "\n",
       "    .dataframe thead th {\n",
       "        text-align: right;\n",
       "    }\n",
       "</style>\n",
       "<table border=\"1\" class=\"dataframe\">\n",
       "  <thead>\n",
       "    <tr style=\"text-align: right;\">\n",
       "      <th></th>\n",
       "      <th>Consumption</th>\n",
       "      <th>Wind</th>\n",
       "      <th>Solar</th>\n",
       "      <th>Wind+Solar</th>\n",
       "      <th>month</th>\n",
       "      <th>year</th>\n",
       "    </tr>\n",
       "    <tr>\n",
       "      <th>Date</th>\n",
       "      <th></th>\n",
       "      <th></th>\n",
       "      <th></th>\n",
       "      <th></th>\n",
       "      <th></th>\n",
       "      <th></th>\n",
       "    </tr>\n",
       "  </thead>\n",
       "  <tbody>\n",
       "    <tr>\n",
       "      <th>2011-12-14</th>\n",
       "      <td>1531.311</td>\n",
       "      <td>NaN</td>\n",
       "      <td>NaN</td>\n",
       "      <td>NaN</td>\n",
       "      <td>December</td>\n",
       "      <td>2011</td>\n",
       "    </tr>\n",
       "    <tr>\n",
       "      <th>2014-03-12</th>\n",
       "      <td>1516.331</td>\n",
       "      <td>NaN</td>\n",
       "      <td>148.507</td>\n",
       "      <td>NaN</td>\n",
       "      <td>March</td>\n",
       "      <td>2014</td>\n",
       "    </tr>\n",
       "  </tbody>\n",
       "</table>\n",
       "</div>"
      ],
      "text/plain": [
       "            Consumption  Wind    Solar  Wind+Solar     month  year\n",
       "Date                                                              \n",
       "2011-12-14     1531.311   NaN      NaN         NaN  December  2011\n",
       "2014-03-12     1516.331   NaN  148.507         NaN     March  2014"
      ]
     },
     "execution_count": 31,
     "metadata": {},
     "output_type": "execute_result"
    }
   ],
   "source": [
    "# lets took a look at rows in wind column where a null remains\n",
    "df[np.isnan(df.Wind)]"
   ]
  },
  {
   "cell_type": "code",
   "execution_count": 32,
   "id": "96e70903-d4e4-4b23-95b8-f0af0b71d31b",
   "metadata": {},
   "outputs": [],
   "source": [
    "# lets add column for wind for the previous time point (day)\n",
    "df['wind_previous_day'] = df.Wind.shift(1)"
   ]
  },
  {
   "cell_type": "code",
   "execution_count": 33,
   "id": "e94d29c7-8050-455a-b06f-0467d017a837",
   "metadata": {},
   "outputs": [],
   "source": [
    "# now lets make those that are null equal to the value from the previous day for the two remaining nulls\n",
    "df.Wind[np.isnan(df.Wind)] = df.wind_previous_day"
   ]
  },
  {
   "cell_type": "markdown",
   "id": "c2457780-bb65-4cce-8bf7-dd86c1d7b138",
   "metadata": {},
   "source": [
    "#### Solar Imputation"
   ]
  },
  {
   "cell_type": "code",
   "execution_count": 34,
   "id": "1ea2ad3c-e3cb-4899-bb4b-f34ba15e297d",
   "metadata": {},
   "outputs": [
    {
     "data": {
      "text/plain": [
       "0.0"
      ]
     },
     "execution_count": 34,
     "metadata": {},
     "output_type": "execute_result"
    }
   ],
   "source": [
    "# let's see if there are any values for solar before 2012\n",
    "df.Solar[df.year < 2012].sum()"
   ]
  },
  {
   "cell_type": "code",
   "execution_count": 35,
   "id": "eb834724-9f5e-4101-bd4b-f4e0be3dcbfe",
   "metadata": {},
   "outputs": [],
   "source": [
    "# let's impute all those values as Os\n",
    "df.Solar = np.where(df.year < 2012, 0, df.Solar)\n",
    "# looks like we still have 4 left"
   ]
  },
  {
   "cell_type": "code",
   "execution_count": 36,
   "id": "07176653-b4b2-4af5-84d1-78a923f19ff3",
   "metadata": {},
   "outputs": [
    {
     "data": {
      "text/html": [
       "<div>\n",
       "<style scoped>\n",
       "    .dataframe tbody tr th:only-of-type {\n",
       "        vertical-align: middle;\n",
       "    }\n",
       "\n",
       "    .dataframe tbody tr th {\n",
       "        vertical-align: top;\n",
       "    }\n",
       "\n",
       "    .dataframe thead th {\n",
       "        text-align: right;\n",
       "    }\n",
       "</style>\n",
       "<table border=\"1\" class=\"dataframe\">\n",
       "  <thead>\n",
       "    <tr style=\"text-align: right;\">\n",
       "      <th></th>\n",
       "      <th>Consumption</th>\n",
       "      <th>Wind</th>\n",
       "      <th>Solar</th>\n",
       "      <th>Wind+Solar</th>\n",
       "      <th>month</th>\n",
       "      <th>year</th>\n",
       "      <th>wind_previous_day</th>\n",
       "    </tr>\n",
       "    <tr>\n",
       "      <th>Date</th>\n",
       "      <th></th>\n",
       "      <th></th>\n",
       "      <th></th>\n",
       "      <th></th>\n",
       "      <th></th>\n",
       "      <th></th>\n",
       "      <th></th>\n",
       "    </tr>\n",
       "  </thead>\n",
       "  <tbody>\n",
       "    <tr>\n",
       "      <th>2013-03-30</th>\n",
       "      <td>1092.932</td>\n",
       "      <td>20.545</td>\n",
       "      <td>NaN</td>\n",
       "      <td>NaN</td>\n",
       "      <td>March</td>\n",
       "      <td>2013</td>\n",
       "      <td>37.969</td>\n",
       "    </tr>\n",
       "    <tr>\n",
       "      <th>2013-03-31</th>\n",
       "      <td>1002.856</td>\n",
       "      <td>39.624</td>\n",
       "      <td>NaN</td>\n",
       "      <td>NaN</td>\n",
       "      <td>March</td>\n",
       "      <td>2013</td>\n",
       "      <td>20.545</td>\n",
       "    </tr>\n",
       "    <tr>\n",
       "      <th>2014-03-29</th>\n",
       "      <td>1243.377</td>\n",
       "      <td>68.398</td>\n",
       "      <td>NaN</td>\n",
       "      <td>NaN</td>\n",
       "      <td>March</td>\n",
       "      <td>2014</td>\n",
       "      <td>110.056</td>\n",
       "    </tr>\n",
       "    <tr>\n",
       "      <th>2014-03-30</th>\n",
       "      <td>1125.085</td>\n",
       "      <td>18.572</td>\n",
       "      <td>NaN</td>\n",
       "      <td>NaN</td>\n",
       "      <td>March</td>\n",
       "      <td>2014</td>\n",
       "      <td>68.398</td>\n",
       "    </tr>\n",
       "  </tbody>\n",
       "</table>\n",
       "</div>"
      ],
      "text/plain": [
       "            Consumption    Wind  Solar  Wind+Solar  month  year  \\\n",
       "Date                                                              \n",
       "2013-03-30     1092.932  20.545    NaN         NaN  March  2013   \n",
       "2013-03-31     1002.856  39.624    NaN         NaN  March  2013   \n",
       "2014-03-29     1243.377  68.398    NaN         NaN  March  2014   \n",
       "2014-03-30     1125.085  18.572    NaN         NaN  March  2014   \n",
       "\n",
       "            wind_previous_day  \n",
       "Date                           \n",
       "2013-03-30             37.969  \n",
       "2013-03-31             20.545  \n",
       "2014-03-29            110.056  \n",
       "2014-03-30             68.398  "
      ]
     },
     "execution_count": 36,
     "metadata": {},
     "output_type": "execute_result"
    }
   ],
   "source": [
    "# lets took a look at rows in solar column where a null remains\n",
    "df[np.isnan(df.Solar)]"
   ]
  },
  {
   "cell_type": "code",
   "execution_count": 37,
   "id": "871d7063-1abd-4c41-b0c5-402f75a685d9",
   "metadata": {},
   "outputs": [],
   "source": [
    "# lets add column for wind for the previous time point (day)\n",
    "df['solar_previous_day'] = df.Solar.shift(1)"
   ]
  },
  {
   "cell_type": "code",
   "execution_count": 38,
   "id": "63b40f4c-8340-4fea-bc25-433e832fe6fd",
   "metadata": {},
   "outputs": [
    {
     "data": {
      "text/html": [
       "<div>\n",
       "<style scoped>\n",
       "    .dataframe tbody tr th:only-of-type {\n",
       "        vertical-align: middle;\n",
       "    }\n",
       "\n",
       "    .dataframe tbody tr th {\n",
       "        vertical-align: top;\n",
       "    }\n",
       "\n",
       "    .dataframe thead th {\n",
       "        text-align: right;\n",
       "    }\n",
       "</style>\n",
       "<table border=\"1\" class=\"dataframe\">\n",
       "  <thead>\n",
       "    <tr style=\"text-align: right;\">\n",
       "      <th></th>\n",
       "      <th>Consumption</th>\n",
       "      <th>Wind</th>\n",
       "      <th>Solar</th>\n",
       "      <th>Wind+Solar</th>\n",
       "      <th>month</th>\n",
       "      <th>year</th>\n",
       "      <th>wind_previous_day</th>\n",
       "      <th>solar_previous_day</th>\n",
       "    </tr>\n",
       "    <tr>\n",
       "      <th>Date</th>\n",
       "      <th></th>\n",
       "      <th></th>\n",
       "      <th></th>\n",
       "      <th></th>\n",
       "      <th></th>\n",
       "      <th></th>\n",
       "      <th></th>\n",
       "      <th></th>\n",
       "    </tr>\n",
       "  </thead>\n",
       "  <tbody>\n",
       "    <tr>\n",
       "      <th>2006-01-01</th>\n",
       "      <td>1069.184</td>\n",
       "      <td>0.0</td>\n",
       "      <td>0.0</td>\n",
       "      <td>NaN</td>\n",
       "      <td>January</td>\n",
       "      <td>2006</td>\n",
       "      <td>NaN</td>\n",
       "      <td>NaN</td>\n",
       "    </tr>\n",
       "    <tr>\n",
       "      <th>2006-01-02</th>\n",
       "      <td>1380.521</td>\n",
       "      <td>0.0</td>\n",
       "      <td>0.0</td>\n",
       "      <td>NaN</td>\n",
       "      <td>January</td>\n",
       "      <td>2006</td>\n",
       "      <td>0.0</td>\n",
       "      <td>0.0</td>\n",
       "    </tr>\n",
       "    <tr>\n",
       "      <th>2006-01-03</th>\n",
       "      <td>1442.533</td>\n",
       "      <td>0.0</td>\n",
       "      <td>0.0</td>\n",
       "      <td>NaN</td>\n",
       "      <td>January</td>\n",
       "      <td>2006</td>\n",
       "      <td>0.0</td>\n",
       "      <td>0.0</td>\n",
       "    </tr>\n",
       "    <tr>\n",
       "      <th>2006-01-04</th>\n",
       "      <td>1457.217</td>\n",
       "      <td>0.0</td>\n",
       "      <td>0.0</td>\n",
       "      <td>NaN</td>\n",
       "      <td>January</td>\n",
       "      <td>2006</td>\n",
       "      <td>0.0</td>\n",
       "      <td>0.0</td>\n",
       "    </tr>\n",
       "    <tr>\n",
       "      <th>2006-01-05</th>\n",
       "      <td>1477.131</td>\n",
       "      <td>0.0</td>\n",
       "      <td>0.0</td>\n",
       "      <td>NaN</td>\n",
       "      <td>January</td>\n",
       "      <td>2006</td>\n",
       "      <td>0.0</td>\n",
       "      <td>0.0</td>\n",
       "    </tr>\n",
       "  </tbody>\n",
       "</table>\n",
       "</div>"
      ],
      "text/plain": [
       "            Consumption  Wind  Solar  Wind+Solar    month  year  \\\n",
       "Date                                                              \n",
       "2006-01-01     1069.184   0.0    0.0         NaN  January  2006   \n",
       "2006-01-02     1380.521   0.0    0.0         NaN  January  2006   \n",
       "2006-01-03     1442.533   0.0    0.0         NaN  January  2006   \n",
       "2006-01-04     1457.217   0.0    0.0         NaN  January  2006   \n",
       "2006-01-05     1477.131   0.0    0.0         NaN  January  2006   \n",
       "\n",
       "            wind_previous_day  solar_previous_day  \n",
       "Date                                               \n",
       "2006-01-01                NaN                 NaN  \n",
       "2006-01-02                0.0                 0.0  \n",
       "2006-01-03                0.0                 0.0  \n",
       "2006-01-04                0.0                 0.0  \n",
       "2006-01-05                0.0                 0.0  "
      ]
     },
     "execution_count": 38,
     "metadata": {},
     "output_type": "execute_result"
    }
   ],
   "source": [
    "df.head()"
   ]
  },
  {
   "cell_type": "code",
   "execution_count": 39,
   "id": "15ffd665-2620-45e6-87d8-6d24f317d3dd",
   "metadata": {},
   "outputs": [],
   "source": [
    "# now lets make those that are null equal to the value from the previous day for the four remaining nulls\n",
    "df.Solar[np.isnan(df.Solar)] = df.solar_previous_day"
   ]
  },
  {
   "cell_type": "code",
   "execution_count": 40,
   "id": "30e19f9d-bd45-42e4-aaa6-a5c99e18bd92",
   "metadata": {},
   "outputs": [],
   "source": [
    "# run it again since missing values were grouped together\n",
    "df['solar_previous_day'] = df.Solar.shift(1)\n",
    "df.Solar[np.isnan(df.Solar)] = df.solar_previous_day"
   ]
  },
  {
   "cell_type": "markdown",
   "id": "033ba6ad-2873-40bb-9c3f-1b12ab468adc",
   "metadata": {},
   "source": [
    "#### Solar+Wind Imputation"
   ]
  },
  {
   "cell_type": "code",
   "execution_count": 41,
   "id": "d55f5106-000a-45e0-96cc-6e8519eaea30",
   "metadata": {},
   "outputs": [
    {
     "data": {
      "text/html": [
       "<div>\n",
       "<style scoped>\n",
       "    .dataframe tbody tr th:only-of-type {\n",
       "        vertical-align: middle;\n",
       "    }\n",
       "\n",
       "    .dataframe tbody tr th {\n",
       "        vertical-align: top;\n",
       "    }\n",
       "\n",
       "    .dataframe thead th {\n",
       "        text-align: right;\n",
       "    }\n",
       "</style>\n",
       "<table border=\"1\" class=\"dataframe\">\n",
       "  <thead>\n",
       "    <tr style=\"text-align: right;\">\n",
       "      <th></th>\n",
       "      <th>Consumption</th>\n",
       "      <th>Wind</th>\n",
       "      <th>Solar</th>\n",
       "      <th>Wind+Solar</th>\n",
       "      <th>month</th>\n",
       "      <th>year</th>\n",
       "      <th>wind_previous_day</th>\n",
       "      <th>solar_previous_day</th>\n",
       "    </tr>\n",
       "    <tr>\n",
       "      <th>Date</th>\n",
       "      <th></th>\n",
       "      <th></th>\n",
       "      <th></th>\n",
       "      <th></th>\n",
       "      <th></th>\n",
       "      <th></th>\n",
       "      <th></th>\n",
       "      <th></th>\n",
       "    </tr>\n",
       "  </thead>\n",
       "  <tbody>\n",
       "    <tr>\n",
       "      <th>2012-01-01</th>\n",
       "      <td>948.12800</td>\n",
       "      <td>227.465</td>\n",
       "      <td>6.587</td>\n",
       "      <td>234.052</td>\n",
       "      <td>January</td>\n",
       "      <td>2012</td>\n",
       "      <td>83.185</td>\n",
       "      <td>0.000</td>\n",
       "    </tr>\n",
       "    <tr>\n",
       "      <th>2012-01-02</th>\n",
       "      <td>1269.58100</td>\n",
       "      <td>207.327</td>\n",
       "      <td>6.574</td>\n",
       "      <td>213.901</td>\n",
       "      <td>January</td>\n",
       "      <td>2012</td>\n",
       "      <td>227.465</td>\n",
       "      <td>6.587</td>\n",
       "    </tr>\n",
       "    <tr>\n",
       "      <th>2012-01-03</th>\n",
       "      <td>1334.74500</td>\n",
       "      <td>473.468</td>\n",
       "      <td>24.679</td>\n",
       "      <td>498.147</td>\n",
       "      <td>January</td>\n",
       "      <td>2012</td>\n",
       "      <td>207.327</td>\n",
       "      <td>6.574</td>\n",
       "    </tr>\n",
       "    <tr>\n",
       "      <th>2012-01-05</th>\n",
       "      <td>1376.65800</td>\n",
       "      <td>523.851</td>\n",
       "      <td>5.071</td>\n",
       "      <td>528.922</td>\n",
       "      <td>January</td>\n",
       "      <td>2012</td>\n",
       "      <td>499.804</td>\n",
       "      <td>14.681</td>\n",
       "    </tr>\n",
       "    <tr>\n",
       "      <th>2012-01-06</th>\n",
       "      <td>1291.21500</td>\n",
       "      <td>286.265</td>\n",
       "      <td>13.160</td>\n",
       "      <td>299.425</td>\n",
       "      <td>January</td>\n",
       "      <td>2012</td>\n",
       "      <td>523.851</td>\n",
       "      <td>5.071</td>\n",
       "    </tr>\n",
       "    <tr>\n",
       "      <th>...</th>\n",
       "      <td>...</td>\n",
       "      <td>...</td>\n",
       "      <td>...</td>\n",
       "      <td>...</td>\n",
       "      <td>...</td>\n",
       "      <td>...</td>\n",
       "      <td>...</td>\n",
       "      <td>...</td>\n",
       "    </tr>\n",
       "    <tr>\n",
       "      <th>2017-12-25</th>\n",
       "      <td>1111.28338</td>\n",
       "      <td>587.810</td>\n",
       "      <td>15.765</td>\n",
       "      <td>603.575</td>\n",
       "      <td>December</td>\n",
       "      <td>2017</td>\n",
       "      <td>812.422</td>\n",
       "      <td>9.949</td>\n",
       "    </tr>\n",
       "    <tr>\n",
       "      <th>2017-12-26</th>\n",
       "      <td>1130.11683</td>\n",
       "      <td>717.453</td>\n",
       "      <td>30.923</td>\n",
       "      <td>748.376</td>\n",
       "      <td>December</td>\n",
       "      <td>2017</td>\n",
       "      <td>587.810</td>\n",
       "      <td>15.765</td>\n",
       "    </tr>\n",
       "    <tr>\n",
       "      <th>2017-12-27</th>\n",
       "      <td>1263.94091</td>\n",
       "      <td>394.507</td>\n",
       "      <td>16.530</td>\n",
       "      <td>411.037</td>\n",
       "      <td>December</td>\n",
       "      <td>2017</td>\n",
       "      <td>717.453</td>\n",
       "      <td>30.923</td>\n",
       "    </tr>\n",
       "    <tr>\n",
       "      <th>2017-12-29</th>\n",
       "      <td>1295.08753</td>\n",
       "      <td>584.277</td>\n",
       "      <td>29.854</td>\n",
       "      <td>614.131</td>\n",
       "      <td>December</td>\n",
       "      <td>2017</td>\n",
       "      <td>506.424</td>\n",
       "      <td>14.162</td>\n",
       "    </tr>\n",
       "    <tr>\n",
       "      <th>2017-12-31</th>\n",
       "      <td>1107.11488</td>\n",
       "      <td>721.176</td>\n",
       "      <td>19.980</td>\n",
       "      <td>741.156</td>\n",
       "      <td>December</td>\n",
       "      <td>2017</td>\n",
       "      <td>721.247</td>\n",
       "      <td>7.467</td>\n",
       "    </tr>\n",
       "  </tbody>\n",
       "</table>\n",
       "<p>1281 rows × 8 columns</p>\n",
       "</div>"
      ],
      "text/plain": [
       "            Consumption     Wind   Solar  Wind+Solar     month  year  \\\n",
       "Date                                                                   \n",
       "2012-01-01    948.12800  227.465   6.587     234.052   January  2012   \n",
       "2012-01-02   1269.58100  207.327   6.574     213.901   January  2012   \n",
       "2012-01-03   1334.74500  473.468  24.679     498.147   January  2012   \n",
       "2012-01-05   1376.65800  523.851   5.071     528.922   January  2012   \n",
       "2012-01-06   1291.21500  286.265  13.160     299.425   January  2012   \n",
       "...                 ...      ...     ...         ...       ...   ...   \n",
       "2017-12-25   1111.28338  587.810  15.765     603.575  December  2017   \n",
       "2017-12-26   1130.11683  717.453  30.923     748.376  December  2017   \n",
       "2017-12-27   1263.94091  394.507  16.530     411.037  December  2017   \n",
       "2017-12-29   1295.08753  584.277  29.854     614.131  December  2017   \n",
       "2017-12-31   1107.11488  721.176  19.980     741.156  December  2017   \n",
       "\n",
       "            wind_previous_day  solar_previous_day  \n",
       "Date                                               \n",
       "2012-01-01             83.185               0.000  \n",
       "2012-01-02            227.465               6.587  \n",
       "2012-01-03            207.327               6.574  \n",
       "2012-01-05            499.804              14.681  \n",
       "2012-01-06            523.851               5.071  \n",
       "...                       ...                 ...  \n",
       "2017-12-25            812.422               9.949  \n",
       "2017-12-26            587.810              15.765  \n",
       "2017-12-27            717.453              30.923  \n",
       "2017-12-29            506.424              14.162  \n",
       "2017-12-31            721.247               7.467  \n",
       "\n",
       "[1281 rows x 8 columns]"
      ]
     },
     "execution_count": 41,
     "metadata": {},
     "output_type": "execute_result"
    }
   ],
   "source": [
    "# is this just a sum?\n",
    "df[(df.Wind + df.Solar != df['Wind+Solar']) & (df.Wind != 0) & (df.Solar != 0)]\n",
    "# it appears that it is, this is showing results due to rounding/truncation errors"
   ]
  },
  {
   "cell_type": "code",
   "execution_count": 42,
   "id": "76ae0e78-a1b7-46bb-a2b7-8656080f02e9",
   "metadata": {},
   "outputs": [
    {
     "data": {
      "text/plain": [
       "0.0"
      ]
     },
     "execution_count": 42,
     "metadata": {},
     "output_type": "execute_result"
    }
   ],
   "source": [
    "# let's see if there are any entries before 2012 when solar started being recorded\n",
    "df['Wind+Solar'][df.year < 2012].sum()"
   ]
  },
  {
   "cell_type": "code",
   "execution_count": 43,
   "id": "e306358c-071d-4443-a704-b078c223f931",
   "metadata": {},
   "outputs": [],
   "source": [
    "# for all values before 2012, fill with 0\n",
    "df['Wind+Solar'] = np.where(df.year < 2012, 0, df['Wind+Solar'])"
   ]
  },
  {
   "cell_type": "code",
   "execution_count": 44,
   "id": "b6148bcc-1e37-4dc7-8385-efdc58b41078",
   "metadata": {},
   "outputs": [],
   "source": [
    "# let's impute all remaining missing values with sum\n",
    "df['Wind+Solar'][np.isnan(df['Wind+Solar'])] = df.Wind + df.Solar"
   ]
  },
  {
   "cell_type": "code",
   "execution_count": 45,
   "id": "1d148969-29b1-407a-a689-50379b7a6057",
   "metadata": {},
   "outputs": [],
   "source": [
    "# drop columns that have served their purpose and are no longer needed\n",
    "df = df.drop(columns=['wind_previous_day', 'solar_previous_day'])"
   ]
  },
  {
   "cell_type": "code",
   "execution_count": 46,
   "id": "d0dbf20f-7232-4e6e-8c16-e12d422c42a7",
   "metadata": {},
   "outputs": [
    {
     "data": {
      "text/html": [
       "<div>\n",
       "<style scoped>\n",
       "    .dataframe tbody tr th:only-of-type {\n",
       "        vertical-align: middle;\n",
       "    }\n",
       "\n",
       "    .dataframe tbody tr th {\n",
       "        vertical-align: top;\n",
       "    }\n",
       "\n",
       "    .dataframe thead th {\n",
       "        text-align: right;\n",
       "    }\n",
       "</style>\n",
       "<table border=\"1\" class=\"dataframe\">\n",
       "  <thead>\n",
       "    <tr style=\"text-align: right;\">\n",
       "      <th></th>\n",
       "      <th>Consumption</th>\n",
       "      <th>Wind</th>\n",
       "      <th>Solar</th>\n",
       "      <th>Wind+Solar</th>\n",
       "      <th>month</th>\n",
       "      <th>year</th>\n",
       "    </tr>\n",
       "    <tr>\n",
       "      <th>Date</th>\n",
       "      <th></th>\n",
       "      <th></th>\n",
       "      <th></th>\n",
       "      <th></th>\n",
       "      <th></th>\n",
       "      <th></th>\n",
       "    </tr>\n",
       "  </thead>\n",
       "  <tbody>\n",
       "    <tr>\n",
       "      <th>2006-01-01</th>\n",
       "      <td>1069.184</td>\n",
       "      <td>0.0</td>\n",
       "      <td>0.0</td>\n",
       "      <td>0.0</td>\n",
       "      <td>January</td>\n",
       "      <td>2006</td>\n",
       "    </tr>\n",
       "    <tr>\n",
       "      <th>2006-01-02</th>\n",
       "      <td>1380.521</td>\n",
       "      <td>0.0</td>\n",
       "      <td>0.0</td>\n",
       "      <td>0.0</td>\n",
       "      <td>January</td>\n",
       "      <td>2006</td>\n",
       "    </tr>\n",
       "    <tr>\n",
       "      <th>2006-01-03</th>\n",
       "      <td>1442.533</td>\n",
       "      <td>0.0</td>\n",
       "      <td>0.0</td>\n",
       "      <td>0.0</td>\n",
       "      <td>January</td>\n",
       "      <td>2006</td>\n",
       "    </tr>\n",
       "    <tr>\n",
       "      <th>2006-01-04</th>\n",
       "      <td>1457.217</td>\n",
       "      <td>0.0</td>\n",
       "      <td>0.0</td>\n",
       "      <td>0.0</td>\n",
       "      <td>January</td>\n",
       "      <td>2006</td>\n",
       "    </tr>\n",
       "    <tr>\n",
       "      <th>2006-01-05</th>\n",
       "      <td>1477.131</td>\n",
       "      <td>0.0</td>\n",
       "      <td>0.0</td>\n",
       "      <td>0.0</td>\n",
       "      <td>January</td>\n",
       "      <td>2006</td>\n",
       "    </tr>\n",
       "  </tbody>\n",
       "</table>\n",
       "</div>"
      ],
      "text/plain": [
       "            Consumption  Wind  Solar  Wind+Solar    month  year\n",
       "Date                                                           \n",
       "2006-01-01     1069.184   0.0    0.0         0.0  January  2006\n",
       "2006-01-02     1380.521   0.0    0.0         0.0  January  2006\n",
       "2006-01-03     1442.533   0.0    0.0         0.0  January  2006\n",
       "2006-01-04     1457.217   0.0    0.0         0.0  January  2006\n",
       "2006-01-05     1477.131   0.0    0.0         0.0  January  2006"
      ]
     },
     "execution_count": 46,
     "metadata": {},
     "output_type": "execute_result"
    }
   ],
   "source": [
    "df.head()"
   ]
  },
  {
   "cell_type": "code",
   "execution_count": 47,
   "id": "5f9833d2-3634-4c4a-8b43-62c1b0513166",
   "metadata": {},
   "outputs": [
    {
     "data": {
      "text/plain": [
       "Consumption    0\n",
       "Wind           0\n",
       "Solar          0\n",
       "Wind+Solar     0\n",
       "month          0\n",
       "year           0\n",
       "dtype: int64"
      ]
     },
     "execution_count": 47,
     "metadata": {},
     "output_type": "execute_result"
    }
   ],
   "source": [
    "df.isnull().sum()"
   ]
  },
  {
   "cell_type": "code",
   "execution_count": 48,
   "id": "a6f31d5a-78a1-440c-b199-aefbcee38917",
   "metadata": {},
   "outputs": [
    {
     "data": {
      "image/png": "[encoded data removed]",
      "text/plain": [
       "<Figure size 432x288 with 1 Axes>"
      ]
     },
     "metadata": {
      "needs_background": "light"
     },
     "output_type": "display_data"
    }
   ],
   "source": [
    "df.drop(columns='year').plot()\n",
    "plt.tight_layout();"
   ]
  },
  {
   "cell_type": "markdown",
   "id": "82a02eaf-7780-4b52-8cb7-40b69434fcfc",
   "metadata": {},
   "source": [
    "### 6."
   ]
  },
  {
   "cell_type": "markdown",
   "id": "8b4464f1-fa0e-4316-b938-aca75d030599",
   "metadata": {},
   "source": [
    "Make sure all the work that you have done above is reproducible. That is, you should put the code above into separate functions and be able to re-run the functions and get the same results."
   ]
  },
  {
   "cell_type": "code",
   "execution_count": 49,
   "id": "0dd07efe-755b-4adf-a4bd-76c45c00d985",
   "metadata": {},
   "outputs": [],
   "source": [
    "# let's put this all together into a function\n",
    "def get_clean_power_data():\n",
    "    '''\n",
    "    Gets and cleans power data with imputation\n",
    "    '''\n",
    "    df = a.get_power() # call function from acquire to get data from .csv url\n",
    "    df.Date = pd.to_datetime(df.Date) # make date column into datetime dtype\n",
    "    df = df.set_index('Date') # set date column as index\n",
    "    df['month'] = df.index.month_name() # add month name column\n",
    "    df['year'] = df.index.year # add year column\n",
    "    # Wind imputation\n",
    "    df.Wind = np.where(df.year < 2010, 0, df.Wind) # fill missing values with 0s for dates before data was collected\n",
    "    df['wind_previous_day'] = df.Wind.shift(1) # add a column for wind values from previous day to use for remaining imputation\n",
    "    df.Wind[np.isnan(df.Wind)] = df.wind_previous_day # impute using value for previous day\n",
    "    # Solar imputation\n",
    "    df.Solar = np.where(df.year < 2012, 0, df.Solar) # fill missing values with 0s for dates before data was collected\n",
    "    df['solar_previous_day'] = df.Solar.shift(1) # add a column for solar values from previous day to use for remaining imputation\n",
    "    df.Solar[np.isnan(df.Solar)] = df.solar_previous_day # impute using value for previous day\n",
    "    df['solar_previous_day'] = df.Solar.shift(1) # run again since missing values were grouped\n",
    "    df.Solar[np.isnan(df.Solar)] = df.solar_previous_day # run again since missing values were grouped\n",
    "    df['Wind+Solar'] = np.where(df.year < 2012, 0, df['Wind+Solar']) # set values to 0 for time before solar data was collected\n",
    "    df['Wind+Solar'][np.isnan(df['Wind+Solar'])] = df.Wind + df.Solar # impute remaining missing values with sum\n",
    "    df = df.drop(columns=['wind_previous_day', 'solar_previous_day']) # drop columns used for imputation that are no longer needed\n",
    "    return df"
   ]
  },
  {
   "cell_type": "code",
   "execution_count": 50,
   "id": "255521b8-5c55-4fab-b9a9-087687ae1077",
   "metadata": {},
   "outputs": [],
   "source": [
    "# run using function in nb\n",
    "df = get_clean_power_data()"
   ]
  },
  {
   "cell_type": "code",
   "execution_count": 51,
   "id": "defdb43a-1813-488b-aef2-87c36c4166b6",
   "metadata": {},
   "outputs": [],
   "source": [
    "# run using imported function\n",
    "df = p.get_clean_power_data()"
   ]
  }
 ],
 "metadata": {
  "kernelspec": {
   "display_name": "Python 3",
   "language": "python",
   "name": "python3"
  },
  "language_info": {
   "codemirror_mode": {
    "name": "ipython",
    "version": 3
   },
   "file_extension": ".py",
   "mimetype": "text/x-python",
   "name": "python",
   "nbconvert_exporter": "python",
   "pygments_lexer": "ipython3",
   "version": "3.8.8"
  }
 },
 "nbformat": 4,
 "nbformat_minor": 5
}
