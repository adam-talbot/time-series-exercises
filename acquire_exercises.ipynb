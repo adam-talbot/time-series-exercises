{
 "cells": [
  {
   "cell_type": "markdown",
   "id": "114b11e0-d686-49a3-8c2a-3b15e73fd451",
   "metadata": {},
   "source": [
    "# Time Series Acquire Exercises "
   ]
  },
  {
   "cell_type": "code",
   "execution_count": 3,
   "id": "791e4582-3e02-4d6c-8c09-b6445ac57e85",
   "metadata": {},
   "outputs": [],
   "source": [
    "import pandas as pd\n",
    "import requests"
   ]
  },
  {
   "cell_type": "markdown",
   "id": "74806393-5163-4a04-af0d-f65e64ab2b21",
   "metadata": {},
   "source": [
    "The end result of this exercise should be a file named acquire.py."
   ]
  },
  {
   "cell_type": "markdown",
   "id": "aa8e0bab-4c56-46c0-952f-2c05dabb5c47",
   "metadata": {},
   "source": [
    "## 1."
   ]
  },
  {
   "cell_type": "markdown",
   "id": "93891efe-64ba-4be2-b1fe-53d9e24a27ce",
   "metadata": {},
   "source": [
    "Using the code from the lesson as a guide and the REST API from https://python.zgulde.net/api/v1/items as we did in the lesson, create a dataframe named items that has all of the data for items."
   ]
  },
  {
   "cell_type": "markdown",
   "id": "67ee0487-6750-4695-b637-eb4cf8b89abb",
   "metadata": {},
   "source": [
    "## 2."
   ]
  },
  {
   "cell_type": "markdown",
   "id": "73fbfd6f-dcb2-4fe6-982e-c16ce04a10c1",
   "metadata": {},
   "source": [
    "Do the same thing, but for stores (https://python.zgulde.net/api/v1/stores)"
   ]
  },
  {
   "cell_type": "markdown",
   "id": "de9bfd25-a6e8-413d-a7f7-577271ce4529",
   "metadata": {},
   "source": [
    "## 3."
   ]
  },
  {
   "cell_type": "markdown",
   "id": "6f71b2be-238e-4564-b62f-ec1ecf54faa8",
   "metadata": {},
   "source": [
    "Extract the data for sales (https://python.zgulde.net/api/v1/sales). There are a lot of pages of data here, so your code will need to be a little more complex. Your code should continue fetching data from the next page until all of the data is extracted."
   ]
  },
  {
   "cell_type": "markdown",
   "id": "1f8d6104-314d-463e-a772-a18f18fbf6f2",
   "metadata": {},
   "source": [
    "## 4."
   ]
  },
  {
   "cell_type": "markdown",
   "id": "c7d04f1e-6406-4947-93e5-5833af183508",
   "metadata": {},
   "source": [
    "Save the data in your files to local csv files so that it will be faster to access in the future."
   ]
  },
  {
   "cell_type": "markdown",
   "id": "c9877de5-483c-4539-aa72-7d1627b8b2fb",
   "metadata": {},
   "source": [
    "## 5."
   ]
  },
  {
   "cell_type": "markdown",
   "id": "d86a46a7-f4df-4395-beca-ccd3119cd8d8",
   "metadata": {},
   "source": [
    "Combine the data from your three separate dataframes into one large dataframe."
   ]
  },
  {
   "cell_type": "markdown",
   "id": "f12da511-ebb4-4f5c-9e08-b122b53746c1",
   "metadata": {},
   "source": [
    "## 6."
   ]
  },
  {
   "cell_type": "markdown",
   "id": "da880ea9-7df9-4fc0-9564-ff522344e220",
   "metadata": {},
   "source": [
    "Acquire the Open Power Systems Data for Germany, which has been rapidly expanding its renewable energy production in recent years. The data set includes country-wide totals of electricity consumption, wind power production, and solar power production for 2006-2017. You can get the data here: https://raw.githubusercontent.com/jenfly/opsd/master/opsd_germany_daily.csv"
   ]
  },
  {
   "cell_type": "markdown",
   "id": "13dfcb65-f96d-4d85-b4a8-657c7a3058f2",
   "metadata": {},
   "source": [
    "## 7."
   ]
  },
  {
   "cell_type": "markdown",
   "id": "d62b54e4-082e-424e-9b23-00300038eb34",
   "metadata": {},
   "source": [
    "Make sure all the work that you have done above is reproducible. That is, you should put the code above into separate functions in the acquire.py file and be able to re-run the functions and get the same data."
   ]
  }
 ],
 "metadata": {
  "kernelspec": {
   "display_name": "Python 3",
   "language": "python",
   "name": "python3"
  },
  "language_info": {
   "codemirror_mode": {
    "name": "ipython",
    "version": 3
   },
   "file_extension": ".py",
   "mimetype": "text/x-python",
   "name": "python",
   "nbconvert_exporter": "python",
   "pygments_lexer": "ipython3",
   "version": "3.8.8"
  }
 },
 "nbformat": 4,
 "nbformat_minor": 5
}
