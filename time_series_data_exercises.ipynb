{
 "cells": [
  {
   "cell_type": "markdown",
   "id": "905e840b-b789-498a-9ff1-03f1d05abdb4",
   "metadata": {},
   "source": [
    "# Time Series Data Exercises"
   ]
  },
  {
   "cell_type": "code",
   "execution_count": 1,
   "id": "c57a007e-33ad-4962-afe8-165c9b0cd431",
   "metadata": {},
   "outputs": [],
   "source": [
    "import matplotlib.pyplot as plt\n",
    "import numpy as np\n",
    "import pandas as pd\n",
    "from vega_datasets import data"
   ]
  },
  {
   "cell_type": "markdown",
   "id": "dd5b903e-1f23-4dee-b758-5a82bc443a88",
   "metadata": {},
   "source": [
    "## `sf_temps()`"
   ]
  },
  {
   "cell_type": "code",
   "execution_count": 2,
   "id": "41fbbc5d-ddf6-448d-9368-1f30a4abd35a",
   "metadata": {},
   "outputs": [],
   "source": [
    "# get data\n",
    "df = data.sf_temps()"
   ]
  },
  {
   "cell_type": "code",
   "execution_count": 3,
   "id": "adc682af-e1aa-40f6-8e2c-88375f5bbaa4",
   "metadata": {},
   "outputs": [
    {
     "data": {
      "text/html": [
       "<div>\n",
       "<style scoped>\n",
       "    .dataframe tbody tr th:only-of-type {\n",
       "        vertical-align: middle;\n",
       "    }\n",
       "\n",
       "    .dataframe tbody tr th {\n",
       "        vertical-align: top;\n",
       "    }\n",
       "\n",
       "    .dataframe thead th {\n",
       "        text-align: right;\n",
       "    }\n",
       "</style>\n",
       "<table border=\"1\" class=\"dataframe\">\n",
       "  <thead>\n",
       "    <tr style=\"text-align: right;\">\n",
       "      <th></th>\n",
       "      <th>temp</th>\n",
       "      <th>date</th>\n",
       "    </tr>\n",
       "  </thead>\n",
       "  <tbody>\n",
       "    <tr>\n",
       "      <th>0</th>\n",
       "      <td>47.8</td>\n",
       "      <td>2010-01-01 00:00:00</td>\n",
       "    </tr>\n",
       "    <tr>\n",
       "      <th>1</th>\n",
       "      <td>47.4</td>\n",
       "      <td>2010-01-01 01:00:00</td>\n",
       "    </tr>\n",
       "    <tr>\n",
       "      <th>2</th>\n",
       "      <td>46.9</td>\n",
       "      <td>2010-01-01 02:00:00</td>\n",
       "    </tr>\n",
       "    <tr>\n",
       "      <th>3</th>\n",
       "      <td>46.5</td>\n",
       "      <td>2010-01-01 03:00:00</td>\n",
       "    </tr>\n",
       "    <tr>\n",
       "      <th>4</th>\n",
       "      <td>46.0</td>\n",
       "      <td>2010-01-01 04:00:00</td>\n",
       "    </tr>\n",
       "  </tbody>\n",
       "</table>\n",
       "</div>"
      ],
      "text/plain": [
       "   temp                date\n",
       "0  47.8 2010-01-01 00:00:00\n",
       "1  47.4 2010-01-01 01:00:00\n",
       "2  46.9 2010-01-01 02:00:00\n",
       "3  46.5 2010-01-01 03:00:00\n",
       "4  46.0 2010-01-01 04:00:00"
      ]
     },
     "execution_count": 3,
     "metadata": {},
     "output_type": "execute_result"
    }
   ],
   "source": [
    "# take a look\n",
    "df.head()"
   ]
  },
  {
   "cell_type": "code",
   "execution_count": 4,
   "id": "15b0626e-d60d-463c-a309-afb288f185af",
   "metadata": {},
   "outputs": [
    {
     "data": {
      "text/plain": [
       "(8759, 2)"
      ]
     },
     "execution_count": 4,
     "metadata": {},
     "output_type": "execute_result"
    }
   ],
   "source": [
    "df.shape"
   ]
  },
  {
   "cell_type": "code",
   "execution_count": 5,
   "id": "987b4ab5-ecbb-4057-93be-58baced94957",
   "metadata": {},
   "outputs": [
    {
     "name": "stdout",
     "output_type": "stream",
     "text": [
      "<class 'pandas.core.frame.DataFrame'>\n",
      "RangeIndex: 8759 entries, 0 to 8758\n",
      "Data columns (total 2 columns):\n",
      " #   Column  Non-Null Count  Dtype         \n",
      "---  ------  --------------  -----         \n",
      " 0   temp    8759 non-null   float64       \n",
      " 1   date    8759 non-null   datetime64[ns]\n",
      "dtypes: datetime64[ns](1), float64(1)\n",
      "memory usage: 137.0 KB\n"
     ]
    }
   ],
   "source": [
    "df.info()"
   ]
  },
  {
   "cell_type": "code",
   "execution_count": 6,
   "id": "b2689f98-4a42-4faf-954f-17cad1de746a",
   "metadata": {},
   "outputs": [
    {
     "data": {
      "text/html": [
       "<div>\n",
       "<style scoped>\n",
       "    .dataframe tbody tr th:only-of-type {\n",
       "        vertical-align: middle;\n",
       "    }\n",
       "\n",
       "    .dataframe tbody tr th {\n",
       "        vertical-align: top;\n",
       "    }\n",
       "\n",
       "    .dataframe thead th {\n",
       "        text-align: right;\n",
       "    }\n",
       "</style>\n",
       "<table border=\"1\" class=\"dataframe\">\n",
       "  <thead>\n",
       "    <tr style=\"text-align: right;\">\n",
       "      <th></th>\n",
       "      <th>temp</th>\n",
       "    </tr>\n",
       "    <tr>\n",
       "      <th>date</th>\n",
       "      <th></th>\n",
       "    </tr>\n",
       "  </thead>\n",
       "  <tbody>\n",
       "    <tr>\n",
       "      <th>2010-01-01 00:00:00</th>\n",
       "      <td>47.8</td>\n",
       "    </tr>\n",
       "    <tr>\n",
       "      <th>2010-01-01 01:00:00</th>\n",
       "      <td>47.4</td>\n",
       "    </tr>\n",
       "    <tr>\n",
       "      <th>2010-01-01 02:00:00</th>\n",
       "      <td>46.9</td>\n",
       "    </tr>\n",
       "    <tr>\n",
       "      <th>2010-01-01 03:00:00</th>\n",
       "      <td>46.5</td>\n",
       "    </tr>\n",
       "    <tr>\n",
       "      <th>2010-01-01 04:00:00</th>\n",
       "      <td>46.0</td>\n",
       "    </tr>\n",
       "  </tbody>\n",
       "</table>\n",
       "</div>"
      ],
      "text/plain": [
       "                     temp\n",
       "date                     \n",
       "2010-01-01 00:00:00  47.8\n",
       "2010-01-01 01:00:00  47.4\n",
       "2010-01-01 02:00:00  46.9\n",
       "2010-01-01 03:00:00  46.5\n",
       "2010-01-01 04:00:00  46.0"
      ]
     },
     "execution_count": 6,
     "metadata": {},
     "output_type": "execute_result"
    }
   ],
   "source": [
    "# make time data into index\n",
    "df = df.set_index('date')\n",
    "df.head()"
   ]
  },
  {
   "cell_type": "code",
   "execution_count": 7,
   "id": "1ce5dcd1-2f40-4c4a-bb96-ca72d0136486",
   "metadata": {},
   "outputs": [
    {
     "data": {
      "image/png": "[encoded data removed]",
      "text/plain": [
       "<Figure size 432x288 with 1 Axes>"
      ]
     },
     "metadata": {
      "needs_background": "light"
     },
     "output_type": "display_data"
    }
   ],
   "source": [
    "df.plot();"
   ]
  },
  {
   "cell_type": "markdown",
   "id": "3765970b-e25f-4697-9a59-be27e071b1ed",
   "metadata": {},
   "source": [
    "### 1."
   ]
  },
  {
   "cell_type": "markdown",
   "id": "e8a0e2cf-cfd5-4203-9499-69373660c659",
   "metadata": {},
   "source": [
    "Resample by the day and take the average temperature. Visualize the average temperature over time."
   ]
  },
  {
   "cell_type": "code",
   "execution_count": 8,
   "id": "24af8ca1-3042-47c5-bb98-30e4979081a7",
   "metadata": {},
   "outputs": [
    {
     "data": {
      "image/png": "[encoded data removed]",
      "text/plain": [
       "<Figure size 432x288 with 1 Axes>"
      ]
     },
     "metadata": {
      "needs_background": "light"
     },
     "output_type": "display_data"
    }
   ],
   "source": [
    "df.resample('D').mean().plot();"
   ]
  },
  {
   "cell_type": "markdown",
   "id": "d5d1e864-417d-4e27-8ea4-3de71646792a",
   "metadata": {},
   "source": [
    "### 2."
   ]
  },
  {
   "cell_type": "markdown",
   "id": "6f08d5de-de6d-4068-b622-78840d5ffcd7",
   "metadata": {},
   "source": [
    "Write the code necessary to visualize the minimum temperature over time."
   ]
  },
  {
   "cell_type": "code",
   "execution_count": 9,
   "id": "10336a2e-d3d3-4203-9c3e-e8e3a53bfed5",
   "metadata": {},
   "outputs": [
    {
     "data": {
      "image/png": "[encoded data removed]",
      "text/plain": [
       "<Figure size 432x288 with 1 Axes>"
      ]
     },
     "metadata": {
      "needs_background": "light"
     },
     "output_type": "display_data"
    }
   ],
   "source": [
    "df.resample('D').min().plot();"
   ]
  },
  {
   "cell_type": "markdown",
   "id": "5c82889f-b7a9-4278-8824-a9beb7c96ba7",
   "metadata": {},
   "source": [
    "### 3."
   ]
  },
  {
   "cell_type": "markdown",
   "id": "9ff61c7c-e30e-4af5-9eec-d193689c8a2a",
   "metadata": {},
   "source": [
    "Write the code necessary to visualize the maximum temperature over time."
   ]
  },
  {
   "cell_type": "code",
   "execution_count": 10,
   "id": "edaeb64d-070c-4740-a73a-2d956863e91e",
   "metadata": {},
   "outputs": [
    {
     "data": {
      "image/png": "[encoded data removed]",
      "text/plain": [
       "<Figure size 432x288 with 1 Axes>"
      ]
     },
     "metadata": {
      "needs_background": "light"
     },
     "output_type": "display_data"
    }
   ],
   "source": [
    "df.resample('D').max().plot();"
   ]
  },
  {
   "cell_type": "markdown",
   "id": "ee03e514-6441-4ac8-a5b8-1f2e5cbeb9ed",
   "metadata": {},
   "source": [
    "### 4."
   ]
  },
  {
   "cell_type": "markdown",
   "id": "c28304ce-6560-48ab-a313-92188baccd3c",
   "metadata": {},
   "source": [
    "Which month is the coldest, on average?"
   ]
  },
  {
   "cell_type": "code",
   "execution_count": 11,
   "id": "0c2d96c1-15d9-4768-9558-ee600cf12e55",
   "metadata": {},
   "outputs": [
    {
     "data": {
      "image/png": "[encoded data removed]",
      "text/plain": [
       "<Figure size 432x288 with 1 Axes>"
      ]
     },
     "metadata": {
      "needs_background": "light"
     },
     "output_type": "display_data"
    }
   ],
   "source": [
    "df.resample('M').min().plot(marker='o', color = 'black')\n",
    "plt.axhline(df.resample('M').min().min()[0], ls='--', color = 'blue');"
   ]
  },
  {
   "cell_type": "code",
   "execution_count": 12,
   "id": "c79445ea-d308-49c6-b24f-f0b3a11db151",
   "metadata": {},
   "outputs": [
    {
     "data": {
      "text/html": [
       "<style  type=\"text/css\" >\n",
       "#T_7fb82_row11_col0{\n",
       "            background-color:  blue;\n",
       "        }</style><table id=\"T_7fb82_\" ><thead>    <tr>        <th class=\"blank level0\" ></th>        <th class=\"col_heading level0 col0\" >temp</th>    </tr>    <tr>        <th class=\"index_name level0\" >date</th>        <th class=\"blank\" ></th>    </tr></thead><tbody>\n",
       "                <tr>\n",
       "                        <th id=\"T_7fb82_level0_row0\" class=\"row_heading level0 row0\" >2010-01-31 00:00:00</th>\n",
       "                        <td id=\"T_7fb82_row0_col0\" class=\"data row0 col0\" >45.800000</td>\n",
       "            </tr>\n",
       "            <tr>\n",
       "                        <th id=\"T_7fb82_level0_row1\" class=\"row_heading level0 row1\" >2010-02-28 00:00:00</th>\n",
       "                        <td id=\"T_7fb82_row1_col0\" class=\"data row1 col0\" >46.900000</td>\n",
       "            </tr>\n",
       "            <tr>\n",
       "                        <th id=\"T_7fb82_level0_row2\" class=\"row_heading level0 row2\" >2010-03-31 00:00:00</th>\n",
       "                        <td id=\"T_7fb82_row2_col0\" class=\"data row2 col0\" >48.700000</td>\n",
       "            </tr>\n",
       "            <tr>\n",
       "                        <th id=\"T_7fb82_level0_row3\" class=\"row_heading level0 row3\" >2010-04-30 00:00:00</th>\n",
       "                        <td id=\"T_7fb82_row3_col0\" class=\"data row3 col0\" >49.300000</td>\n",
       "            </tr>\n",
       "            <tr>\n",
       "                        <th id=\"T_7fb82_level0_row4\" class=\"row_heading level0 row4\" >2010-05-31 00:00:00</th>\n",
       "                        <td id=\"T_7fb82_row4_col0\" class=\"data row4 col0\" >51.400000</td>\n",
       "            </tr>\n",
       "            <tr>\n",
       "                        <th id=\"T_7fb82_level0_row5\" class=\"row_heading level0 row5\" >2010-06-30 00:00:00</th>\n",
       "                        <td id=\"T_7fb82_row5_col0\" class=\"data row5 col0\" >53.700000</td>\n",
       "            </tr>\n",
       "            <tr>\n",
       "                        <th id=\"T_7fb82_level0_row6\" class=\"row_heading level0 row6\" >2010-07-31 00:00:00</th>\n",
       "                        <td id=\"T_7fb82_row6_col0\" class=\"data row6 col0\" >55.400000</td>\n",
       "            </tr>\n",
       "            <tr>\n",
       "                        <th id=\"T_7fb82_level0_row7\" class=\"row_heading level0 row7\" >2010-08-31 00:00:00</th>\n",
       "                        <td id=\"T_7fb82_row7_col0\" class=\"data row7 col0\" >56.600000</td>\n",
       "            </tr>\n",
       "            <tr>\n",
       "                        <th id=\"T_7fb82_level0_row8\" class=\"row_heading level0 row8\" >2010-09-30 00:00:00</th>\n",
       "                        <td id=\"T_7fb82_row8_col0\" class=\"data row8 col0\" >56.400000</td>\n",
       "            </tr>\n",
       "            <tr>\n",
       "                        <th id=\"T_7fb82_level0_row9\" class=\"row_heading level0 row9\" >2010-10-31 00:00:00</th>\n",
       "                        <td id=\"T_7fb82_row9_col0\" class=\"data row9 col0\" >53.400000</td>\n",
       "            </tr>\n",
       "            <tr>\n",
       "                        <th id=\"T_7fb82_level0_row10\" class=\"row_heading level0 row10\" >2010-11-30 00:00:00</th>\n",
       "                        <td id=\"T_7fb82_row10_col0\" class=\"data row10 col0\" >48.600000</td>\n",
       "            </tr>\n",
       "            <tr>\n",
       "                        <th id=\"T_7fb82_level0_row11\" class=\"row_heading level0 row11\" >2010-12-31 00:00:00</th>\n",
       "                        <td id=\"T_7fb82_row11_col0\" class=\"data row11 col0\" >45.600000</td>\n",
       "            </tr>\n",
       "    </tbody></table>"
      ],
      "text/plain": [
       "<pandas.io.formats.style.Styler at 0x7fe315e78f70>"
      ]
     },
     "execution_count": 12,
     "metadata": {},
     "output_type": "execute_result"
    }
   ],
   "source": [
    "df.resample('M').min().style.highlight_min(color='blue')"
   ]
  },
  {
   "cell_type": "markdown",
   "id": "6ace2ddb-c259-41d2-8937-6ac4f28ef7f4",
   "metadata": {},
   "source": [
    "**December**"
   ]
  },
  {
   "cell_type": "markdown",
   "id": "8794a333-9069-4118-9ab5-10ef1ca17c02",
   "metadata": {},
   "source": [
    "### 5."
   ]
  },
  {
   "cell_type": "markdown",
   "id": "73620d7d-5421-404b-85b7-055e067900cf",
   "metadata": {},
   "source": [
    "Which month has the highest average temperature?"
   ]
  },
  {
   "cell_type": "code",
   "execution_count": 13,
   "id": "cbafd2d9-6c90-413e-85a6-5ce890883c91",
   "metadata": {},
   "outputs": [
    {
     "data": {
      "image/png": "[encoded data removed]",
      "text/plain": [
       "<Figure size 432x288 with 1 Axes>"
      ]
     },
     "metadata": {
      "needs_background": "light"
     },
     "output_type": "display_data"
    }
   ],
   "source": [
    "df.resample('M').max().plot(marker='o', color = 'black')\n",
    "plt.axhline(df.resample('M').max().max()[0], ls='--', color = 'red')\n",
    "plt.legend();"
   ]
  },
  {
   "cell_type": "code",
   "execution_count": 14,
   "id": "ec2ce893-d36f-421e-aff3-03e328513c97",
   "metadata": {},
   "outputs": [
    {
     "data": {
      "text/html": [
       "<style  type=\"text/css\" >\n",
       "#T_0c305_row7_col0,#T_0c305_row8_col0{\n",
       "            background-color:  red;\n",
       "        }</style><table id=\"T_0c305_\" ><thead>    <tr>        <th class=\"blank level0\" ></th>        <th class=\"col_heading level0 col0\" >temp</th>    </tr>    <tr>        <th class=\"index_name level0\" >date</th>        <th class=\"blank\" ></th>    </tr></thead><tbody>\n",
       "                <tr>\n",
       "                        <th id=\"T_0c305_level0_row0\" class=\"row_heading level0 row0\" >2010-01-31 00:00:00</th>\n",
       "                        <td id=\"T_0c305_row0_col0\" class=\"data row0 col0\" >56.200000</td>\n",
       "            </tr>\n",
       "            <tr>\n",
       "                        <th id=\"T_0c305_level0_row1\" class=\"row_heading level0 row1\" >2010-02-28 00:00:00</th>\n",
       "                        <td id=\"T_0c305_row1_col0\" class=\"data row1 col0\" >58.600000</td>\n",
       "            </tr>\n",
       "            <tr>\n",
       "                        <th id=\"T_0c305_level0_row2\" class=\"row_heading level0 row2\" >2010-03-31 00:00:00</th>\n",
       "                        <td id=\"T_0c305_row2_col0\" class=\"data row2 col0\" >61.300000</td>\n",
       "            </tr>\n",
       "            <tr>\n",
       "                        <th id=\"T_0c305_level0_row3\" class=\"row_heading level0 row3\" >2010-04-30 00:00:00</th>\n",
       "                        <td id=\"T_0c305_row3_col0\" class=\"data row3 col0\" >64.300000</td>\n",
       "            </tr>\n",
       "            <tr>\n",
       "                        <th id=\"T_0c305_level0_row4\" class=\"row_heading level0 row4\" >2010-05-31 00:00:00</th>\n",
       "                        <td id=\"T_0c305_row4_col0\" class=\"data row4 col0\" >66.400000</td>\n",
       "            </tr>\n",
       "            <tr>\n",
       "                        <th id=\"T_0c305_level0_row5\" class=\"row_heading level0 row5\" >2010-06-30 00:00:00</th>\n",
       "                        <td id=\"T_0c305_row5_col0\" class=\"data row5 col0\" >69.700000</td>\n",
       "            </tr>\n",
       "            <tr>\n",
       "                        <th id=\"T_0c305_level0_row6\" class=\"row_heading level0 row6\" >2010-07-31 00:00:00</th>\n",
       "                        <td id=\"T_0c305_row6_col0\" class=\"data row6 col0\" >70.400000</td>\n",
       "            </tr>\n",
       "            <tr>\n",
       "                        <th id=\"T_0c305_level0_row7\" class=\"row_heading level0 row7\" >2010-08-31 00:00:00</th>\n",
       "                        <td id=\"T_0c305_row7_col0\" class=\"data row7 col0\" >72.200000</td>\n",
       "            </tr>\n",
       "            <tr>\n",
       "                        <th id=\"T_0c305_level0_row8\" class=\"row_heading level0 row8\" >2010-09-30 00:00:00</th>\n",
       "                        <td id=\"T_0c305_row8_col0\" class=\"data row8 col0\" >72.200000</td>\n",
       "            </tr>\n",
       "            <tr>\n",
       "                        <th id=\"T_0c305_level0_row9\" class=\"row_heading level0 row9\" >2010-10-31 00:00:00</th>\n",
       "                        <td id=\"T_0c305_row9_col0\" class=\"data row9 col0\" >70.600000</td>\n",
       "            </tr>\n",
       "            <tr>\n",
       "                        <th id=\"T_0c305_level0_row10\" class=\"row_heading level0 row10\" >2010-11-30 00:00:00</th>\n",
       "                        <td id=\"T_0c305_row10_col0\" class=\"data row10 col0\" >65.000000</td>\n",
       "            </tr>\n",
       "            <tr>\n",
       "                        <th id=\"T_0c305_level0_row11\" class=\"row_heading level0 row11\" >2010-12-31 00:00:00</th>\n",
       "                        <td id=\"T_0c305_row11_col0\" class=\"data row11 col0\" >57.500000</td>\n",
       "            </tr>\n",
       "    </tbody></table>"
      ],
      "text/plain": [
       "<pandas.io.formats.style.Styler at 0x7fe315384910>"
      ]
     },
     "execution_count": 14,
     "metadata": {},
     "output_type": "execute_result"
    }
   ],
   "source": [
    "df.resample('M').max().style.highlight_max(color='red')"
   ]
  },
  {
   "cell_type": "markdown",
   "id": "6295d5b8-64a7-49ba-b9bf-717fcb3ead5a",
   "metadata": {},
   "source": [
    "**August and September**"
   ]
  },
  {
   "cell_type": "markdown",
   "id": "79becb45-324d-42fe-8d70-1ed4899e28b5",
   "metadata": {},
   "source": [
    "### 6."
   ]
  },
  {
   "cell_type": "markdown",
   "id": "de829b36-4dae-4dc7-9cc7-808fd00b90ed",
   "metadata": {},
   "source": [
    "Resample by the day and calculate the min and max temp for the day (Hint: .agg(['min', 'max'])). Use this resampled dataframe to calculate the change in temperature for the day. Which month has the highest daily temperature variability?"
   ]
  },
  {
   "cell_type": "code",
   "execution_count": 15,
   "id": "854fb71c-63e9-48ed-b641-18fb186c66b4",
   "metadata": {},
   "outputs": [
    {
     "data": {
      "text/html": [
       "<div>\n",
       "<style scoped>\n",
       "    .dataframe tbody tr th:only-of-type {\n",
       "        vertical-align: middle;\n",
       "    }\n",
       "\n",
       "    .dataframe tbody tr th {\n",
       "        vertical-align: top;\n",
       "    }\n",
       "\n",
       "    .dataframe thead tr th {\n",
       "        text-align: left;\n",
       "    }\n",
       "\n",
       "    .dataframe thead tr:last-of-type th {\n",
       "        text-align: right;\n",
       "    }\n",
       "</style>\n",
       "<table border=\"1\" class=\"dataframe\">\n",
       "  <thead>\n",
       "    <tr>\n",
       "      <th></th>\n",
       "      <th colspan=\"2\" halign=\"left\">temp</th>\n",
       "    </tr>\n",
       "    <tr>\n",
       "      <th></th>\n",
       "      <th>min</th>\n",
       "      <th>max</th>\n",
       "    </tr>\n",
       "    <tr>\n",
       "      <th>date</th>\n",
       "      <th></th>\n",
       "      <th></th>\n",
       "    </tr>\n",
       "  </thead>\n",
       "  <tbody>\n",
       "    <tr>\n",
       "      <th>2010-01-01</th>\n",
       "      <td>45.8</td>\n",
       "      <td>53.3</td>\n",
       "    </tr>\n",
       "    <tr>\n",
       "      <th>2010-01-02</th>\n",
       "      <td>46.0</td>\n",
       "      <td>53.4</td>\n",
       "    </tr>\n",
       "    <tr>\n",
       "      <th>2010-01-03</th>\n",
       "      <td>46.1</td>\n",
       "      <td>53.5</td>\n",
       "    </tr>\n",
       "    <tr>\n",
       "      <th>2010-01-04</th>\n",
       "      <td>46.1</td>\n",
       "      <td>53.6</td>\n",
       "    </tr>\n",
       "    <tr>\n",
       "      <th>2010-01-05</th>\n",
       "      <td>46.1</td>\n",
       "      <td>53.8</td>\n",
       "    </tr>\n",
       "  </tbody>\n",
       "</table>\n",
       "</div>"
      ],
      "text/plain": [
       "            temp      \n",
       "             min   max\n",
       "date                  \n",
       "2010-01-01  45.8  53.3\n",
       "2010-01-02  46.0  53.4\n",
       "2010-01-03  46.1  53.5\n",
       "2010-01-04  46.1  53.6\n",
       "2010-01-05  46.1  53.8"
      ]
     },
     "execution_count": 15,
     "metadata": {},
     "output_type": "execute_result"
    }
   ],
   "source": [
    "min_max = df.resample('D').agg(['min', 'max'])\n",
    "min_max.head()"
   ]
  },
  {
   "cell_type": "code",
   "execution_count": 16,
   "id": "f4f4deb7-328f-4f86-a8c5-0a33f0197514",
   "metadata": {},
   "outputs": [
    {
     "data": {
      "text/plain": [
       "MultiIndex([('temp', 'min'),\n",
       "            ('temp', 'max')],\n",
       "           )"
      ]
     },
     "execution_count": 16,
     "metadata": {},
     "output_type": "execute_result"
    }
   ],
   "source": [
    "min_max.columns"
   ]
  },
  {
   "cell_type": "code",
   "execution_count": 17,
   "id": "14eab79c-dda2-4d8a-a346-a26d003737c4",
   "metadata": {},
   "outputs": [],
   "source": [
    "min_max['daily_temp_delta'] = min_max[('temp', 'max')] - min_max[('temp', 'min')]"
   ]
  },
  {
   "cell_type": "code",
   "execution_count": 18,
   "id": "d4f4ae79-e7c1-4284-8dd1-9ab1f4da6113",
   "metadata": {},
   "outputs": [
    {
     "data": {
      "text/html": [
       "<div>\n",
       "<style scoped>\n",
       "    .dataframe tbody tr th:only-of-type {\n",
       "        vertical-align: middle;\n",
       "    }\n",
       "\n",
       "    .dataframe tbody tr th {\n",
       "        vertical-align: top;\n",
       "    }\n",
       "\n",
       "    .dataframe thead tr th {\n",
       "        text-align: left;\n",
       "    }\n",
       "\n",
       "    .dataframe thead tr:last-of-type th {\n",
       "        text-align: right;\n",
       "    }\n",
       "</style>\n",
       "<table border=\"1\" class=\"dataframe\">\n",
       "  <thead>\n",
       "    <tr>\n",
       "      <th></th>\n",
       "      <th colspan=\"2\" halign=\"left\">temp</th>\n",
       "      <th>daily_temp_delta</th>\n",
       "    </tr>\n",
       "    <tr>\n",
       "      <th></th>\n",
       "      <th>min</th>\n",
       "      <th>max</th>\n",
       "      <th></th>\n",
       "    </tr>\n",
       "    <tr>\n",
       "      <th>date</th>\n",
       "      <th></th>\n",
       "      <th></th>\n",
       "      <th></th>\n",
       "    </tr>\n",
       "  </thead>\n",
       "  <tbody>\n",
       "    <tr>\n",
       "      <th>2010-01-01</th>\n",
       "      <td>45.8</td>\n",
       "      <td>53.3</td>\n",
       "      <td>7.5</td>\n",
       "    </tr>\n",
       "    <tr>\n",
       "      <th>2010-01-02</th>\n",
       "      <td>46.0</td>\n",
       "      <td>53.4</td>\n",
       "      <td>7.4</td>\n",
       "    </tr>\n",
       "    <tr>\n",
       "      <th>2010-01-03</th>\n",
       "      <td>46.1</td>\n",
       "      <td>53.5</td>\n",
       "      <td>7.4</td>\n",
       "    </tr>\n",
       "    <tr>\n",
       "      <th>2010-01-04</th>\n",
       "      <td>46.1</td>\n",
       "      <td>53.6</td>\n",
       "      <td>7.5</td>\n",
       "    </tr>\n",
       "    <tr>\n",
       "      <th>2010-01-05</th>\n",
       "      <td>46.1</td>\n",
       "      <td>53.8</td>\n",
       "      <td>7.7</td>\n",
       "    </tr>\n",
       "  </tbody>\n",
       "</table>\n",
       "</div>"
      ],
      "text/plain": [
       "            temp       daily_temp_delta\n",
       "             min   max                 \n",
       "date                                   \n",
       "2010-01-01  45.8  53.3              7.5\n",
       "2010-01-02  46.0  53.4              7.4\n",
       "2010-01-03  46.1  53.5              7.4\n",
       "2010-01-04  46.1  53.6              7.5\n",
       "2010-01-05  46.1  53.8              7.7"
      ]
     },
     "execution_count": 18,
     "metadata": {},
     "output_type": "execute_result"
    }
   ],
   "source": [
    "min_max.head()"
   ]
  },
  {
   "cell_type": "code",
   "execution_count": 19,
   "id": "9d34c5cb-5183-4a20-a45a-1c54a2c63213",
   "metadata": {},
   "outputs": [
    {
     "data": {
      "image/png": "[encoded data removed]",
      "text/plain": [
       "<Figure size 432x288 with 1 Axes>"
      ]
     },
     "metadata": {
      "needs_background": "light"
     },
     "output_type": "display_data"
    }
   ],
   "source": [
    "min_max.daily_temp_delta.plot();"
   ]
  },
  {
   "cell_type": "code",
   "execution_count": 20,
   "id": "9f344d7d-848e-4e06-bee9-1f8d6b47254d",
   "metadata": {},
   "outputs": [
    {
     "data": {
      "text/html": [
       "<style  type=\"text/css\" >\n",
       "#T_9ef20_row8_col0{\n",
       "            background-color:  green;\n",
       "        }</style><table id=\"T_9ef20_\" ><thead>    <tr>        <th class=\"blank level0\" ></th>        <th class=\"col_heading level0 col0\" >daily_temp_delta</th>    </tr>    <tr>        <th class=\"index_name level0\" >date</th>        <th class=\"blank\" ></th>    </tr></thead><tbody>\n",
       "                <tr>\n",
       "                        <th id=\"T_9ef20_level0_row0\" class=\"row_heading level0 row0\" >2010-01-31 00:00:00</th>\n",
       "                        <td id=\"T_9ef20_row0_col0\" class=\"data row0 col0\" >8.341935</td>\n",
       "            </tr>\n",
       "            <tr>\n",
       "                        <th id=\"T_9ef20_level0_row1\" class=\"row_heading level0 row1\" >2010-02-28 00:00:00</th>\n",
       "                        <td id=\"T_9ef20_row1_col0\" class=\"data row1 col0\" >9.485714</td>\n",
       "            </tr>\n",
       "            <tr>\n",
       "                        <th id=\"T_9ef20_level0_row2\" class=\"row_heading level0 row2\" >2010-03-31 00:00:00</th>\n",
       "                        <td id=\"T_9ef20_row2_col0\" class=\"data row2 col0\" >10.854839</td>\n",
       "            </tr>\n",
       "            <tr>\n",
       "                        <th id=\"T_9ef20_level0_row3\" class=\"row_heading level0 row3\" >2010-04-30 00:00:00</th>\n",
       "                        <td id=\"T_9ef20_row3_col0\" class=\"data row3 col0\" >12.320000</td>\n",
       "            </tr>\n",
       "            <tr>\n",
       "                        <th id=\"T_9ef20_level0_row4\" class=\"row_heading level0 row4\" >2010-05-31 00:00:00</th>\n",
       "                        <td id=\"T_9ef20_row4_col0\" class=\"data row4 col0\" >12.909677</td>\n",
       "            </tr>\n",
       "            <tr>\n",
       "                        <th id=\"T_9ef20_level0_row5\" class=\"row_heading level0 row5\" >2010-06-30 00:00:00</th>\n",
       "                        <td id=\"T_9ef20_row5_col0\" class=\"data row5 col0\" >13.950000</td>\n",
       "            </tr>\n",
       "            <tr>\n",
       "                        <th id=\"T_9ef20_level0_row6\" class=\"row_heading level0 row6\" >2010-07-31 00:00:00</th>\n",
       "                        <td id=\"T_9ef20_row6_col0\" class=\"data row6 col0\" >13.977419</td>\n",
       "            </tr>\n",
       "            <tr>\n",
       "                        <th id=\"T_9ef20_level0_row7\" class=\"row_heading level0 row7\" >2010-08-31 00:00:00</th>\n",
       "                        <td id=\"T_9ef20_row7_col0\" class=\"data row7 col0\" >13.870968</td>\n",
       "            </tr>\n",
       "            <tr>\n",
       "                        <th id=\"T_9ef20_level0_row8\" class=\"row_heading level0 row8\" >2010-09-30 00:00:00</th>\n",
       "                        <td id=\"T_9ef20_row8_col0\" class=\"data row8 col0\" >14.403333</td>\n",
       "            </tr>\n",
       "            <tr>\n",
       "                        <th id=\"T_9ef20_level0_row9\" class=\"row_heading level0 row9\" >2010-10-31 00:00:00</th>\n",
       "                        <td id=\"T_9ef20_row9_col0\" class=\"data row9 col0\" >13.432258</td>\n",
       "            </tr>\n",
       "            <tr>\n",
       "                        <th id=\"T_9ef20_level0_row10\" class=\"row_heading level0 row10\" >2010-11-30 00:00:00</th>\n",
       "                        <td id=\"T_9ef20_row10_col0\" class=\"data row10 col0\" >10.236667</td>\n",
       "            </tr>\n",
       "            <tr>\n",
       "                        <th id=\"T_9ef20_level0_row11\" class=\"row_heading level0 row11\" >2010-12-31 00:00:00</th>\n",
       "                        <td id=\"T_9ef20_row11_col0\" class=\"data row11 col0\" >7.925806</td>\n",
       "            </tr>\n",
       "    </tbody></table>"
      ],
      "text/plain": [
       "<pandas.io.formats.style.Styler at 0x7fe31532d130>"
      ]
     },
     "execution_count": 20,
     "metadata": {},
     "output_type": "execute_result"
    }
   ],
   "source": [
    "# this shows the month with the highest average temperature delta\n",
    "pd.DataFrame(min_max.daily_temp_delta.resample('M').mean()).style.highlight_max(color='green')"
   ]
  },
  {
   "cell_type": "code",
   "execution_count": 21,
   "id": "00922f6a-d74d-4c26-b37b-7141370b5cc8",
   "metadata": {},
   "outputs": [
    {
     "data": {
      "text/html": [
       "<div>\n",
       "<style scoped>\n",
       "    .dataframe tbody tr th:only-of-type {\n",
       "        vertical-align: middle;\n",
       "    }\n",
       "\n",
       "    .dataframe tbody tr th {\n",
       "        vertical-align: top;\n",
       "    }\n",
       "\n",
       "    .dataframe thead tr th {\n",
       "        text-align: left;\n",
       "    }\n",
       "\n",
       "    .dataframe thead tr:last-of-type th {\n",
       "        text-align: right;\n",
       "    }\n",
       "</style>\n",
       "<table border=\"1\" class=\"dataframe\">\n",
       "  <thead>\n",
       "    <tr>\n",
       "      <th></th>\n",
       "      <th colspan=\"2\" halign=\"left\">temp</th>\n",
       "      <th>daily_temp_delta</th>\n",
       "    </tr>\n",
       "    <tr>\n",
       "      <th></th>\n",
       "      <th>min</th>\n",
       "      <th>max</th>\n",
       "      <th></th>\n",
       "    </tr>\n",
       "    <tr>\n",
       "      <th>date</th>\n",
       "      <th></th>\n",
       "      <th></th>\n",
       "      <th></th>\n",
       "    </tr>\n",
       "  </thead>\n",
       "  <tbody>\n",
       "    <tr>\n",
       "      <th>2010-08-31</th>\n",
       "      <td>57.2</td>\n",
       "      <td>72.2</td>\n",
       "      <td>15.0</td>\n",
       "    </tr>\n",
       "  </tbody>\n",
       "</table>\n",
       "</div>"
      ],
      "text/plain": [
       "            temp       daily_temp_delta\n",
       "             min   max                 \n",
       "date                                   \n",
       "2010-08-31  57.2  72.2             15.0"
      ]
     },
     "execution_count": 21,
     "metadata": {},
     "output_type": "execute_result"
    }
   ],
   "source": [
    "# this finds the single data with the highest temp delta\n",
    "min_max[min_max.daily_temp_delta == min_max.daily_temp_delta.max()]"
   ]
  },
  {
   "cell_type": "markdown",
   "id": "c575f7f3-6f2b-4036-8256-77ba076d6ded",
   "metadata": {},
   "source": [
    "### 7. (Bonus)"
   ]
  },
  {
   "cell_type": "markdown",
   "id": "4cc8182f-aece-4e4e-91a9-bfb1eebd6805",
   "metadata": {},
   "source": [
    "Bonus: Visualize the daily min, average, and max temperature over time on a single line plot, i.e. the min, average, and maximum temperature should be 3 seperate lines."
   ]
  },
  {
   "cell_type": "code",
   "execution_count": 22,
   "id": "81ca7edc-95b8-48c1-bc2b-49a24a6ae40c",
   "metadata": {},
   "outputs": [],
   "source": [
    "daily_average = df.resample('D').mean()\n",
    "daily_max = df.resample('D').max()\n",
    "daily_min = df.resample('D').min()"
   ]
  },
  {
   "cell_type": "code",
   "execution_count": 23,
   "id": "d82c6f57-2a80-4688-8308-3455f1a0eb98",
   "metadata": {},
   "outputs": [],
   "source": [
    "dailies = df.resample('D').mean()"
   ]
  },
  {
   "cell_type": "code",
   "execution_count": 24,
   "id": "23b5a3f0-723a-47aa-b38f-23517c4a5fae",
   "metadata": {},
   "outputs": [],
   "source": [
    "dailies['max'] = daily_max"
   ]
  },
  {
   "cell_type": "code",
   "execution_count": 25,
   "id": "39ffad1a-d356-4a19-857b-ac4e24bfb56a",
   "metadata": {},
   "outputs": [],
   "source": [
    "dailies['min'] = daily_min"
   ]
  },
  {
   "cell_type": "code",
   "execution_count": 26,
   "id": "b56a68e2-6957-4f5c-8923-7df88dbb9b17",
   "metadata": {},
   "outputs": [],
   "source": [
    "dailies = dailies.rename(columns={'temp' : 'avg'})"
   ]
  },
  {
   "cell_type": "code",
   "execution_count": 27,
   "id": "960885cc-4f4c-4924-857c-0a31f3c25fda",
   "metadata": {},
   "outputs": [
    {
     "data": {
      "image/png": "[encoded data removed]",
      "text/plain": [
       "<Figure size 432x288 with 1 Axes>"
      ]
     },
     "metadata": {
      "needs_background": "light"
     },
     "output_type": "display_data"
    }
   ],
   "source": [
    "dailies.plot();"
   ]
  },
  {
   "cell_type": "markdown",
   "id": "9a38a559-77b4-4202-af2e-f1eef7228623",
   "metadata": {},
   "source": [
    "## `seattle_weather()`"
   ]
  },
  {
   "cell_type": "code",
   "execution_count": 28,
   "id": "949dce97-76fa-420c-a35d-1625bd6af3c2",
   "metadata": {},
   "outputs": [],
   "source": [
    "df = data.seattle_weather()"
   ]
  },
  {
   "cell_type": "code",
   "execution_count": 29,
   "id": "cfeebc1a-1fd7-4eb4-81b9-947ae0e15558",
   "metadata": {},
   "outputs": [
    {
     "data": {
      "text/html": [
       "<div>\n",
       "<style scoped>\n",
       "    .dataframe tbody tr th:only-of-type {\n",
       "        vertical-align: middle;\n",
       "    }\n",
       "\n",
       "    .dataframe tbody tr th {\n",
       "        vertical-align: top;\n",
       "    }\n",
       "\n",
       "    .dataframe thead th {\n",
       "        text-align: right;\n",
       "    }\n",
       "</style>\n",
       "<table border=\"1\" class=\"dataframe\">\n",
       "  <thead>\n",
       "    <tr style=\"text-align: right;\">\n",
       "      <th></th>\n",
       "      <th>date</th>\n",
       "      <th>precipitation</th>\n",
       "      <th>temp_max</th>\n",
       "      <th>temp_min</th>\n",
       "      <th>wind</th>\n",
       "      <th>weather</th>\n",
       "    </tr>\n",
       "  </thead>\n",
       "  <tbody>\n",
       "    <tr>\n",
       "      <th>0</th>\n",
       "      <td>2012-01-01</td>\n",
       "      <td>0.0</td>\n",
       "      <td>12.8</td>\n",
       "      <td>5.0</td>\n",
       "      <td>4.7</td>\n",
       "      <td>drizzle</td>\n",
       "    </tr>\n",
       "    <tr>\n",
       "      <th>1</th>\n",
       "      <td>2012-01-02</td>\n",
       "      <td>10.9</td>\n",
       "      <td>10.6</td>\n",
       "      <td>2.8</td>\n",
       "      <td>4.5</td>\n",
       "      <td>rain</td>\n",
       "    </tr>\n",
       "    <tr>\n",
       "      <th>2</th>\n",
       "      <td>2012-01-03</td>\n",
       "      <td>0.8</td>\n",
       "      <td>11.7</td>\n",
       "      <td>7.2</td>\n",
       "      <td>2.3</td>\n",
       "      <td>rain</td>\n",
       "    </tr>\n",
       "    <tr>\n",
       "      <th>3</th>\n",
       "      <td>2012-01-04</td>\n",
       "      <td>20.3</td>\n",
       "      <td>12.2</td>\n",
       "      <td>5.6</td>\n",
       "      <td>4.7</td>\n",
       "      <td>rain</td>\n",
       "    </tr>\n",
       "    <tr>\n",
       "      <th>4</th>\n",
       "      <td>2012-01-05</td>\n",
       "      <td>1.3</td>\n",
       "      <td>8.9</td>\n",
       "      <td>2.8</td>\n",
       "      <td>6.1</td>\n",
       "      <td>rain</td>\n",
       "    </tr>\n",
       "  </tbody>\n",
       "</table>\n",
       "</div>"
      ],
      "text/plain": [
       "        date  precipitation  temp_max  temp_min  wind  weather\n",
       "0 2012-01-01            0.0      12.8       5.0   4.7  drizzle\n",
       "1 2012-01-02           10.9      10.6       2.8   4.5     rain\n",
       "2 2012-01-03            0.8      11.7       7.2   2.3     rain\n",
       "3 2012-01-04           20.3      12.2       5.6   4.7     rain\n",
       "4 2012-01-05            1.3       8.9       2.8   6.1     rain"
      ]
     },
     "execution_count": 29,
     "metadata": {},
     "output_type": "execute_result"
    }
   ],
   "source": [
    "df.head()"
   ]
  },
  {
   "cell_type": "code",
   "execution_count": 30,
   "id": "4d199d78-1fac-4da0-a7b2-1aa45be80827",
   "metadata": {},
   "outputs": [
    {
     "data": {
      "text/plain": [
       "(1461, 6)"
      ]
     },
     "execution_count": 30,
     "metadata": {},
     "output_type": "execute_result"
    }
   ],
   "source": [
    "df.shape"
   ]
  },
  {
   "cell_type": "code",
   "execution_count": 31,
   "id": "6f5a11f0-1b81-4444-b763-88912992cb9a",
   "metadata": {},
   "outputs": [
    {
     "name": "stdout",
     "output_type": "stream",
     "text": [
      "<class 'pandas.core.frame.DataFrame'>\n",
      "RangeIndex: 1461 entries, 0 to 1460\n",
      "Data columns (total 6 columns):\n",
      " #   Column         Non-Null Count  Dtype         \n",
      "---  ------         --------------  -----         \n",
      " 0   date           1461 non-null   datetime64[ns]\n",
      " 1   precipitation  1461 non-null   float64       \n",
      " 2   temp_max       1461 non-null   float64       \n",
      " 3   temp_min       1461 non-null   float64       \n",
      " 4   wind           1461 non-null   float64       \n",
      " 5   weather        1461 non-null   object        \n",
      "dtypes: datetime64[ns](1), float64(4), object(1)\n",
      "memory usage: 68.6+ KB\n"
     ]
    }
   ],
   "source": [
    "df.info()"
   ]
  },
  {
   "cell_type": "code",
   "execution_count": 32,
   "id": "975c3c79-74d0-4668-b407-37fefd17db5e",
   "metadata": {},
   "outputs": [],
   "source": [
    "df = df.set_index('date')"
   ]
  },
  {
   "cell_type": "code",
   "execution_count": 33,
   "id": "21fde265-629d-47c2-8c55-c7e3f2c4811e",
   "metadata": {},
   "outputs": [
    {
     "data": {
      "text/html": [
       "<div>\n",
       "<style scoped>\n",
       "    .dataframe tbody tr th:only-of-type {\n",
       "        vertical-align: middle;\n",
       "    }\n",
       "\n",
       "    .dataframe tbody tr th {\n",
       "        vertical-align: top;\n",
       "    }\n",
       "\n",
       "    .dataframe thead th {\n",
       "        text-align: right;\n",
       "    }\n",
       "</style>\n",
       "<table border=\"1\" class=\"dataframe\">\n",
       "  <thead>\n",
       "    <tr style=\"text-align: right;\">\n",
       "      <th></th>\n",
       "      <th>precipitation</th>\n",
       "      <th>temp_max</th>\n",
       "      <th>temp_min</th>\n",
       "      <th>wind</th>\n",
       "      <th>weather</th>\n",
       "    </tr>\n",
       "    <tr>\n",
       "      <th>date</th>\n",
       "      <th></th>\n",
       "      <th></th>\n",
       "      <th></th>\n",
       "      <th></th>\n",
       "      <th></th>\n",
       "    </tr>\n",
       "  </thead>\n",
       "  <tbody>\n",
       "    <tr>\n",
       "      <th>2012-01-01</th>\n",
       "      <td>0.0</td>\n",
       "      <td>12.8</td>\n",
       "      <td>5.0</td>\n",
       "      <td>4.7</td>\n",
       "      <td>drizzle</td>\n",
       "    </tr>\n",
       "    <tr>\n",
       "      <th>2012-01-02</th>\n",
       "      <td>10.9</td>\n",
       "      <td>10.6</td>\n",
       "      <td>2.8</td>\n",
       "      <td>4.5</td>\n",
       "      <td>rain</td>\n",
       "    </tr>\n",
       "    <tr>\n",
       "      <th>2012-01-03</th>\n",
       "      <td>0.8</td>\n",
       "      <td>11.7</td>\n",
       "      <td>7.2</td>\n",
       "      <td>2.3</td>\n",
       "      <td>rain</td>\n",
       "    </tr>\n",
       "    <tr>\n",
       "      <th>2012-01-04</th>\n",
       "      <td>20.3</td>\n",
       "      <td>12.2</td>\n",
       "      <td>5.6</td>\n",
       "      <td>4.7</td>\n",
       "      <td>rain</td>\n",
       "    </tr>\n",
       "    <tr>\n",
       "      <th>2012-01-05</th>\n",
       "      <td>1.3</td>\n",
       "      <td>8.9</td>\n",
       "      <td>2.8</td>\n",
       "      <td>6.1</td>\n",
       "      <td>rain</td>\n",
       "    </tr>\n",
       "  </tbody>\n",
       "</table>\n",
       "</div>"
      ],
      "text/plain": [
       "            precipitation  temp_max  temp_min  wind  weather\n",
       "date                                                        \n",
       "2012-01-01            0.0      12.8       5.0   4.7  drizzle\n",
       "2012-01-02           10.9      10.6       2.8   4.5     rain\n",
       "2012-01-03            0.8      11.7       7.2   2.3     rain\n",
       "2012-01-04           20.3      12.2       5.6   4.7     rain\n",
       "2012-01-05            1.3       8.9       2.8   6.1     rain"
      ]
     },
     "execution_count": 33,
     "metadata": {},
     "output_type": "execute_result"
    }
   ],
   "source": [
    "df.head()"
   ]
  },
  {
   "cell_type": "markdown",
   "id": "eb8bb0b6-be62-4ce2-b028-8d02ce64b144",
   "metadata": {},
   "source": [
    "### 1."
   ]
  },
  {
   "cell_type": "markdown",
   "id": "0f60dd82-f413-4902-8ecd-a29eb7835ea9",
   "metadata": {},
   "source": [
    "Which year and month combination has the highest amount of precipitation?"
   ]
  },
  {
   "cell_type": "code",
   "execution_count": 34,
   "id": "bcf3b28a-1e19-4c16-a39f-e73e4c3362ee",
   "metadata": {},
   "outputs": [
    {
     "data": {
      "text/html": [
       "<style  type=\"text/css\" >\n",
       "#T_48331_row0_col0{\n",
       "            background-color:  blue;\n",
       "        }</style><table id=\"T_48331_\" ><thead>    <tr>        <th class=\"blank level0\" ></th>        <th class=\"col_heading level0 col0\" >precipitation</th>    </tr>    <tr>        <th class=\"index_name level0\" >date</th>        <th class=\"blank\" ></th>    </tr></thead><tbody>\n",
       "                <tr>\n",
       "                        <th id=\"T_48331_level0_row0\" class=\"row_heading level0 row0\" >2015-12-31 00:00:00</th>\n",
       "                        <td id=\"T_48331_row0_col0\" class=\"data row0 col0\" >284.500000</td>\n",
       "            </tr>\n",
       "            <tr>\n",
       "                        <th id=\"T_48331_level0_row1\" class=\"row_heading level0 row1\" >2014-03-31 00:00:00</th>\n",
       "                        <td id=\"T_48331_row1_col0\" class=\"data row1 col0\" >240.000000</td>\n",
       "            </tr>\n",
       "            <tr>\n",
       "                        <th id=\"T_48331_level0_row2\" class=\"row_heading level0 row2\" >2015-11-30 00:00:00</th>\n",
       "                        <td id=\"T_48331_row2_col0\" class=\"data row2 col0\" >212.600000</td>\n",
       "            </tr>\n",
       "            <tr>\n",
       "                        <th id=\"T_48331_level0_row3\" class=\"row_heading level0 row3\" >2012-11-30 00:00:00</th>\n",
       "                        <td id=\"T_48331_row3_col0\" class=\"data row3 col0\" >210.500000</td>\n",
       "            </tr>\n",
       "            <tr>\n",
       "                        <th id=\"T_48331_level0_row4\" class=\"row_heading level0 row4\" >2012-03-31 00:00:00</th>\n",
       "                        <td id=\"T_48331_row4_col0\" class=\"data row4 col0\" >183.000000</td>\n",
       "            </tr>\n",
       "    </tbody></table>"
      ],
      "text/plain": [
       "<pandas.io.formats.style.Styler at 0x7fe3155c2b50>"
      ]
     },
     "execution_count": 34,
     "metadata": {},
     "output_type": "execute_result"
    }
   ],
   "source": [
    "df[['precipitation']].resample('M').sum().sort_values(by='precipitation', ascending=False).head().style.highlight_max(color='blue')"
   ]
  },
  {
   "cell_type": "markdown",
   "id": "cfd046aa-ae21-4371-8686-d6ef2d810c56",
   "metadata": {},
   "source": [
    "**December 2015 had the most total precipitation**"
   ]
  },
  {
   "cell_type": "markdown",
   "id": "102ec340-1654-4b0e-a0d6-a119f85ba8d6",
   "metadata": {},
   "source": [
    "### 2."
   ]
  },
  {
   "cell_type": "markdown",
   "id": "57c6994c-22e7-42d2-baff-109d91448c6c",
   "metadata": {},
   "source": [
    "Visualize the amount of monthly precipitation over time."
   ]
  },
  {
   "cell_type": "code",
   "execution_count": 35,
   "id": "e38eacaf-74ee-4a30-a4ba-bba8c5a7a53e",
   "metadata": {},
   "outputs": [
    {
     "data": {
      "image/png": "[encoded data removed]",
      "text/plain": [
       "<Figure size 432x288 with 1 Axes>"
      ]
     },
     "metadata": {
      "needs_background": "light"
     },
     "output_type": "display_data"
    }
   ],
   "source": [
    "df[['precipitation']].resample('M').sum().plot();"
   ]
  },
  {
   "cell_type": "markdown",
   "id": "d98217ea-58ec-4d84-be0b-b775e4855d1b",
   "metadata": {},
   "source": [
    "### 3."
   ]
  },
  {
   "cell_type": "markdown",
   "id": "58ca0d57-4435-436a-a178-a4de19eef882",
   "metadata": {},
   "source": [
    "Visualize the amount of wind over time. Choose a time interval you think is appropriate."
   ]
  },
  {
   "cell_type": "code",
   "execution_count": 36,
   "id": "b442258e-47f1-489b-8121-01c0f37d294c",
   "metadata": {},
   "outputs": [
    {
     "data": {
      "image/png": "[encoded data removed]",
      "text/plain": [
       "<Figure size 432x288 with 1 Axes>"
      ]
     },
     "metadata": {
      "needs_background": "light"
     },
     "output_type": "display_data"
    }
   ],
   "source": [
    "df[['wind']].resample('M').sum().plot();"
   ]
  },
  {
   "cell_type": "markdown",
   "id": "5d502e17-1c59-44b6-8a1e-079503bac27f",
   "metadata": {},
   "source": [
    "### 4."
   ]
  },
  {
   "cell_type": "markdown",
   "id": "b9cce435-8e30-4ce4-80a7-bfd416b1778a",
   "metadata": {},
   "source": [
    "Which year-month combination is the windiest?"
   ]
  },
  {
   "cell_type": "code",
   "execution_count": 37,
   "id": "aa170d74-efb9-456a-a8f9-135279ed2bc9",
   "metadata": {},
   "outputs": [
    {
     "data": {
      "text/html": [
       "<style  type=\"text/css\" >\n",
       "#T_e254c_row0_col0{\n",
       "            background-color:  blue;\n",
       "        }</style><table id=\"T_e254c_\" ><thead>    <tr>        <th class=\"blank level0\" ></th>        <th class=\"col_heading level0 col0\" >wind</th>    </tr>    <tr>        <th class=\"index_name level0\" >date</th>        <th class=\"blank\" ></th>    </tr></thead><tbody>\n",
       "                <tr>\n",
       "                        <th id=\"T_e254c_level0_row0\" class=\"row_heading level0 row0\" >2014-02-28 00:00:00</th>\n",
       "                        <td id=\"T_e254c_row0_col0\" class=\"data row0 col0\" >4.528571</td>\n",
       "            </tr>\n",
       "            <tr>\n",
       "                        <th id=\"T_e254c_level0_row1\" class=\"row_heading level0 row1\" >2015-12-31 00:00:00</th>\n",
       "                        <td id=\"T_e254c_row1_col0\" class=\"data row1 col0\" >4.341935</td>\n",
       "            </tr>\n",
       "            <tr>\n",
       "                        <th id=\"T_e254c_level0_row2\" class=\"row_heading level0 row2\" >2012-03-31 00:00:00</th>\n",
       "                        <td id=\"T_e254c_row2_col0\" class=\"data row2 col0\" >4.248387</td>\n",
       "            </tr>\n",
       "            <tr>\n",
       "                        <th id=\"T_e254c_level0_row3\" class=\"row_heading level0 row3\" >2014-11-30 00:00:00</th>\n",
       "                        <td id=\"T_e254c_row3_col0\" class=\"data row3 col0\" >3.983333</td>\n",
       "            </tr>\n",
       "            <tr>\n",
       "                        <th id=\"T_e254c_level0_row4\" class=\"row_heading level0 row4\" >2012-02-29 00:00:00</th>\n",
       "                        <td id=\"T_e254c_row4_col0\" class=\"data row4 col0\" >3.903448</td>\n",
       "            </tr>\n",
       "    </tbody></table>"
      ],
      "text/plain": [
       "<pandas.io.formats.style.Styler at 0x7fe31521ed60>"
      ]
     },
     "execution_count": 37,
     "metadata": {},
     "output_type": "execute_result"
    }
   ],
   "source": [
    "df[['wind']].resample('M').mean().sort_values(by='wind', ascending=False).head().style.highlight_max(color='blue')"
   ]
  },
  {
   "cell_type": "markdown",
   "id": "9e818e78-c905-463b-a017-4ce70797d3f2",
   "metadata": {},
   "source": [
    "***February 2014 has the highest average wind speed***"
   ]
  },
  {
   "cell_type": "markdown",
   "id": "70888dfb-c76a-44e4-9cc6-73750126fda5",
   "metadata": {},
   "source": [
    "### 5."
   ]
  },
  {
   "cell_type": "markdown",
   "id": "2a260077-767c-48df-8946-d9607b964628",
   "metadata": {},
   "source": [
    "What's the sunniest year? (Hint: which year has the highest number of days where weather == sun?)"
   ]
  },
  {
   "cell_type": "code",
   "execution_count": 38,
   "id": "f82311fd-0abb-4315-9bb7-303654fdb3ce",
   "metadata": {},
   "outputs": [
    {
     "data": {
      "text/html": [
       "<div>\n",
       "<style scoped>\n",
       "    .dataframe tbody tr th:only-of-type {\n",
       "        vertical-align: middle;\n",
       "    }\n",
       "\n",
       "    .dataframe tbody tr th {\n",
       "        vertical-align: top;\n",
       "    }\n",
       "\n",
       "    .dataframe thead th {\n",
       "        text-align: right;\n",
       "    }\n",
       "</style>\n",
       "<table border=\"1\" class=\"dataframe\">\n",
       "  <thead>\n",
       "    <tr style=\"text-align: right;\">\n",
       "      <th></th>\n",
       "      <th>precipitation</th>\n",
       "      <th>temp_max</th>\n",
       "      <th>temp_min</th>\n",
       "      <th>wind</th>\n",
       "      <th>weather</th>\n",
       "      <th>year</th>\n",
       "    </tr>\n",
       "    <tr>\n",
       "      <th>date</th>\n",
       "      <th></th>\n",
       "      <th></th>\n",
       "      <th></th>\n",
       "      <th></th>\n",
       "      <th></th>\n",
       "      <th></th>\n",
       "    </tr>\n",
       "  </thead>\n",
       "  <tbody>\n",
       "    <tr>\n",
       "      <th>2012-01-01</th>\n",
       "      <td>0.0</td>\n",
       "      <td>12.8</td>\n",
       "      <td>5.0</td>\n",
       "      <td>4.7</td>\n",
       "      <td>drizzle</td>\n",
       "      <td>2012</td>\n",
       "    </tr>\n",
       "    <tr>\n",
       "      <th>2012-01-02</th>\n",
       "      <td>10.9</td>\n",
       "      <td>10.6</td>\n",
       "      <td>2.8</td>\n",
       "      <td>4.5</td>\n",
       "      <td>rain</td>\n",
       "      <td>2012</td>\n",
       "    </tr>\n",
       "    <tr>\n",
       "      <th>2012-01-03</th>\n",
       "      <td>0.8</td>\n",
       "      <td>11.7</td>\n",
       "      <td>7.2</td>\n",
       "      <td>2.3</td>\n",
       "      <td>rain</td>\n",
       "      <td>2012</td>\n",
       "    </tr>\n",
       "    <tr>\n",
       "      <th>2012-01-04</th>\n",
       "      <td>20.3</td>\n",
       "      <td>12.2</td>\n",
       "      <td>5.6</td>\n",
       "      <td>4.7</td>\n",
       "      <td>rain</td>\n",
       "      <td>2012</td>\n",
       "    </tr>\n",
       "    <tr>\n",
       "      <th>2012-01-05</th>\n",
       "      <td>1.3</td>\n",
       "      <td>8.9</td>\n",
       "      <td>2.8</td>\n",
       "      <td>6.1</td>\n",
       "      <td>rain</td>\n",
       "      <td>2012</td>\n",
       "    </tr>\n",
       "  </tbody>\n",
       "</table>\n",
       "</div>"
      ],
      "text/plain": [
       "            precipitation  temp_max  temp_min  wind  weather  year\n",
       "date                                                              \n",
       "2012-01-01            0.0      12.8       5.0   4.7  drizzle  2012\n",
       "2012-01-02           10.9      10.6       2.8   4.5     rain  2012\n",
       "2012-01-03            0.8      11.7       7.2   2.3     rain  2012\n",
       "2012-01-04           20.3      12.2       5.6   4.7     rain  2012\n",
       "2012-01-05            1.3       8.9       2.8   6.1     rain  2012"
      ]
     },
     "execution_count": 38,
     "metadata": {},
     "output_type": "execute_result"
    }
   ],
   "source": [
    "df['year'] = df.index.year\n",
    "df.head()"
   ]
  },
  {
   "cell_type": "code",
   "execution_count": 39,
   "id": "4e534493-d138-4ba3-a3ff-37d1d1050de3",
   "metadata": {},
   "outputs": [],
   "source": [
    "sunny = df[['weather', 'year']]"
   ]
  },
  {
   "cell_type": "code",
   "execution_count": 40,
   "id": "0c71d2c1-9242-4a54-bc0f-c9ca1c344ed7",
   "metadata": {},
   "outputs": [
    {
     "data": {
      "text/plain": [
       "weather  year\n",
       "sun      2014    211\n",
       "         2013    205\n",
       "         2015    180\n",
       "         2012    118\n",
       "dtype: int64"
      ]
     },
     "execution_count": 40,
     "metadata": {},
     "output_type": "execute_result"
    }
   ],
   "source": [
    "sunny[sunny.weather == 'sun'].value_counts()"
   ]
  },
  {
   "cell_type": "markdown",
   "id": "aba0f4f1-efbf-4506-b50a-05cad96b037d",
   "metadata": {},
   "source": [
    "***2014 has the most sunny days***"
   ]
  },
  {
   "cell_type": "code",
   "execution_count": 41,
   "id": "bc7de8a1-9eed-4e16-8dae-661e97baba7b",
   "metadata": {},
   "outputs": [
    {
     "data": {
      "text/html": [
       "<style  type=\"text/css\" >\n",
       "#T_a7843_row0_col0,#T_a7843_row0_col2,#T_a7843_row0_col3,#T_a7843_row2_col4,#T_a7843_row3_col1{\n",
       "            background-color:  red;\n",
       "        }</style><table id=\"T_a7843_\" ><thead>    <tr>        <th class=\"index_name level0\" >weather</th>        <th class=\"col_heading level0 col0\" >drizzle</th>        <th class=\"col_heading level0 col1\" >fog</th>        <th class=\"col_heading level0 col2\" >rain</th>        <th class=\"col_heading level0 col3\" >snow</th>        <th class=\"col_heading level0 col4\" >sun</th>    </tr>    <tr>        <th class=\"index_name level0\" >year</th>        <th class=\"blank\" ></th>        <th class=\"blank\" ></th>        <th class=\"blank\" ></th>        <th class=\"blank\" ></th>        <th class=\"blank\" ></th>    </tr></thead><tbody>\n",
       "                <tr>\n",
       "                        <th id=\"T_a7843_level0_row0\" class=\"row_heading level0 row0\" >2012</th>\n",
       "                        <td id=\"T_a7843_row0_col0\" class=\"data row0 col0\" >31</td>\n",
       "                        <td id=\"T_a7843_row0_col1\" class=\"data row0 col1\" >5</td>\n",
       "                        <td id=\"T_a7843_row0_col2\" class=\"data row0 col2\" >191</td>\n",
       "                        <td id=\"T_a7843_row0_col3\" class=\"data row0 col3\" >21</td>\n",
       "                        <td id=\"T_a7843_row0_col4\" class=\"data row0 col4\" >118</td>\n",
       "            </tr>\n",
       "            <tr>\n",
       "                        <th id=\"T_a7843_level0_row1\" class=\"row_heading level0 row1\" >2013</th>\n",
       "                        <td id=\"T_a7843_row1_col0\" class=\"data row1 col0\" >16</td>\n",
       "                        <td id=\"T_a7843_row1_col1\" class=\"data row1 col1\" >82</td>\n",
       "                        <td id=\"T_a7843_row1_col2\" class=\"data row1 col2\" >60</td>\n",
       "                        <td id=\"T_a7843_row1_col3\" class=\"data row1 col3\" >2</td>\n",
       "                        <td id=\"T_a7843_row1_col4\" class=\"data row1 col4\" >205</td>\n",
       "            </tr>\n",
       "            <tr>\n",
       "                        <th id=\"T_a7843_level0_row2\" class=\"row_heading level0 row2\" >2014</th>\n",
       "                        <td id=\"T_a7843_row2_col0\" class=\"data row2 col0\" >0</td>\n",
       "                        <td id=\"T_a7843_row2_col1\" class=\"data row2 col1\" >151</td>\n",
       "                        <td id=\"T_a7843_row2_col2\" class=\"data row2 col2\" >3</td>\n",
       "                        <td id=\"T_a7843_row2_col3\" class=\"data row2 col3\" >0</td>\n",
       "                        <td id=\"T_a7843_row2_col4\" class=\"data row2 col4\" >211</td>\n",
       "            </tr>\n",
       "            <tr>\n",
       "                        <th id=\"T_a7843_level0_row3\" class=\"row_heading level0 row3\" >2015</th>\n",
       "                        <td id=\"T_a7843_row3_col0\" class=\"data row3 col0\" >7</td>\n",
       "                        <td id=\"T_a7843_row3_col1\" class=\"data row3 col1\" >173</td>\n",
       "                        <td id=\"T_a7843_row3_col2\" class=\"data row3 col2\" >5</td>\n",
       "                        <td id=\"T_a7843_row3_col3\" class=\"data row3 col3\" >0</td>\n",
       "                        <td id=\"T_a7843_row3_col4\" class=\"data row3 col4\" >180</td>\n",
       "            </tr>\n",
       "    </tbody></table>"
      ],
      "text/plain": [
       "<pandas.io.formats.style.Styler at 0x7fe3152ceac0>"
      ]
     },
     "execution_count": 41,
     "metadata": {},
     "output_type": "execute_result"
    }
   ],
   "source": [
    "pd.crosstab(df.year, df.weather).style.highlight_max(color='red')"
   ]
  },
  {
   "cell_type": "markdown",
   "id": "cbb299ff-bd2d-4f44-8ec6-a433dc5402ba",
   "metadata": {},
   "source": [
    "### 6."
   ]
  },
  {
   "cell_type": "markdown",
   "id": "b654149d-1ecd-48c1-bd72-5caecd9fcd8f",
   "metadata": {},
   "source": [
    "In which month does it rain the most?"
   ]
  },
  {
   "cell_type": "code",
   "execution_count": 42,
   "id": "73939b86-1559-44b9-9558-6a7e4ed91bfb",
   "metadata": {},
   "outputs": [
    {
     "data": {
      "text/html": [
       "<div>\n",
       "<style scoped>\n",
       "    .dataframe tbody tr th:only-of-type {\n",
       "        vertical-align: middle;\n",
       "    }\n",
       "\n",
       "    .dataframe tbody tr th {\n",
       "        vertical-align: top;\n",
       "    }\n",
       "\n",
       "    .dataframe thead th {\n",
       "        text-align: right;\n",
       "    }\n",
       "</style>\n",
       "<table border=\"1\" class=\"dataframe\">\n",
       "  <thead>\n",
       "    <tr style=\"text-align: right;\">\n",
       "      <th></th>\n",
       "      <th>precipitation</th>\n",
       "      <th>temp_max</th>\n",
       "      <th>temp_min</th>\n",
       "      <th>wind</th>\n",
       "      <th>weather</th>\n",
       "      <th>year</th>\n",
       "      <th>month</th>\n",
       "    </tr>\n",
       "    <tr>\n",
       "      <th>date</th>\n",
       "      <th></th>\n",
       "      <th></th>\n",
       "      <th></th>\n",
       "      <th></th>\n",
       "      <th></th>\n",
       "      <th></th>\n",
       "      <th></th>\n",
       "    </tr>\n",
       "  </thead>\n",
       "  <tbody>\n",
       "    <tr>\n",
       "      <th>2012-01-01</th>\n",
       "      <td>0.0</td>\n",
       "      <td>12.8</td>\n",
       "      <td>5.0</td>\n",
       "      <td>4.7</td>\n",
       "      <td>drizzle</td>\n",
       "      <td>2012</td>\n",
       "      <td>1</td>\n",
       "    </tr>\n",
       "    <tr>\n",
       "      <th>2012-01-02</th>\n",
       "      <td>10.9</td>\n",
       "      <td>10.6</td>\n",
       "      <td>2.8</td>\n",
       "      <td>4.5</td>\n",
       "      <td>rain</td>\n",
       "      <td>2012</td>\n",
       "      <td>1</td>\n",
       "    </tr>\n",
       "    <tr>\n",
       "      <th>2012-01-03</th>\n",
       "      <td>0.8</td>\n",
       "      <td>11.7</td>\n",
       "      <td>7.2</td>\n",
       "      <td>2.3</td>\n",
       "      <td>rain</td>\n",
       "      <td>2012</td>\n",
       "      <td>1</td>\n",
       "    </tr>\n",
       "    <tr>\n",
       "      <th>2012-01-04</th>\n",
       "      <td>20.3</td>\n",
       "      <td>12.2</td>\n",
       "      <td>5.6</td>\n",
       "      <td>4.7</td>\n",
       "      <td>rain</td>\n",
       "      <td>2012</td>\n",
       "      <td>1</td>\n",
       "    </tr>\n",
       "    <tr>\n",
       "      <th>2012-01-05</th>\n",
       "      <td>1.3</td>\n",
       "      <td>8.9</td>\n",
       "      <td>2.8</td>\n",
       "      <td>6.1</td>\n",
       "      <td>rain</td>\n",
       "      <td>2012</td>\n",
       "      <td>1</td>\n",
       "    </tr>\n",
       "  </tbody>\n",
       "</table>\n",
       "</div>"
      ],
      "text/plain": [
       "            precipitation  temp_max  temp_min  wind  weather  year  month\n",
       "date                                                                     \n",
       "2012-01-01            0.0      12.8       5.0   4.7  drizzle  2012      1\n",
       "2012-01-02           10.9      10.6       2.8   4.5     rain  2012      1\n",
       "2012-01-03            0.8      11.7       7.2   2.3     rain  2012      1\n",
       "2012-01-04           20.3      12.2       5.6   4.7     rain  2012      1\n",
       "2012-01-05            1.3       8.9       2.8   6.1     rain  2012      1"
      ]
     },
     "execution_count": 42,
     "metadata": {},
     "output_type": "execute_result"
    }
   ],
   "source": [
    "df['month'] = df.index.month\n",
    "df.head()"
   ]
  },
  {
   "cell_type": "code",
   "execution_count": 43,
   "id": "fa8dd526-4ee8-46ef-8990-c0f69b946e13",
   "metadata": {},
   "outputs": [
    {
     "data": {
      "text/html": [
       "<style  type=\"text/css\" >\n",
       "#T_5be64_row0_col0,#T_5be64_row0_col3,#T_5be64_row1_col2,#T_5be64_row7_col4,#T_5be64_row9_col1{\n",
       "            background-color:  red;\n",
       "        }</style><table id=\"T_5be64_\" ><thead>    <tr>        <th class=\"index_name level0\" >weather</th>        <th class=\"col_heading level0 col0\" >drizzle</th>        <th class=\"col_heading level0 col1\" >fog</th>        <th class=\"col_heading level0 col2\" >rain</th>        <th class=\"col_heading level0 col3\" >snow</th>        <th class=\"col_heading level0 col4\" >sun</th>    </tr>    <tr>        <th class=\"index_name level0\" >month</th>        <th class=\"blank\" ></th>        <th class=\"blank\" ></th>        <th class=\"blank\" ></th>        <th class=\"blank\" ></th>        <th class=\"blank\" ></th>    </tr></thead><tbody>\n",
       "                <tr>\n",
       "                        <th id=\"T_5be64_level0_row0\" class=\"row_heading level0 row0\" >1</th>\n",
       "                        <td id=\"T_5be64_row0_col0\" class=\"data row0 col0\" >10</td>\n",
       "                        <td id=\"T_5be64_row0_col1\" class=\"data row0 col1\" >38</td>\n",
       "                        <td id=\"T_5be64_row0_col2\" class=\"data row0 col2\" >35</td>\n",
       "                        <td id=\"T_5be64_row0_col3\" class=\"data row0 col3\" >8</td>\n",
       "                        <td id=\"T_5be64_row0_col4\" class=\"data row0 col4\" >33</td>\n",
       "            </tr>\n",
       "            <tr>\n",
       "                        <th id=\"T_5be64_level0_row1\" class=\"row_heading level0 row1\" >2</th>\n",
       "                        <td id=\"T_5be64_row1_col0\" class=\"data row1 col0\" >4</td>\n",
       "                        <td id=\"T_5be64_row1_col1\" class=\"data row1 col1\" >36</td>\n",
       "                        <td id=\"T_5be64_row1_col2\" class=\"data row1 col2\" >40</td>\n",
       "                        <td id=\"T_5be64_row1_col3\" class=\"data row1 col3\" >3</td>\n",
       "                        <td id=\"T_5be64_row1_col4\" class=\"data row1 col4\" >30</td>\n",
       "            </tr>\n",
       "            <tr>\n",
       "                        <th id=\"T_5be64_level0_row2\" class=\"row_heading level0 row2\" >3</th>\n",
       "                        <td id=\"T_5be64_row2_col0\" class=\"data row2 col0\" >3</td>\n",
       "                        <td id=\"T_5be64_row2_col1\" class=\"data row2 col1\" >36</td>\n",
       "                        <td id=\"T_5be64_row2_col2\" class=\"data row2 col2\" >37</td>\n",
       "                        <td id=\"T_5be64_row2_col3\" class=\"data row2 col3\" >6</td>\n",
       "                        <td id=\"T_5be64_row2_col4\" class=\"data row2 col4\" >42</td>\n",
       "            </tr>\n",
       "            <tr>\n",
       "                        <th id=\"T_5be64_level0_row3\" class=\"row_heading level0 row3\" >4</th>\n",
       "                        <td id=\"T_5be64_row3_col0\" class=\"data row3 col0\" >4</td>\n",
       "                        <td id=\"T_5be64_row3_col1\" class=\"data row3 col1\" >34</td>\n",
       "                        <td id=\"T_5be64_row3_col2\" class=\"data row3 col2\" >20</td>\n",
       "                        <td id=\"T_5be64_row3_col3\" class=\"data row3 col3\" >1</td>\n",
       "                        <td id=\"T_5be64_row3_col4\" class=\"data row3 col4\" >61</td>\n",
       "            </tr>\n",
       "            <tr>\n",
       "                        <th id=\"T_5be64_level0_row4\" class=\"row_heading level0 row4\" >5</th>\n",
       "                        <td id=\"T_5be64_row4_col0\" class=\"data row4 col0\" >1</td>\n",
       "                        <td id=\"T_5be64_row4_col1\" class=\"data row4 col1\" >25</td>\n",
       "                        <td id=\"T_5be64_row4_col2\" class=\"data row4 col2\" >16</td>\n",
       "                        <td id=\"T_5be64_row4_col3\" class=\"data row4 col3\" >0</td>\n",
       "                        <td id=\"T_5be64_row4_col4\" class=\"data row4 col4\" >82</td>\n",
       "            </tr>\n",
       "            <tr>\n",
       "                        <th id=\"T_5be64_level0_row5\" class=\"row_heading level0 row5\" >6</th>\n",
       "                        <td id=\"T_5be64_row5_col0\" class=\"data row5 col0\" >2</td>\n",
       "                        <td id=\"T_5be64_row5_col1\" class=\"data row5 col1\" >14</td>\n",
       "                        <td id=\"T_5be64_row5_col2\" class=\"data row5 col2\" >19</td>\n",
       "                        <td id=\"T_5be64_row5_col3\" class=\"data row5 col3\" >0</td>\n",
       "                        <td id=\"T_5be64_row5_col4\" class=\"data row5 col4\" >85</td>\n",
       "            </tr>\n",
       "            <tr>\n",
       "                        <th id=\"T_5be64_level0_row6\" class=\"row_heading level0 row6\" >7</th>\n",
       "                        <td id=\"T_5be64_row6_col0\" class=\"data row6 col0\" >8</td>\n",
       "                        <td id=\"T_5be64_row6_col1\" class=\"data row6 col1\" >13</td>\n",
       "                        <td id=\"T_5be64_row6_col2\" class=\"data row6 col2\" >14</td>\n",
       "                        <td id=\"T_5be64_row6_col3\" class=\"data row6 col3\" >0</td>\n",
       "                        <td id=\"T_5be64_row6_col4\" class=\"data row6 col4\" >89</td>\n",
       "            </tr>\n",
       "            <tr>\n",
       "                        <th id=\"T_5be64_level0_row7\" class=\"row_heading level0 row7\" >8</th>\n",
       "                        <td id=\"T_5be64_row7_col0\" class=\"data row7 col0\" >8</td>\n",
       "                        <td id=\"T_5be64_row7_col1\" class=\"data row7 col1\" >16</td>\n",
       "                        <td id=\"T_5be64_row7_col2\" class=\"data row7 col2\" >6</td>\n",
       "                        <td id=\"T_5be64_row7_col3\" class=\"data row7 col3\" >0</td>\n",
       "                        <td id=\"T_5be64_row7_col4\" class=\"data row7 col4\" >94</td>\n",
       "            </tr>\n",
       "            <tr>\n",
       "                        <th id=\"T_5be64_level0_row8\" class=\"row_heading level0 row8\" >9</th>\n",
       "                        <td id=\"T_5be64_row8_col0\" class=\"data row8 col0\" >5</td>\n",
       "                        <td id=\"T_5be64_row8_col1\" class=\"data row8 col1\" >40</td>\n",
       "                        <td id=\"T_5be64_row8_col2\" class=\"data row8 col2\" >4</td>\n",
       "                        <td id=\"T_5be64_row8_col3\" class=\"data row8 col3\" >0</td>\n",
       "                        <td id=\"T_5be64_row8_col4\" class=\"data row8 col4\" >71</td>\n",
       "            </tr>\n",
       "            <tr>\n",
       "                        <th id=\"T_5be64_level0_row9\" class=\"row_heading level0 row9\" >10</th>\n",
       "                        <td id=\"T_5be64_row9_col0\" class=\"data row9 col0\" >4</td>\n",
       "                        <td id=\"T_5be64_row9_col1\" class=\"data row9 col1\" >55</td>\n",
       "                        <td id=\"T_5be64_row9_col2\" class=\"data row9 col2\" >20</td>\n",
       "                        <td id=\"T_5be64_row9_col3\" class=\"data row9 col3\" >0</td>\n",
       "                        <td id=\"T_5be64_row9_col4\" class=\"data row9 col4\" >45</td>\n",
       "            </tr>\n",
       "            <tr>\n",
       "                        <th id=\"T_5be64_level0_row10\" class=\"row_heading level0 row10\" >11</th>\n",
       "                        <td id=\"T_5be64_row10_col0\" class=\"data row10 col0\" >3</td>\n",
       "                        <td id=\"T_5be64_row10_col1\" class=\"data row10 col1\" >50</td>\n",
       "                        <td id=\"T_5be64_row10_col2\" class=\"data row10 col2\" >25</td>\n",
       "                        <td id=\"T_5be64_row10_col3\" class=\"data row10 col3\" >0</td>\n",
       "                        <td id=\"T_5be64_row10_col4\" class=\"data row10 col4\" >42</td>\n",
       "            </tr>\n",
       "            <tr>\n",
       "                        <th id=\"T_5be64_level0_row11\" class=\"row_heading level0 row11\" >12</th>\n",
       "                        <td id=\"T_5be64_row11_col0\" class=\"data row11 col0\" >2</td>\n",
       "                        <td id=\"T_5be64_row11_col1\" class=\"data row11 col1\" >54</td>\n",
       "                        <td id=\"T_5be64_row11_col2\" class=\"data row11 col2\" >23</td>\n",
       "                        <td id=\"T_5be64_row11_col3\" class=\"data row11 col3\" >5</td>\n",
       "                        <td id=\"T_5be64_row11_col4\" class=\"data row11 col4\" >40</td>\n",
       "            </tr>\n",
       "    </tbody></table>"
      ],
      "text/plain": [
       "<pandas.io.formats.style.Styler at 0x7fe316152af0>"
      ]
     },
     "execution_count": 43,
     "metadata": {},
     "output_type": "execute_result"
    }
   ],
   "source": [
    "pd.crosstab(df.month, df.weather).style.highlight_max(color='red')"
   ]
  },
  {
   "cell_type": "markdown",
   "id": "a836596f-3ac1-4141-bf58-f24c66821566",
   "metadata": {},
   "source": [
    "### 7."
   ]
  },
  {
   "cell_type": "markdown",
   "id": "8d8a1273-0b1d-4abf-add8-00de9663b00b",
   "metadata": {},
   "source": [
    "Which month has the most number of days with a non-zero amount of precipitation?"
   ]
  },
  {
   "cell_type": "code",
   "execution_count": 44,
   "id": "0f0938de-47c0-420d-8c60-79b9d651071b",
   "metadata": {},
   "outputs": [
    {
     "data": {
      "text/plain": [
       "date\n",
       "2012-01-01    False\n",
       "2012-01-02     True\n",
       "2012-01-03     True\n",
       "2012-01-04     True\n",
       "2012-01-05     True\n",
       "              ...  \n",
       "2015-12-27     True\n",
       "2015-12-28     True\n",
       "2015-12-29    False\n",
       "2015-12-30    False\n",
       "2015-12-31    False\n",
       "Name: precipitation, Length: 1461, dtype: bool"
      ]
     },
     "execution_count": 44,
     "metadata": {},
     "output_type": "execute_result"
    }
   ],
   "source": [
    "df.precipitation != 0"
   ]
  },
  {
   "cell_type": "code",
   "execution_count": 45,
   "id": "b3d40f5b-c426-4c19-8ca8-595c311745ce",
   "metadata": {},
   "outputs": [],
   "source": [
    "df['had_precip'] = np.where(df.precipitation != 0, 'Yes', 'No')"
   ]
  },
  {
   "cell_type": "code",
   "execution_count": 46,
   "id": "9b351515-0938-47cd-a14d-cfcc3c63f477",
   "metadata": {},
   "outputs": [
    {
     "data": {
      "text/html": [
       "<style  type=\"text/css\" >\n",
       "#T_e71b1_row6_col0,#T_e71b1_row11_col1{\n",
       "            background-color:  red;\n",
       "        }</style><table id=\"T_e71b1_\" ><thead>    <tr>        <th class=\"index_name level0\" >had_precip</th>        <th class=\"col_heading level0 col0\" >No</th>        <th class=\"col_heading level0 col1\" >Yes</th>    </tr>    <tr>        <th class=\"index_name level0\" >month</th>        <th class=\"blank\" ></th>        <th class=\"blank\" ></th>    </tr></thead><tbody>\n",
       "                <tr>\n",
       "                        <th id=\"T_e71b1_level0_row0\" class=\"row_heading level0 row0\" >1</th>\n",
       "                        <td id=\"T_e71b1_row0_col0\" class=\"data row0 col0\" >58</td>\n",
       "                        <td id=\"T_e71b1_row0_col1\" class=\"data row0 col1\" >66</td>\n",
       "            </tr>\n",
       "            <tr>\n",
       "                        <th id=\"T_e71b1_level0_row1\" class=\"row_heading level0 row1\" >2</th>\n",
       "                        <td id=\"T_e71b1_row1_col0\" class=\"data row1 col0\" >40</td>\n",
       "                        <td id=\"T_e71b1_row1_col1\" class=\"data row1 col1\" >73</td>\n",
       "            </tr>\n",
       "            <tr>\n",
       "                        <th id=\"T_e71b1_level0_row2\" class=\"row_heading level0 row2\" >3</th>\n",
       "                        <td id=\"T_e71b1_row2_col0\" class=\"data row2 col0\" >51</td>\n",
       "                        <td id=\"T_e71b1_row2_col1\" class=\"data row2 col1\" >73</td>\n",
       "            </tr>\n",
       "            <tr>\n",
       "                        <th id=\"T_e71b1_level0_row3\" class=\"row_heading level0 row3\" >4</th>\n",
       "                        <td id=\"T_e71b1_row3_col0\" class=\"data row3 col0\" >61</td>\n",
       "                        <td id=\"T_e71b1_row3_col1\" class=\"data row3 col1\" >59</td>\n",
       "            </tr>\n",
       "            <tr>\n",
       "                        <th id=\"T_e71b1_level0_row4\" class=\"row_heading level0 row4\" >5</th>\n",
       "                        <td id=\"T_e71b1_row4_col0\" class=\"data row4 col0\" >90</td>\n",
       "                        <td id=\"T_e71b1_row4_col1\" class=\"data row4 col1\" >34</td>\n",
       "            </tr>\n",
       "            <tr>\n",
       "                        <th id=\"T_e71b1_level0_row5\" class=\"row_heading level0 row5\" >6</th>\n",
       "                        <td id=\"T_e71b1_row5_col0\" class=\"data row5 col0\" >83</td>\n",
       "                        <td id=\"T_e71b1_row5_col1\" class=\"data row5 col1\" >37</td>\n",
       "            </tr>\n",
       "            <tr>\n",
       "                        <th id=\"T_e71b1_level0_row6\" class=\"row_heading level0 row6\" >7</th>\n",
       "                        <td id=\"T_e71b1_row6_col0\" class=\"data row6 col0\" >113</td>\n",
       "                        <td id=\"T_e71b1_row6_col1\" class=\"data row6 col1\" >11</td>\n",
       "            </tr>\n",
       "            <tr>\n",
       "                        <th id=\"T_e71b1_level0_row7\" class=\"row_heading level0 row7\" >8</th>\n",
       "                        <td id=\"T_e71b1_row7_col0\" class=\"data row7 col0\" >102</td>\n",
       "                        <td id=\"T_e71b1_row7_col1\" class=\"data row7 col1\" >22</td>\n",
       "            </tr>\n",
       "            <tr>\n",
       "                        <th id=\"T_e71b1_level0_row8\" class=\"row_heading level0 row8\" >9</th>\n",
       "                        <td id=\"T_e71b1_row8_col0\" class=\"data row8 col0\" >85</td>\n",
       "                        <td id=\"T_e71b1_row8_col1\" class=\"data row8 col1\" >35</td>\n",
       "            </tr>\n",
       "            <tr>\n",
       "                        <th id=\"T_e71b1_level0_row9\" class=\"row_heading level0 row9\" >10</th>\n",
       "                        <td id=\"T_e71b1_row9_col0\" class=\"data row9 col0\" >63</td>\n",
       "                        <td id=\"T_e71b1_row9_col1\" class=\"data row9 col1\" >61</td>\n",
       "            </tr>\n",
       "            <tr>\n",
       "                        <th id=\"T_e71b1_level0_row10\" class=\"row_heading level0 row10\" >11</th>\n",
       "                        <td id=\"T_e71b1_row10_col0\" class=\"data row10 col0\" >49</td>\n",
       "                        <td id=\"T_e71b1_row10_col1\" class=\"data row10 col1\" >71</td>\n",
       "            </tr>\n",
       "            <tr>\n",
       "                        <th id=\"T_e71b1_level0_row11\" class=\"row_heading level0 row11\" >12</th>\n",
       "                        <td id=\"T_e71b1_row11_col0\" class=\"data row11 col0\" >43</td>\n",
       "                        <td id=\"T_e71b1_row11_col1\" class=\"data row11 col1\" >81</td>\n",
       "            </tr>\n",
       "    </tbody></table>"
      ],
      "text/plain": [
       "<pandas.io.formats.style.Styler at 0x7fe312a6a2e0>"
      ]
     },
     "execution_count": 46,
     "metadata": {},
     "output_type": "execute_result"
    }
   ],
   "source": [
    "pd.crosstab(df.month, df.had_precip).style.highlight_max(color='red')"
   ]
  },
  {
   "cell_type": "markdown",
   "id": "56719bf2-d8db-42d7-9443-1c3050968426",
   "metadata": {},
   "source": [
    "## `flights_20k()`"
   ]
  },
  {
   "cell_type": "code",
   "execution_count": 47,
   "id": "1c56489b-0522-401e-8a85-6b9e1d6e963f",
   "metadata": {},
   "outputs": [],
   "source": [
    "df = data.flights_20k()"
   ]
  },
  {
   "cell_type": "code",
   "execution_count": 48,
   "id": "e4723679-06c2-443b-96d2-0e3d8d29866c",
   "metadata": {},
   "outputs": [
    {
     "data": {
      "text/html": [
       "<div>\n",
       "<style scoped>\n",
       "    .dataframe tbody tr th:only-of-type {\n",
       "        vertical-align: middle;\n",
       "    }\n",
       "\n",
       "    .dataframe tbody tr th {\n",
       "        vertical-align: top;\n",
       "    }\n",
       "\n",
       "    .dataframe thead th {\n",
       "        text-align: right;\n",
       "    }\n",
       "</style>\n",
       "<table border=\"1\" class=\"dataframe\">\n",
       "  <thead>\n",
       "    <tr style=\"text-align: right;\">\n",
       "      <th></th>\n",
       "      <th>date</th>\n",
       "      <th>delay</th>\n",
       "      <th>distance</th>\n",
       "      <th>origin</th>\n",
       "      <th>destination</th>\n",
       "    </tr>\n",
       "  </thead>\n",
       "  <tbody>\n",
       "    <tr>\n",
       "      <th>0</th>\n",
       "      <td>2001-01-13 14:56:00</td>\n",
       "      <td>32</td>\n",
       "      <td>417</td>\n",
       "      <td>SAN</td>\n",
       "      <td>SJC</td>\n",
       "    </tr>\n",
       "    <tr>\n",
       "      <th>1</th>\n",
       "      <td>2001-01-31 16:40:00</td>\n",
       "      <td>-5</td>\n",
       "      <td>1093</td>\n",
       "      <td>FLL</td>\n",
       "      <td>ISP</td>\n",
       "    </tr>\n",
       "    <tr>\n",
       "      <th>2</th>\n",
       "      <td>2001-02-11 18:39:00</td>\n",
       "      <td>3</td>\n",
       "      <td>293</td>\n",
       "      <td>LBB</td>\n",
       "      <td>DAL</td>\n",
       "    </tr>\n",
       "    <tr>\n",
       "      <th>3</th>\n",
       "      <td>2001-01-10 21:00:00</td>\n",
       "      <td>-15</td>\n",
       "      <td>550</td>\n",
       "      <td>MSY</td>\n",
       "      <td>MCO</td>\n",
       "    </tr>\n",
       "    <tr>\n",
       "      <th>4</th>\n",
       "      <td>2001-03-30 21:45:00</td>\n",
       "      <td>-2</td>\n",
       "      <td>229</td>\n",
       "      <td>STL</td>\n",
       "      <td>IND</td>\n",
       "    </tr>\n",
       "  </tbody>\n",
       "</table>\n",
       "</div>"
      ],
      "text/plain": [
       "                 date  delay  distance origin destination\n",
       "0 2001-01-13 14:56:00     32       417    SAN         SJC\n",
       "1 2001-01-31 16:40:00     -5      1093    FLL         ISP\n",
       "2 2001-02-11 18:39:00      3       293    LBB         DAL\n",
       "3 2001-01-10 21:00:00    -15       550    MSY         MCO\n",
       "4 2001-03-30 21:45:00     -2       229    STL         IND"
      ]
     },
     "execution_count": 48,
     "metadata": {},
     "output_type": "execute_result"
    }
   ],
   "source": [
    "df.head()"
   ]
  },
  {
   "cell_type": "code",
   "execution_count": 49,
   "id": "6757d716-f7d2-4e5a-bfa9-40acec7c5c0d",
   "metadata": {},
   "outputs": [
    {
     "data": {
      "text/plain": [
       "(20000, 5)"
      ]
     },
     "execution_count": 49,
     "metadata": {},
     "output_type": "execute_result"
    }
   ],
   "source": [
    "df.shape"
   ]
  },
  {
   "cell_type": "code",
   "execution_count": 50,
   "id": "dc6934e8-7808-443d-9d3b-0a0dfe90b3a5",
   "metadata": {},
   "outputs": [
    {
     "name": "stdout",
     "output_type": "stream",
     "text": [
      "<class 'pandas.core.frame.DataFrame'>\n",
      "RangeIndex: 20000 entries, 0 to 19999\n",
      "Data columns (total 5 columns):\n",
      " #   Column       Non-Null Count  Dtype         \n",
      "---  ------       --------------  -----         \n",
      " 0   date         20000 non-null  datetime64[ns]\n",
      " 1   delay        20000 non-null  int64         \n",
      " 2   distance     20000 non-null  int64         \n",
      " 3   origin       20000 non-null  object        \n",
      " 4   destination  20000 non-null  object        \n",
      "dtypes: datetime64[ns](1), int64(2), object(2)\n",
      "memory usage: 781.4+ KB\n"
     ]
    }
   ],
   "source": [
    "df.info()"
   ]
  },
  {
   "cell_type": "code",
   "execution_count": 51,
   "id": "290a126e-9e0f-4531-9d42-bb5aba450f75",
   "metadata": {},
   "outputs": [],
   "source": [
    "df = df.set_index('date')"
   ]
  },
  {
   "cell_type": "code",
   "execution_count": 52,
   "id": "cad368da-ea8b-42db-bda2-a1a9fcebc8db",
   "metadata": {},
   "outputs": [
    {
     "data": {
      "text/html": [
       "<div>\n",
       "<style scoped>\n",
       "    .dataframe tbody tr th:only-of-type {\n",
       "        vertical-align: middle;\n",
       "    }\n",
       "\n",
       "    .dataframe tbody tr th {\n",
       "        vertical-align: top;\n",
       "    }\n",
       "\n",
       "    .dataframe thead th {\n",
       "        text-align: right;\n",
       "    }\n",
       "</style>\n",
       "<table border=\"1\" class=\"dataframe\">\n",
       "  <thead>\n",
       "    <tr style=\"text-align: right;\">\n",
       "      <th></th>\n",
       "      <th>delay</th>\n",
       "      <th>distance</th>\n",
       "      <th>origin</th>\n",
       "      <th>destination</th>\n",
       "    </tr>\n",
       "    <tr>\n",
       "      <th>date</th>\n",
       "      <th></th>\n",
       "      <th></th>\n",
       "      <th></th>\n",
       "      <th></th>\n",
       "    </tr>\n",
       "  </thead>\n",
       "  <tbody>\n",
       "    <tr>\n",
       "      <th>2001-01-13 14:56:00</th>\n",
       "      <td>32</td>\n",
       "      <td>417</td>\n",
       "      <td>SAN</td>\n",
       "      <td>SJC</td>\n",
       "    </tr>\n",
       "    <tr>\n",
       "      <th>2001-01-31 16:40:00</th>\n",
       "      <td>-5</td>\n",
       "      <td>1093</td>\n",
       "      <td>FLL</td>\n",
       "      <td>ISP</td>\n",
       "    </tr>\n",
       "    <tr>\n",
       "      <th>2001-02-11 18:39:00</th>\n",
       "      <td>3</td>\n",
       "      <td>293</td>\n",
       "      <td>LBB</td>\n",
       "      <td>DAL</td>\n",
       "    </tr>\n",
       "    <tr>\n",
       "      <th>2001-01-10 21:00:00</th>\n",
       "      <td>-15</td>\n",
       "      <td>550</td>\n",
       "      <td>MSY</td>\n",
       "      <td>MCO</td>\n",
       "    </tr>\n",
       "    <tr>\n",
       "      <th>2001-03-30 21:45:00</th>\n",
       "      <td>-2</td>\n",
       "      <td>229</td>\n",
       "      <td>STL</td>\n",
       "      <td>IND</td>\n",
       "    </tr>\n",
       "  </tbody>\n",
       "</table>\n",
       "</div>"
      ],
      "text/plain": [
       "                     delay  distance origin destination\n",
       "date                                                   \n",
       "2001-01-13 14:56:00     32       417    SAN         SJC\n",
       "2001-01-31 16:40:00     -5      1093    FLL         ISP\n",
       "2001-02-11 18:39:00      3       293    LBB         DAL\n",
       "2001-01-10 21:00:00    -15       550    MSY         MCO\n",
       "2001-03-30 21:45:00     -2       229    STL         IND"
      ]
     },
     "execution_count": 52,
     "metadata": {},
     "output_type": "execute_result"
    }
   ],
   "source": [
    "df.head()"
   ]
  },
  {
   "cell_type": "code",
   "execution_count": 53,
   "id": "6f769df3-5f02-418e-b124-1c065fee1e8d",
   "metadata": {},
   "outputs": [
    {
     "data": {
      "text/plain": [
       "8482"
      ]
     },
     "execution_count": 53,
     "metadata": {},
     "output_type": "execute_result"
    }
   ],
   "source": [
    "(df.delay < 0).sum()"
   ]
  },
  {
   "cell_type": "markdown",
   "id": "19aca544-c580-4e16-b9e3-2f459cfb64c1",
   "metadata": {},
   "source": [
    "### 1."
   ]
  },
  {
   "cell_type": "markdown",
   "id": "0e112d23-ef29-47fc-98f4-601d44ce952f",
   "metadata": {},
   "source": [
    "Convert any negative delays to 0."
   ]
  },
  {
   "cell_type": "code",
   "execution_count": 54,
   "id": "2260b672-b8fd-4641-a393-9d10e7ec72c4",
   "metadata": {},
   "outputs": [
    {
     "data": {
      "text/html": [
       "<div>\n",
       "<style scoped>\n",
       "    .dataframe tbody tr th:only-of-type {\n",
       "        vertical-align: middle;\n",
       "    }\n",
       "\n",
       "    .dataframe tbody tr th {\n",
       "        vertical-align: top;\n",
       "    }\n",
       "\n",
       "    .dataframe thead th {\n",
       "        text-align: right;\n",
       "    }\n",
       "</style>\n",
       "<table border=\"1\" class=\"dataframe\">\n",
       "  <thead>\n",
       "    <tr style=\"text-align: right;\">\n",
       "      <th></th>\n",
       "      <th>delay</th>\n",
       "      <th>distance</th>\n",
       "      <th>origin</th>\n",
       "      <th>destination</th>\n",
       "    </tr>\n",
       "    <tr>\n",
       "      <th>date</th>\n",
       "      <th></th>\n",
       "      <th></th>\n",
       "      <th></th>\n",
       "      <th></th>\n",
       "    </tr>\n",
       "  </thead>\n",
       "  <tbody>\n",
       "    <tr>\n",
       "      <th>2001-01-13 14:56:00</th>\n",
       "      <td>32</td>\n",
       "      <td>417</td>\n",
       "      <td>SAN</td>\n",
       "      <td>SJC</td>\n",
       "    </tr>\n",
       "    <tr>\n",
       "      <th>2001-01-31 16:40:00</th>\n",
       "      <td>0</td>\n",
       "      <td>1093</td>\n",
       "      <td>FLL</td>\n",
       "      <td>ISP</td>\n",
       "    </tr>\n",
       "    <tr>\n",
       "      <th>2001-02-11 18:39:00</th>\n",
       "      <td>3</td>\n",
       "      <td>293</td>\n",
       "      <td>LBB</td>\n",
       "      <td>DAL</td>\n",
       "    </tr>\n",
       "    <tr>\n",
       "      <th>2001-01-10 21:00:00</th>\n",
       "      <td>0</td>\n",
       "      <td>550</td>\n",
       "      <td>MSY</td>\n",
       "      <td>MCO</td>\n",
       "    </tr>\n",
       "    <tr>\n",
       "      <th>2001-03-30 21:45:00</th>\n",
       "      <td>0</td>\n",
       "      <td>229</td>\n",
       "      <td>STL</td>\n",
       "      <td>IND</td>\n",
       "    </tr>\n",
       "  </tbody>\n",
       "</table>\n",
       "</div>"
      ],
      "text/plain": [
       "                     delay  distance origin destination\n",
       "date                                                   \n",
       "2001-01-13 14:56:00     32       417    SAN         SJC\n",
       "2001-01-31 16:40:00      0      1093    FLL         ISP\n",
       "2001-02-11 18:39:00      3       293    LBB         DAL\n",
       "2001-01-10 21:00:00      0       550    MSY         MCO\n",
       "2001-03-30 21:45:00      0       229    STL         IND"
      ]
     },
     "execution_count": 54,
     "metadata": {},
     "output_type": "execute_result"
    }
   ],
   "source": [
    "df['delay'] = df.delay.apply(lambda x: 0 if x < 0 else x)\n",
    "df.head()"
   ]
  },
  {
   "cell_type": "code",
   "execution_count": 55,
   "id": "da96b8fd-bf2e-4ea5-bb5d-516e0659e80c",
   "metadata": {},
   "outputs": [
    {
     "data": {
      "text/plain": [
       "0"
      ]
     },
     "execution_count": 55,
     "metadata": {},
     "output_type": "execute_result"
    }
   ],
   "source": [
    "(df.delay < 0).sum()"
   ]
  },
  {
   "cell_type": "markdown",
   "id": "758be359-a234-4bc9-bb7b-6c9f948fa84b",
   "metadata": {},
   "source": [
    "### 2."
   ]
  },
  {
   "cell_type": "markdown",
   "id": "488cc9a7-c407-4e16-b7b9-7aee329c6f8c",
   "metadata": {},
   "source": [
    "Which hour of the day has the highest average delay?"
   ]
  },
  {
   "cell_type": "code",
   "execution_count": 56,
   "id": "7c7ef389-420e-49f8-973f-a7ca4d35e38f",
   "metadata": {},
   "outputs": [
    {
     "data": {
      "text/html": [
       "<style  type=\"text/css\" >\n",
       "#T_6b7f8_row0_col0{\n",
       "            background-color:  red;\n",
       "        }</style><table id=\"T_6b7f8_\" ><thead>    <tr>        <th class=\"blank level0\" ></th>        <th class=\"col_heading level0 col0\" >delay</th>    </tr>    <tr>        <th class=\"index_name level0\" >date</th>        <th class=\"blank\" ></th>    </tr></thead><tbody>\n",
       "                <tr>\n",
       "                        <th id=\"T_6b7f8_level0_row0\" class=\"row_heading level0 row0\" >2001-02-23 03:00:00</th>\n",
       "                        <td id=\"T_6b7f8_row0_col0\" class=\"data row0 col0\" >360.000000</td>\n",
       "            </tr>\n",
       "            <tr>\n",
       "                        <th id=\"T_6b7f8_level0_row1\" class=\"row_heading level0 row1\" >2001-02-25 00:00:00</th>\n",
       "                        <td id=\"T_6b7f8_row1_col0\" class=\"data row1 col0\" >260.000000</td>\n",
       "            </tr>\n",
       "            <tr>\n",
       "                        <th id=\"T_6b7f8_level0_row2\" class=\"row_heading level0 row2\" >2001-01-02 03:00:00</th>\n",
       "                        <td id=\"T_6b7f8_row2_col0\" class=\"data row2 col0\" >245.000000</td>\n",
       "            </tr>\n",
       "            <tr>\n",
       "                        <th id=\"T_6b7f8_level0_row3\" class=\"row_heading level0 row3\" >2001-02-24 22:00:00</th>\n",
       "                        <td id=\"T_6b7f8_row3_col0\" class=\"data row3 col0\" >210.000000</td>\n",
       "            </tr>\n",
       "            <tr>\n",
       "                        <th id=\"T_6b7f8_level0_row4\" class=\"row_heading level0 row4\" >2001-02-22 00:00:00</th>\n",
       "                        <td id=\"T_6b7f8_row4_col0\" class=\"data row4 col0\" >195.000000</td>\n",
       "            </tr>\n",
       "    </tbody></table>"
      ],
      "text/plain": [
       "<pandas.io.formats.style.Styler at 0x7fe3161055e0>"
      ]
     },
     "execution_count": 56,
     "metadata": {},
     "output_type": "execute_result"
    }
   ],
   "source": [
    "# this gives us year, month, day, hour combination with highest average delay\n",
    "df[['delay']].resample('H').mean().sort_values(by='delay', ascending=False).head().style.highlight_max(color='red')"
   ]
  },
  {
   "cell_type": "code",
   "execution_count": 57,
   "id": "abd568ab-1c04-40e4-b510-b2f31d76514e",
   "metadata": {},
   "outputs": [
    {
     "data": {
      "text/html": [
       "<div>\n",
       "<style scoped>\n",
       "    .dataframe tbody tr th:only-of-type {\n",
       "        vertical-align: middle;\n",
       "    }\n",
       "\n",
       "    .dataframe tbody tr th {\n",
       "        vertical-align: top;\n",
       "    }\n",
       "\n",
       "    .dataframe thead th {\n",
       "        text-align: right;\n",
       "    }\n",
       "</style>\n",
       "<table border=\"1\" class=\"dataframe\">\n",
       "  <thead>\n",
       "    <tr style=\"text-align: right;\">\n",
       "      <th></th>\n",
       "      <th>delay</th>\n",
       "      <th>distance</th>\n",
       "      <th>origin</th>\n",
       "      <th>destination</th>\n",
       "      <th>hour</th>\n",
       "    </tr>\n",
       "    <tr>\n",
       "      <th>date</th>\n",
       "      <th></th>\n",
       "      <th></th>\n",
       "      <th></th>\n",
       "      <th></th>\n",
       "      <th></th>\n",
       "    </tr>\n",
       "  </thead>\n",
       "  <tbody>\n",
       "    <tr>\n",
       "      <th>2001-01-13 14:56:00</th>\n",
       "      <td>32</td>\n",
       "      <td>417</td>\n",
       "      <td>SAN</td>\n",
       "      <td>SJC</td>\n",
       "      <td>14</td>\n",
       "    </tr>\n",
       "    <tr>\n",
       "      <th>2001-01-31 16:40:00</th>\n",
       "      <td>0</td>\n",
       "      <td>1093</td>\n",
       "      <td>FLL</td>\n",
       "      <td>ISP</td>\n",
       "      <td>16</td>\n",
       "    </tr>\n",
       "    <tr>\n",
       "      <th>2001-02-11 18:39:00</th>\n",
       "      <td>3</td>\n",
       "      <td>293</td>\n",
       "      <td>LBB</td>\n",
       "      <td>DAL</td>\n",
       "      <td>18</td>\n",
       "    </tr>\n",
       "    <tr>\n",
       "      <th>2001-01-10 21:00:00</th>\n",
       "      <td>0</td>\n",
       "      <td>550</td>\n",
       "      <td>MSY</td>\n",
       "      <td>MCO</td>\n",
       "      <td>21</td>\n",
       "    </tr>\n",
       "    <tr>\n",
       "      <th>2001-03-30 21:45:00</th>\n",
       "      <td>0</td>\n",
       "      <td>229</td>\n",
       "      <td>STL</td>\n",
       "      <td>IND</td>\n",
       "      <td>21</td>\n",
       "    </tr>\n",
       "  </tbody>\n",
       "</table>\n",
       "</div>"
      ],
      "text/plain": [
       "                     delay  distance origin destination  hour\n",
       "date                                                         \n",
       "2001-01-13 14:56:00     32       417    SAN         SJC    14\n",
       "2001-01-31 16:40:00      0      1093    FLL         ISP    16\n",
       "2001-02-11 18:39:00      3       293    LBB         DAL    18\n",
       "2001-01-10 21:00:00      0       550    MSY         MCO    21\n",
       "2001-03-30 21:45:00      0       229    STL         IND    21"
      ]
     },
     "execution_count": 57,
     "metadata": {},
     "output_type": "execute_result"
    }
   ],
   "source": [
    "df['hour'] = df.index.hour\n",
    "df.head()"
   ]
  },
  {
   "cell_type": "code",
   "execution_count": 58,
   "id": "84400618-e599-478a-9be9-dd58d4e8b3db",
   "metadata": {},
   "outputs": [
    {
     "data": {
      "text/html": [
       "<style  type=\"text/css\" >\n",
       "#T_dd3d2_row0_col0{\n",
       "            background-color:  red;\n",
       "        }</style><table id=\"T_dd3d2_\" ><thead>    <tr>        <th class=\"blank level0\" ></th>        <th class=\"col_heading level0 col0\" >mean</th>    </tr>    <tr>        <th class=\"index_name level0\" >hour</th>        <th class=\"blank\" ></th>    </tr></thead><tbody>\n",
       "                <tr>\n",
       "                        <th id=\"T_dd3d2_level0_row0\" class=\"row_heading level0 row0\" >3</th>\n",
       "                        <td id=\"T_dd3d2_row0_col0\" class=\"data row0 col0\" >302.500000</td>\n",
       "            </tr>\n",
       "            <tr>\n",
       "                        <th id=\"T_dd3d2_level0_row1\" class=\"row_heading level0 row1\" >1</th>\n",
       "                        <td id=\"T_dd3d2_row1_col0\" class=\"data row1 col0\" >170.000000</td>\n",
       "            </tr>\n",
       "            <tr>\n",
       "                        <th id=\"T_dd3d2_level0_row2\" class=\"row_heading level0 row2\" >0</th>\n",
       "                        <td id=\"T_dd3d2_row2_col0\" class=\"data row2 col0\" >127.916667</td>\n",
       "            </tr>\n",
       "            <tr>\n",
       "                        <th id=\"T_dd3d2_level0_row3\" class=\"row_heading level0 row3\" >23</th>\n",
       "                        <td id=\"T_dd3d2_row3_col0\" class=\"data row3 col0\" >65.353846</td>\n",
       "            </tr>\n",
       "            <tr>\n",
       "                        <th id=\"T_dd3d2_level0_row4\" class=\"row_heading level0 row4\" >22</th>\n",
       "                        <td id=\"T_dd3d2_row4_col0\" class=\"data row4 col0\" >32.704607</td>\n",
       "            </tr>\n",
       "    </tbody></table>"
      ],
      "text/plain": [
       "<pandas.io.formats.style.Styler at 0x7fe3161b1b80>"
      ]
     },
     "execution_count": 58,
     "metadata": {},
     "output_type": "execute_result"
    }
   ],
   "source": [
    "df.groupby('hour').delay.agg(['mean']).sort_values(by='mean', ascending=False).head().style.highlight_max(color='red')"
   ]
  },
  {
   "cell_type": "code",
   "execution_count": 59,
   "id": "223e94bc-b37d-4eeb-9139-5d0c2a9c8dd5",
   "metadata": {},
   "outputs": [
    {
     "data": {
      "text/plain": [
       "hour\n",
       "3     302.500000\n",
       "1     170.000000\n",
       "0     127.916667\n",
       "23     65.353846\n",
       "22     32.704607\n",
       "Name: delay, dtype: float64"
      ]
     },
     "execution_count": 59,
     "metadata": {},
     "output_type": "execute_result"
    }
   ],
   "source": [
    "df.groupby('hour').delay.mean().sort_values(ascending=False).head()"
   ]
  },
  {
   "cell_type": "markdown",
   "id": "a35be39b-c0cb-41c8-895e-92e9668d9d86",
   "metadata": {},
   "source": [
    "### 3."
   ]
  },
  {
   "cell_type": "markdown",
   "id": "1bfda466-1824-42c7-b99c-2264bcf7d83b",
   "metadata": {},
   "source": [
    "Does the day of the week make a difference in the delay amount?"
   ]
  },
  {
   "cell_type": "code",
   "execution_count": 60,
   "id": "a5ea6b91-4eaa-4914-806e-e8187cf48283",
   "metadata": {},
   "outputs": [
    {
     "data": {
      "text/html": [
       "<div>\n",
       "<style scoped>\n",
       "    .dataframe tbody tr th:only-of-type {\n",
       "        vertical-align: middle;\n",
       "    }\n",
       "\n",
       "    .dataframe tbody tr th {\n",
       "        vertical-align: top;\n",
       "    }\n",
       "\n",
       "    .dataframe thead th {\n",
       "        text-align: right;\n",
       "    }\n",
       "</style>\n",
       "<table border=\"1\" class=\"dataframe\">\n",
       "  <thead>\n",
       "    <tr style=\"text-align: right;\">\n",
       "      <th></th>\n",
       "      <th>delay</th>\n",
       "      <th>distance</th>\n",
       "      <th>origin</th>\n",
       "      <th>destination</th>\n",
       "      <th>hour</th>\n",
       "      <th>week_day</th>\n",
       "    </tr>\n",
       "    <tr>\n",
       "      <th>date</th>\n",
       "      <th></th>\n",
       "      <th></th>\n",
       "      <th></th>\n",
       "      <th></th>\n",
       "      <th></th>\n",
       "      <th></th>\n",
       "    </tr>\n",
       "  </thead>\n",
       "  <tbody>\n",
       "    <tr>\n",
       "      <th>2001-01-13 14:56:00</th>\n",
       "      <td>32</td>\n",
       "      <td>417</td>\n",
       "      <td>SAN</td>\n",
       "      <td>SJC</td>\n",
       "      <td>14</td>\n",
       "      <td>Saturday</td>\n",
       "    </tr>\n",
       "    <tr>\n",
       "      <th>2001-01-31 16:40:00</th>\n",
       "      <td>0</td>\n",
       "      <td>1093</td>\n",
       "      <td>FLL</td>\n",
       "      <td>ISP</td>\n",
       "      <td>16</td>\n",
       "      <td>Wednesday</td>\n",
       "    </tr>\n",
       "    <tr>\n",
       "      <th>2001-02-11 18:39:00</th>\n",
       "      <td>3</td>\n",
       "      <td>293</td>\n",
       "      <td>LBB</td>\n",
       "      <td>DAL</td>\n",
       "      <td>18</td>\n",
       "      <td>Sunday</td>\n",
       "    </tr>\n",
       "    <tr>\n",
       "      <th>2001-01-10 21:00:00</th>\n",
       "      <td>0</td>\n",
       "      <td>550</td>\n",
       "      <td>MSY</td>\n",
       "      <td>MCO</td>\n",
       "      <td>21</td>\n",
       "      <td>Wednesday</td>\n",
       "    </tr>\n",
       "    <tr>\n",
       "      <th>2001-03-30 21:45:00</th>\n",
       "      <td>0</td>\n",
       "      <td>229</td>\n",
       "      <td>STL</td>\n",
       "      <td>IND</td>\n",
       "      <td>21</td>\n",
       "      <td>Friday</td>\n",
       "    </tr>\n",
       "  </tbody>\n",
       "</table>\n",
       "</div>"
      ],
      "text/plain": [
       "                     delay  distance origin destination  hour   week_day\n",
       "date                                                                    \n",
       "2001-01-13 14:56:00     32       417    SAN         SJC    14   Saturday\n",
       "2001-01-31 16:40:00      0      1093    FLL         ISP    16  Wednesday\n",
       "2001-02-11 18:39:00      3       293    LBB         DAL    18     Sunday\n",
       "2001-01-10 21:00:00      0       550    MSY         MCO    21  Wednesday\n",
       "2001-03-30 21:45:00      0       229    STL         IND    21     Friday"
      ]
     },
     "execution_count": 60,
     "metadata": {},
     "output_type": "execute_result"
    }
   ],
   "source": [
    "df['week_day'] = df.index.day_name()\n",
    "df.head()"
   ]
  },
  {
   "cell_type": "code",
   "execution_count": 61,
   "id": "ef803c30-e11e-4b52-a7f6-1b84719e2bf2",
   "metadata": {},
   "outputs": [
    {
     "data": {
      "text/html": [
       "<style  type=\"text/css\" >\n",
       "#T_057a8_row0_col0{\n",
       "            background-color:  red;\n",
       "        }</style><table id=\"T_057a8_\" ><thead>    <tr>        <th class=\"blank level0\" ></th>        <th class=\"col_heading level0 col0\" >mean</th>    </tr>    <tr>        <th class=\"index_name level0\" >week_day</th>        <th class=\"blank\" ></th>    </tr></thead><tbody>\n",
       "                <tr>\n",
       "                        <th id=\"T_057a8_level0_row0\" class=\"row_heading level0 row0\" >Friday</th>\n",
       "                        <td id=\"T_057a8_row0_col0\" class=\"data row0 col0\" >17.757596</td>\n",
       "            </tr>\n",
       "            <tr>\n",
       "                        <th id=\"T_057a8_level0_row1\" class=\"row_heading level0 row1\" >Thursday</th>\n",
       "                        <td id=\"T_057a8_row1_col0\" class=\"data row1 col0\" >12.821322</td>\n",
       "            </tr>\n",
       "            <tr>\n",
       "                        <th id=\"T_057a8_level0_row2\" class=\"row_heading level0 row2\" >Wednesday</th>\n",
       "                        <td id=\"T_057a8_row2_col0\" class=\"data row2 col0\" >11.032478</td>\n",
       "            </tr>\n",
       "            <tr>\n",
       "                        <th id=\"T_057a8_level0_row3\" class=\"row_heading level0 row3\" >Sunday</th>\n",
       "                        <td id=\"T_057a8_row3_col0\" class=\"data row3 col0\" >10.413542</td>\n",
       "            </tr>\n",
       "            <tr>\n",
       "                        <th id=\"T_057a8_level0_row4\" class=\"row_heading level0 row4\" >Tuesday</th>\n",
       "                        <td id=\"T_057a8_row4_col0\" class=\"data row4 col0\" >9.410866</td>\n",
       "            </tr>\n",
       "    </tbody></table>"
      ],
      "text/plain": [
       "<pandas.io.formats.style.Styler at 0x7fe315e88640>"
      ]
     },
     "execution_count": 61,
     "metadata": {},
     "output_type": "execute_result"
    }
   ],
   "source": [
    "df.groupby('week_day').delay.agg(['mean']).sort_values(by='mean', ascending=False).head().style.highlight_max(color='red')"
   ]
  },
  {
   "cell_type": "markdown",
   "id": "96a67e97-1738-4f2b-85f1-ac62efeeedf6",
   "metadata": {},
   "source": [
    "### 4."
   ]
  },
  {
   "cell_type": "markdown",
   "id": "86ddc8e1-67f0-4ccd-bffb-3dd631c8d1de",
   "metadata": {},
   "source": [
    "Does the month make a difference in the delay amount?"
   ]
  },
  {
   "cell_type": "code",
   "execution_count": 62,
   "id": "ae6bd950-58c7-4418-950d-66e836d158b4",
   "metadata": {},
   "outputs": [
    {
     "data": {
      "text/html": [
       "<div>\n",
       "<style scoped>\n",
       "    .dataframe tbody tr th:only-of-type {\n",
       "        vertical-align: middle;\n",
       "    }\n",
       "\n",
       "    .dataframe tbody tr th {\n",
       "        vertical-align: top;\n",
       "    }\n",
       "\n",
       "    .dataframe thead th {\n",
       "        text-align: right;\n",
       "    }\n",
       "</style>\n",
       "<table border=\"1\" class=\"dataframe\">\n",
       "  <thead>\n",
       "    <tr style=\"text-align: right;\">\n",
       "      <th></th>\n",
       "      <th>delay</th>\n",
       "      <th>distance</th>\n",
       "      <th>origin</th>\n",
       "      <th>destination</th>\n",
       "      <th>hour</th>\n",
       "      <th>week_day</th>\n",
       "      <th>month</th>\n",
       "    </tr>\n",
       "    <tr>\n",
       "      <th>date</th>\n",
       "      <th></th>\n",
       "      <th></th>\n",
       "      <th></th>\n",
       "      <th></th>\n",
       "      <th></th>\n",
       "      <th></th>\n",
       "      <th></th>\n",
       "    </tr>\n",
       "  </thead>\n",
       "  <tbody>\n",
       "    <tr>\n",
       "      <th>2001-01-13 14:56:00</th>\n",
       "      <td>32</td>\n",
       "      <td>417</td>\n",
       "      <td>SAN</td>\n",
       "      <td>SJC</td>\n",
       "      <td>14</td>\n",
       "      <td>Saturday</td>\n",
       "      <td>January</td>\n",
       "    </tr>\n",
       "    <tr>\n",
       "      <th>2001-01-31 16:40:00</th>\n",
       "      <td>0</td>\n",
       "      <td>1093</td>\n",
       "      <td>FLL</td>\n",
       "      <td>ISP</td>\n",
       "      <td>16</td>\n",
       "      <td>Wednesday</td>\n",
       "      <td>January</td>\n",
       "    </tr>\n",
       "    <tr>\n",
       "      <th>2001-02-11 18:39:00</th>\n",
       "      <td>3</td>\n",
       "      <td>293</td>\n",
       "      <td>LBB</td>\n",
       "      <td>DAL</td>\n",
       "      <td>18</td>\n",
       "      <td>Sunday</td>\n",
       "      <td>February</td>\n",
       "    </tr>\n",
       "    <tr>\n",
       "      <th>2001-01-10 21:00:00</th>\n",
       "      <td>0</td>\n",
       "      <td>550</td>\n",
       "      <td>MSY</td>\n",
       "      <td>MCO</td>\n",
       "      <td>21</td>\n",
       "      <td>Wednesday</td>\n",
       "      <td>January</td>\n",
       "    </tr>\n",
       "    <tr>\n",
       "      <th>2001-03-30 21:45:00</th>\n",
       "      <td>0</td>\n",
       "      <td>229</td>\n",
       "      <td>STL</td>\n",
       "      <td>IND</td>\n",
       "      <td>21</td>\n",
       "      <td>Friday</td>\n",
       "      <td>March</td>\n",
       "    </tr>\n",
       "  </tbody>\n",
       "</table>\n",
       "</div>"
      ],
      "text/plain": [
       "                     delay  distance origin destination  hour   week_day  \\\n",
       "date                                                                       \n",
       "2001-01-13 14:56:00     32       417    SAN         SJC    14   Saturday   \n",
       "2001-01-31 16:40:00      0      1093    FLL         ISP    16  Wednesday   \n",
       "2001-02-11 18:39:00      3       293    LBB         DAL    18     Sunday   \n",
       "2001-01-10 21:00:00      0       550    MSY         MCO    21  Wednesday   \n",
       "2001-03-30 21:45:00      0       229    STL         IND    21     Friday   \n",
       "\n",
       "                        month  \n",
       "date                           \n",
       "2001-01-13 14:56:00   January  \n",
       "2001-01-31 16:40:00   January  \n",
       "2001-02-11 18:39:00  February  \n",
       "2001-01-10 21:00:00   January  \n",
       "2001-03-30 21:45:00     March  "
      ]
     },
     "execution_count": 62,
     "metadata": {},
     "output_type": "execute_result"
    }
   ],
   "source": [
    "df['month'] = df.index.month_name()\n",
    "df.head()"
   ]
  },
  {
   "cell_type": "code",
   "execution_count": 63,
   "id": "883a2fe6-dd02-4167-8fbc-e748c663f924",
   "metadata": {},
   "outputs": [
    {
     "data": {
      "text/html": [
       "<style  type=\"text/css\" >\n",
       "#T_4a17a_row0_col0{\n",
       "            background-color:  red;\n",
       "        }</style><table id=\"T_4a17a_\" ><thead>    <tr>        <th class=\"blank level0\" ></th>        <th class=\"col_heading level0 col0\" >mean</th>    </tr>    <tr>        <th class=\"index_name level0\" >month</th>        <th class=\"blank\" ></th>    </tr></thead><tbody>\n",
       "                <tr>\n",
       "                        <th id=\"T_4a17a_level0_row0\" class=\"row_heading level0 row0\" >February</th>\n",
       "                        <td id=\"T_4a17a_row0_col0\" class=\"data row0 col0\" >12.306106</td>\n",
       "            </tr>\n",
       "            <tr>\n",
       "                        <th id=\"T_4a17a_level0_row1\" class=\"row_heading level0 row1\" >January</th>\n",
       "                        <td id=\"T_4a17a_row1_col0\" class=\"data row1 col0\" >11.301592</td>\n",
       "            </tr>\n",
       "            <tr>\n",
       "                        <th id=\"T_4a17a_level0_row2\" class=\"row_heading level0 row2\" >March</th>\n",
       "                        <td id=\"T_4a17a_row2_col0\" class=\"data row2 col0\" >9.875287</td>\n",
       "            </tr>\n",
       "    </tbody></table>"
      ],
      "text/plain": [
       "<pandas.io.formats.style.Styler at 0x7fe315e88220>"
      ]
     },
     "execution_count": 63,
     "metadata": {},
     "output_type": "execute_result"
    }
   ],
   "source": [
    "df.groupby('month').delay.agg(['mean']).sort_values(by='mean', ascending=False).head().style.highlight_max(color='red')"
   ]
  },
  {
   "cell_type": "markdown",
   "id": "54da367d-794a-4aa1-b00d-3e15a107e658",
   "metadata": {},
   "source": [
    "# Bonus"
   ]
  },
  {
   "cell_type": "markdown",
   "id": "31a0549f-53f3-40d2-a8f9-2fa0ffad9a8c",
   "metadata": {},
   "source": [
    "## `iowa_electricity()` "
   ]
  },
  {
   "cell_type": "code",
   "execution_count": 64,
   "id": "658af780-69ff-4bbf-8ba4-b8a712fe4143",
   "metadata": {},
   "outputs": [],
   "source": [
    "df = data.iowa_electricity()"
   ]
  },
  {
   "cell_type": "code",
   "execution_count": 65,
   "id": "c92d5aa1-72f6-4c66-8cf2-3b2f988b9ff5",
   "metadata": {},
   "outputs": [
    {
     "name": "stdout",
     "output_type": "stream",
     "text": [
      "<class 'pandas.core.frame.DataFrame'>\n",
      "RangeIndex: 51 entries, 0 to 50\n",
      "Data columns (total 3 columns):\n",
      " #   Column          Non-Null Count  Dtype         \n",
      "---  ------          --------------  -----         \n",
      " 0   year            51 non-null     datetime64[ns]\n",
      " 1   source          51 non-null     object        \n",
      " 2   net_generation  51 non-null     int64         \n",
      "dtypes: datetime64[ns](1), int64(1), object(1)\n",
      "memory usage: 1.3+ KB\n"
     ]
    }
   ],
   "source": [
    "df.info()"
   ]
  },
  {
   "cell_type": "code",
   "execution_count": 66,
   "id": "c9224044-bb26-4137-97a2-0a8e3420e779",
   "metadata": {},
   "outputs": [
    {
     "data": {
      "text/plain": [
       "(51, 3)"
      ]
     },
     "execution_count": 66,
     "metadata": {},
     "output_type": "execute_result"
    }
   ],
   "source": [
    "df.shape"
   ]
  },
  {
   "cell_type": "code",
   "execution_count": 67,
   "id": "e59f8f3f-8a19-4670-8663-10e14d6ebf9d",
   "metadata": {},
   "outputs": [
    {
     "data": {
      "text/plain": [
       "Timestamp('2002-01-01 00:00:00')"
      ]
     },
     "execution_count": 67,
     "metadata": {},
     "output_type": "execute_result"
    }
   ],
   "source": [
    "df.year[1]"
   ]
  },
  {
   "cell_type": "code",
   "execution_count": 68,
   "id": "5ee84cef-ae8f-4752-85cb-4d570f5f5b8c",
   "metadata": {},
   "outputs": [],
   "source": [
    "df = df.set_index('year')"
   ]
  },
  {
   "cell_type": "code",
   "execution_count": 69,
   "id": "89ff0e1c-7dc1-4418-8c96-4217304365fd",
   "metadata": {},
   "outputs": [
    {
     "data": {
      "text/plain": [
       "Fossil Fuels      17\n",
       "Renewables        17\n",
       "Nuclear Energy    17\n",
       "Name: source, dtype: int64"
      ]
     },
     "execution_count": 69,
     "metadata": {},
     "output_type": "execute_result"
    }
   ],
   "source": [
    "df.source.value_counts()"
   ]
  },
  {
   "cell_type": "code",
   "execution_count": 70,
   "id": "7f1bacf9-cd10-4a33-8d2e-1d3f70454056",
   "metadata": {},
   "outputs": [
    {
     "name": "stdout",
     "output_type": "stream",
     "text": [
      "<class 'pandas.core.frame.DataFrame'>\n",
      "DatetimeIndex: 51 entries, 2001-01-01 to 2017-01-01\n",
      "Data columns (total 2 columns):\n",
      " #   Column          Non-Null Count  Dtype \n",
      "---  ------          --------------  ----- \n",
      " 0   source          51 non-null     object\n",
      " 1   net_generation  51 non-null     int64 \n",
      "dtypes: int64(1), object(1)\n",
      "memory usage: 1.2+ KB\n"
     ]
    }
   ],
   "source": [
    "df.info()"
   ]
  },
  {
   "cell_type": "code",
   "execution_count": 71,
   "id": "258a2f73-5630-4cef-8906-35cf867080db",
   "metadata": {},
   "outputs": [
    {
     "data": {
      "text/html": [
       "<div>\n",
       "<style scoped>\n",
       "    .dataframe tbody tr th:only-of-type {\n",
       "        vertical-align: middle;\n",
       "    }\n",
       "\n",
       "    .dataframe tbody tr th {\n",
       "        vertical-align: top;\n",
       "    }\n",
       "\n",
       "    .dataframe thead th {\n",
       "        text-align: right;\n",
       "    }\n",
       "</style>\n",
       "<table border=\"1\" class=\"dataframe\">\n",
       "  <thead>\n",
       "    <tr style=\"text-align: right;\">\n",
       "      <th></th>\n",
       "      <th>source</th>\n",
       "      <th>net_generation</th>\n",
       "    </tr>\n",
       "    <tr>\n",
       "      <th>year</th>\n",
       "      <th></th>\n",
       "      <th></th>\n",
       "    </tr>\n",
       "  </thead>\n",
       "  <tbody>\n",
       "    <tr>\n",
       "      <th>2001-01-01</th>\n",
       "      <td>Fossil Fuels</td>\n",
       "      <td>35361</td>\n",
       "    </tr>\n",
       "    <tr>\n",
       "      <th>2002-01-01</th>\n",
       "      <td>Fossil Fuels</td>\n",
       "      <td>35991</td>\n",
       "    </tr>\n",
       "    <tr>\n",
       "      <th>2003-01-01</th>\n",
       "      <td>Fossil Fuels</td>\n",
       "      <td>36234</td>\n",
       "    </tr>\n",
       "    <tr>\n",
       "      <th>2004-01-01</th>\n",
       "      <td>Fossil Fuels</td>\n",
       "      <td>36205</td>\n",
       "    </tr>\n",
       "    <tr>\n",
       "      <th>2005-01-01</th>\n",
       "      <td>Fossil Fuels</td>\n",
       "      <td>36883</td>\n",
       "    </tr>\n",
       "  </tbody>\n",
       "</table>\n",
       "</div>"
      ],
      "text/plain": [
       "                  source  net_generation\n",
       "year                                    \n",
       "2001-01-01  Fossil Fuels           35361\n",
       "2002-01-01  Fossil Fuels           35991\n",
       "2003-01-01  Fossil Fuels           36234\n",
       "2004-01-01  Fossil Fuels           36205\n",
       "2005-01-01  Fossil Fuels           36883"
      ]
     },
     "execution_count": 71,
     "metadata": {},
     "output_type": "execute_result"
    }
   ],
   "source": [
    "df.head()"
   ]
  },
  {
   "cell_type": "code",
   "execution_count": 72,
   "id": "1f9826c1-2e04-484d-b3d0-b21aa64bf471",
   "metadata": {},
   "outputs": [
    {
     "data": {
      "text/html": [
       "<div>\n",
       "<style scoped>\n",
       "    .dataframe tbody tr th:only-of-type {\n",
       "        vertical-align: middle;\n",
       "    }\n",
       "\n",
       "    .dataframe tbody tr th {\n",
       "        vertical-align: top;\n",
       "    }\n",
       "\n",
       "    .dataframe thead th {\n",
       "        text-align: right;\n",
       "    }\n",
       "</style>\n",
       "<table border=\"1\" class=\"dataframe\">\n",
       "  <thead>\n",
       "    <tr style=\"text-align: right;\">\n",
       "      <th></th>\n",
       "      <th>source</th>\n",
       "      <th>net_generation</th>\n",
       "      <th>year_</th>\n",
       "    </tr>\n",
       "    <tr>\n",
       "      <th>year</th>\n",
       "      <th></th>\n",
       "      <th></th>\n",
       "      <th></th>\n",
       "    </tr>\n",
       "  </thead>\n",
       "  <tbody>\n",
       "    <tr>\n",
       "      <th>2001-01-01</th>\n",
       "      <td>Fossil Fuels</td>\n",
       "      <td>35361</td>\n",
       "      <td>2001</td>\n",
       "    </tr>\n",
       "    <tr>\n",
       "      <th>2002-01-01</th>\n",
       "      <td>Fossil Fuels</td>\n",
       "      <td>35991</td>\n",
       "      <td>2002</td>\n",
       "    </tr>\n",
       "    <tr>\n",
       "      <th>2003-01-01</th>\n",
       "      <td>Fossil Fuels</td>\n",
       "      <td>36234</td>\n",
       "      <td>2003</td>\n",
       "    </tr>\n",
       "    <tr>\n",
       "      <th>2004-01-01</th>\n",
       "      <td>Fossil Fuels</td>\n",
       "      <td>36205</td>\n",
       "      <td>2004</td>\n",
       "    </tr>\n",
       "    <tr>\n",
       "      <th>2005-01-01</th>\n",
       "      <td>Fossil Fuels</td>\n",
       "      <td>36883</td>\n",
       "      <td>2005</td>\n",
       "    </tr>\n",
       "  </tbody>\n",
       "</table>\n",
       "</div>"
      ],
      "text/plain": [
       "                  source  net_generation  year_\n",
       "year                                           \n",
       "2001-01-01  Fossil Fuels           35361   2001\n",
       "2002-01-01  Fossil Fuels           35991   2002\n",
       "2003-01-01  Fossil Fuels           36234   2003\n",
       "2004-01-01  Fossil Fuels           36205   2004\n",
       "2005-01-01  Fossil Fuels           36883   2005"
      ]
     },
     "execution_count": 72,
     "metadata": {},
     "output_type": "execute_result"
    }
   ],
   "source": [
    "df['year_'] = df.index.year\n",
    "df.head()"
   ]
  },
  {
   "cell_type": "markdown",
   "id": "1bb1f751-5050-4271-91d7-f5f8445719a9",
   "metadata": {},
   "source": [
    "### 1."
   ]
  },
  {
   "cell_type": "markdown",
   "id": "cebb56c8-b3e7-42c7-9ba9-ff411931fae9",
   "metadata": {},
   "source": [
    "For each row, calculate the percentage of the year's total that energy source provided."
   ]
  },
  {
   "cell_type": "code",
   "execution_count": 73,
   "id": "60e156dc-c8fd-4f87-bd23-e34d47370090",
   "metadata": {},
   "outputs": [],
   "source": [
    "year_list = df.year_.unique().tolist()"
   ]
  },
  {
   "cell_type": "code",
   "execution_count": 74,
   "id": "fe76cd18-b7f4-490e-b5e6-58a597ec3b23",
   "metadata": {},
   "outputs": [
    {
     "data": {
      "text/plain": [
       "[2001,\n",
       " 2002,\n",
       " 2003,\n",
       " 2004,\n",
       " 2005,\n",
       " 2006,\n",
       " 2007,\n",
       " 2008,\n",
       " 2009,\n",
       " 2010,\n",
       " 2011,\n",
       " 2012,\n",
       " 2013,\n",
       " 2014,\n",
       " 2015,\n",
       " 2016,\n",
       " 2017]"
      ]
     },
     "execution_count": 74,
     "metadata": {},
     "output_type": "execute_result"
    }
   ],
   "source": [
    "year_list"
   ]
  },
  {
   "cell_type": "code",
   "execution_count": 75,
   "id": "7cea363f-f571-4119-9959-ef265b5236c5",
   "metadata": {},
   "outputs": [],
   "source": [
    "total_list = []"
   ]
  },
  {
   "cell_type": "code",
   "execution_count": 76,
   "id": "2892907b-8122-4463-947b-6f673901d233",
   "metadata": {},
   "outputs": [],
   "source": [
    "for year in year_list:\n",
    "    total_list.append(df.net_generation[df.year_ == year].sum())"
   ]
  },
  {
   "cell_type": "code",
   "execution_count": 77,
   "id": "9019cfbc-f088-453f-b2c7-708dffcb849e",
   "metadata": {},
   "outputs": [
    {
     "data": {
      "text/plain": [
       "[40651,\n",
       " 42528,\n",
       " 42107,\n",
       " 43236,\n",
       " 44145,\n",
       " 45473,\n",
       " 49778,\n",
       " 53086,\n",
       " 51859,\n",
       " 57509,\n",
       " 56371,\n",
       " 56675,\n",
       " 56670,\n",
       " 56854,\n",
       " 56653,\n",
       " 54381,\n",
       " 56476]"
      ]
     },
     "execution_count": 77,
     "metadata": {},
     "output_type": "execute_result"
    }
   ],
   "source": [
    "total_list"
   ]
  },
  {
   "cell_type": "code",
   "execution_count": 78,
   "id": "2db6f6c6-7366-4495-b11d-6c53473066eb",
   "metadata": {},
   "outputs": [
    {
     "data": {
      "text/html": [
       "<div>\n",
       "<style scoped>\n",
       "    .dataframe tbody tr th:only-of-type {\n",
       "        vertical-align: middle;\n",
       "    }\n",
       "\n",
       "    .dataframe tbody tr th {\n",
       "        vertical-align: top;\n",
       "    }\n",
       "\n",
       "    .dataframe thead th {\n",
       "        text-align: right;\n",
       "    }\n",
       "</style>\n",
       "<table border=\"1\" class=\"dataframe\">\n",
       "  <thead>\n",
       "    <tr style=\"text-align: right;\">\n",
       "      <th></th>\n",
       "      <th>total_usage</th>\n",
       "    </tr>\n",
       "  </thead>\n",
       "  <tbody>\n",
       "    <tr>\n",
       "      <th>2001</th>\n",
       "      <td>40651</td>\n",
       "    </tr>\n",
       "    <tr>\n",
       "      <th>2002</th>\n",
       "      <td>42528</td>\n",
       "    </tr>\n",
       "    <tr>\n",
       "      <th>2003</th>\n",
       "      <td>42107</td>\n",
       "    </tr>\n",
       "    <tr>\n",
       "      <th>2004</th>\n",
       "      <td>43236</td>\n",
       "    </tr>\n",
       "    <tr>\n",
       "      <th>2005</th>\n",
       "      <td>44145</td>\n",
       "    </tr>\n",
       "  </tbody>\n",
       "</table>\n",
       "</div>"
      ],
      "text/plain": [
       "      total_usage\n",
       "2001        40651\n",
       "2002        42528\n",
       "2003        42107\n",
       "2004        43236\n",
       "2005        44145"
      ]
     },
     "execution_count": 78,
     "metadata": {},
     "output_type": "execute_result"
    }
   ],
   "source": [
    "year_df = pd.DataFrame(index=year_list, data = {'total_usage' : total_list})\n",
    "year_df.head()"
   ]
  },
  {
   "cell_type": "code",
   "execution_count": 79,
   "id": "22be90fa-571d-4155-b256-07a779179eec",
   "metadata": {},
   "outputs": [
    {
     "data": {
      "text/plain": [
       "{'total_usage': {2001: 40651,\n",
       "  2002: 42528,\n",
       "  2003: 42107,\n",
       "  2004: 43236,\n",
       "  2005: 44145,\n",
       "  2006: 45473,\n",
       "  2007: 49778,\n",
       "  2008: 53086,\n",
       "  2009: 51859,\n",
       "  2010: 57509,\n",
       "  2011: 56371,\n",
       "  2012: 56675,\n",
       "  2013: 56670,\n",
       "  2014: 56854,\n",
       "  2015: 56653,\n",
       "  2016: 54381,\n",
       "  2017: 56476}}"
      ]
     },
     "execution_count": 79,
     "metadata": {},
     "output_type": "execute_result"
    }
   ],
   "source": [
    "total_dict = year_df.to_dict()\n",
    "total_dict"
   ]
  },
  {
   "cell_type": "code",
   "execution_count": 80,
   "id": "0dfb0210-4a5e-4cec-86c3-f57da3f71b96",
   "metadata": {},
   "outputs": [
    {
     "data": {
      "text/plain": [
       "{2001: 40651,\n",
       " 2002: 42528,\n",
       " 2003: 42107,\n",
       " 2004: 43236,\n",
       " 2005: 44145,\n",
       " 2006: 45473,\n",
       " 2007: 49778,\n",
       " 2008: 53086,\n",
       " 2009: 51859,\n",
       " 2010: 57509,\n",
       " 2011: 56371,\n",
       " 2012: 56675,\n",
       " 2013: 56670,\n",
       " 2014: 56854,\n",
       " 2015: 56653,\n",
       " 2016: 54381,\n",
       " 2017: 56476}"
      ]
     },
     "execution_count": 80,
     "metadata": {},
     "output_type": "execute_result"
    }
   ],
   "source": [
    "total_usage_dict = total_dict['total_usage']\n",
    "total_usage_dict"
   ]
  },
  {
   "cell_type": "code",
   "execution_count": 81,
   "id": "7f7abfbf-6f0e-4631-bed3-bb31609b101e",
   "metadata": {},
   "outputs": [
    {
     "data": {
      "text/html": [
       "<div>\n",
       "<style scoped>\n",
       "    .dataframe tbody tr th:only-of-type {\n",
       "        vertical-align: middle;\n",
       "    }\n",
       "\n",
       "    .dataframe tbody tr th {\n",
       "        vertical-align: top;\n",
       "    }\n",
       "\n",
       "    .dataframe thead th {\n",
       "        text-align: right;\n",
       "    }\n",
       "</style>\n",
       "<table border=\"1\" class=\"dataframe\">\n",
       "  <thead>\n",
       "    <tr style=\"text-align: right;\">\n",
       "      <th></th>\n",
       "      <th>source</th>\n",
       "      <th>net_generation</th>\n",
       "      <th>year_</th>\n",
       "    </tr>\n",
       "    <tr>\n",
       "      <th>year</th>\n",
       "      <th></th>\n",
       "      <th></th>\n",
       "      <th></th>\n",
       "    </tr>\n",
       "  </thead>\n",
       "  <tbody>\n",
       "    <tr>\n",
       "      <th>2001-01-01</th>\n",
       "      <td>Fossil Fuels</td>\n",
       "      <td>35361</td>\n",
       "      <td>2001</td>\n",
       "    </tr>\n",
       "    <tr>\n",
       "      <th>2002-01-01</th>\n",
       "      <td>Fossil Fuels</td>\n",
       "      <td>35991</td>\n",
       "      <td>2002</td>\n",
       "    </tr>\n",
       "    <tr>\n",
       "      <th>2003-01-01</th>\n",
       "      <td>Fossil Fuels</td>\n",
       "      <td>36234</td>\n",
       "      <td>2003</td>\n",
       "    </tr>\n",
       "    <tr>\n",
       "      <th>2004-01-01</th>\n",
       "      <td>Fossil Fuels</td>\n",
       "      <td>36205</td>\n",
       "      <td>2004</td>\n",
       "    </tr>\n",
       "    <tr>\n",
       "      <th>2005-01-01</th>\n",
       "      <td>Fossil Fuels</td>\n",
       "      <td>36883</td>\n",
       "      <td>2005</td>\n",
       "    </tr>\n",
       "  </tbody>\n",
       "</table>\n",
       "</div>"
      ],
      "text/plain": [
       "                  source  net_generation  year_\n",
       "year                                           \n",
       "2001-01-01  Fossil Fuels           35361   2001\n",
       "2002-01-01  Fossil Fuels           35991   2002\n",
       "2003-01-01  Fossil Fuels           36234   2003\n",
       "2004-01-01  Fossil Fuels           36205   2004\n",
       "2005-01-01  Fossil Fuels           36883   2005"
      ]
     },
     "execution_count": 81,
     "metadata": {},
     "output_type": "execute_result"
    }
   ],
   "source": [
    "df.head()"
   ]
  },
  {
   "cell_type": "code",
   "execution_count": 82,
   "id": "58cf4bd6-270c-4816-9f3e-23785046df4c",
   "metadata": {},
   "outputs": [],
   "source": [
    "df['annual_total_usage'] = df.year_.map(total_usage_dict)"
   ]
  },
  {
   "cell_type": "code",
   "execution_count": 83,
   "id": "be57699a-10d1-43ea-8134-58654bb6c032",
   "metadata": {},
   "outputs": [
    {
     "data": {
      "text/html": [
       "<div>\n",
       "<style scoped>\n",
       "    .dataframe tbody tr th:only-of-type {\n",
       "        vertical-align: middle;\n",
       "    }\n",
       "\n",
       "    .dataframe tbody tr th {\n",
       "        vertical-align: top;\n",
       "    }\n",
       "\n",
       "    .dataframe thead th {\n",
       "        text-align: right;\n",
       "    }\n",
       "</style>\n",
       "<table border=\"1\" class=\"dataframe\">\n",
       "  <thead>\n",
       "    <tr style=\"text-align: right;\">\n",
       "      <th></th>\n",
       "      <th>source</th>\n",
       "      <th>net_generation</th>\n",
       "      <th>year_</th>\n",
       "      <th>annual_total_usage</th>\n",
       "    </tr>\n",
       "    <tr>\n",
       "      <th>year</th>\n",
       "      <th></th>\n",
       "      <th></th>\n",
       "      <th></th>\n",
       "      <th></th>\n",
       "    </tr>\n",
       "  </thead>\n",
       "  <tbody>\n",
       "    <tr>\n",
       "      <th>2001-01-01</th>\n",
       "      <td>Fossil Fuels</td>\n",
       "      <td>35361</td>\n",
       "      <td>2001</td>\n",
       "      <td>40651</td>\n",
       "    </tr>\n",
       "    <tr>\n",
       "      <th>2002-01-01</th>\n",
       "      <td>Fossil Fuels</td>\n",
       "      <td>35991</td>\n",
       "      <td>2002</td>\n",
       "      <td>42528</td>\n",
       "    </tr>\n",
       "    <tr>\n",
       "      <th>2003-01-01</th>\n",
       "      <td>Fossil Fuels</td>\n",
       "      <td>36234</td>\n",
       "      <td>2003</td>\n",
       "      <td>42107</td>\n",
       "    </tr>\n",
       "    <tr>\n",
       "      <th>2004-01-01</th>\n",
       "      <td>Fossil Fuels</td>\n",
       "      <td>36205</td>\n",
       "      <td>2004</td>\n",
       "      <td>43236</td>\n",
       "    </tr>\n",
       "    <tr>\n",
       "      <th>2005-01-01</th>\n",
       "      <td>Fossil Fuels</td>\n",
       "      <td>36883</td>\n",
       "      <td>2005</td>\n",
       "      <td>44145</td>\n",
       "    </tr>\n",
       "  </tbody>\n",
       "</table>\n",
       "</div>"
      ],
      "text/plain": [
       "                  source  net_generation  year_  annual_total_usage\n",
       "year                                                               \n",
       "2001-01-01  Fossil Fuels           35361   2001               40651\n",
       "2002-01-01  Fossil Fuels           35991   2002               42528\n",
       "2003-01-01  Fossil Fuels           36234   2003               42107\n",
       "2004-01-01  Fossil Fuels           36205   2004               43236\n",
       "2005-01-01  Fossil Fuels           36883   2005               44145"
      ]
     },
     "execution_count": 83,
     "metadata": {},
     "output_type": "execute_result"
    }
   ],
   "source": [
    "df.head()"
   ]
  },
  {
   "cell_type": "code",
   "execution_count": 85,
   "id": "c4cab6ca-49c2-46cc-a531-7e86d9c6c0cd",
   "metadata": {},
   "outputs": [],
   "source": [
    "df['annual_usage_percentage'] = (df.net_generation / df.annual_total_usage) * 100"
   ]
  },
  {
   "cell_type": "code",
   "execution_count": 86,
   "id": "9d060fff-743f-4ac4-b398-68a9610b978d",
   "metadata": {},
   "outputs": [
    {
     "data": {
      "text/html": [
       "<div>\n",
       "<style scoped>\n",
       "    .dataframe tbody tr th:only-of-type {\n",
       "        vertical-align: middle;\n",
       "    }\n",
       "\n",
       "    .dataframe tbody tr th {\n",
       "        vertical-align: top;\n",
       "    }\n",
       "\n",
       "    .dataframe thead th {\n",
       "        text-align: right;\n",
       "    }\n",
       "</style>\n",
       "<table border=\"1\" class=\"dataframe\">\n",
       "  <thead>\n",
       "    <tr style=\"text-align: right;\">\n",
       "      <th></th>\n",
       "      <th>source</th>\n",
       "      <th>net_generation</th>\n",
       "      <th>year_</th>\n",
       "      <th>annual_total_usage</th>\n",
       "      <th>annual_usage_percentage</th>\n",
       "    </tr>\n",
       "    <tr>\n",
       "      <th>year</th>\n",
       "      <th></th>\n",
       "      <th></th>\n",
       "      <th></th>\n",
       "      <th></th>\n",
       "      <th></th>\n",
       "    </tr>\n",
       "  </thead>\n",
       "  <tbody>\n",
       "    <tr>\n",
       "      <th>2001-01-01</th>\n",
       "      <td>Fossil Fuels</td>\n",
       "      <td>35361</td>\n",
       "      <td>2001</td>\n",
       "      <td>40651</td>\n",
       "      <td>86.986790</td>\n",
       "    </tr>\n",
       "    <tr>\n",
       "      <th>2002-01-01</th>\n",
       "      <td>Fossil Fuels</td>\n",
       "      <td>35991</td>\n",
       "      <td>2002</td>\n",
       "      <td>42528</td>\n",
       "      <td>84.628950</td>\n",
       "    </tr>\n",
       "    <tr>\n",
       "      <th>2003-01-01</th>\n",
       "      <td>Fossil Fuels</td>\n",
       "      <td>36234</td>\n",
       "      <td>2003</td>\n",
       "      <td>42107</td>\n",
       "      <td>86.052200</td>\n",
       "    </tr>\n",
       "    <tr>\n",
       "      <th>2004-01-01</th>\n",
       "      <td>Fossil Fuels</td>\n",
       "      <td>36205</td>\n",
       "      <td>2004</td>\n",
       "      <td>43236</td>\n",
       "      <td>83.738089</td>\n",
       "    </tr>\n",
       "    <tr>\n",
       "      <th>2005-01-01</th>\n",
       "      <td>Fossil Fuels</td>\n",
       "      <td>36883</td>\n",
       "      <td>2005</td>\n",
       "      <td>44145</td>\n",
       "      <td>83.549666</td>\n",
       "    </tr>\n",
       "    <tr>\n",
       "      <th>2006-01-01</th>\n",
       "      <td>Fossil Fuels</td>\n",
       "      <td>37014</td>\n",
       "      <td>2006</td>\n",
       "      <td>45473</td>\n",
       "      <td>81.397753</td>\n",
       "    </tr>\n",
       "    <tr>\n",
       "      <th>2007-01-01</th>\n",
       "      <td>Fossil Fuels</td>\n",
       "      <td>41389</td>\n",
       "      <td>2007</td>\n",
       "      <td>49778</td>\n",
       "      <td>83.147173</td>\n",
       "    </tr>\n",
       "    <tr>\n",
       "      <th>2008-01-01</th>\n",
       "      <td>Fossil Fuels</td>\n",
       "      <td>42734</td>\n",
       "      <td>2008</td>\n",
       "      <td>53086</td>\n",
       "      <td>80.499567</td>\n",
       "    </tr>\n",
       "    <tr>\n",
       "      <th>2009-01-01</th>\n",
       "      <td>Fossil Fuels</td>\n",
       "      <td>38620</td>\n",
       "      <td>2009</td>\n",
       "      <td>51859</td>\n",
       "      <td>74.471162</td>\n",
       "    </tr>\n",
       "    <tr>\n",
       "      <th>2010-01-01</th>\n",
       "      <td>Fossil Fuels</td>\n",
       "      <td>42750</td>\n",
       "      <td>2010</td>\n",
       "      <td>57509</td>\n",
       "      <td>74.336191</td>\n",
       "    </tr>\n",
       "    <tr>\n",
       "      <th>2011-01-01</th>\n",
       "      <td>Fossil Fuels</td>\n",
       "      <td>39361</td>\n",
       "      <td>2011</td>\n",
       "      <td>56371</td>\n",
       "      <td>69.824910</td>\n",
       "    </tr>\n",
       "    <tr>\n",
       "      <th>2012-01-01</th>\n",
       "      <td>Fossil Fuels</td>\n",
       "      <td>37379</td>\n",
       "      <td>2012</td>\n",
       "      <td>56675</td>\n",
       "      <td>65.953242</td>\n",
       "    </tr>\n",
       "    <tr>\n",
       "      <th>2013-01-01</th>\n",
       "      <td>Fossil Fuels</td>\n",
       "      <td>34873</td>\n",
       "      <td>2013</td>\n",
       "      <td>56670</td>\n",
       "      <td>61.536968</td>\n",
       "    </tr>\n",
       "    <tr>\n",
       "      <th>2014-01-01</th>\n",
       "      <td>Fossil Fuels</td>\n",
       "      <td>35250</td>\n",
       "      <td>2014</td>\n",
       "      <td>56854</td>\n",
       "      <td>62.000915</td>\n",
       "    </tr>\n",
       "    <tr>\n",
       "      <th>2015-01-01</th>\n",
       "      <td>Fossil Fuels</td>\n",
       "      <td>32319</td>\n",
       "      <td>2015</td>\n",
       "      <td>56653</td>\n",
       "      <td>57.047288</td>\n",
       "    </tr>\n",
       "    <tr>\n",
       "      <th>2016-01-01</th>\n",
       "      <td>Fossil Fuels</td>\n",
       "      <td>28437</td>\n",
       "      <td>2016</td>\n",
       "      <td>54381</td>\n",
       "      <td>52.292161</td>\n",
       "    </tr>\n",
       "    <tr>\n",
       "      <th>2017-01-01</th>\n",
       "      <td>Fossil Fuels</td>\n",
       "      <td>29329</td>\n",
       "      <td>2017</td>\n",
       "      <td>56476</td>\n",
       "      <td>51.931794</td>\n",
       "    </tr>\n",
       "    <tr>\n",
       "      <th>2001-01-01</th>\n",
       "      <td>Nuclear Energy</td>\n",
       "      <td>3853</td>\n",
       "      <td>2001</td>\n",
       "      <td>40651</td>\n",
       "      <td>9.478242</td>\n",
       "    </tr>\n",
       "    <tr>\n",
       "      <th>2002-01-01</th>\n",
       "      <td>Nuclear Energy</td>\n",
       "      <td>4574</td>\n",
       "      <td>2002</td>\n",
       "      <td>42528</td>\n",
       "      <td>10.755267</td>\n",
       "    </tr>\n",
       "    <tr>\n",
       "      <th>2003-01-01</th>\n",
       "      <td>Nuclear Energy</td>\n",
       "      <td>3988</td>\n",
       "      <td>2003</td>\n",
       "      <td>42107</td>\n",
       "      <td>9.471109</td>\n",
       "    </tr>\n",
       "    <tr>\n",
       "      <th>2004-01-01</th>\n",
       "      <td>Nuclear Energy</td>\n",
       "      <td>4929</td>\n",
       "      <td>2004</td>\n",
       "      <td>43236</td>\n",
       "      <td>11.400222</td>\n",
       "    </tr>\n",
       "    <tr>\n",
       "      <th>2005-01-01</th>\n",
       "      <td>Nuclear Energy</td>\n",
       "      <td>4538</td>\n",
       "      <td>2005</td>\n",
       "      <td>44145</td>\n",
       "      <td>10.279760</td>\n",
       "    </tr>\n",
       "    <tr>\n",
       "      <th>2006-01-01</th>\n",
       "      <td>Nuclear Energy</td>\n",
       "      <td>5095</td>\n",
       "      <td>2006</td>\n",
       "      <td>45473</td>\n",
       "      <td>11.204451</td>\n",
       "    </tr>\n",
       "    <tr>\n",
       "      <th>2007-01-01</th>\n",
       "      <td>Nuclear Energy</td>\n",
       "      <td>4519</td>\n",
       "      <td>2007</td>\n",
       "      <td>49778</td>\n",
       "      <td>9.078308</td>\n",
       "    </tr>\n",
       "    <tr>\n",
       "      <th>2008-01-01</th>\n",
       "      <td>Nuclear Energy</td>\n",
       "      <td>5282</td>\n",
       "      <td>2008</td>\n",
       "      <td>53086</td>\n",
       "      <td>9.949893</td>\n",
       "    </tr>\n",
       "    <tr>\n",
       "      <th>2009-01-01</th>\n",
       "      <td>Nuclear Energy</td>\n",
       "      <td>4679</td>\n",
       "      <td>2009</td>\n",
       "      <td>51859</td>\n",
       "      <td>9.022542</td>\n",
       "    </tr>\n",
       "    <tr>\n",
       "      <th>2010-01-01</th>\n",
       "      <td>Nuclear Energy</td>\n",
       "      <td>4451</td>\n",
       "      <td>2010</td>\n",
       "      <td>57509</td>\n",
       "      <td>7.739658</td>\n",
       "    </tr>\n",
       "    <tr>\n",
       "      <th>2011-01-01</th>\n",
       "      <td>Nuclear Energy</td>\n",
       "      <td>5215</td>\n",
       "      <td>2011</td>\n",
       "      <td>56371</td>\n",
       "      <td>9.251211</td>\n",
       "    </tr>\n",
       "    <tr>\n",
       "      <th>2012-01-01</th>\n",
       "      <td>Nuclear Energy</td>\n",
       "      <td>4347</td>\n",
       "      <td>2012</td>\n",
       "      <td>56675</td>\n",
       "      <td>7.670049</td>\n",
       "    </tr>\n",
       "    <tr>\n",
       "      <th>2013-01-01</th>\n",
       "      <td>Nuclear Energy</td>\n",
       "      <td>5321</td>\n",
       "      <td>2013</td>\n",
       "      <td>56670</td>\n",
       "      <td>9.389448</td>\n",
       "    </tr>\n",
       "    <tr>\n",
       "      <th>2014-01-01</th>\n",
       "      <td>Nuclear Energy</td>\n",
       "      <td>4152</td>\n",
       "      <td>2014</td>\n",
       "      <td>56854</td>\n",
       "      <td>7.302916</td>\n",
       "    </tr>\n",
       "    <tr>\n",
       "      <th>2015-01-01</th>\n",
       "      <td>Nuclear Energy</td>\n",
       "      <td>5243</td>\n",
       "      <td>2015</td>\n",
       "      <td>56653</td>\n",
       "      <td>9.254585</td>\n",
       "    </tr>\n",
       "    <tr>\n",
       "      <th>2016-01-01</th>\n",
       "      <td>Nuclear Energy</td>\n",
       "      <td>4703</td>\n",
       "      <td>2016</td>\n",
       "      <td>54381</td>\n",
       "      <td>8.648241</td>\n",
       "    </tr>\n",
       "    <tr>\n",
       "      <th>2017-01-01</th>\n",
       "      <td>Nuclear Energy</td>\n",
       "      <td>5214</td>\n",
       "      <td>2017</td>\n",
       "      <td>56476</td>\n",
       "      <td>9.232240</td>\n",
       "    </tr>\n",
       "    <tr>\n",
       "      <th>2001-01-01</th>\n",
       "      <td>Renewables</td>\n",
       "      <td>1437</td>\n",
       "      <td>2001</td>\n",
       "      <td>40651</td>\n",
       "      <td>3.534968</td>\n",
       "    </tr>\n",
       "    <tr>\n",
       "      <th>2002-01-01</th>\n",
       "      <td>Renewables</td>\n",
       "      <td>1963</td>\n",
       "      <td>2002</td>\n",
       "      <td>42528</td>\n",
       "      <td>4.615783</td>\n",
       "    </tr>\n",
       "    <tr>\n",
       "      <th>2003-01-01</th>\n",
       "      <td>Renewables</td>\n",
       "      <td>1885</td>\n",
       "      <td>2003</td>\n",
       "      <td>42107</td>\n",
       "      <td>4.476690</td>\n",
       "    </tr>\n",
       "    <tr>\n",
       "      <th>2004-01-01</th>\n",
       "      <td>Renewables</td>\n",
       "      <td>2102</td>\n",
       "      <td>2004</td>\n",
       "      <td>43236</td>\n",
       "      <td>4.861689</td>\n",
       "    </tr>\n",
       "    <tr>\n",
       "      <th>2005-01-01</th>\n",
       "      <td>Renewables</td>\n",
       "      <td>2724</td>\n",
       "      <td>2005</td>\n",
       "      <td>44145</td>\n",
       "      <td>6.170574</td>\n",
       "    </tr>\n",
       "    <tr>\n",
       "      <th>2006-01-01</th>\n",
       "      <td>Renewables</td>\n",
       "      <td>3364</td>\n",
       "      <td>2006</td>\n",
       "      <td>45473</td>\n",
       "      <td>7.397796</td>\n",
       "    </tr>\n",
       "    <tr>\n",
       "      <th>2007-01-01</th>\n",
       "      <td>Renewables</td>\n",
       "      <td>3870</td>\n",
       "      <td>2007</td>\n",
       "      <td>49778</td>\n",
       "      <td>7.774519</td>\n",
       "    </tr>\n",
       "    <tr>\n",
       "      <th>2008-01-01</th>\n",
       "      <td>Renewables</td>\n",
       "      <td>5070</td>\n",
       "      <td>2008</td>\n",
       "      <td>53086</td>\n",
       "      <td>9.550541</td>\n",
       "    </tr>\n",
       "    <tr>\n",
       "      <th>2009-01-01</th>\n",
       "      <td>Renewables</td>\n",
       "      <td>8560</td>\n",
       "      <td>2009</td>\n",
       "      <td>51859</td>\n",
       "      <td>16.506296</td>\n",
       "    </tr>\n",
       "    <tr>\n",
       "      <th>2010-01-01</th>\n",
       "      <td>Renewables</td>\n",
       "      <td>10308</td>\n",
       "      <td>2010</td>\n",
       "      <td>57509</td>\n",
       "      <td>17.924151</td>\n",
       "    </tr>\n",
       "    <tr>\n",
       "      <th>2011-01-01</th>\n",
       "      <td>Renewables</td>\n",
       "      <td>11795</td>\n",
       "      <td>2011</td>\n",
       "      <td>56371</td>\n",
       "      <td>20.923879</td>\n",
       "    </tr>\n",
       "    <tr>\n",
       "      <th>2012-01-01</th>\n",
       "      <td>Renewables</td>\n",
       "      <td>14949</td>\n",
       "      <td>2012</td>\n",
       "      <td>56675</td>\n",
       "      <td>26.376709</td>\n",
       "    </tr>\n",
       "    <tr>\n",
       "      <th>2013-01-01</th>\n",
       "      <td>Renewables</td>\n",
       "      <td>16476</td>\n",
       "      <td>2013</td>\n",
       "      <td>56670</td>\n",
       "      <td>29.073584</td>\n",
       "    </tr>\n",
       "    <tr>\n",
       "      <th>2014-01-01</th>\n",
       "      <td>Renewables</td>\n",
       "      <td>17452</td>\n",
       "      <td>2014</td>\n",
       "      <td>56854</td>\n",
       "      <td>30.696169</td>\n",
       "    </tr>\n",
       "    <tr>\n",
       "      <th>2015-01-01</th>\n",
       "      <td>Renewables</td>\n",
       "      <td>19091</td>\n",
       "      <td>2015</td>\n",
       "      <td>56653</td>\n",
       "      <td>33.698127</td>\n",
       "    </tr>\n",
       "    <tr>\n",
       "      <th>2016-01-01</th>\n",
       "      <td>Renewables</td>\n",
       "      <td>21241</td>\n",
       "      <td>2016</td>\n",
       "      <td>54381</td>\n",
       "      <td>39.059598</td>\n",
       "    </tr>\n",
       "    <tr>\n",
       "      <th>2017-01-01</th>\n",
       "      <td>Renewables</td>\n",
       "      <td>21933</td>\n",
       "      <td>2017</td>\n",
       "      <td>56476</td>\n",
       "      <td>38.835966</td>\n",
       "    </tr>\n",
       "  </tbody>\n",
       "</table>\n",
       "</div>"
      ],
      "text/plain": [
       "                    source  net_generation  year_  annual_total_usage  \\\n",
       "year                                                                    \n",
       "2001-01-01    Fossil Fuels           35361   2001               40651   \n",
       "2002-01-01    Fossil Fuels           35991   2002               42528   \n",
       "2003-01-01    Fossil Fuels           36234   2003               42107   \n",
       "2004-01-01    Fossil Fuels           36205   2004               43236   \n",
       "2005-01-01    Fossil Fuels           36883   2005               44145   \n",
       "2006-01-01    Fossil Fuels           37014   2006               45473   \n",
       "2007-01-01    Fossil Fuels           41389   2007               49778   \n",
       "2008-01-01    Fossil Fuels           42734   2008               53086   \n",
       "2009-01-01    Fossil Fuels           38620   2009               51859   \n",
       "2010-01-01    Fossil Fuels           42750   2010               57509   \n",
       "2011-01-01    Fossil Fuels           39361   2011               56371   \n",
       "2012-01-01    Fossil Fuels           37379   2012               56675   \n",
       "2013-01-01    Fossil Fuels           34873   2013               56670   \n",
       "2014-01-01    Fossil Fuels           35250   2014               56854   \n",
       "2015-01-01    Fossil Fuels           32319   2015               56653   \n",
       "2016-01-01    Fossil Fuels           28437   2016               54381   \n",
       "2017-01-01    Fossil Fuels           29329   2017               56476   \n",
       "2001-01-01  Nuclear Energy            3853   2001               40651   \n",
       "2002-01-01  Nuclear Energy            4574   2002               42528   \n",
       "2003-01-01  Nuclear Energy            3988   2003               42107   \n",
       "2004-01-01  Nuclear Energy            4929   2004               43236   \n",
       "2005-01-01  Nuclear Energy            4538   2005               44145   \n",
       "2006-01-01  Nuclear Energy            5095   2006               45473   \n",
       "2007-01-01  Nuclear Energy            4519   2007               49778   \n",
       "2008-01-01  Nuclear Energy            5282   2008               53086   \n",
       "2009-01-01  Nuclear Energy            4679   2009               51859   \n",
       "2010-01-01  Nuclear Energy            4451   2010               57509   \n",
       "2011-01-01  Nuclear Energy            5215   2011               56371   \n",
       "2012-01-01  Nuclear Energy            4347   2012               56675   \n",
       "2013-01-01  Nuclear Energy            5321   2013               56670   \n",
       "2014-01-01  Nuclear Energy            4152   2014               56854   \n",
       "2015-01-01  Nuclear Energy            5243   2015               56653   \n",
       "2016-01-01  Nuclear Energy            4703   2016               54381   \n",
       "2017-01-01  Nuclear Energy            5214   2017               56476   \n",
       "2001-01-01      Renewables            1437   2001               40651   \n",
       "2002-01-01      Renewables            1963   2002               42528   \n",
       "2003-01-01      Renewables            1885   2003               42107   \n",
       "2004-01-01      Renewables            2102   2004               43236   \n",
       "2005-01-01      Renewables            2724   2005               44145   \n",
       "2006-01-01      Renewables            3364   2006               45473   \n",
       "2007-01-01      Renewables            3870   2007               49778   \n",
       "2008-01-01      Renewables            5070   2008               53086   \n",
       "2009-01-01      Renewables            8560   2009               51859   \n",
       "2010-01-01      Renewables           10308   2010               57509   \n",
       "2011-01-01      Renewables           11795   2011               56371   \n",
       "2012-01-01      Renewables           14949   2012               56675   \n",
       "2013-01-01      Renewables           16476   2013               56670   \n",
       "2014-01-01      Renewables           17452   2014               56854   \n",
       "2015-01-01      Renewables           19091   2015               56653   \n",
       "2016-01-01      Renewables           21241   2016               54381   \n",
       "2017-01-01      Renewables           21933   2017               56476   \n",
       "\n",
       "            annual_usage_percentage  \n",
       "year                                 \n",
       "2001-01-01                86.986790  \n",
       "2002-01-01                84.628950  \n",
       "2003-01-01                86.052200  \n",
       "2004-01-01                83.738089  \n",
       "2005-01-01                83.549666  \n",
       "2006-01-01                81.397753  \n",
       "2007-01-01                83.147173  \n",
       "2008-01-01                80.499567  \n",
       "2009-01-01                74.471162  \n",
       "2010-01-01                74.336191  \n",
       "2011-01-01                69.824910  \n",
       "2012-01-01                65.953242  \n",
       "2013-01-01                61.536968  \n",
       "2014-01-01                62.000915  \n",
       "2015-01-01                57.047288  \n",
       "2016-01-01                52.292161  \n",
       "2017-01-01                51.931794  \n",
       "2001-01-01                 9.478242  \n",
       "2002-01-01                10.755267  \n",
       "2003-01-01                 9.471109  \n",
       "2004-01-01                11.400222  \n",
       "2005-01-01                10.279760  \n",
       "2006-01-01                11.204451  \n",
       "2007-01-01                 9.078308  \n",
       "2008-01-01                 9.949893  \n",
       "2009-01-01                 9.022542  \n",
       "2010-01-01                 7.739658  \n",
       "2011-01-01                 9.251211  \n",
       "2012-01-01                 7.670049  \n",
       "2013-01-01                 9.389448  \n",
       "2014-01-01                 7.302916  \n",
       "2015-01-01                 9.254585  \n",
       "2016-01-01                 8.648241  \n",
       "2017-01-01                 9.232240  \n",
       "2001-01-01                 3.534968  \n",
       "2002-01-01                 4.615783  \n",
       "2003-01-01                 4.476690  \n",
       "2004-01-01                 4.861689  \n",
       "2005-01-01                 6.170574  \n",
       "2006-01-01                 7.397796  \n",
       "2007-01-01                 7.774519  \n",
       "2008-01-01                 9.550541  \n",
       "2009-01-01                16.506296  \n",
       "2010-01-01                17.924151  \n",
       "2011-01-01                20.923879  \n",
       "2012-01-01                26.376709  \n",
       "2013-01-01                29.073584  \n",
       "2014-01-01                30.696169  \n",
       "2015-01-01                33.698127  \n",
       "2016-01-01                39.059598  \n",
       "2017-01-01                38.835966  "
      ]
     },
     "execution_count": 86,
     "metadata": {},
     "output_type": "execute_result"
    }
   ],
   "source": [
    "df"
   ]
  },
  {
   "cell_type": "markdown",
   "id": "da667df8-beb0-43a5-85b3-a4da5a84dea0",
   "metadata": {},
   "source": [
    "### 2."
   ]
  },
  {
   "cell_type": "markdown",
   "id": "76f1c096-6342-4ace-88eb-66ad7100eabc",
   "metadata": {},
   "source": [
    "Lineplot of generation over time, color by source"
   ]
  },
  {
   "cell_type": "code",
   "execution_count": 90,
   "id": "7e3c4492-b7ec-4e31-98aa-f687e671d038",
   "metadata": {},
   "outputs": [
    {
     "data": {
      "text/html": [
       "<div>\n",
       "<style scoped>\n",
       "    .dataframe tbody tr th:only-of-type {\n",
       "        vertical-align: middle;\n",
       "    }\n",
       "\n",
       "    .dataframe tbody tr th {\n",
       "        vertical-align: top;\n",
       "    }\n",
       "\n",
       "    .dataframe thead th {\n",
       "        text-align: right;\n",
       "    }\n",
       "</style>\n",
       "<table border=\"1\" class=\"dataframe\">\n",
       "  <thead>\n",
       "    <tr style=\"text-align: right;\">\n",
       "      <th>source</th>\n",
       "      <th>Fossil Fuels</th>\n",
       "      <th>Nuclear Energy</th>\n",
       "      <th>Renewables</th>\n",
       "    </tr>\n",
       "    <tr>\n",
       "      <th>year_</th>\n",
       "      <th></th>\n",
       "      <th></th>\n",
       "      <th></th>\n",
       "    </tr>\n",
       "  </thead>\n",
       "  <tbody>\n",
       "    <tr>\n",
       "      <th>2001</th>\n",
       "      <td>35361</td>\n",
       "      <td>3853</td>\n",
       "      <td>1437</td>\n",
       "    </tr>\n",
       "    <tr>\n",
       "      <th>2002</th>\n",
       "      <td>35991</td>\n",
       "      <td>4574</td>\n",
       "      <td>1963</td>\n",
       "    </tr>\n",
       "    <tr>\n",
       "      <th>2003</th>\n",
       "      <td>36234</td>\n",
       "      <td>3988</td>\n",
       "      <td>1885</td>\n",
       "    </tr>\n",
       "    <tr>\n",
       "      <th>2004</th>\n",
       "      <td>36205</td>\n",
       "      <td>4929</td>\n",
       "      <td>2102</td>\n",
       "    </tr>\n",
       "    <tr>\n",
       "      <th>2005</th>\n",
       "      <td>36883</td>\n",
       "      <td>4538</td>\n",
       "      <td>2724</td>\n",
       "    </tr>\n",
       "    <tr>\n",
       "      <th>2006</th>\n",
       "      <td>37014</td>\n",
       "      <td>5095</td>\n",
       "      <td>3364</td>\n",
       "    </tr>\n",
       "    <tr>\n",
       "      <th>2007</th>\n",
       "      <td>41389</td>\n",
       "      <td>4519</td>\n",
       "      <td>3870</td>\n",
       "    </tr>\n",
       "    <tr>\n",
       "      <th>2008</th>\n",
       "      <td>42734</td>\n",
       "      <td>5282</td>\n",
       "      <td>5070</td>\n",
       "    </tr>\n",
       "    <tr>\n",
       "      <th>2009</th>\n",
       "      <td>38620</td>\n",
       "      <td>4679</td>\n",
       "      <td>8560</td>\n",
       "    </tr>\n",
       "    <tr>\n",
       "      <th>2010</th>\n",
       "      <td>42750</td>\n",
       "      <td>4451</td>\n",
       "      <td>10308</td>\n",
       "    </tr>\n",
       "    <tr>\n",
       "      <th>2011</th>\n",
       "      <td>39361</td>\n",
       "      <td>5215</td>\n",
       "      <td>11795</td>\n",
       "    </tr>\n",
       "    <tr>\n",
       "      <th>2012</th>\n",
       "      <td>37379</td>\n",
       "      <td>4347</td>\n",
       "      <td>14949</td>\n",
       "    </tr>\n",
       "    <tr>\n",
       "      <th>2013</th>\n",
       "      <td>34873</td>\n",
       "      <td>5321</td>\n",
       "      <td>16476</td>\n",
       "    </tr>\n",
       "    <tr>\n",
       "      <th>2014</th>\n",
       "      <td>35250</td>\n",
       "      <td>4152</td>\n",
       "      <td>17452</td>\n",
       "    </tr>\n",
       "    <tr>\n",
       "      <th>2015</th>\n",
       "      <td>32319</td>\n",
       "      <td>5243</td>\n",
       "      <td>19091</td>\n",
       "    </tr>\n",
       "    <tr>\n",
       "      <th>2016</th>\n",
       "      <td>28437</td>\n",
       "      <td>4703</td>\n",
       "      <td>21241</td>\n",
       "    </tr>\n",
       "    <tr>\n",
       "      <th>2017</th>\n",
       "      <td>29329</td>\n",
       "      <td>5214</td>\n",
       "      <td>21933</td>\n",
       "    </tr>\n",
       "  </tbody>\n",
       "</table>\n",
       "</div>"
      ],
      "text/plain": [
       "source  Fossil Fuels  Nuclear Energy  Renewables\n",
       "year_                                           \n",
       "2001           35361            3853        1437\n",
       "2002           35991            4574        1963\n",
       "2003           36234            3988        1885\n",
       "2004           36205            4929        2102\n",
       "2005           36883            4538        2724\n",
       "2006           37014            5095        3364\n",
       "2007           41389            4519        3870\n",
       "2008           42734            5282        5070\n",
       "2009           38620            4679        8560\n",
       "2010           42750            4451       10308\n",
       "2011           39361            5215       11795\n",
       "2012           37379            4347       14949\n",
       "2013           34873            5321       16476\n",
       "2014           35250            4152       17452\n",
       "2015           32319            5243       19091\n",
       "2016           28437            4703       21241\n",
       "2017           29329            5214       21933"
      ]
     },
     "execution_count": 90,
     "metadata": {},
     "output_type": "execute_result"
    }
   ],
   "source": [
    "df_plot = df.pivot_table(index='year_', columns='source', values='net_generation')\n",
    "df_plot"
   ]
  },
  {
   "cell_type": "code",
   "execution_count": 92,
   "id": "e94ebafa-64f2-4de6-9ae8-5d01443976b4",
   "metadata": {},
   "outputs": [
    {
     "data": {
      "image/png": "[encoded data removed]",
      "text/plain": [
       "<Figure size 432x288 with 1 Axes>"
      ]
     },
     "metadata": {
      "needs_background": "light"
     },
     "output_type": "display_data"
    }
   ],
   "source": [
    "df_plot.plot();"
   ]
  },
  {
   "cell_type": "markdown",
   "id": "911bc98d-beaf-4024-8c38-d3b01e113255",
   "metadata": {},
   "source": [
    "### 3."
   ]
  },
  {
   "cell_type": "markdown",
   "id": "88656103-237f-45ce-96c7-10ce2dee1746",
   "metadata": {},
   "source": [
    "Display the data as table where years are columns, and energy source is rows (Hint: df.pivot_table)"
   ]
  },
  {
   "cell_type": "code",
   "execution_count": 102,
   "id": "a68bd16b-9682-400c-a34c-d754e99621a2",
   "metadata": {},
   "outputs": [
    {
     "data": {
      "text/html": [
       "<div>\n",
       "<style scoped>\n",
       "    .dataframe tbody tr th:only-of-type {\n",
       "        vertical-align: middle;\n",
       "    }\n",
       "\n",
       "    .dataframe tbody tr th {\n",
       "        vertical-align: top;\n",
       "    }\n",
       "\n",
       "    .dataframe thead th {\n",
       "        text-align: right;\n",
       "    }\n",
       "</style>\n",
       "<table border=\"1\" class=\"dataframe\">\n",
       "  <thead>\n",
       "    <tr style=\"text-align: right;\">\n",
       "      <th>year_</th>\n",
       "      <th>2001</th>\n",
       "      <th>2002</th>\n",
       "      <th>2003</th>\n",
       "      <th>2004</th>\n",
       "      <th>2005</th>\n",
       "      <th>2006</th>\n",
       "      <th>2007</th>\n",
       "      <th>2008</th>\n",
       "      <th>2009</th>\n",
       "      <th>2010</th>\n",
       "      <th>2011</th>\n",
       "      <th>2012</th>\n",
       "      <th>2013</th>\n",
       "      <th>2014</th>\n",
       "      <th>2015</th>\n",
       "      <th>2016</th>\n",
       "      <th>2017</th>\n",
       "    </tr>\n",
       "    <tr>\n",
       "      <th>source</th>\n",
       "      <th></th>\n",
       "      <th></th>\n",
       "      <th></th>\n",
       "      <th></th>\n",
       "      <th></th>\n",
       "      <th></th>\n",
       "      <th></th>\n",
       "      <th></th>\n",
       "      <th></th>\n",
       "      <th></th>\n",
       "      <th></th>\n",
       "      <th></th>\n",
       "      <th></th>\n",
       "      <th></th>\n",
       "      <th></th>\n",
       "      <th></th>\n",
       "      <th></th>\n",
       "    </tr>\n",
       "  </thead>\n",
       "  <tbody>\n",
       "    <tr>\n",
       "      <th>Fossil Fuels</th>\n",
       "      <td>35361</td>\n",
       "      <td>35991</td>\n",
       "      <td>36234</td>\n",
       "      <td>36205</td>\n",
       "      <td>36883</td>\n",
       "      <td>37014</td>\n",
       "      <td>41389</td>\n",
       "      <td>42734</td>\n",
       "      <td>38620</td>\n",
       "      <td>42750</td>\n",
       "      <td>39361</td>\n",
       "      <td>37379</td>\n",
       "      <td>34873</td>\n",
       "      <td>35250</td>\n",
       "      <td>32319</td>\n",
       "      <td>28437</td>\n",
       "      <td>29329</td>\n",
       "    </tr>\n",
       "    <tr>\n",
       "      <th>Nuclear Energy</th>\n",
       "      <td>3853</td>\n",
       "      <td>4574</td>\n",
       "      <td>3988</td>\n",
       "      <td>4929</td>\n",
       "      <td>4538</td>\n",
       "      <td>5095</td>\n",
       "      <td>4519</td>\n",
       "      <td>5282</td>\n",
       "      <td>4679</td>\n",
       "      <td>4451</td>\n",
       "      <td>5215</td>\n",
       "      <td>4347</td>\n",
       "      <td>5321</td>\n",
       "      <td>4152</td>\n",
       "      <td>5243</td>\n",
       "      <td>4703</td>\n",
       "      <td>5214</td>\n",
       "    </tr>\n",
       "    <tr>\n",
       "      <th>Renewables</th>\n",
       "      <td>1437</td>\n",
       "      <td>1963</td>\n",
       "      <td>1885</td>\n",
       "      <td>2102</td>\n",
       "      <td>2724</td>\n",
       "      <td>3364</td>\n",
       "      <td>3870</td>\n",
       "      <td>5070</td>\n",
       "      <td>8560</td>\n",
       "      <td>10308</td>\n",
       "      <td>11795</td>\n",
       "      <td>14949</td>\n",
       "      <td>16476</td>\n",
       "      <td>17452</td>\n",
       "      <td>19091</td>\n",
       "      <td>21241</td>\n",
       "      <td>21933</td>\n",
       "    </tr>\n",
       "  </tbody>\n",
       "</table>\n",
       "</div>"
      ],
      "text/plain": [
       "year_            2001   2002   2003   2004   2005   2006   2007   2008   2009  \\\n",
       "source                                                                          \n",
       "Fossil Fuels    35361  35991  36234  36205  36883  37014  41389  42734  38620   \n",
       "Nuclear Energy   3853   4574   3988   4929   4538   5095   4519   5282   4679   \n",
       "Renewables       1437   1963   1885   2102   2724   3364   3870   5070   8560   \n",
       "\n",
       "year_            2010   2011   2012   2013   2014   2015   2016   2017  \n",
       "source                                                                  \n",
       "Fossil Fuels    42750  39361  37379  34873  35250  32319  28437  29329  \n",
       "Nuclear Energy   4451   5215   4347   5321   4152   5243   4703   5214  \n",
       "Renewables      10308  11795  14949  16476  17452  19091  21241  21933  "
      ]
     },
     "execution_count": 102,
     "metadata": {},
     "output_type": "execute_result"
    }
   ],
   "source": [
    "df_ = df.pivot_table(columns='year_', index='source', values='net_generation')\n",
    "df_"
   ]
  },
  {
   "cell_type": "markdown",
   "id": "0851dac2-0a87-4926-8946-5c86f06d98e3",
   "metadata": {},
   "source": [
    "### 4."
   ]
  },
  {
   "cell_type": "markdown",
   "id": "11c1513d-679f-405f-a356-ebae323cb3e0",
   "metadata": {},
   "source": [
    "Make a line plot that shows the amount of energy generated over time."
   ]
  },
  {
   "cell_type": "code",
   "execution_count": 94,
   "id": "8a17e63b-c5c2-4b9b-8d78-b2cfe85b20b6",
   "metadata": {},
   "outputs": [
    {
     "data": {
      "text/plain": [
       "Index(['Fossil Fuels', 'Nuclear Energy', 'Renewables'], dtype='object', name='source')"
      ]
     },
     "execution_count": 94,
     "metadata": {},
     "output_type": "execute_result"
    }
   ],
   "source": [
    "df_plot.columns"
   ]
  },
  {
   "cell_type": "code",
   "execution_count": 97,
   "id": "444ed38d-6bf3-4c22-b5ba-512294b87831",
   "metadata": {},
   "outputs": [
    {
     "name": "stdout",
     "output_type": "stream",
     "text": [
      "<class 'pandas.core.frame.DataFrame'>\n",
      "Int64Index: 17 entries, 2001 to 2017\n",
      "Data columns (total 4 columns):\n",
      " #   Column          Non-Null Count  Dtype  \n",
      "---  ------          --------------  -----  \n",
      " 0   Fossil Fuels    17 non-null     int64  \n",
      " 1   Nuclear Energy  17 non-null     int64  \n",
      " 2   Renewables      17 non-null     int64  \n",
      " 3   total           0 non-null      float64\n",
      "dtypes: float64(1), int64(3)\n",
      "memory usage: 680.0 bytes\n"
     ]
    }
   ],
   "source": [
    "df_plot.info()"
   ]
  },
  {
   "cell_type": "code",
   "execution_count": 98,
   "id": "47e7208b-1fce-4bb8-b4d4-74ccd84ca039",
   "metadata": {},
   "outputs": [],
   "source": [
    "df_plot['total'] = df_plot.sum(axis=1)"
   ]
  },
  {
   "cell_type": "code",
   "execution_count": 99,
   "id": "4b636567-0317-45bf-82e8-158b27393184",
   "metadata": {},
   "outputs": [
    {
     "data": {
      "text/html": [
       "<div>\n",
       "<style scoped>\n",
       "    .dataframe tbody tr th:only-of-type {\n",
       "        vertical-align: middle;\n",
       "    }\n",
       "\n",
       "    .dataframe tbody tr th {\n",
       "        vertical-align: top;\n",
       "    }\n",
       "\n",
       "    .dataframe thead th {\n",
       "        text-align: right;\n",
       "    }\n",
       "</style>\n",
       "<table border=\"1\" class=\"dataframe\">\n",
       "  <thead>\n",
       "    <tr style=\"text-align: right;\">\n",
       "      <th>source</th>\n",
       "      <th>Fossil Fuels</th>\n",
       "      <th>Nuclear Energy</th>\n",
       "      <th>Renewables</th>\n",
       "      <th>total</th>\n",
       "    </tr>\n",
       "    <tr>\n",
       "      <th>year_</th>\n",
       "      <th></th>\n",
       "      <th></th>\n",
       "      <th></th>\n",
       "      <th></th>\n",
       "    </tr>\n",
       "  </thead>\n",
       "  <tbody>\n",
       "    <tr>\n",
       "      <th>2001</th>\n",
       "      <td>35361</td>\n",
       "      <td>3853</td>\n",
       "      <td>1437</td>\n",
       "      <td>40651.0</td>\n",
       "    </tr>\n",
       "    <tr>\n",
       "      <th>2002</th>\n",
       "      <td>35991</td>\n",
       "      <td>4574</td>\n",
       "      <td>1963</td>\n",
       "      <td>42528.0</td>\n",
       "    </tr>\n",
       "    <tr>\n",
       "      <th>2003</th>\n",
       "      <td>36234</td>\n",
       "      <td>3988</td>\n",
       "      <td>1885</td>\n",
       "      <td>42107.0</td>\n",
       "    </tr>\n",
       "    <tr>\n",
       "      <th>2004</th>\n",
       "      <td>36205</td>\n",
       "      <td>4929</td>\n",
       "      <td>2102</td>\n",
       "      <td>43236.0</td>\n",
       "    </tr>\n",
       "    <tr>\n",
       "      <th>2005</th>\n",
       "      <td>36883</td>\n",
       "      <td>4538</td>\n",
       "      <td>2724</td>\n",
       "      <td>44145.0</td>\n",
       "    </tr>\n",
       "    <tr>\n",
       "      <th>2006</th>\n",
       "      <td>37014</td>\n",
       "      <td>5095</td>\n",
       "      <td>3364</td>\n",
       "      <td>45473.0</td>\n",
       "    </tr>\n",
       "    <tr>\n",
       "      <th>2007</th>\n",
       "      <td>41389</td>\n",
       "      <td>4519</td>\n",
       "      <td>3870</td>\n",
       "      <td>49778.0</td>\n",
       "    </tr>\n",
       "    <tr>\n",
       "      <th>2008</th>\n",
       "      <td>42734</td>\n",
       "      <td>5282</td>\n",
       "      <td>5070</td>\n",
       "      <td>53086.0</td>\n",
       "    </tr>\n",
       "    <tr>\n",
       "      <th>2009</th>\n",
       "      <td>38620</td>\n",
       "      <td>4679</td>\n",
       "      <td>8560</td>\n",
       "      <td>51859.0</td>\n",
       "    </tr>\n",
       "    <tr>\n",
       "      <th>2010</th>\n",
       "      <td>42750</td>\n",
       "      <td>4451</td>\n",
       "      <td>10308</td>\n",
       "      <td>57509.0</td>\n",
       "    </tr>\n",
       "    <tr>\n",
       "      <th>2011</th>\n",
       "      <td>39361</td>\n",
       "      <td>5215</td>\n",
       "      <td>11795</td>\n",
       "      <td>56371.0</td>\n",
       "    </tr>\n",
       "    <tr>\n",
       "      <th>2012</th>\n",
       "      <td>37379</td>\n",
       "      <td>4347</td>\n",
       "      <td>14949</td>\n",
       "      <td>56675.0</td>\n",
       "    </tr>\n",
       "    <tr>\n",
       "      <th>2013</th>\n",
       "      <td>34873</td>\n",
       "      <td>5321</td>\n",
       "      <td>16476</td>\n",
       "      <td>56670.0</td>\n",
       "    </tr>\n",
       "    <tr>\n",
       "      <th>2014</th>\n",
       "      <td>35250</td>\n",
       "      <td>4152</td>\n",
       "      <td>17452</td>\n",
       "      <td>56854.0</td>\n",
       "    </tr>\n",
       "    <tr>\n",
       "      <th>2015</th>\n",
       "      <td>32319</td>\n",
       "      <td>5243</td>\n",
       "      <td>19091</td>\n",
       "      <td>56653.0</td>\n",
       "    </tr>\n",
       "    <tr>\n",
       "      <th>2016</th>\n",
       "      <td>28437</td>\n",
       "      <td>4703</td>\n",
       "      <td>21241</td>\n",
       "      <td>54381.0</td>\n",
       "    </tr>\n",
       "    <tr>\n",
       "      <th>2017</th>\n",
       "      <td>29329</td>\n",
       "      <td>5214</td>\n",
       "      <td>21933</td>\n",
       "      <td>56476.0</td>\n",
       "    </tr>\n",
       "  </tbody>\n",
       "</table>\n",
       "</div>"
      ],
      "text/plain": [
       "source  Fossil Fuels  Nuclear Energy  Renewables    total\n",
       "year_                                                    \n",
       "2001           35361            3853        1437  40651.0\n",
       "2002           35991            4574        1963  42528.0\n",
       "2003           36234            3988        1885  42107.0\n",
       "2004           36205            4929        2102  43236.0\n",
       "2005           36883            4538        2724  44145.0\n",
       "2006           37014            5095        3364  45473.0\n",
       "2007           41389            4519        3870  49778.0\n",
       "2008           42734            5282        5070  53086.0\n",
       "2009           38620            4679        8560  51859.0\n",
       "2010           42750            4451       10308  57509.0\n",
       "2011           39361            5215       11795  56371.0\n",
       "2012           37379            4347       14949  56675.0\n",
       "2013           34873            5321       16476  56670.0\n",
       "2014           35250            4152       17452  56854.0\n",
       "2015           32319            5243       19091  56653.0\n",
       "2016           28437            4703       21241  54381.0\n",
       "2017           29329            5214       21933  56476.0"
      ]
     },
     "execution_count": 99,
     "metadata": {},
     "output_type": "execute_result"
    }
   ],
   "source": [
    "df_plot"
   ]
  },
  {
   "cell_type": "code",
   "execution_count": 105,
   "id": "7880785e-db5b-497b-b8c5-66c05b67296d",
   "metadata": {},
   "outputs": [
    {
     "data": {
      "image/png": "[encoded data removed]",
      "text/plain": [
       "<Figure size 432x288 with 1 Axes>"
      ]
     },
     "metadata": {
      "needs_background": "light"
     },
     "output_type": "display_data"
    }
   ],
   "source": [
    "df_plot.total.plot();"
   ]
  },
  {
   "cell_type": "markdown",
   "id": "aa169d1f-c72e-4d7d-8af5-2d4116e2c7d3",
   "metadata": {},
   "source": [
    "### 5."
   ]
  },
  {
   "cell_type": "markdown",
   "id": "b4f35a0e-22b4-4c77-ad4b-89c74bfb0319",
   "metadata": {},
   "source": [
    "Is the total generation increasing over time?\n",
    " - How would you control for increasing consumption over time when considering how much energy is coming from each source?\n",
    " - express each number as a % of the year's total"
   ]
  },
  {
   "cell_type": "code",
   "execution_count": 87,
   "id": "e9ef7c2f-26d6-47bd-8383-7528d4767e6f",
   "metadata": {},
   "outputs": [
    {
     "data": {
      "text/html": [
       "<div>\n",
       "<style scoped>\n",
       "    .dataframe tbody tr th:only-of-type {\n",
       "        vertical-align: middle;\n",
       "    }\n",
       "\n",
       "    .dataframe tbody tr th {\n",
       "        vertical-align: top;\n",
       "    }\n",
       "\n",
       "    .dataframe thead th {\n",
       "        text-align: right;\n",
       "    }\n",
       "</style>\n",
       "<table border=\"1\" class=\"dataframe\">\n",
       "  <thead>\n",
       "    <tr style=\"text-align: right;\">\n",
       "      <th></th>\n",
       "      <th>source</th>\n",
       "      <th>net_generation</th>\n",
       "      <th>year_</th>\n",
       "      <th>annual_total_usage</th>\n",
       "      <th>annual_usage_percentage</th>\n",
       "    </tr>\n",
       "    <tr>\n",
       "      <th>year</th>\n",
       "      <th></th>\n",
       "      <th></th>\n",
       "      <th></th>\n",
       "      <th></th>\n",
       "      <th></th>\n",
       "    </tr>\n",
       "  </thead>\n",
       "  <tbody>\n",
       "    <tr>\n",
       "      <th>2001-01-01</th>\n",
       "      <td>Fossil Fuels</td>\n",
       "      <td>35361</td>\n",
       "      <td>2001</td>\n",
       "      <td>40651</td>\n",
       "      <td>86.986790</td>\n",
       "    </tr>\n",
       "    <tr>\n",
       "      <th>2002-01-01</th>\n",
       "      <td>Fossil Fuels</td>\n",
       "      <td>35991</td>\n",
       "      <td>2002</td>\n",
       "      <td>42528</td>\n",
       "      <td>84.628950</td>\n",
       "    </tr>\n",
       "    <tr>\n",
       "      <th>2003-01-01</th>\n",
       "      <td>Fossil Fuels</td>\n",
       "      <td>36234</td>\n",
       "      <td>2003</td>\n",
       "      <td>42107</td>\n",
       "      <td>86.052200</td>\n",
       "    </tr>\n",
       "    <tr>\n",
       "      <th>2004-01-01</th>\n",
       "      <td>Fossil Fuels</td>\n",
       "      <td>36205</td>\n",
       "      <td>2004</td>\n",
       "      <td>43236</td>\n",
       "      <td>83.738089</td>\n",
       "    </tr>\n",
       "    <tr>\n",
       "      <th>2005-01-01</th>\n",
       "      <td>Fossil Fuels</td>\n",
       "      <td>36883</td>\n",
       "      <td>2005</td>\n",
       "      <td>44145</td>\n",
       "      <td>83.549666</td>\n",
       "    </tr>\n",
       "  </tbody>\n",
       "</table>\n",
       "</div>"
      ],
      "text/plain": [
       "                  source  net_generation  year_  annual_total_usage  \\\n",
       "year                                                                  \n",
       "2001-01-01  Fossil Fuels           35361   2001               40651   \n",
       "2002-01-01  Fossil Fuels           35991   2002               42528   \n",
       "2003-01-01  Fossil Fuels           36234   2003               42107   \n",
       "2004-01-01  Fossil Fuels           36205   2004               43236   \n",
       "2005-01-01  Fossil Fuels           36883   2005               44145   \n",
       "\n",
       "            annual_usage_percentage  \n",
       "year                                 \n",
       "2001-01-01                86.986790  \n",
       "2002-01-01                84.628950  \n",
       "2003-01-01                86.052200  \n",
       "2004-01-01                83.738089  \n",
       "2005-01-01                83.549666  "
      ]
     },
     "execution_count": 87,
     "metadata": {},
     "output_type": "execute_result"
    }
   ],
   "source": [
    "df.head()"
   ]
  },
  {
   "cell_type": "code",
   "execution_count": 90,
   "id": "f42820f2-4ee7-45d3-9d1d-84286865055d",
   "metadata": {},
   "outputs": [
    {
     "data": {
      "text/html": [
       "<div>\n",
       "<style scoped>\n",
       "    .dataframe tbody tr th:only-of-type {\n",
       "        vertical-align: middle;\n",
       "    }\n",
       "\n",
       "    .dataframe tbody tr th {\n",
       "        vertical-align: top;\n",
       "    }\n",
       "\n",
       "    .dataframe thead th {\n",
       "        text-align: right;\n",
       "    }\n",
       "</style>\n",
       "<table border=\"1\" class=\"dataframe\">\n",
       "  <thead>\n",
       "    <tr style=\"text-align: right;\">\n",
       "      <th>source</th>\n",
       "      <th>Fossil Fuels</th>\n",
       "      <th>Nuclear Energy</th>\n",
       "      <th>Renewables</th>\n",
       "    </tr>\n",
       "    <tr>\n",
       "      <th>year_</th>\n",
       "      <th></th>\n",
       "      <th></th>\n",
       "      <th></th>\n",
       "    </tr>\n",
       "  </thead>\n",
       "  <tbody>\n",
       "    <tr>\n",
       "      <th>2001</th>\n",
       "      <td>86.986790</td>\n",
       "      <td>9.478242</td>\n",
       "      <td>3.534968</td>\n",
       "    </tr>\n",
       "    <tr>\n",
       "      <th>2002</th>\n",
       "      <td>84.628950</td>\n",
       "      <td>10.755267</td>\n",
       "      <td>4.615783</td>\n",
       "    </tr>\n",
       "    <tr>\n",
       "      <th>2003</th>\n",
       "      <td>86.052200</td>\n",
       "      <td>9.471109</td>\n",
       "      <td>4.476690</td>\n",
       "    </tr>\n",
       "    <tr>\n",
       "      <th>2004</th>\n",
       "      <td>83.738089</td>\n",
       "      <td>11.400222</td>\n",
       "      <td>4.861689</td>\n",
       "    </tr>\n",
       "    <tr>\n",
       "      <th>2005</th>\n",
       "      <td>83.549666</td>\n",
       "      <td>10.279760</td>\n",
       "      <td>6.170574</td>\n",
       "    </tr>\n",
       "    <tr>\n",
       "      <th>2006</th>\n",
       "      <td>81.397753</td>\n",
       "      <td>11.204451</td>\n",
       "      <td>7.397796</td>\n",
       "    </tr>\n",
       "    <tr>\n",
       "      <th>2007</th>\n",
       "      <td>83.147173</td>\n",
       "      <td>9.078308</td>\n",
       "      <td>7.774519</td>\n",
       "    </tr>\n",
       "    <tr>\n",
       "      <th>2008</th>\n",
       "      <td>80.499567</td>\n",
       "      <td>9.949893</td>\n",
       "      <td>9.550541</td>\n",
       "    </tr>\n",
       "    <tr>\n",
       "      <th>2009</th>\n",
       "      <td>74.471162</td>\n",
       "      <td>9.022542</td>\n",
       "      <td>16.506296</td>\n",
       "    </tr>\n",
       "    <tr>\n",
       "      <th>2010</th>\n",
       "      <td>74.336191</td>\n",
       "      <td>7.739658</td>\n",
       "      <td>17.924151</td>\n",
       "    </tr>\n",
       "    <tr>\n",
       "      <th>2011</th>\n",
       "      <td>69.824910</td>\n",
       "      <td>9.251211</td>\n",
       "      <td>20.923879</td>\n",
       "    </tr>\n",
       "    <tr>\n",
       "      <th>2012</th>\n",
       "      <td>65.953242</td>\n",
       "      <td>7.670049</td>\n",
       "      <td>26.376709</td>\n",
       "    </tr>\n",
       "    <tr>\n",
       "      <th>2013</th>\n",
       "      <td>61.536968</td>\n",
       "      <td>9.389448</td>\n",
       "      <td>29.073584</td>\n",
       "    </tr>\n",
       "    <tr>\n",
       "      <th>2014</th>\n",
       "      <td>62.000915</td>\n",
       "      <td>7.302916</td>\n",
       "      <td>30.696169</td>\n",
       "    </tr>\n",
       "    <tr>\n",
       "      <th>2015</th>\n",
       "      <td>57.047288</td>\n",
       "      <td>9.254585</td>\n",
       "      <td>33.698127</td>\n",
       "    </tr>\n",
       "    <tr>\n",
       "      <th>2016</th>\n",
       "      <td>52.292161</td>\n",
       "      <td>8.648241</td>\n",
       "      <td>39.059598</td>\n",
       "    </tr>\n",
       "    <tr>\n",
       "      <th>2017</th>\n",
       "      <td>51.931794</td>\n",
       "      <td>9.232240</td>\n",
       "      <td>38.835966</td>\n",
       "    </tr>\n",
       "  </tbody>\n",
       "</table>\n",
       "</div>"
      ],
      "text/plain": [
       "source  Fossil Fuels  Nuclear Energy  Renewables\n",
       "year_                                           \n",
       "2001       86.986790        9.478242    3.534968\n",
       "2002       84.628950       10.755267    4.615783\n",
       "2003       86.052200        9.471109    4.476690\n",
       "2004       83.738089       11.400222    4.861689\n",
       "2005       83.549666       10.279760    6.170574\n",
       "2006       81.397753       11.204451    7.397796\n",
       "2007       83.147173        9.078308    7.774519\n",
       "2008       80.499567        9.949893    9.550541\n",
       "2009       74.471162        9.022542   16.506296\n",
       "2010       74.336191        7.739658   17.924151\n",
       "2011       69.824910        9.251211   20.923879\n",
       "2012       65.953242        7.670049   26.376709\n",
       "2013       61.536968        9.389448   29.073584\n",
       "2014       62.000915        7.302916   30.696169\n",
       "2015       57.047288        9.254585   33.698127\n",
       "2016       52.292161        8.648241   39.059598\n",
       "2017       51.931794        9.232240   38.835966"
      ]
     },
     "execution_count": 90,
     "metadata": {},
     "output_type": "execute_result"
    }
   ],
   "source": [
    "control_df = df.pivot_table(columns='source', index='year_', values='annual_usage_percentage')\n",
    "control_df"
   ]
  },
  {
   "cell_type": "code",
   "execution_count": 92,
   "id": "39b93ab7-1ba5-43cb-b18b-9b239aeb41ed",
   "metadata": {},
   "outputs": [
    {
     "data": {
      "image/png": "[encoded data removed]",
      "text/plain": [
       "<Figure size 432x288 with 1 Axes>"
      ]
     },
     "metadata": {
      "needs_background": "light"
     },
     "output_type": "display_data"
    }
   ],
   "source": [
    "control_df.plot();"
   ]
  },
  {
   "cell_type": "markdown",
   "id": "1c291479-bc31-4f16-8baf-63adac9b2c2d",
   "metadata": {},
   "source": [
    "## `sf_temps()`"
   ]
  },
  {
   "cell_type": "markdown",
   "id": "46b88ade-f432-4b5f-ac2d-e8d992add03b",
   "metadata": {},
   "source": [
    "Use the sf_temps dataset"
   ]
  },
  {
   "cell_type": "code",
   "execution_count": 96,
   "id": "70591046-251d-431c-a004-8f1da6640728",
   "metadata": {},
   "outputs": [],
   "source": [
    "df = data.sf_temps()"
   ]
  },
  {
   "cell_type": "code",
   "execution_count": 97,
   "id": "73e216df-f60f-4814-9c75-f28bb83fdfc9",
   "metadata": {},
   "outputs": [
    {
     "data": {
      "text/html": [
       "<div>\n",
       "<style scoped>\n",
       "    .dataframe tbody tr th:only-of-type {\n",
       "        vertical-align: middle;\n",
       "    }\n",
       "\n",
       "    .dataframe tbody tr th {\n",
       "        vertical-align: top;\n",
       "    }\n",
       "\n",
       "    .dataframe thead th {\n",
       "        text-align: right;\n",
       "    }\n",
       "</style>\n",
       "<table border=\"1\" class=\"dataframe\">\n",
       "  <thead>\n",
       "    <tr style=\"text-align: right;\">\n",
       "      <th></th>\n",
       "      <th>temp</th>\n",
       "      <th>date</th>\n",
       "    </tr>\n",
       "  </thead>\n",
       "  <tbody>\n",
       "    <tr>\n",
       "      <th>0</th>\n",
       "      <td>47.8</td>\n",
       "      <td>2010-01-01 00:00:00</td>\n",
       "    </tr>\n",
       "    <tr>\n",
       "      <th>1</th>\n",
       "      <td>47.4</td>\n",
       "      <td>2010-01-01 01:00:00</td>\n",
       "    </tr>\n",
       "    <tr>\n",
       "      <th>2</th>\n",
       "      <td>46.9</td>\n",
       "      <td>2010-01-01 02:00:00</td>\n",
       "    </tr>\n",
       "    <tr>\n",
       "      <th>3</th>\n",
       "      <td>46.5</td>\n",
       "      <td>2010-01-01 03:00:00</td>\n",
       "    </tr>\n",
       "    <tr>\n",
       "      <th>4</th>\n",
       "      <td>46.0</td>\n",
       "      <td>2010-01-01 04:00:00</td>\n",
       "    </tr>\n",
       "  </tbody>\n",
       "</table>\n",
       "</div>"
      ],
      "text/plain": [
       "   temp                date\n",
       "0  47.8 2010-01-01 00:00:00\n",
       "1  47.4 2010-01-01 01:00:00\n",
       "2  46.9 2010-01-01 02:00:00\n",
       "3  46.5 2010-01-01 03:00:00\n",
       "4  46.0 2010-01-01 04:00:00"
      ]
     },
     "execution_count": 97,
     "metadata": {},
     "output_type": "execute_result"
    }
   ],
   "source": [
    "df.head()"
   ]
  },
  {
   "cell_type": "code",
   "execution_count": 100,
   "id": "cb22c462-22cb-4977-97fc-93c74bf8feee",
   "metadata": {},
   "outputs": [],
   "source": [
    "df = df.set_index('date')"
   ]
  },
  {
   "cell_type": "code",
   "execution_count": 102,
   "id": "9f71f17b-ed16-4e54-adf2-a39e52cdc082",
   "metadata": {},
   "outputs": [
    {
     "data": {
      "text/plain": [
       "(8759, 1)"
      ]
     },
     "execution_count": 102,
     "metadata": {},
     "output_type": "execute_result"
    }
   ],
   "source": [
    "df.shape"
   ]
  },
  {
   "cell_type": "code",
   "execution_count": 103,
   "id": "d38245fc-55fd-4a5f-b545-9b5ef64b1155",
   "metadata": {},
   "outputs": [
    {
     "data": {
      "text/html": [
       "<div>\n",
       "<style scoped>\n",
       "    .dataframe tbody tr th:only-of-type {\n",
       "        vertical-align: middle;\n",
       "    }\n",
       "\n",
       "    .dataframe tbody tr th {\n",
       "        vertical-align: top;\n",
       "    }\n",
       "\n",
       "    .dataframe thead th {\n",
       "        text-align: right;\n",
       "    }\n",
       "</style>\n",
       "<table border=\"1\" class=\"dataframe\">\n",
       "  <thead>\n",
       "    <tr style=\"text-align: right;\">\n",
       "      <th></th>\n",
       "      <th>temp</th>\n",
       "    </tr>\n",
       "    <tr>\n",
       "      <th>date</th>\n",
       "      <th></th>\n",
       "    </tr>\n",
       "  </thead>\n",
       "  <tbody>\n",
       "    <tr>\n",
       "      <th>2010-01-01 00:00:00</th>\n",
       "      <td>47.8</td>\n",
       "    </tr>\n",
       "    <tr>\n",
       "      <th>2010-01-01 01:00:00</th>\n",
       "      <td>47.4</td>\n",
       "    </tr>\n",
       "    <tr>\n",
       "      <th>2010-01-01 02:00:00</th>\n",
       "      <td>46.9</td>\n",
       "    </tr>\n",
       "    <tr>\n",
       "      <th>2010-01-01 03:00:00</th>\n",
       "      <td>46.5</td>\n",
       "    </tr>\n",
       "    <tr>\n",
       "      <th>2010-01-01 04:00:00</th>\n",
       "      <td>46.0</td>\n",
       "    </tr>\n",
       "  </tbody>\n",
       "</table>\n",
       "</div>"
      ],
      "text/plain": [
       "                     temp\n",
       "date                     \n",
       "2010-01-01 00:00:00  47.8\n",
       "2010-01-01 01:00:00  47.4\n",
       "2010-01-01 02:00:00  46.9\n",
       "2010-01-01 03:00:00  46.5\n",
       "2010-01-01 04:00:00  46.0"
      ]
     },
     "execution_count": 103,
     "metadata": {},
     "output_type": "execute_result"
    }
   ],
   "source": [
    "df.head()"
   ]
  },
  {
   "cell_type": "markdown",
   "id": "e5183b8b-d35b-4dd0-a700-947569ab171f",
   "metadata": {},
   "source": [
    "### 1."
   ]
  },
  {
   "cell_type": "code",
   "execution_count": 104,
   "id": "fe9fdad3-4ace-4bd5-8d6b-9055536f1a6a",
   "metadata": {},
   "outputs": [
    {
     "data": {
      "text/html": [
       "<div>\n",
       "<style scoped>\n",
       "    .dataframe tbody tr th:only-of-type {\n",
       "        vertical-align: middle;\n",
       "    }\n",
       "\n",
       "    .dataframe tbody tr th {\n",
       "        vertical-align: top;\n",
       "    }\n",
       "\n",
       "    .dataframe thead th {\n",
       "        text-align: right;\n",
       "    }\n",
       "</style>\n",
       "<table border=\"1\" class=\"dataframe\">\n",
       "  <thead>\n",
       "    <tr style=\"text-align: right;\">\n",
       "      <th></th>\n",
       "      <th>temp</th>\n",
       "    </tr>\n",
       "  </thead>\n",
       "  <tbody>\n",
       "    <tr>\n",
       "      <th>count</th>\n",
       "      <td>8759.000000</td>\n",
       "    </tr>\n",
       "    <tr>\n",
       "      <th>mean</th>\n",
       "      <td>56.924112</td>\n",
       "    </tr>\n",
       "    <tr>\n",
       "      <th>std</th>\n",
       "      <td>6.107079</td>\n",
       "    </tr>\n",
       "    <tr>\n",
       "      <th>min</th>\n",
       "      <td>45.600000</td>\n",
       "    </tr>\n",
       "    <tr>\n",
       "      <th>25%</th>\n",
       "      <td>52.300000</td>\n",
       "    </tr>\n",
       "    <tr>\n",
       "      <th>50%</th>\n",
       "      <td>56.500000</td>\n",
       "    </tr>\n",
       "    <tr>\n",
       "      <th>75%</th>\n",
       "      <td>60.700000</td>\n",
       "    </tr>\n",
       "    <tr>\n",
       "      <th>max</th>\n",
       "      <td>72.200000</td>\n",
       "    </tr>\n",
       "  </tbody>\n",
       "</table>\n",
       "</div>"
      ],
      "text/plain": [
       "              temp\n",
       "count  8759.000000\n",
       "mean     56.924112\n",
       "std       6.107079\n",
       "min      45.600000\n",
       "25%      52.300000\n",
       "50%      56.500000\n",
       "75%      60.700000\n",
       "max      72.200000"
      ]
     },
     "execution_count": 104,
     "metadata": {},
     "output_type": "execute_result"
    }
   ],
   "source": [
    "df.describe()"
   ]
  },
  {
   "cell_type": "markdown",
   "id": "116e3d47-483b-47ce-99f4-adbe2e6d1c8d",
   "metadata": {},
   "source": [
    "Create 4 categories for temperature, cold, cool, warm, hot (hint: use pd.cut or pd.qcut for this)"
   ]
  },
  {
   "cell_type": "code",
   "execution_count": 108,
   "id": "51555a00-9bcf-4e24-a360-0f44145f93b8",
   "metadata": {},
   "outputs": [],
   "source": [
    "df['temp_cat'] = pd.cut(df.temp, bins=[45.6, 52.3, 56.5, 60.7, 72.2], labels=['cold', 'cool', 'warm', 'hot'])"
   ]
  },
  {
   "cell_type": "code",
   "execution_count": 109,
   "id": "e93ed806-cf50-4f20-b170-ce6a5ff9a1c6",
   "metadata": {},
   "outputs": [
    {
     "data": {
      "text/html": [
       "<div>\n",
       "<style scoped>\n",
       "    .dataframe tbody tr th:only-of-type {\n",
       "        vertical-align: middle;\n",
       "    }\n",
       "\n",
       "    .dataframe tbody tr th {\n",
       "        vertical-align: top;\n",
       "    }\n",
       "\n",
       "    .dataframe thead th {\n",
       "        text-align: right;\n",
       "    }\n",
       "</style>\n",
       "<table border=\"1\" class=\"dataframe\">\n",
       "  <thead>\n",
       "    <tr style=\"text-align: right;\">\n",
       "      <th></th>\n",
       "      <th>temp</th>\n",
       "      <th>temp_cat</th>\n",
       "    </tr>\n",
       "    <tr>\n",
       "      <th>date</th>\n",
       "      <th></th>\n",
       "      <th></th>\n",
       "    </tr>\n",
       "  </thead>\n",
       "  <tbody>\n",
       "    <tr>\n",
       "      <th>2010-01-01 00:00:00</th>\n",
       "      <td>47.8</td>\n",
       "      <td>cold</td>\n",
       "    </tr>\n",
       "    <tr>\n",
       "      <th>2010-01-01 01:00:00</th>\n",
       "      <td>47.4</td>\n",
       "      <td>cold</td>\n",
       "    </tr>\n",
       "    <tr>\n",
       "      <th>2010-01-01 02:00:00</th>\n",
       "      <td>46.9</td>\n",
       "      <td>cold</td>\n",
       "    </tr>\n",
       "    <tr>\n",
       "      <th>2010-01-01 03:00:00</th>\n",
       "      <td>46.5</td>\n",
       "      <td>cold</td>\n",
       "    </tr>\n",
       "    <tr>\n",
       "      <th>2010-01-01 04:00:00</th>\n",
       "      <td>46.0</td>\n",
       "      <td>cold</td>\n",
       "    </tr>\n",
       "  </tbody>\n",
       "</table>\n",
       "</div>"
      ],
      "text/plain": [
       "                     temp temp_cat\n",
       "date                              \n",
       "2010-01-01 00:00:00  47.8     cold\n",
       "2010-01-01 01:00:00  47.4     cold\n",
       "2010-01-01 02:00:00  46.9     cold\n",
       "2010-01-01 03:00:00  46.5     cold\n",
       "2010-01-01 04:00:00  46.0     cold"
      ]
     },
     "execution_count": 109,
     "metadata": {},
     "output_type": "execute_result"
    }
   ],
   "source": [
    "df.head()"
   ]
  },
  {
   "cell_type": "code",
   "execution_count": 110,
   "id": "b786a919-937a-4f0a-9f72-69a30c85a2bc",
   "metadata": {},
   "outputs": [
    {
     "data": {
      "text/plain": [
       "cool    2218\n",
       "cold    2204\n",
       "hot     2175\n",
       "warm    2156\n",
       "Name: temp_cat, dtype: int64"
      ]
     },
     "execution_count": 110,
     "metadata": {},
     "output_type": "execute_result"
    }
   ],
   "source": [
    "df.temp_cat.value_counts()"
   ]
  },
  {
   "cell_type": "markdown",
   "id": "29c9f6f5-1720-4355-9b43-39d729b52b65",
   "metadata": {},
   "source": [
    "### 2."
   ]
  },
  {
   "cell_type": "markdown",
   "id": "353047a3-2690-4a4f-966b-c65f76f31dd2",
   "metadata": {},
   "source": [
    "How does the occurances of these 4 categories change month over month? i.e. how many days have each distinction? Visualize this and give the visual appropriate colors for each category."
   ]
  },
  {
   "cell_type": "code",
   "execution_count": null,
   "id": "958a3fe3-887f-4e94-9ea7-9f52e5f53e11",
   "metadata": {},
   "outputs": [],
   "source": [
    "# resample by day first, add a month column, then do a crosstab by month and temp_cat"
   ]
  },
  {
   "cell_type": "markdown",
   "id": "40fedcbb-bb65-4892-99bc-4573c7a073aa",
   "metadata": {},
   "source": [
    "### 3."
   ]
  },
  {
   "cell_type": "markdown",
   "id": "ec93183a-cc1c-4d6f-b0b5-1ed3d86075d9",
   "metadata": {},
   "source": [
    "Create pretty labels for time plots"
   ]
  },
  {
   "cell_type": "markdown",
   "id": "87ab7a66-0006-4ef2-9b81-025a4b596245",
   "metadata": {},
   "source": [
    "### 4."
   ]
  },
  {
   "cell_type": "markdown",
   "id": "d6b38610-3c6e-42e1-ae77-208654390f3d",
   "metadata": {},
   "source": [
    "Visualize the number of days of each month that fall into each bin by year (e.g. x=month, y=n_days, hue=temp_bin) or st similar"
   ]
  }
 ],
 "metadata": {
  "kernelspec": {
   "display_name": "Python 3",
   "language": "python",
   "name": "python3"
  },
  "language_info": {
   "codemirror_mode": {
    "name": "ipython",
    "version": 3
   },
   "file_extension": ".py",
   "mimetype": "text/x-python",
   "name": "python",
   "nbconvert_exporter": "python",
   "pygments_lexer": "ipython3",
   "version": "3.8.8"
  }
 },
 "nbformat": 4,
 "nbformat_minor": 5
}
